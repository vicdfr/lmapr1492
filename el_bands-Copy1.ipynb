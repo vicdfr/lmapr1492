{
 "cells": [
  {
   "cell_type": "code",
   "execution_count": 29,
   "id": "cac83563",
   "metadata": {},
   "outputs": [],
   "source": [
    "import numpy as np\n",
    "import matplotlib.pyplot as plt\n",
    "from mp_api.client import MPRester\n",
    "from pymatgen.io.cif import CifWriter\n",
    "from pymatgen.core.operations import SymmOp\n",
    "from pymatgen.symmetry.analyzer import SpacegroupAnalyzer\n",
    "from pymatgen.electronic_structure.plotter import BSPlotter\n",
    "from pymatgen.phonon.plotter import PhononBSPlotter\n",
    "from jupyter_jsmol.pymatgen import quick_view\n",
    "from lmapr1492 import plot_brillouin_zone, get_plot_bs, get_plot_dos, get_plot_bs_and_dos, get_branch_wavevectors\n",
    "from plotly.subplots import make_subplots\n",
    "import plotly.graph_objects as go\n",
    "from pymatgen.analysis.diffraction.xrd import XRDCalculator\n",
    "from pymatgen.ext.matproj import MPRester\n",
    "from pymatgen.electronic_structure.core import Spin\n",
    "from scipy.interpolate import UnivariateSpline\n",
    "import pandas as pd\n"
   ]
  },
  {
   "cell_type": "code",
   "execution_count": 30,
   "id": "2c982978",
   "metadata": {},
   "outputs": [],
   "source": [
    "mp_key = \"saKvn4nYOR6knw5q6WoAxtMKCsoAG1gq\"\n",
    "mp_id = \"mp-561586\""
   ]
  },
  {
   "cell_type": "markdown",
   "id": "02c9cbbd",
   "metadata": {},
   "source": [
    "Comprendre le potentiel des matériaux pour diverses applications technologiques, en particulier dans les semi-conducteurs et les appareils électroniques, nécessite une étude approfondie de leurs propriétés électroniques.  L'objectif de ce travail est d'examiner la structure de bande du  CsLaS2 pour déterminer ses propriétés électroniques de base.\n",
    "\n",
    " Initialement, nous identifierons la bande interdite du matériau et préciserons si c'est un gap direct ou indirect.  Par la suite, nous analyserons l'écart des bandes de valence et de conduction pour déterminer les directions cristallographiques où cet écart est à son maximum et à son minimum.  Cette analyse sera accompagnée d'une illustration pour mettre en évidence ces variations.  Pour finir, nous déterminerons la masse effective des porteurs de charge en utilisant une approximation parabolique pour la dispersion des bandes autour des points critiques.\n",
    "\n"
   ]
  },
  {
   "cell_type": "code",
   "execution_count": 31,
   "id": "f6fb5956",
   "metadata": {},
   "outputs": [
    {
     "data": {
      "application/vnd.jupyter.widget-view+json": {
       "model_id": "cb008d0d94fa443080455778695deb7c",
       "version_major": 2,
       "version_minor": 0
      },
      "text/plain": [
       "Retrieving MaterialsDoc documents:   0%|          | 0/1 [00:00<?, ?it/s]"
      ]
     },
     "metadata": {},
     "output_type": "display_data"
    },
    {
     "data": {
      "application/vnd.jupyter.widget-view+json": {
       "model_id": "5cd46b920c4b4a5e954f8e7cffe9c0f4",
       "version_major": 2,
       "version_minor": 0
      },
      "text/plain": [
       "Retrieving ElectronicStructureDoc documents:   0%|          | 0/1 [00:00<?, ?it/s]"
      ]
     },
     "metadata": {},
     "output_type": "display_data"
    }
   ],
   "source": [
    "with MPRester(mp_key) as m:\n",
    "    prim_struc = m.get_structure_by_material_id(mp_id)\n",
    "    el_bs = m.get_bandstructure_by_material_id(mp_id)\n",
    "conv_struc = SpacegroupAnalyzer(prim_struc).get_conventional_standard_structure()\n",
    "symmops = SpacegroupAnalyzer(conv_struc).get_space_group_operations()\n",
    "\n",
    "#objet BSPplotter pour afficher le graphe \n",
    "BS = BSPlotter(el_bs)\n",
    "\n",
    "#on récupépaire les élements de la structure de bande\n",
    "EL = BS.bs_plot_data()"
   ]
  },
  {
   "cell_type": "markdown",
   "id": "02ae1b1f",
   "metadata": {},
   "source": [
    "Mais avant cela, nous devons parler de la zone de Brillouin. En effet, c'est un concept clé qui permet de décrire les propriétés électroniques et vibratoires des cristaux. Cette zone est donc une région fondamentale de l'espace réciproque où sont étudiées les relations de dispersion électronique et les dispersion des phonons. C'est en analysant cette zone que l'on peut comprendre la structure de bande d'un matériau, identifier les directions de dispersion des porteurs de charge et calculer la masse effective. En conclusion, cette zone nous permet de caractériser les propriétés électroniques d'un solide."
   ]
  },
  {
   "cell_type": "code",
   "execution_count": 32,
   "id": "97f42a4d",
   "metadata": {},
   "outputs": [],
   "source": [
    "import itertools\n",
    "import plotly.graph_objects as go\n",
    "from plotly.subplots import make_subplots\n",
    "# Plotting of the Brillouin zone\n",
    "def go_points(points, size=4, color=\"black\", labels=None):\n",
    "    mode = \"markers\" if labels is None else \"markers+text\"\n",
    "\n",
    "    if labels is not None:\n",
    "        for il in range(len(labels)):\n",
    "            labels[il] = latex_fix(labels[il])\n",
    "\n",
    "    import plotly.graph_objects as go\n",
    "    return go.Scatter3d(\n",
    "        x=[v[0] for v in points],\n",
    "        y=[v[1] for v in points],\n",
    "        z=[v[2] for v in points],\n",
    "        marker=dict(size=size, color=color),\n",
    "        mode=mode,\n",
    "        text=labels,\n",
    "        textfont_color=color,\n",
    "        showlegend=False\n",
    "    )\n",
    "\n",
    "def go_line(v1, v2, color=\"black\", width=2, mode=\"lines\", text=\"\"):\n",
    "    import plotly.graph_objects as go\n",
    "    return go.Scatter3d(\n",
    "        mode=mode,\n",
    "        x=[v1[0], v2[0]],\n",
    "        y=[v1[1], v2[1]],\n",
    "        z=[v1[2], v2[2]],\n",
    "        line=dict(color=color),\n",
    "        text=text,\n",
    "        showlegend=False\n",
    "    )"
   ]
  },
  {
   "cell_type": "code",
   "execution_count": 33,
   "id": "3f6c199a",
   "metadata": {},
   "outputs": [
    {
     "data": {
      "application/vnd.plotly.v1+json": {
       "config": {
        "plotlyServerURL": "https://plot.ly"
       },
       "data": [
        {
         "line": {
          "color": "black"
         },
         "mode": "lines",
         "showlegend": false,
         "text": "",
         "type": "scatter3d",
         "x": [
          0,
          0.26284852378853707
         ],
         "y": [
          -0.5288542053198008,
          -0.45890898724576823
         ],
         "z": [
          -0.8452723998893074,
          -0.8452723998893075
         ]
        },
        {
         "line": {
          "color": "black"
         },
         "mode": "lines",
         "showlegend": false,
         "text": "",
         "type": "scatter3d",
         "x": [
          0,
          -0.262848523788537
         ],
         "y": [
          -0.5288542053198008,
          -0.45890898724576845
         ],
         "z": [
          -0.8452723998893074,
          -0.8452723998893074
         ]
        },
        {
         "line": {
          "color": "black"
         },
         "mode": "lines",
         "showlegend": false,
         "text": "",
         "type": "scatter3d",
         "x": [
          0.26284852378853707,
          0.26284852378853707
         ],
         "y": [
          -0.45890898724576823,
          0.45890898724576823
         ],
         "z": [
          -0.8452723998893075,
          -0.8452723998893075
         ]
        },
        {
         "line": {
          "color": "black"
         },
         "mode": "lines",
         "showlegend": false,
         "text": "",
         "type": "scatter3d",
         "x": [
          0.26284852378853707,
          0
         ],
         "y": [
          0.45890898724576823,
          0.5288542053198008
         ],
         "z": [
          -0.8452723998893075,
          -0.8452723998893074
         ]
        },
        {
         "line": {
          "color": "black"
         },
         "mode": "lines",
         "showlegend": false,
         "text": "",
         "type": "scatter3d",
         "x": [
          0,
          -0.262848523788537
         ],
         "y": [
          0.5288542053198008,
          0.45890898724576845
         ],
         "z": [
          -0.8452723998893074,
          -0.8452723998893074
         ]
        },
        {
         "line": {
          "color": "black"
         },
         "mode": "lines",
         "showlegend": false,
         "text": "",
         "type": "scatter3d",
         "x": [
          -0.262848523788537,
          -0.262848523788537
         ],
         "y": [
          0.45890898724576845,
          -0.45890898724576845
         ],
         "z": [
          -0.8452723998893074,
          -0.8452723998893074
         ]
        },
        {
         "line": {
          "color": "black"
         },
         "mode": "lines",
         "showlegend": false,
         "text": "",
         "type": "scatter3d",
         "x": [
          -0.12211778773147353,
          0
         ],
         "y": [
          0.9877635584635422,
          0.5288542053198008
         ],
         "z": [
          -0.05985510453078258,
          -0.8452723998893074
         ]
        },
        {
         "line": {
          "color": "black"
         },
         "mode": "lines",
         "showlegend": false,
         "text": "",
         "type": "scatter3d",
         "x": [
          -0.12211778773147353,
          -0.3849663115200104
         ],
         "y": [
          0.9877635584635422,
          0.9178183403895099
         ],
         "z": [
          -0.05985510453078258,
          -0.05985510453078258
         ]
        },
        {
         "line": {
          "color": "black"
         },
         "mode": "lines",
         "showlegend": false,
         "text": "",
         "type": "scatter3d",
         "x": [
          -0.262848523788537,
          -0.3849663115200104
         ],
         "y": [
          0.45890898724576845,
          0.9178183403895099
         ],
         "z": [
          -0.8452723998893074,
          -0.05985510453078258
         ]
        },
        {
         "line": {
          "color": "black"
         },
         "mode": "lines",
         "showlegend": false,
         "text": "",
         "type": "scatter3d",
         "x": [
          -0.12211778773147353,
          0.12211778773147353
         ],
         "y": [
          -0.9877635584635422,
          -0.9877635584635421
         ],
         "z": [
          -0.05985510453078258,
          0.05985510453078258
         ]
        },
        {
         "line": {
          "color": "black"
         },
         "mode": "lines",
         "showlegend": false,
         "text": "",
         "type": "scatter3d",
         "x": [
          -0.12211778773147353,
          0
         ],
         "y": [
          -0.9877635584635422,
          -0.5288542053198008
         ],
         "z": [
          -0.05985510453078258,
          -0.8452723998893074
         ]
        },
        {
         "line": {
          "color": "black"
         },
         "mode": "lines",
         "showlegend": false,
         "text": "",
         "type": "scatter3d",
         "x": [
          0.12211778773147353,
          0.3849663115200107
         ],
         "y": [
          -0.9877635584635421,
          -0.9178183403895098
         ],
         "z": [
          0.05985510453078258,
          0.05985510453078235
         ]
        },
        {
         "line": {
          "color": "black"
         },
         "mode": "lines",
         "showlegend": false,
         "text": "",
         "type": "scatter3d",
         "x": [
          0.3849663115200107,
          0.5070840992514841
         ],
         "y": [
          -0.9178183403895098,
          -0.4589089872457684
         ],
         "z": [
          0.05985510453078235,
          -0.7255621908277424
         ]
        },
        {
         "line": {
          "color": "black"
         },
         "mode": "lines",
         "showlegend": false,
         "text": "",
         "type": "scatter3d",
         "x": [
          0.5070840992514841,
          0.26284852378853707
         ],
         "y": [
          -0.4589089872457684,
          -0.45890898724576823
         ],
         "z": [
          -0.7255621908277424,
          -0.8452723998893075
         ]
        },
        {
         "line": {
          "color": "black"
         },
         "mode": "lines",
         "showlegend": false,
         "text": "",
         "type": "scatter3d",
         "x": [
          -0.12211778773147353,
          -0.3849663115200104
         ],
         "y": [
          -0.9877635584635422,
          -0.9178183403895099
         ],
         "z": [
          -0.05985510453078258,
          -0.05985510453078258
         ]
        },
        {
         "line": {
          "color": "black"
         },
         "mode": "lines",
         "showlegend": false,
         "text": "",
         "type": "scatter3d",
         "x": [
          -0.262848523788537,
          -0.3849663115200104
         ],
         "y": [
          -0.45890898724576845,
          -0.9178183403895099
         ],
         "z": [
          -0.8452723998893074,
          -0.05985510453078258
         ]
        },
        {
         "line": {
          "color": "black"
         },
         "mode": "lines",
         "showlegend": false,
         "text": "",
         "type": "scatter3d",
         "x": [
          -0.3849663115200104,
          -0.5070840992514842
         ],
         "y": [
          -0.9178183403895099,
          -0.45890898724576856
         ],
         "z": [
          -0.05985510453078258,
          0.7255621908277426
         ]
        },
        {
         "line": {
          "color": "black"
         },
         "mode": "lines",
         "showlegend": false,
         "text": "",
         "type": "scatter3d",
         "x": [
          -0.5070840992514842,
          -0.5070840992514842
         ],
         "y": [
          -0.45890898724576856,
          0.45890898724576856
         ],
         "z": [
          0.7255621908277426,
          0.7255621908277426
         ]
        },
        {
         "line": {
          "color": "black"
         },
         "mode": "lines",
         "showlegend": false,
         "text": "",
         "type": "scatter3d",
         "x": [
          -0.5070840992514842,
          -0.3849663115200104
         ],
         "y": [
          0.45890898724576856,
          0.9178183403895099
         ],
         "z": [
          0.7255621908277426,
          -0.05985510453078258
         ]
        },
        {
         "line": {
          "color": "black"
         },
         "mode": "lines",
         "showlegend": false,
         "text": "",
         "type": "scatter3d",
         "x": [
          -0.12211778773147353,
          0.12211778773147353
         ],
         "y": [
          0.9877635584635422,
          0.9877635584635421
         ],
         "z": [
          -0.05985510453078258,
          0.05985510453078258
         ]
        },
        {
         "line": {
          "color": "black"
         },
         "mode": "lines",
         "showlegend": false,
         "text": "",
         "type": "scatter3d",
         "x": [
          0.12211778773147353,
          0.3849663115200106
         ],
         "y": [
          0.9877635584635421,
          0.9178183403895099
         ],
         "z": [
          0.05985510453078258,
          0.05985510453078258
         ]
        },
        {
         "line": {
          "color": "black"
         },
         "mode": "lines",
         "showlegend": false,
         "text": "",
         "type": "scatter3d",
         "x": [
          0.3849663115200106,
          0.5070840992514841
         ],
         "y": [
          0.9178183403895099,
          0.4589089872457684
         ],
         "z": [
          0.05985510453078258,
          -0.7255621908277424
         ]
        },
        {
         "line": {
          "color": "black"
         },
         "mode": "lines",
         "showlegend": false,
         "text": "",
         "type": "scatter3d",
         "x": [
          0.5070840992514841,
          0.26284852378853707
         ],
         "y": [
          0.4589089872457684,
          0.45890898724576823
         ],
         "z": [
          -0.7255621908277424,
          -0.8452723998893075
         ]
        },
        {
         "line": {
          "color": "black"
         },
         "mode": "lines",
         "showlegend": false,
         "text": "",
         "type": "scatter3d",
         "x": [
          0.5070840992514841,
          0.5070840992514841
         ],
         "y": [
          -0.4589089872457684,
          0.4589089872457684
         ],
         "z": [
          -0.7255621908277424,
          -0.7255621908277424
         ]
        },
        {
         "line": {
          "color": "black"
         },
         "mode": "lines",
         "showlegend": false,
         "text": "",
         "type": "scatter3d",
         "x": [
          -0.26284852378853707,
          0
         ],
         "y": [
          0.45890898724576845,
          0.5288542053198007
         ],
         "z": [
          0.8452723998893076,
          0.8452723998893076
         ]
        },
        {
         "line": {
          "color": "black"
         },
         "mode": "lines",
         "showlegend": false,
         "text": "",
         "type": "scatter3d",
         "x": [
          -0.26284852378853707,
          -0.26284852378853707
         ],
         "y": [
          0.45890898724576845,
          -0.45890898724576845
         ],
         "z": [
          0.8452723998893076,
          0.8452723998893076
         ]
        },
        {
         "line": {
          "color": "black"
         },
         "mode": "lines",
         "showlegend": false,
         "text": "",
         "type": "scatter3d",
         "x": [
          0,
          0.262848523788537
         ],
         "y": [
          0.5288542053198007,
          0.45890898724576856
         ],
         "z": [
          0.8452723998893076,
          0.8452723998893076
         ]
        },
        {
         "line": {
          "color": "black"
         },
         "mode": "lines",
         "showlegend": false,
         "text": "",
         "type": "scatter3d",
         "x": [
          0.262848523788537,
          0.26284852378853735
         ],
         "y": [
          0.45890898724576856,
          -0.4589089872457684
         ],
         "z": [
          0.8452723998893076,
          0.8452723998893076
         ]
        },
        {
         "line": {
          "color": "black"
         },
         "mode": "lines",
         "showlegend": false,
         "text": "",
         "type": "scatter3d",
         "x": [
          0.26284852378853735,
          0
         ],
         "y": [
          -0.4589089872457684,
          -0.5288542053198007
         ],
         "z": [
          0.8452723998893076,
          0.8452723998893076
         ]
        },
        {
         "line": {
          "color": "black"
         },
         "mode": "lines",
         "showlegend": false,
         "text": "",
         "type": "scatter3d",
         "x": [
          0,
          -0.26284852378853707
         ],
         "y": [
          -0.5288542053198007,
          -0.45890898724576845
         ],
         "z": [
          0.8452723998893076,
          0.8452723998893076
         ]
        },
        {
         "line": {
          "color": "black"
         },
         "mode": "lines",
         "showlegend": false,
         "text": "",
         "type": "scatter3d",
         "x": [
          -0.5070840992514842,
          -0.26284852378853707
         ],
         "y": [
          0.45890898724576856,
          0.45890898724576845
         ],
         "z": [
          0.7255621908277426,
          0.8452723998893076
         ]
        },
        {
         "line": {
          "color": "black"
         },
         "mode": "lines",
         "showlegend": false,
         "text": "",
         "type": "scatter3d",
         "x": [
          -0.5070840992514842,
          -0.26284852378853707
         ],
         "y": [
          -0.45890898724576856,
          -0.45890898724576845
         ],
         "z": [
          0.7255621908277426,
          0.8452723998893076
         ]
        },
        {
         "line": {
          "color": "black"
         },
         "mode": "lines",
         "showlegend": false,
         "text": "",
         "type": "scatter3d",
         "x": [
          0.12211778773147353,
          0
         ],
         "y": [
          0.9877635584635421,
          0.5288542053198007
         ],
         "z": [
          0.05985510453078258,
          0.8452723998893076
         ]
        },
        {
         "line": {
          "color": "black"
         },
         "mode": "lines",
         "showlegend": false,
         "text": "",
         "type": "scatter3d",
         "x": [
          0.3849663115200106,
          0.262848523788537
         ],
         "y": [
          0.9178183403895099,
          0.45890898724576856
         ],
         "z": [
          0.05985510453078258,
          0.8452723998893076
         ]
        },
        {
         "line": {
          "color": "black"
         },
         "mode": "lines",
         "showlegend": false,
         "text": "",
         "type": "scatter3d",
         "x": [
          0.12211778773147353,
          0
         ],
         "y": [
          -0.9877635584635421,
          -0.5288542053198007
         ],
         "z": [
          0.05985510453078258,
          0.8452723998893076
         ]
        },
        {
         "line": {
          "color": "black"
         },
         "mode": "lines",
         "showlegend": false,
         "text": "",
         "type": "scatter3d",
         "x": [
          0.3849663115200107,
          0.26284852378853735
         ],
         "y": [
          -0.9178183403895098,
          -0.4589089872457684
         ],
         "z": [
          0.05985510453078235,
          0.8452723998893076
         ]
        }
       ],
       "layout": {
        "scene": {
         "xaxis": {
          "range": [
           -1.15,
           1.15
          ],
          "visible": false
         },
         "yaxis": {
          "range": [
           -1.15,
           1.15
          ],
          "visible": false
         },
         "zaxis": {
          "range": [
           -1.15,
           1.15
          ],
          "visible": false
         }
        },
        "template": {
         "data": {
          "bar": [
           {
            "error_x": {
             "color": "#2a3f5f"
            },
            "error_y": {
             "color": "#2a3f5f"
            },
            "marker": {
             "line": {
              "color": "#E5ECF6",
              "width": 0.5
             },
             "pattern": {
              "fillmode": "overlay",
              "size": 10,
              "solidity": 0.2
             }
            },
            "type": "bar"
           }
          ],
          "barpolar": [
           {
            "marker": {
             "line": {
              "color": "#E5ECF6",
              "width": 0.5
             },
             "pattern": {
              "fillmode": "overlay",
              "size": 10,
              "solidity": 0.2
             }
            },
            "type": "barpolar"
           }
          ],
          "carpet": [
           {
            "aaxis": {
             "endlinecolor": "#2a3f5f",
             "gridcolor": "white",
             "linecolor": "white",
             "minorgridcolor": "white",
             "startlinecolor": "#2a3f5f"
            },
            "baxis": {
             "endlinecolor": "#2a3f5f",
             "gridcolor": "white",
             "linecolor": "white",
             "minorgridcolor": "white",
             "startlinecolor": "#2a3f5f"
            },
            "type": "carpet"
           }
          ],
          "choropleth": [
           {
            "colorbar": {
             "outlinewidth": 0,
             "ticks": ""
            },
            "type": "choropleth"
           }
          ],
          "contour": [
           {
            "colorbar": {
             "outlinewidth": 0,
             "ticks": ""
            },
            "colorscale": [
             [
              0,
              "#0d0887"
             ],
             [
              0.1111111111111111,
              "#46039f"
             ],
             [
              0.2222222222222222,
              "#7201a8"
             ],
             [
              0.3333333333333333,
              "#9c179e"
             ],
             [
              0.4444444444444444,
              "#bd3786"
             ],
             [
              0.5555555555555556,
              "#d8576b"
             ],
             [
              0.6666666666666666,
              "#ed7953"
             ],
             [
              0.7777777777777778,
              "#fb9f3a"
             ],
             [
              0.8888888888888888,
              "#fdca26"
             ],
             [
              1,
              "#f0f921"
             ]
            ],
            "type": "contour"
           }
          ],
          "contourcarpet": [
           {
            "colorbar": {
             "outlinewidth": 0,
             "ticks": ""
            },
            "type": "contourcarpet"
           }
          ],
          "heatmap": [
           {
            "colorbar": {
             "outlinewidth": 0,
             "ticks": ""
            },
            "colorscale": [
             [
              0,
              "#0d0887"
             ],
             [
              0.1111111111111111,
              "#46039f"
             ],
             [
              0.2222222222222222,
              "#7201a8"
             ],
             [
              0.3333333333333333,
              "#9c179e"
             ],
             [
              0.4444444444444444,
              "#bd3786"
             ],
             [
              0.5555555555555556,
              "#d8576b"
             ],
             [
              0.6666666666666666,
              "#ed7953"
             ],
             [
              0.7777777777777778,
              "#fb9f3a"
             ],
             [
              0.8888888888888888,
              "#fdca26"
             ],
             [
              1,
              "#f0f921"
             ]
            ],
            "type": "heatmap"
           }
          ],
          "heatmapgl": [
           {
            "colorbar": {
             "outlinewidth": 0,
             "ticks": ""
            },
            "colorscale": [
             [
              0,
              "#0d0887"
             ],
             [
              0.1111111111111111,
              "#46039f"
             ],
             [
              0.2222222222222222,
              "#7201a8"
             ],
             [
              0.3333333333333333,
              "#9c179e"
             ],
             [
              0.4444444444444444,
              "#bd3786"
             ],
             [
              0.5555555555555556,
              "#d8576b"
             ],
             [
              0.6666666666666666,
              "#ed7953"
             ],
             [
              0.7777777777777778,
              "#fb9f3a"
             ],
             [
              0.8888888888888888,
              "#fdca26"
             ],
             [
              1,
              "#f0f921"
             ]
            ],
            "type": "heatmapgl"
           }
          ],
          "histogram": [
           {
            "marker": {
             "pattern": {
              "fillmode": "overlay",
              "size": 10,
              "solidity": 0.2
             }
            },
            "type": "histogram"
           }
          ],
          "histogram2d": [
           {
            "colorbar": {
             "outlinewidth": 0,
             "ticks": ""
            },
            "colorscale": [
             [
              0,
              "#0d0887"
             ],
             [
              0.1111111111111111,
              "#46039f"
             ],
             [
              0.2222222222222222,
              "#7201a8"
             ],
             [
              0.3333333333333333,
              "#9c179e"
             ],
             [
              0.4444444444444444,
              "#bd3786"
             ],
             [
              0.5555555555555556,
              "#d8576b"
             ],
             [
              0.6666666666666666,
              "#ed7953"
             ],
             [
              0.7777777777777778,
              "#fb9f3a"
             ],
             [
              0.8888888888888888,
              "#fdca26"
             ],
             [
              1,
              "#f0f921"
             ]
            ],
            "type": "histogram2d"
           }
          ],
          "histogram2dcontour": [
           {
            "colorbar": {
             "outlinewidth": 0,
             "ticks": ""
            },
            "colorscale": [
             [
              0,
              "#0d0887"
             ],
             [
              0.1111111111111111,
              "#46039f"
             ],
             [
              0.2222222222222222,
              "#7201a8"
             ],
             [
              0.3333333333333333,
              "#9c179e"
             ],
             [
              0.4444444444444444,
              "#bd3786"
             ],
             [
              0.5555555555555556,
              "#d8576b"
             ],
             [
              0.6666666666666666,
              "#ed7953"
             ],
             [
              0.7777777777777778,
              "#fb9f3a"
             ],
             [
              0.8888888888888888,
              "#fdca26"
             ],
             [
              1,
              "#f0f921"
             ]
            ],
            "type": "histogram2dcontour"
           }
          ],
          "mesh3d": [
           {
            "colorbar": {
             "outlinewidth": 0,
             "ticks": ""
            },
            "type": "mesh3d"
           }
          ],
          "parcoords": [
           {
            "line": {
             "colorbar": {
              "outlinewidth": 0,
              "ticks": ""
             }
            },
            "type": "parcoords"
           }
          ],
          "pie": [
           {
            "automargin": true,
            "type": "pie"
           }
          ],
          "scatter": [
           {
            "fillpattern": {
             "fillmode": "overlay",
             "size": 10,
             "solidity": 0.2
            },
            "type": "scatter"
           }
          ],
          "scatter3d": [
           {
            "line": {
             "colorbar": {
              "outlinewidth": 0,
              "ticks": ""
             }
            },
            "marker": {
             "colorbar": {
              "outlinewidth": 0,
              "ticks": ""
             }
            },
            "type": "scatter3d"
           }
          ],
          "scattercarpet": [
           {
            "marker": {
             "colorbar": {
              "outlinewidth": 0,
              "ticks": ""
             }
            },
            "type": "scattercarpet"
           }
          ],
          "scattergeo": [
           {
            "marker": {
             "colorbar": {
              "outlinewidth": 0,
              "ticks": ""
             }
            },
            "type": "scattergeo"
           }
          ],
          "scattergl": [
           {
            "marker": {
             "colorbar": {
              "outlinewidth": 0,
              "ticks": ""
             }
            },
            "type": "scattergl"
           }
          ],
          "scattermapbox": [
           {
            "marker": {
             "colorbar": {
              "outlinewidth": 0,
              "ticks": ""
             }
            },
            "type": "scattermapbox"
           }
          ],
          "scatterpolar": [
           {
            "marker": {
             "colorbar": {
              "outlinewidth": 0,
              "ticks": ""
             }
            },
            "type": "scatterpolar"
           }
          ],
          "scatterpolargl": [
           {
            "marker": {
             "colorbar": {
              "outlinewidth": 0,
              "ticks": ""
             }
            },
            "type": "scatterpolargl"
           }
          ],
          "scatterternary": [
           {
            "marker": {
             "colorbar": {
              "outlinewidth": 0,
              "ticks": ""
             }
            },
            "type": "scatterternary"
           }
          ],
          "surface": [
           {
            "colorbar": {
             "outlinewidth": 0,
             "ticks": ""
            },
            "colorscale": [
             [
              0,
              "#0d0887"
             ],
             [
              0.1111111111111111,
              "#46039f"
             ],
             [
              0.2222222222222222,
              "#7201a8"
             ],
             [
              0.3333333333333333,
              "#9c179e"
             ],
             [
              0.4444444444444444,
              "#bd3786"
             ],
             [
              0.5555555555555556,
              "#d8576b"
             ],
             [
              0.6666666666666666,
              "#ed7953"
             ],
             [
              0.7777777777777778,
              "#fb9f3a"
             ],
             [
              0.8888888888888888,
              "#fdca26"
             ],
             [
              1,
              "#f0f921"
             ]
            ],
            "type": "surface"
           }
          ],
          "table": [
           {
            "cells": {
             "fill": {
              "color": "#EBF0F8"
             },
             "line": {
              "color": "white"
             }
            },
            "header": {
             "fill": {
              "color": "#C8D4E3"
             },
             "line": {
              "color": "white"
             }
            },
            "type": "table"
           }
          ]
         },
         "layout": {
          "annotationdefaults": {
           "arrowcolor": "#2a3f5f",
           "arrowhead": 0,
           "arrowwidth": 1
          },
          "autotypenumbers": "strict",
          "coloraxis": {
           "colorbar": {
            "outlinewidth": 0,
            "ticks": ""
           }
          },
          "colorscale": {
           "diverging": [
            [
             0,
             "#8e0152"
            ],
            [
             0.1,
             "#c51b7d"
            ],
            [
             0.2,
             "#de77ae"
            ],
            [
             0.3,
             "#f1b6da"
            ],
            [
             0.4,
             "#fde0ef"
            ],
            [
             0.5,
             "#f7f7f7"
            ],
            [
             0.6,
             "#e6f5d0"
            ],
            [
             0.7,
             "#b8e186"
            ],
            [
             0.8,
             "#7fbc41"
            ],
            [
             0.9,
             "#4d9221"
            ],
            [
             1,
             "#276419"
            ]
           ],
           "sequential": [
            [
             0,
             "#0d0887"
            ],
            [
             0.1111111111111111,
             "#46039f"
            ],
            [
             0.2222222222222222,
             "#7201a8"
            ],
            [
             0.3333333333333333,
             "#9c179e"
            ],
            [
             0.4444444444444444,
             "#bd3786"
            ],
            [
             0.5555555555555556,
             "#d8576b"
            ],
            [
             0.6666666666666666,
             "#ed7953"
            ],
            [
             0.7777777777777778,
             "#fb9f3a"
            ],
            [
             0.8888888888888888,
             "#fdca26"
            ],
            [
             1,
             "#f0f921"
            ]
           ],
           "sequentialminus": [
            [
             0,
             "#0d0887"
            ],
            [
             0.1111111111111111,
             "#46039f"
            ],
            [
             0.2222222222222222,
             "#7201a8"
            ],
            [
             0.3333333333333333,
             "#9c179e"
            ],
            [
             0.4444444444444444,
             "#bd3786"
            ],
            [
             0.5555555555555556,
             "#d8576b"
            ],
            [
             0.6666666666666666,
             "#ed7953"
            ],
            [
             0.7777777777777778,
             "#fb9f3a"
            ],
            [
             0.8888888888888888,
             "#fdca26"
            ],
            [
             1,
             "#f0f921"
            ]
           ]
          },
          "colorway": [
           "#636efa",
           "#EF553B",
           "#00cc96",
           "#ab63fa",
           "#FFA15A",
           "#19d3f3",
           "#FF6692",
           "#B6E880",
           "#FF97FF",
           "#FECB52"
          ],
          "font": {
           "color": "#2a3f5f"
          },
          "geo": {
           "bgcolor": "white",
           "lakecolor": "white",
           "landcolor": "#E5ECF6",
           "showlakes": true,
           "showland": true,
           "subunitcolor": "white"
          },
          "hoverlabel": {
           "align": "left"
          },
          "hovermode": "closest",
          "mapbox": {
           "style": "light"
          },
          "paper_bgcolor": "white",
          "plot_bgcolor": "#E5ECF6",
          "polar": {
           "angularaxis": {
            "gridcolor": "white",
            "linecolor": "white",
            "ticks": ""
           },
           "bgcolor": "#E5ECF6",
           "radialaxis": {
            "gridcolor": "white",
            "linecolor": "white",
            "ticks": ""
           }
          },
          "scene": {
           "xaxis": {
            "backgroundcolor": "#E5ECF6",
            "gridcolor": "white",
            "gridwidth": 2,
            "linecolor": "white",
            "showbackground": true,
            "ticks": "",
            "zerolinecolor": "white"
           },
           "yaxis": {
            "backgroundcolor": "#E5ECF6",
            "gridcolor": "white",
            "gridwidth": 2,
            "linecolor": "white",
            "showbackground": true,
            "ticks": "",
            "zerolinecolor": "white"
           },
           "zaxis": {
            "backgroundcolor": "#E5ECF6",
            "gridcolor": "white",
            "gridwidth": 2,
            "linecolor": "white",
            "showbackground": true,
            "ticks": "",
            "zerolinecolor": "white"
           }
          },
          "shapedefaults": {
           "line": {
            "color": "#2a3f5f"
           }
          },
          "ternary": {
           "aaxis": {
            "gridcolor": "white",
            "linecolor": "white",
            "ticks": ""
           },
           "baxis": {
            "gridcolor": "white",
            "linecolor": "white",
            "ticks": ""
           },
           "bgcolor": "#E5ECF6",
           "caxis": {
            "gridcolor": "white",
            "linecolor": "white",
            "ticks": ""
           }
          },
          "title": {
           "x": 0.05
          },
          "xaxis": {
           "automargin": true,
           "gridcolor": "white",
           "linecolor": "white",
           "ticks": "",
           "title": {
            "standoff": 15
           },
           "zerolinecolor": "white",
           "zerolinewidth": 2
          },
          "yaxis": {
           "automargin": true,
           "gridcolor": "white",
           "linecolor": "white",
           "ticks": "",
           "title": {
            "standoff": 15
           },
           "zerolinecolor": "white",
           "zerolinewidth": 2
          }
         }
        }
       }
      },
      "text/html": [
       "<div>                            <div id=\"bcf26703-13a8-4797-9de4-19574cbee632\" class=\"plotly-graph-div\" style=\"height:525px; width:100%;\"></div>            <script type=\"text/javascript\">                require([\"plotly\"], function(Plotly) {                    window.PLOTLYENV=window.PLOTLYENV || {};                                    if (document.getElementById(\"bcf26703-13a8-4797-9de4-19574cbee632\")) {                    Plotly.newPlot(                        \"bcf26703-13a8-4797-9de4-19574cbee632\",                        [{\"line\":{\"color\":\"black\"},\"mode\":\"lines\",\"showlegend\":false,\"text\":\"\",\"x\":[0.0,0.26284852378853707],\"y\":[-0.5288542053198008,-0.45890898724576823],\"z\":[-0.8452723998893074,-0.8452723998893075],\"type\":\"scatter3d\"},{\"line\":{\"color\":\"black\"},\"mode\":\"lines\",\"showlegend\":false,\"text\":\"\",\"x\":[0.0,-0.262848523788537],\"y\":[-0.5288542053198008,-0.45890898724576845],\"z\":[-0.8452723998893074,-0.8452723998893074],\"type\":\"scatter3d\"},{\"line\":{\"color\":\"black\"},\"mode\":\"lines\",\"showlegend\":false,\"text\":\"\",\"x\":[0.26284852378853707,0.26284852378853707],\"y\":[-0.45890898724576823,0.45890898724576823],\"z\":[-0.8452723998893075,-0.8452723998893075],\"type\":\"scatter3d\"},{\"line\":{\"color\":\"black\"},\"mode\":\"lines\",\"showlegend\":false,\"text\":\"\",\"x\":[0.26284852378853707,0.0],\"y\":[0.45890898724576823,0.5288542053198008],\"z\":[-0.8452723998893075,-0.8452723998893074],\"type\":\"scatter3d\"},{\"line\":{\"color\":\"black\"},\"mode\":\"lines\",\"showlegend\":false,\"text\":\"\",\"x\":[0.0,-0.262848523788537],\"y\":[0.5288542053198008,0.45890898724576845],\"z\":[-0.8452723998893074,-0.8452723998893074],\"type\":\"scatter3d\"},{\"line\":{\"color\":\"black\"},\"mode\":\"lines\",\"showlegend\":false,\"text\":\"\",\"x\":[-0.262848523788537,-0.262848523788537],\"y\":[0.45890898724576845,-0.45890898724576845],\"z\":[-0.8452723998893074,-0.8452723998893074],\"type\":\"scatter3d\"},{\"line\":{\"color\":\"black\"},\"mode\":\"lines\",\"showlegend\":false,\"text\":\"\",\"x\":[-0.12211778773147353,0.0],\"y\":[0.9877635584635422,0.5288542053198008],\"z\":[-0.05985510453078258,-0.8452723998893074],\"type\":\"scatter3d\"},{\"line\":{\"color\":\"black\"},\"mode\":\"lines\",\"showlegend\":false,\"text\":\"\",\"x\":[-0.12211778773147353,-0.3849663115200104],\"y\":[0.9877635584635422,0.9178183403895099],\"z\":[-0.05985510453078258,-0.05985510453078258],\"type\":\"scatter3d\"},{\"line\":{\"color\":\"black\"},\"mode\":\"lines\",\"showlegend\":false,\"text\":\"\",\"x\":[-0.262848523788537,-0.3849663115200104],\"y\":[0.45890898724576845,0.9178183403895099],\"z\":[-0.8452723998893074,-0.05985510453078258],\"type\":\"scatter3d\"},{\"line\":{\"color\":\"black\"},\"mode\":\"lines\",\"showlegend\":false,\"text\":\"\",\"x\":[-0.12211778773147353,0.12211778773147353],\"y\":[-0.9877635584635422,-0.9877635584635421],\"z\":[-0.05985510453078258,0.05985510453078258],\"type\":\"scatter3d\"},{\"line\":{\"color\":\"black\"},\"mode\":\"lines\",\"showlegend\":false,\"text\":\"\",\"x\":[-0.12211778773147353,0.0],\"y\":[-0.9877635584635422,-0.5288542053198008],\"z\":[-0.05985510453078258,-0.8452723998893074],\"type\":\"scatter3d\"},{\"line\":{\"color\":\"black\"},\"mode\":\"lines\",\"showlegend\":false,\"text\":\"\",\"x\":[0.12211778773147353,0.3849663115200107],\"y\":[-0.9877635584635421,-0.9178183403895098],\"z\":[0.05985510453078258,0.05985510453078235],\"type\":\"scatter3d\"},{\"line\":{\"color\":\"black\"},\"mode\":\"lines\",\"showlegend\":false,\"text\":\"\",\"x\":[0.3849663115200107,0.5070840992514841],\"y\":[-0.9178183403895098,-0.4589089872457684],\"z\":[0.05985510453078235,-0.7255621908277424],\"type\":\"scatter3d\"},{\"line\":{\"color\":\"black\"},\"mode\":\"lines\",\"showlegend\":false,\"text\":\"\",\"x\":[0.5070840992514841,0.26284852378853707],\"y\":[-0.4589089872457684,-0.45890898724576823],\"z\":[-0.7255621908277424,-0.8452723998893075],\"type\":\"scatter3d\"},{\"line\":{\"color\":\"black\"},\"mode\":\"lines\",\"showlegend\":false,\"text\":\"\",\"x\":[-0.12211778773147353,-0.3849663115200104],\"y\":[-0.9877635584635422,-0.9178183403895099],\"z\":[-0.05985510453078258,-0.05985510453078258],\"type\":\"scatter3d\"},{\"line\":{\"color\":\"black\"},\"mode\":\"lines\",\"showlegend\":false,\"text\":\"\",\"x\":[-0.262848523788537,-0.3849663115200104],\"y\":[-0.45890898724576845,-0.9178183403895099],\"z\":[-0.8452723998893074,-0.05985510453078258],\"type\":\"scatter3d\"},{\"line\":{\"color\":\"black\"},\"mode\":\"lines\",\"showlegend\":false,\"text\":\"\",\"x\":[-0.3849663115200104,-0.5070840992514842],\"y\":[-0.9178183403895099,-0.45890898724576856],\"z\":[-0.05985510453078258,0.7255621908277426],\"type\":\"scatter3d\"},{\"line\":{\"color\":\"black\"},\"mode\":\"lines\",\"showlegend\":false,\"text\":\"\",\"x\":[-0.5070840992514842,-0.5070840992514842],\"y\":[-0.45890898724576856,0.45890898724576856],\"z\":[0.7255621908277426,0.7255621908277426],\"type\":\"scatter3d\"},{\"line\":{\"color\":\"black\"},\"mode\":\"lines\",\"showlegend\":false,\"text\":\"\",\"x\":[-0.5070840992514842,-0.3849663115200104],\"y\":[0.45890898724576856,0.9178183403895099],\"z\":[0.7255621908277426,-0.05985510453078258],\"type\":\"scatter3d\"},{\"line\":{\"color\":\"black\"},\"mode\":\"lines\",\"showlegend\":false,\"text\":\"\",\"x\":[-0.12211778773147353,0.12211778773147353],\"y\":[0.9877635584635422,0.9877635584635421],\"z\":[-0.05985510453078258,0.05985510453078258],\"type\":\"scatter3d\"},{\"line\":{\"color\":\"black\"},\"mode\":\"lines\",\"showlegend\":false,\"text\":\"\",\"x\":[0.12211778773147353,0.3849663115200106],\"y\":[0.9877635584635421,0.9178183403895099],\"z\":[0.05985510453078258,0.05985510453078258],\"type\":\"scatter3d\"},{\"line\":{\"color\":\"black\"},\"mode\":\"lines\",\"showlegend\":false,\"text\":\"\",\"x\":[0.3849663115200106,0.5070840992514841],\"y\":[0.9178183403895099,0.4589089872457684],\"z\":[0.05985510453078258,-0.7255621908277424],\"type\":\"scatter3d\"},{\"line\":{\"color\":\"black\"},\"mode\":\"lines\",\"showlegend\":false,\"text\":\"\",\"x\":[0.5070840992514841,0.26284852378853707],\"y\":[0.4589089872457684,0.45890898724576823],\"z\":[-0.7255621908277424,-0.8452723998893075],\"type\":\"scatter3d\"},{\"line\":{\"color\":\"black\"},\"mode\":\"lines\",\"showlegend\":false,\"text\":\"\",\"x\":[0.5070840992514841,0.5070840992514841],\"y\":[-0.4589089872457684,0.4589089872457684],\"z\":[-0.7255621908277424,-0.7255621908277424],\"type\":\"scatter3d\"},{\"line\":{\"color\":\"black\"},\"mode\":\"lines\",\"showlegend\":false,\"text\":\"\",\"x\":[-0.26284852378853707,0.0],\"y\":[0.45890898724576845,0.5288542053198007],\"z\":[0.8452723998893076,0.8452723998893076],\"type\":\"scatter3d\"},{\"line\":{\"color\":\"black\"},\"mode\":\"lines\",\"showlegend\":false,\"text\":\"\",\"x\":[-0.26284852378853707,-0.26284852378853707],\"y\":[0.45890898724576845,-0.45890898724576845],\"z\":[0.8452723998893076,0.8452723998893076],\"type\":\"scatter3d\"},{\"line\":{\"color\":\"black\"},\"mode\":\"lines\",\"showlegend\":false,\"text\":\"\",\"x\":[0.0,0.262848523788537],\"y\":[0.5288542053198007,0.45890898724576856],\"z\":[0.8452723998893076,0.8452723998893076],\"type\":\"scatter3d\"},{\"line\":{\"color\":\"black\"},\"mode\":\"lines\",\"showlegend\":false,\"text\":\"\",\"x\":[0.262848523788537,0.26284852378853735],\"y\":[0.45890898724576856,-0.4589089872457684],\"z\":[0.8452723998893076,0.8452723998893076],\"type\":\"scatter3d\"},{\"line\":{\"color\":\"black\"},\"mode\":\"lines\",\"showlegend\":false,\"text\":\"\",\"x\":[0.26284852378853735,0.0],\"y\":[-0.4589089872457684,-0.5288542053198007],\"z\":[0.8452723998893076,0.8452723998893076],\"type\":\"scatter3d\"},{\"line\":{\"color\":\"black\"},\"mode\":\"lines\",\"showlegend\":false,\"text\":\"\",\"x\":[0.0,-0.26284852378853707],\"y\":[-0.5288542053198007,-0.45890898724576845],\"z\":[0.8452723998893076,0.8452723998893076],\"type\":\"scatter3d\"},{\"line\":{\"color\":\"black\"},\"mode\":\"lines\",\"showlegend\":false,\"text\":\"\",\"x\":[-0.5070840992514842,-0.26284852378853707],\"y\":[0.45890898724576856,0.45890898724576845],\"z\":[0.7255621908277426,0.8452723998893076],\"type\":\"scatter3d\"},{\"line\":{\"color\":\"black\"},\"mode\":\"lines\",\"showlegend\":false,\"text\":\"\",\"x\":[-0.5070840992514842,-0.26284852378853707],\"y\":[-0.45890898724576856,-0.45890898724576845],\"z\":[0.7255621908277426,0.8452723998893076],\"type\":\"scatter3d\"},{\"line\":{\"color\":\"black\"},\"mode\":\"lines\",\"showlegend\":false,\"text\":\"\",\"x\":[0.12211778773147353,0.0],\"y\":[0.9877635584635421,0.5288542053198007],\"z\":[0.05985510453078258,0.8452723998893076],\"type\":\"scatter3d\"},{\"line\":{\"color\":\"black\"},\"mode\":\"lines\",\"showlegend\":false,\"text\":\"\",\"x\":[0.3849663115200106,0.262848523788537],\"y\":[0.9178183403895099,0.45890898724576856],\"z\":[0.05985510453078258,0.8452723998893076],\"type\":\"scatter3d\"},{\"line\":{\"color\":\"black\"},\"mode\":\"lines\",\"showlegend\":false,\"text\":\"\",\"x\":[0.12211778773147353,0.0],\"y\":[-0.9877635584635421,-0.5288542053198007],\"z\":[0.05985510453078258,0.8452723998893076],\"type\":\"scatter3d\"},{\"line\":{\"color\":\"black\"},\"mode\":\"lines\",\"showlegend\":false,\"text\":\"\",\"x\":[0.3849663115200107,0.26284852378853735],\"y\":[-0.9178183403895098,-0.4589089872457684],\"z\":[0.05985510453078235,0.8452723998893076],\"type\":\"scatter3d\"}],                        {\"template\":{\"data\":{\"histogram2dcontour\":[{\"type\":\"histogram2dcontour\",\"colorbar\":{\"outlinewidth\":0,\"ticks\":\"\"},\"colorscale\":[[0.0,\"#0d0887\"],[0.1111111111111111,\"#46039f\"],[0.2222222222222222,\"#7201a8\"],[0.3333333333333333,\"#9c179e\"],[0.4444444444444444,\"#bd3786\"],[0.5555555555555556,\"#d8576b\"],[0.6666666666666666,\"#ed7953\"],[0.7777777777777778,\"#fb9f3a\"],[0.8888888888888888,\"#fdca26\"],[1.0,\"#f0f921\"]]}],\"choropleth\":[{\"type\":\"choropleth\",\"colorbar\":{\"outlinewidth\":0,\"ticks\":\"\"}}],\"histogram2d\":[{\"type\":\"histogram2d\",\"colorbar\":{\"outlinewidth\":0,\"ticks\":\"\"},\"colorscale\":[[0.0,\"#0d0887\"],[0.1111111111111111,\"#46039f\"],[0.2222222222222222,\"#7201a8\"],[0.3333333333333333,\"#9c179e\"],[0.4444444444444444,\"#bd3786\"],[0.5555555555555556,\"#d8576b\"],[0.6666666666666666,\"#ed7953\"],[0.7777777777777778,\"#fb9f3a\"],[0.8888888888888888,\"#fdca26\"],[1.0,\"#f0f921\"]]}],\"heatmap\":[{\"type\":\"heatmap\",\"colorbar\":{\"outlinewidth\":0,\"ticks\":\"\"},\"colorscale\":[[0.0,\"#0d0887\"],[0.1111111111111111,\"#46039f\"],[0.2222222222222222,\"#7201a8\"],[0.3333333333333333,\"#9c179e\"],[0.4444444444444444,\"#bd3786\"],[0.5555555555555556,\"#d8576b\"],[0.6666666666666666,\"#ed7953\"],[0.7777777777777778,\"#fb9f3a\"],[0.8888888888888888,\"#fdca26\"],[1.0,\"#f0f921\"]]}],\"heatmapgl\":[{\"type\":\"heatmapgl\",\"colorbar\":{\"outlinewidth\":0,\"ticks\":\"\"},\"colorscale\":[[0.0,\"#0d0887\"],[0.1111111111111111,\"#46039f\"],[0.2222222222222222,\"#7201a8\"],[0.3333333333333333,\"#9c179e\"],[0.4444444444444444,\"#bd3786\"],[0.5555555555555556,\"#d8576b\"],[0.6666666666666666,\"#ed7953\"],[0.7777777777777778,\"#fb9f3a\"],[0.8888888888888888,\"#fdca26\"],[1.0,\"#f0f921\"]]}],\"contourcarpet\":[{\"type\":\"contourcarpet\",\"colorbar\":{\"outlinewidth\":0,\"ticks\":\"\"}}],\"contour\":[{\"type\":\"contour\",\"colorbar\":{\"outlinewidth\":0,\"ticks\":\"\"},\"colorscale\":[[0.0,\"#0d0887\"],[0.1111111111111111,\"#46039f\"],[0.2222222222222222,\"#7201a8\"],[0.3333333333333333,\"#9c179e\"],[0.4444444444444444,\"#bd3786\"],[0.5555555555555556,\"#d8576b\"],[0.6666666666666666,\"#ed7953\"],[0.7777777777777778,\"#fb9f3a\"],[0.8888888888888888,\"#fdca26\"],[1.0,\"#f0f921\"]]}],\"surface\":[{\"type\":\"surface\",\"colorbar\":{\"outlinewidth\":0,\"ticks\":\"\"},\"colorscale\":[[0.0,\"#0d0887\"],[0.1111111111111111,\"#46039f\"],[0.2222222222222222,\"#7201a8\"],[0.3333333333333333,\"#9c179e\"],[0.4444444444444444,\"#bd3786\"],[0.5555555555555556,\"#d8576b\"],[0.6666666666666666,\"#ed7953\"],[0.7777777777777778,\"#fb9f3a\"],[0.8888888888888888,\"#fdca26\"],[1.0,\"#f0f921\"]]}],\"mesh3d\":[{\"type\":\"mesh3d\",\"colorbar\":{\"outlinewidth\":0,\"ticks\":\"\"}}],\"scatter\":[{\"fillpattern\":{\"fillmode\":\"overlay\",\"size\":10,\"solidity\":0.2},\"type\":\"scatter\"}],\"parcoords\":[{\"type\":\"parcoords\",\"line\":{\"colorbar\":{\"outlinewidth\":0,\"ticks\":\"\"}}}],\"scatterpolargl\":[{\"type\":\"scatterpolargl\",\"marker\":{\"colorbar\":{\"outlinewidth\":0,\"ticks\":\"\"}}}],\"bar\":[{\"error_x\":{\"color\":\"#2a3f5f\"},\"error_y\":{\"color\":\"#2a3f5f\"},\"marker\":{\"line\":{\"color\":\"#E5ECF6\",\"width\":0.5},\"pattern\":{\"fillmode\":\"overlay\",\"size\":10,\"solidity\":0.2}},\"type\":\"bar\"}],\"scattergeo\":[{\"type\":\"scattergeo\",\"marker\":{\"colorbar\":{\"outlinewidth\":0,\"ticks\":\"\"}}}],\"scatterpolar\":[{\"type\":\"scatterpolar\",\"marker\":{\"colorbar\":{\"outlinewidth\":0,\"ticks\":\"\"}}}],\"histogram\":[{\"marker\":{\"pattern\":{\"fillmode\":\"overlay\",\"size\":10,\"solidity\":0.2}},\"type\":\"histogram\"}],\"scattergl\":[{\"type\":\"scattergl\",\"marker\":{\"colorbar\":{\"outlinewidth\":0,\"ticks\":\"\"}}}],\"scatter3d\":[{\"type\":\"scatter3d\",\"line\":{\"colorbar\":{\"outlinewidth\":0,\"ticks\":\"\"}},\"marker\":{\"colorbar\":{\"outlinewidth\":0,\"ticks\":\"\"}}}],\"scattermapbox\":[{\"type\":\"scattermapbox\",\"marker\":{\"colorbar\":{\"outlinewidth\":0,\"ticks\":\"\"}}}],\"scatterternary\":[{\"type\":\"scatterternary\",\"marker\":{\"colorbar\":{\"outlinewidth\":0,\"ticks\":\"\"}}}],\"scattercarpet\":[{\"type\":\"scattercarpet\",\"marker\":{\"colorbar\":{\"outlinewidth\":0,\"ticks\":\"\"}}}],\"carpet\":[{\"aaxis\":{\"endlinecolor\":\"#2a3f5f\",\"gridcolor\":\"white\",\"linecolor\":\"white\",\"minorgridcolor\":\"white\",\"startlinecolor\":\"#2a3f5f\"},\"baxis\":{\"endlinecolor\":\"#2a3f5f\",\"gridcolor\":\"white\",\"linecolor\":\"white\",\"minorgridcolor\":\"white\",\"startlinecolor\":\"#2a3f5f\"},\"type\":\"carpet\"}],\"table\":[{\"cells\":{\"fill\":{\"color\":\"#EBF0F8\"},\"line\":{\"color\":\"white\"}},\"header\":{\"fill\":{\"color\":\"#C8D4E3\"},\"line\":{\"color\":\"white\"}},\"type\":\"table\"}],\"barpolar\":[{\"marker\":{\"line\":{\"color\":\"#E5ECF6\",\"width\":0.5},\"pattern\":{\"fillmode\":\"overlay\",\"size\":10,\"solidity\":0.2}},\"type\":\"barpolar\"}],\"pie\":[{\"automargin\":true,\"type\":\"pie\"}]},\"layout\":{\"autotypenumbers\":\"strict\",\"colorway\":[\"#636efa\",\"#EF553B\",\"#00cc96\",\"#ab63fa\",\"#FFA15A\",\"#19d3f3\",\"#FF6692\",\"#B6E880\",\"#FF97FF\",\"#FECB52\"],\"font\":{\"color\":\"#2a3f5f\"},\"hovermode\":\"closest\",\"hoverlabel\":{\"align\":\"left\"},\"paper_bgcolor\":\"white\",\"plot_bgcolor\":\"#E5ECF6\",\"polar\":{\"bgcolor\":\"#E5ECF6\",\"angularaxis\":{\"gridcolor\":\"white\",\"linecolor\":\"white\",\"ticks\":\"\"},\"radialaxis\":{\"gridcolor\":\"white\",\"linecolor\":\"white\",\"ticks\":\"\"}},\"ternary\":{\"bgcolor\":\"#E5ECF6\",\"aaxis\":{\"gridcolor\":\"white\",\"linecolor\":\"white\",\"ticks\":\"\"},\"baxis\":{\"gridcolor\":\"white\",\"linecolor\":\"white\",\"ticks\":\"\"},\"caxis\":{\"gridcolor\":\"white\",\"linecolor\":\"white\",\"ticks\":\"\"}},\"coloraxis\":{\"colorbar\":{\"outlinewidth\":0,\"ticks\":\"\"}},\"colorscale\":{\"sequential\":[[0.0,\"#0d0887\"],[0.1111111111111111,\"#46039f\"],[0.2222222222222222,\"#7201a8\"],[0.3333333333333333,\"#9c179e\"],[0.4444444444444444,\"#bd3786\"],[0.5555555555555556,\"#d8576b\"],[0.6666666666666666,\"#ed7953\"],[0.7777777777777778,\"#fb9f3a\"],[0.8888888888888888,\"#fdca26\"],[1.0,\"#f0f921\"]],\"sequentialminus\":[[0.0,\"#0d0887\"],[0.1111111111111111,\"#46039f\"],[0.2222222222222222,\"#7201a8\"],[0.3333333333333333,\"#9c179e\"],[0.4444444444444444,\"#bd3786\"],[0.5555555555555556,\"#d8576b\"],[0.6666666666666666,\"#ed7953\"],[0.7777777777777778,\"#fb9f3a\"],[0.8888888888888888,\"#fdca26\"],[1.0,\"#f0f921\"]],\"diverging\":[[0,\"#8e0152\"],[0.1,\"#c51b7d\"],[0.2,\"#de77ae\"],[0.3,\"#f1b6da\"],[0.4,\"#fde0ef\"],[0.5,\"#f7f7f7\"],[0.6,\"#e6f5d0\"],[0.7,\"#b8e186\"],[0.8,\"#7fbc41\"],[0.9,\"#4d9221\"],[1,\"#276419\"]]},\"xaxis\":{\"gridcolor\":\"white\",\"linecolor\":\"white\",\"ticks\":\"\",\"title\":{\"standoff\":15},\"zerolinecolor\":\"white\",\"automargin\":true,\"zerolinewidth\":2},\"yaxis\":{\"gridcolor\":\"white\",\"linecolor\":\"white\",\"ticks\":\"\",\"title\":{\"standoff\":15},\"zerolinecolor\":\"white\",\"automargin\":true,\"zerolinewidth\":2},\"scene\":{\"xaxis\":{\"backgroundcolor\":\"#E5ECF6\",\"gridcolor\":\"white\",\"linecolor\":\"white\",\"showbackground\":true,\"ticks\":\"\",\"zerolinecolor\":\"white\",\"gridwidth\":2},\"yaxis\":{\"backgroundcolor\":\"#E5ECF6\",\"gridcolor\":\"white\",\"linecolor\":\"white\",\"showbackground\":true,\"ticks\":\"\",\"zerolinecolor\":\"white\",\"gridwidth\":2},\"zaxis\":{\"backgroundcolor\":\"#E5ECF6\",\"gridcolor\":\"white\",\"linecolor\":\"white\",\"showbackground\":true,\"ticks\":\"\",\"zerolinecolor\":\"white\",\"gridwidth\":2}},\"shapedefaults\":{\"line\":{\"color\":\"#2a3f5f\"}},\"annotationdefaults\":{\"arrowcolor\":\"#2a3f5f\",\"arrowhead\":0,\"arrowwidth\":1},\"geo\":{\"bgcolor\":\"white\",\"landcolor\":\"#E5ECF6\",\"subunitcolor\":\"white\",\"showland\":true,\"showlakes\":true,\"lakecolor\":\"white\"},\"title\":{\"x\":0.05},\"mapbox\":{\"style\":\"light\"}}},\"scene\":{\"xaxis\":{\"visible\":false,\"range\":[-1.15,1.15]},\"yaxis\":{\"visible\":false,\"range\":[-1.15,1.15]},\"zaxis\":{\"visible\":false,\"range\":[-1.15,1.15]}}},                        {\"responsive\": true}                    ).then(function(){\n",
       "                            \n",
       "var gd = document.getElementById('bcf26703-13a8-4797-9de4-19574cbee632');\n",
       "var x = new MutationObserver(function (mutations, observer) {{\n",
       "        var display = window.getComputedStyle(gd).display;\n",
       "        if (!display || display === 'none') {{\n",
       "            console.log([gd, 'removed!']);\n",
       "            Plotly.purge(gd);\n",
       "            observer.disconnect();\n",
       "        }}\n",
       "}});\n",
       "\n",
       "// Listen for the removal of the full notebook cells\n",
       "var notebookContainer = gd.closest('#notebook-container');\n",
       "if (notebookContainer) {{\n",
       "    x.observe(notebookContainer, {childList: true});\n",
       "}}\n",
       "\n",
       "// Listen for the clearing of the current output cell\n",
       "var outputEl = gd.closest('.output');\n",
       "if (outputEl) {{\n",
       "    x.observe(outputEl, {childList: true});\n",
       "}}\n",
       "\n",
       "                        })                };                });            </script>        </div>"
      ]
     },
     "metadata": {},
     "output_type": "display_data"
    }
   ],
   "source": [
    "struc = el_bs.structure\n",
    "bz_lattice=struc.lattice.reciprocal_lattice\n",
    "bz = bz_lattice.get_wigner_seitz_cell()\n",
    "fig = go.Figure()\n",
    "for iface in range(len(bz)):  # pylint: disable=C0200\n",
    "        for line in itertools.combinations(bz[iface], 2):\n",
    "            for jface in range(len(bz)):\n",
    "                if (iface < jface\n",
    "                    and any(np.all(line[0] == x) for x in bz[jface])\n",
    "                    and any(np.all(line[1] == x) for x in bz[jface])):\n",
    "                    fig.add_trace(go_line(line[0], line[1]))\n",
    "fig.update_layout(\n",
    "    scene = dict(\n",
    "        xaxis = dict(visible=False, range=[-1.15,1.15],),\n",
    "        yaxis = dict(visible=False, range=[-1.15,1.15],),\n",
    "        zaxis = dict(visible=False, range=[-1.15,1.15],),\n",
    "    )\n",
    ")\n",
    "fig.show()"
   ]
  },
  {
   "cell_type": "code",
   "execution_count": 34,
   "id": "fcd8d85d",
   "metadata": {},
   "outputs": [
    {
     "data": {
      "application/vnd.plotly.v1+json": {
       "config": {
        "plotlyServerURL": "https://plot.ly"
       },
       "data": [
        {
         "line": {
          "color": "green"
         },
         "mode": "lines+text",
         "showlegend": false,
         "text": [
          "",
          "a"
         ],
         "type": "scatter3d",
         "x": [
          0,
          0.3849663115200106
         ],
         "y": [
          0,
          -1.4466725457093106
         ],
         "z": [
          0,
          -0.785417295358525
         ]
        },
        {
         "line": {
          "color": "green"
         },
         "mode": "lines+text",
         "showlegend": false,
         "text": [
          "",
          "b"
         ],
         "type": "scatter3d",
         "x": [
          0,
          0.3849663115200106
         ],
         "y": [
          0,
          1.4466725457093106
         ],
         "z": [
          0,
          -0.785417295358525
         ]
        },
        {
         "line": {
          "color": "green"
         },
         "mode": "lines+text",
         "showlegend": false,
         "text": [
          "",
          "c"
         ],
         "type": "scatter3d",
         "x": [
          0,
          0
         ],
         "y": [
          0,
          0
         ],
         "z": [
          0,
          1.690544799778615
         ]
        },
        {
         "line": {
          "color": "black"
         },
         "mode": "lines",
         "showlegend": false,
         "text": "",
         "type": "scatter3d",
         "x": [
          0,
          0.26284852378853707
         ],
         "y": [
          -0.5288542053198008,
          -0.45890898724576823
         ],
         "z": [
          -0.8452723998893074,
          -0.8452723998893075
         ]
        },
        {
         "line": {
          "color": "black"
         },
         "mode": "lines",
         "showlegend": false,
         "text": "",
         "type": "scatter3d",
         "x": [
          0,
          -0.262848523788537
         ],
         "y": [
          -0.5288542053198008,
          -0.45890898724576845
         ],
         "z": [
          -0.8452723998893074,
          -0.8452723998893074
         ]
        },
        {
         "line": {
          "color": "black"
         },
         "mode": "lines",
         "showlegend": false,
         "text": "",
         "type": "scatter3d",
         "x": [
          0.26284852378853707,
          0.26284852378853707
         ],
         "y": [
          -0.45890898724576823,
          0.45890898724576823
         ],
         "z": [
          -0.8452723998893075,
          -0.8452723998893075
         ]
        },
        {
         "line": {
          "color": "black"
         },
         "mode": "lines",
         "showlegend": false,
         "text": "",
         "type": "scatter3d",
         "x": [
          0.26284852378853707,
          0
         ],
         "y": [
          0.45890898724576823,
          0.5288542053198008
         ],
         "z": [
          -0.8452723998893075,
          -0.8452723998893074
         ]
        },
        {
         "line": {
          "color": "black"
         },
         "mode": "lines",
         "showlegend": false,
         "text": "",
         "type": "scatter3d",
         "x": [
          0,
          -0.262848523788537
         ],
         "y": [
          0.5288542053198008,
          0.45890898724576845
         ],
         "z": [
          -0.8452723998893074,
          -0.8452723998893074
         ]
        },
        {
         "line": {
          "color": "black"
         },
         "mode": "lines",
         "showlegend": false,
         "text": "",
         "type": "scatter3d",
         "x": [
          -0.262848523788537,
          -0.262848523788537
         ],
         "y": [
          0.45890898724576845,
          -0.45890898724576845
         ],
         "z": [
          -0.8452723998893074,
          -0.8452723998893074
         ]
        },
        {
         "line": {
          "color": "black"
         },
         "mode": "lines",
         "showlegend": false,
         "text": "",
         "type": "scatter3d",
         "x": [
          -0.12211778773147353,
          0
         ],
         "y": [
          0.9877635584635422,
          0.5288542053198008
         ],
         "z": [
          -0.05985510453078258,
          -0.8452723998893074
         ]
        },
        {
         "line": {
          "color": "black"
         },
         "mode": "lines",
         "showlegend": false,
         "text": "",
         "type": "scatter3d",
         "x": [
          -0.12211778773147353,
          -0.3849663115200104
         ],
         "y": [
          0.9877635584635422,
          0.9178183403895099
         ],
         "z": [
          -0.05985510453078258,
          -0.05985510453078258
         ]
        },
        {
         "line": {
          "color": "black"
         },
         "mode": "lines",
         "showlegend": false,
         "text": "",
         "type": "scatter3d",
         "x": [
          -0.262848523788537,
          -0.3849663115200104
         ],
         "y": [
          0.45890898724576845,
          0.9178183403895099
         ],
         "z": [
          -0.8452723998893074,
          -0.05985510453078258
         ]
        },
        {
         "line": {
          "color": "black"
         },
         "mode": "lines",
         "showlegend": false,
         "text": "",
         "type": "scatter3d",
         "x": [
          -0.12211778773147353,
          0.12211778773147353
         ],
         "y": [
          -0.9877635584635422,
          -0.9877635584635421
         ],
         "z": [
          -0.05985510453078258,
          0.05985510453078258
         ]
        },
        {
         "line": {
          "color": "black"
         },
         "mode": "lines",
         "showlegend": false,
         "text": "",
         "type": "scatter3d",
         "x": [
          -0.12211778773147353,
          0
         ],
         "y": [
          -0.9877635584635422,
          -0.5288542053198008
         ],
         "z": [
          -0.05985510453078258,
          -0.8452723998893074
         ]
        },
        {
         "line": {
          "color": "black"
         },
         "mode": "lines",
         "showlegend": false,
         "text": "",
         "type": "scatter3d",
         "x": [
          0.12211778773147353,
          0.3849663115200107
         ],
         "y": [
          -0.9877635584635421,
          -0.9178183403895098
         ],
         "z": [
          0.05985510453078258,
          0.05985510453078235
         ]
        },
        {
         "line": {
          "color": "black"
         },
         "mode": "lines",
         "showlegend": false,
         "text": "",
         "type": "scatter3d",
         "x": [
          0.3849663115200107,
          0.5070840992514841
         ],
         "y": [
          -0.9178183403895098,
          -0.4589089872457684
         ],
         "z": [
          0.05985510453078235,
          -0.7255621908277424
         ]
        },
        {
         "line": {
          "color": "black"
         },
         "mode": "lines",
         "showlegend": false,
         "text": "",
         "type": "scatter3d",
         "x": [
          0.5070840992514841,
          0.26284852378853707
         ],
         "y": [
          -0.4589089872457684,
          -0.45890898724576823
         ],
         "z": [
          -0.7255621908277424,
          -0.8452723998893075
         ]
        },
        {
         "line": {
          "color": "black"
         },
         "mode": "lines",
         "showlegend": false,
         "text": "",
         "type": "scatter3d",
         "x": [
          -0.12211778773147353,
          -0.3849663115200104
         ],
         "y": [
          -0.9877635584635422,
          -0.9178183403895099
         ],
         "z": [
          -0.05985510453078258,
          -0.05985510453078258
         ]
        },
        {
         "line": {
          "color": "black"
         },
         "mode": "lines",
         "showlegend": false,
         "text": "",
         "type": "scatter3d",
         "x": [
          -0.262848523788537,
          -0.3849663115200104
         ],
         "y": [
          -0.45890898724576845,
          -0.9178183403895099
         ],
         "z": [
          -0.8452723998893074,
          -0.05985510453078258
         ]
        },
        {
         "line": {
          "color": "black"
         },
         "mode": "lines",
         "showlegend": false,
         "text": "",
         "type": "scatter3d",
         "x": [
          -0.3849663115200104,
          -0.5070840992514842
         ],
         "y": [
          -0.9178183403895099,
          -0.45890898724576856
         ],
         "z": [
          -0.05985510453078258,
          0.7255621908277426
         ]
        },
        {
         "line": {
          "color": "black"
         },
         "mode": "lines",
         "showlegend": false,
         "text": "",
         "type": "scatter3d",
         "x": [
          -0.5070840992514842,
          -0.5070840992514842
         ],
         "y": [
          -0.45890898724576856,
          0.45890898724576856
         ],
         "z": [
          0.7255621908277426,
          0.7255621908277426
         ]
        },
        {
         "line": {
          "color": "black"
         },
         "mode": "lines",
         "showlegend": false,
         "text": "",
         "type": "scatter3d",
         "x": [
          -0.5070840992514842,
          -0.3849663115200104
         ],
         "y": [
          0.45890898724576856,
          0.9178183403895099
         ],
         "z": [
          0.7255621908277426,
          -0.05985510453078258
         ]
        },
        {
         "line": {
          "color": "black"
         },
         "mode": "lines",
         "showlegend": false,
         "text": "",
         "type": "scatter3d",
         "x": [
          -0.12211778773147353,
          0.12211778773147353
         ],
         "y": [
          0.9877635584635422,
          0.9877635584635421
         ],
         "z": [
          -0.05985510453078258,
          0.05985510453078258
         ]
        },
        {
         "line": {
          "color": "black"
         },
         "mode": "lines",
         "showlegend": false,
         "text": "",
         "type": "scatter3d",
         "x": [
          0.12211778773147353,
          0.3849663115200106
         ],
         "y": [
          0.9877635584635421,
          0.9178183403895099
         ],
         "z": [
          0.05985510453078258,
          0.05985510453078258
         ]
        },
        {
         "line": {
          "color": "black"
         },
         "mode": "lines",
         "showlegend": false,
         "text": "",
         "type": "scatter3d",
         "x": [
          0.3849663115200106,
          0.5070840992514841
         ],
         "y": [
          0.9178183403895099,
          0.4589089872457684
         ],
         "z": [
          0.05985510453078258,
          -0.7255621908277424
         ]
        },
        {
         "line": {
          "color": "black"
         },
         "mode": "lines",
         "showlegend": false,
         "text": "",
         "type": "scatter3d",
         "x": [
          0.5070840992514841,
          0.26284852378853707
         ],
         "y": [
          0.4589089872457684,
          0.45890898724576823
         ],
         "z": [
          -0.7255621908277424,
          -0.8452723998893075
         ]
        },
        {
         "line": {
          "color": "black"
         },
         "mode": "lines",
         "showlegend": false,
         "text": "",
         "type": "scatter3d",
         "x": [
          0.5070840992514841,
          0.5070840992514841
         ],
         "y": [
          -0.4589089872457684,
          0.4589089872457684
         ],
         "z": [
          -0.7255621908277424,
          -0.7255621908277424
         ]
        },
        {
         "line": {
          "color": "black"
         },
         "mode": "lines",
         "showlegend": false,
         "text": "",
         "type": "scatter3d",
         "x": [
          -0.26284852378853707,
          0
         ],
         "y": [
          0.45890898724576845,
          0.5288542053198007
         ],
         "z": [
          0.8452723998893076,
          0.8452723998893076
         ]
        },
        {
         "line": {
          "color": "black"
         },
         "mode": "lines",
         "showlegend": false,
         "text": "",
         "type": "scatter3d",
         "x": [
          -0.26284852378853707,
          -0.26284852378853707
         ],
         "y": [
          0.45890898724576845,
          -0.45890898724576845
         ],
         "z": [
          0.8452723998893076,
          0.8452723998893076
         ]
        },
        {
         "line": {
          "color": "black"
         },
         "mode": "lines",
         "showlegend": false,
         "text": "",
         "type": "scatter3d",
         "x": [
          0,
          0.262848523788537
         ],
         "y": [
          0.5288542053198007,
          0.45890898724576856
         ],
         "z": [
          0.8452723998893076,
          0.8452723998893076
         ]
        },
        {
         "line": {
          "color": "black"
         },
         "mode": "lines",
         "showlegend": false,
         "text": "",
         "type": "scatter3d",
         "x": [
          0.262848523788537,
          0.26284852378853735
         ],
         "y": [
          0.45890898724576856,
          -0.4589089872457684
         ],
         "z": [
          0.8452723998893076,
          0.8452723998893076
         ]
        },
        {
         "line": {
          "color": "black"
         },
         "mode": "lines",
         "showlegend": false,
         "text": "",
         "type": "scatter3d",
         "x": [
          0.26284852378853735,
          0
         ],
         "y": [
          -0.4589089872457684,
          -0.5288542053198007
         ],
         "z": [
          0.8452723998893076,
          0.8452723998893076
         ]
        },
        {
         "line": {
          "color": "black"
         },
         "mode": "lines",
         "showlegend": false,
         "text": "",
         "type": "scatter3d",
         "x": [
          0,
          -0.26284852378853707
         ],
         "y": [
          -0.5288542053198007,
          -0.45890898724576845
         ],
         "z": [
          0.8452723998893076,
          0.8452723998893076
         ]
        },
        {
         "line": {
          "color": "black"
         },
         "mode": "lines",
         "showlegend": false,
         "text": "",
         "type": "scatter3d",
         "x": [
          -0.5070840992514842,
          -0.26284852378853707
         ],
         "y": [
          0.45890898724576856,
          0.45890898724576845
         ],
         "z": [
          0.7255621908277426,
          0.8452723998893076
         ]
        },
        {
         "line": {
          "color": "black"
         },
         "mode": "lines",
         "showlegend": false,
         "text": "",
         "type": "scatter3d",
         "x": [
          -0.5070840992514842,
          -0.26284852378853707
         ],
         "y": [
          -0.45890898724576856,
          -0.45890898724576845
         ],
         "z": [
          0.7255621908277426,
          0.8452723998893076
         ]
        },
        {
         "line": {
          "color": "black"
         },
         "mode": "lines",
         "showlegend": false,
         "text": "",
         "type": "scatter3d",
         "x": [
          0.12211778773147353,
          0
         ],
         "y": [
          0.9877635584635421,
          0.5288542053198007
         ],
         "z": [
          0.05985510453078258,
          0.8452723998893076
         ]
        },
        {
         "line": {
          "color": "black"
         },
         "mode": "lines",
         "showlegend": false,
         "text": "",
         "type": "scatter3d",
         "x": [
          0.3849663115200106,
          0.262848523788537
         ],
         "y": [
          0.9178183403895099,
          0.45890898724576856
         ],
         "z": [
          0.05985510453078258,
          0.8452723998893076
         ]
        },
        {
         "line": {
          "color": "black"
         },
         "mode": "lines",
         "showlegend": false,
         "text": "",
         "type": "scatter3d",
         "x": [
          0.12211778773147353,
          0
         ],
         "y": [
          -0.9877635584635421,
          -0.5288542053198007
         ],
         "z": [
          0.05985510453078258,
          0.8452723998893076
         ]
        },
        {
         "line": {
          "color": "black"
         },
         "mode": "lines",
         "showlegend": false,
         "text": "",
         "type": "scatter3d",
         "x": [
          0.3849663115200107,
          0.26284852378853735
         ],
         "y": [
          -0.9178183403895098,
          -0.4589089872457684
         ],
         "z": [
          0.05985510453078235,
          0.8452723998893076
         ]
        },
        {
         "line": {
          "color": "red"
         },
         "mode": "lines",
         "showlegend": false,
         "text": "",
         "type": "scatter3d",
         "x": [
          0,
          0.1924831557600053
         ],
         "y": [
          0,
          -0.7233362728546553
         ],
         "z": [
          0,
          -0.3927086476792625
         ]
        },
        {
         "line": {
          "color": "red"
         },
         "mode": "lines",
         "showlegend": false,
         "text": "",
         "type": "scatter3d",
         "x": [
          0.1924831557600053,
          0.26284845318334
         ],
         "y": [
          -0.7233362728546553,
          -0.4589091245385433
         ],
         "z": [
          -0.3927086476792625,
          -0.8452724279885733
         ]
        },
        {
         "line": {
          "color": "red"
         },
         "mode": "lines",
         "showlegend": false,
         "text": "",
         "type": "scatter3d",
         "x": [
          0.5070841698566813,
          0.3849663115200106
         ],
         "y": [
          -0.45890912453854327,
          0
         ],
         "z": [
          -0.7255621627284767,
          0.059855104530782466
         ]
        },
        {
         "line": {
          "color": "red"
         },
         "mode": "lines",
         "showlegend": false,
         "text": "",
         "type": "scatter3d",
         "x": [
          0.3849663115200106,
          0
         ],
         "y": [
          0,
          0
         ],
         "z": [
          0.059855104530782466,
          0
         ]
        },
        {
         "line": {
          "color": "red"
         },
         "mode": "lines",
         "showlegend": false,
         "text": "",
         "type": "scatter3d",
         "x": [
          0,
          0.13142422659167
         ],
         "y": [
          0,
          -0.4938817105853836
         ],
         "z": [
          0,
          -0.8452724139389404
         ]
        },
        {
         "line": {
          "color": "red"
         },
         "mode": "lines",
         "showlegend": false,
         "text": "",
         "type": "scatter3d",
         "x": [
          0.3849663115200106,
          0.3849663115200106
         ],
         "y": [
          -0.4589091245385433,
          0
         ],
         "z": [
          -0.785417295358525,
          -0.785417295358525
         ]
        },
        {
         "line": {
          "color": "red"
         },
         "mode": "lines",
         "showlegend": false,
         "text": "",
         "type": "scatter3d",
         "x": [
          0.3849663115200106,
          0.5070841698566811
         ],
         "y": [
          0,
          0
         ],
         "z": [
          -0.785417295358525,
          -0.7255621627284767
         ]
        },
        {
         "line": {
          "color": "red"
         },
         "mode": "lines",
         "showlegend": false,
         "text": "",
         "type": "scatter3d",
         "x": [
          0.5070841698566811,
          0.3849663115200106
         ],
         "y": [
          0,
          0
         ],
         "z": [
          -0.7255621627284767,
          0.059855104530782466
         ]
        },
        {
         "line": {
          "color": "red"
         },
         "mode": "lines",
         "showlegend": false,
         "text": "",
         "type": "scatter3d",
         "x": [
          0.1924831557600053,
          0.4460252406883459
         ],
         "y": [
          -0.7233362728546553,
          -0.6883636868078149
         ],
         "z": [
          -0.3927086476792625,
          -0.33285352909884713
         ]
        },
        {
         "marker": {
          "color": "red",
          "size": 4
         },
         "mode": "markers+text",
         "showlegend": false,
         "text": [
          "Γ",
          "B",
          "B_1",
          "F",
          "L",
          "L_1",
          "P",
          "P_1",
          "P_2",
          "Q",
          "X",
          "Z"
         ],
         "textfont": {
          "color": "red"
         },
         "type": "scatter3d",
         "x": [
          0,
          0.5070841698566813,
          0.26284845318334,
          0.3849663115200106,
          0.1924831557600053,
          0,
          0.4460252406883459,
          0.5070841698566811,
          0.26284845318334,
          0.3849663115200106,
          0.13142422659167,
          0.3849663115200106
         ],
         "y": [
          0,
          -0.45890912453854327,
          -0.4589091245385433,
          0,
          -0.7233362728546553,
          0,
          -0.6883636868078149,
          0,
          0,
          -0.4589091245385433,
          -0.4938817105853836,
          0
         ],
         "z": [
          0,
          -0.7255621627284767,
          -0.8452724279885733,
          -0.785417295358525,
          -0.3927086476792625,
          -0.8452723998893075,
          -0.33285352909884713,
          -0.7255621627284767,
          -0.8452724279885733,
          -0.785417295358525,
          -0.8452724139389404,
          0.059855104530782466
         ]
        }
       ],
       "layout": {
        "scene": {
         "xaxis": {
          "range": [
           -1.15,
           1.15
          ],
          "visible": false
         },
         "yaxis": {
          "range": [
           -1.15,
           1.15
          ],
          "visible": false
         },
         "zaxis": {
          "range": [
           -1.15,
           1.15
          ],
          "visible": false
         }
        },
        "template": {
         "data": {
          "bar": [
           {
            "error_x": {
             "color": "#2a3f5f"
            },
            "error_y": {
             "color": "#2a3f5f"
            },
            "marker": {
             "line": {
              "color": "#E5ECF6",
              "width": 0.5
             },
             "pattern": {
              "fillmode": "overlay",
              "size": 10,
              "solidity": 0.2
             }
            },
            "type": "bar"
           }
          ],
          "barpolar": [
           {
            "marker": {
             "line": {
              "color": "#E5ECF6",
              "width": 0.5
             },
             "pattern": {
              "fillmode": "overlay",
              "size": 10,
              "solidity": 0.2
             }
            },
            "type": "barpolar"
           }
          ],
          "carpet": [
           {
            "aaxis": {
             "endlinecolor": "#2a3f5f",
             "gridcolor": "white",
             "linecolor": "white",
             "minorgridcolor": "white",
             "startlinecolor": "#2a3f5f"
            },
            "baxis": {
             "endlinecolor": "#2a3f5f",
             "gridcolor": "white",
             "linecolor": "white",
             "minorgridcolor": "white",
             "startlinecolor": "#2a3f5f"
            },
            "type": "carpet"
           }
          ],
          "choropleth": [
           {
            "colorbar": {
             "outlinewidth": 0,
             "ticks": ""
            },
            "type": "choropleth"
           }
          ],
          "contour": [
           {
            "colorbar": {
             "outlinewidth": 0,
             "ticks": ""
            },
            "colorscale": [
             [
              0,
              "#0d0887"
             ],
             [
              0.1111111111111111,
              "#46039f"
             ],
             [
              0.2222222222222222,
              "#7201a8"
             ],
             [
              0.3333333333333333,
              "#9c179e"
             ],
             [
              0.4444444444444444,
              "#bd3786"
             ],
             [
              0.5555555555555556,
              "#d8576b"
             ],
             [
              0.6666666666666666,
              "#ed7953"
             ],
             [
              0.7777777777777778,
              "#fb9f3a"
             ],
             [
              0.8888888888888888,
              "#fdca26"
             ],
             [
              1,
              "#f0f921"
             ]
            ],
            "type": "contour"
           }
          ],
          "contourcarpet": [
           {
            "colorbar": {
             "outlinewidth": 0,
             "ticks": ""
            },
            "type": "contourcarpet"
           }
          ],
          "heatmap": [
           {
            "colorbar": {
             "outlinewidth": 0,
             "ticks": ""
            },
            "colorscale": [
             [
              0,
              "#0d0887"
             ],
             [
              0.1111111111111111,
              "#46039f"
             ],
             [
              0.2222222222222222,
              "#7201a8"
             ],
             [
              0.3333333333333333,
              "#9c179e"
             ],
             [
              0.4444444444444444,
              "#bd3786"
             ],
             [
              0.5555555555555556,
              "#d8576b"
             ],
             [
              0.6666666666666666,
              "#ed7953"
             ],
             [
              0.7777777777777778,
              "#fb9f3a"
             ],
             [
              0.8888888888888888,
              "#fdca26"
             ],
             [
              1,
              "#f0f921"
             ]
            ],
            "type": "heatmap"
           }
          ],
          "heatmapgl": [
           {
            "colorbar": {
             "outlinewidth": 0,
             "ticks": ""
            },
            "colorscale": [
             [
              0,
              "#0d0887"
             ],
             [
              0.1111111111111111,
              "#46039f"
             ],
             [
              0.2222222222222222,
              "#7201a8"
             ],
             [
              0.3333333333333333,
              "#9c179e"
             ],
             [
              0.4444444444444444,
              "#bd3786"
             ],
             [
              0.5555555555555556,
              "#d8576b"
             ],
             [
              0.6666666666666666,
              "#ed7953"
             ],
             [
              0.7777777777777778,
              "#fb9f3a"
             ],
             [
              0.8888888888888888,
              "#fdca26"
             ],
             [
              1,
              "#f0f921"
             ]
            ],
            "type": "heatmapgl"
           }
          ],
          "histogram": [
           {
            "marker": {
             "pattern": {
              "fillmode": "overlay",
              "size": 10,
              "solidity": 0.2
             }
            },
            "type": "histogram"
           }
          ],
          "histogram2d": [
           {
            "colorbar": {
             "outlinewidth": 0,
             "ticks": ""
            },
            "colorscale": [
             [
              0,
              "#0d0887"
             ],
             [
              0.1111111111111111,
              "#46039f"
             ],
             [
              0.2222222222222222,
              "#7201a8"
             ],
             [
              0.3333333333333333,
              "#9c179e"
             ],
             [
              0.4444444444444444,
              "#bd3786"
             ],
             [
              0.5555555555555556,
              "#d8576b"
             ],
             [
              0.6666666666666666,
              "#ed7953"
             ],
             [
              0.7777777777777778,
              "#fb9f3a"
             ],
             [
              0.8888888888888888,
              "#fdca26"
             ],
             [
              1,
              "#f0f921"
             ]
            ],
            "type": "histogram2d"
           }
          ],
          "histogram2dcontour": [
           {
            "colorbar": {
             "outlinewidth": 0,
             "ticks": ""
            },
            "colorscale": [
             [
              0,
              "#0d0887"
             ],
             [
              0.1111111111111111,
              "#46039f"
             ],
             [
              0.2222222222222222,
              "#7201a8"
             ],
             [
              0.3333333333333333,
              "#9c179e"
             ],
             [
              0.4444444444444444,
              "#bd3786"
             ],
             [
              0.5555555555555556,
              "#d8576b"
             ],
             [
              0.6666666666666666,
              "#ed7953"
             ],
             [
              0.7777777777777778,
              "#fb9f3a"
             ],
             [
              0.8888888888888888,
              "#fdca26"
             ],
             [
              1,
              "#f0f921"
             ]
            ],
            "type": "histogram2dcontour"
           }
          ],
          "mesh3d": [
           {
            "colorbar": {
             "outlinewidth": 0,
             "ticks": ""
            },
            "type": "mesh3d"
           }
          ],
          "parcoords": [
           {
            "line": {
             "colorbar": {
              "outlinewidth": 0,
              "ticks": ""
             }
            },
            "type": "parcoords"
           }
          ],
          "pie": [
           {
            "automargin": true,
            "type": "pie"
           }
          ],
          "scatter": [
           {
            "fillpattern": {
             "fillmode": "overlay",
             "size": 10,
             "solidity": 0.2
            },
            "type": "scatter"
           }
          ],
          "scatter3d": [
           {
            "line": {
             "colorbar": {
              "outlinewidth": 0,
              "ticks": ""
             }
            },
            "marker": {
             "colorbar": {
              "outlinewidth": 0,
              "ticks": ""
             }
            },
            "type": "scatter3d"
           }
          ],
          "scattercarpet": [
           {
            "marker": {
             "colorbar": {
              "outlinewidth": 0,
              "ticks": ""
             }
            },
            "type": "scattercarpet"
           }
          ],
          "scattergeo": [
           {
            "marker": {
             "colorbar": {
              "outlinewidth": 0,
              "ticks": ""
             }
            },
            "type": "scattergeo"
           }
          ],
          "scattergl": [
           {
            "marker": {
             "colorbar": {
              "outlinewidth": 0,
              "ticks": ""
             }
            },
            "type": "scattergl"
           }
          ],
          "scattermapbox": [
           {
            "marker": {
             "colorbar": {
              "outlinewidth": 0,
              "ticks": ""
             }
            },
            "type": "scattermapbox"
           }
          ],
          "scatterpolar": [
           {
            "marker": {
             "colorbar": {
              "outlinewidth": 0,
              "ticks": ""
             }
            },
            "type": "scatterpolar"
           }
          ],
          "scatterpolargl": [
           {
            "marker": {
             "colorbar": {
              "outlinewidth": 0,
              "ticks": ""
             }
            },
            "type": "scatterpolargl"
           }
          ],
          "scatterternary": [
           {
            "marker": {
             "colorbar": {
              "outlinewidth": 0,
              "ticks": ""
             }
            },
            "type": "scatterternary"
           }
          ],
          "surface": [
           {
            "colorbar": {
             "outlinewidth": 0,
             "ticks": ""
            },
            "colorscale": [
             [
              0,
              "#0d0887"
             ],
             [
              0.1111111111111111,
              "#46039f"
             ],
             [
              0.2222222222222222,
              "#7201a8"
             ],
             [
              0.3333333333333333,
              "#9c179e"
             ],
             [
              0.4444444444444444,
              "#bd3786"
             ],
             [
              0.5555555555555556,
              "#d8576b"
             ],
             [
              0.6666666666666666,
              "#ed7953"
             ],
             [
              0.7777777777777778,
              "#fb9f3a"
             ],
             [
              0.8888888888888888,
              "#fdca26"
             ],
             [
              1,
              "#f0f921"
             ]
            ],
            "type": "surface"
           }
          ],
          "table": [
           {
            "cells": {
             "fill": {
              "color": "#EBF0F8"
             },
             "line": {
              "color": "white"
             }
            },
            "header": {
             "fill": {
              "color": "#C8D4E3"
             },
             "line": {
              "color": "white"
             }
            },
            "type": "table"
           }
          ]
         },
         "layout": {
          "annotationdefaults": {
           "arrowcolor": "#2a3f5f",
           "arrowhead": 0,
           "arrowwidth": 1
          },
          "autotypenumbers": "strict",
          "coloraxis": {
           "colorbar": {
            "outlinewidth": 0,
            "ticks": ""
           }
          },
          "colorscale": {
           "diverging": [
            [
             0,
             "#8e0152"
            ],
            [
             0.1,
             "#c51b7d"
            ],
            [
             0.2,
             "#de77ae"
            ],
            [
             0.3,
             "#f1b6da"
            ],
            [
             0.4,
             "#fde0ef"
            ],
            [
             0.5,
             "#f7f7f7"
            ],
            [
             0.6,
             "#e6f5d0"
            ],
            [
             0.7,
             "#b8e186"
            ],
            [
             0.8,
             "#7fbc41"
            ],
            [
             0.9,
             "#4d9221"
            ],
            [
             1,
             "#276419"
            ]
           ],
           "sequential": [
            [
             0,
             "#0d0887"
            ],
            [
             0.1111111111111111,
             "#46039f"
            ],
            [
             0.2222222222222222,
             "#7201a8"
            ],
            [
             0.3333333333333333,
             "#9c179e"
            ],
            [
             0.4444444444444444,
             "#bd3786"
            ],
            [
             0.5555555555555556,
             "#d8576b"
            ],
            [
             0.6666666666666666,
             "#ed7953"
            ],
            [
             0.7777777777777778,
             "#fb9f3a"
            ],
            [
             0.8888888888888888,
             "#fdca26"
            ],
            [
             1,
             "#f0f921"
            ]
           ],
           "sequentialminus": [
            [
             0,
             "#0d0887"
            ],
            [
             0.1111111111111111,
             "#46039f"
            ],
            [
             0.2222222222222222,
             "#7201a8"
            ],
            [
             0.3333333333333333,
             "#9c179e"
            ],
            [
             0.4444444444444444,
             "#bd3786"
            ],
            [
             0.5555555555555556,
             "#d8576b"
            ],
            [
             0.6666666666666666,
             "#ed7953"
            ],
            [
             0.7777777777777778,
             "#fb9f3a"
            ],
            [
             0.8888888888888888,
             "#fdca26"
            ],
            [
             1,
             "#f0f921"
            ]
           ]
          },
          "colorway": [
           "#636efa",
           "#EF553B",
           "#00cc96",
           "#ab63fa",
           "#FFA15A",
           "#19d3f3",
           "#FF6692",
           "#B6E880",
           "#FF97FF",
           "#FECB52"
          ],
          "font": {
           "color": "#2a3f5f"
          },
          "geo": {
           "bgcolor": "white",
           "lakecolor": "white",
           "landcolor": "#E5ECF6",
           "showlakes": true,
           "showland": true,
           "subunitcolor": "white"
          },
          "hoverlabel": {
           "align": "left"
          },
          "hovermode": "closest",
          "mapbox": {
           "style": "light"
          },
          "paper_bgcolor": "white",
          "plot_bgcolor": "#E5ECF6",
          "polar": {
           "angularaxis": {
            "gridcolor": "white",
            "linecolor": "white",
            "ticks": ""
           },
           "bgcolor": "#E5ECF6",
           "radialaxis": {
            "gridcolor": "white",
            "linecolor": "white",
            "ticks": ""
           }
          },
          "scene": {
           "xaxis": {
            "backgroundcolor": "#E5ECF6",
            "gridcolor": "white",
            "gridwidth": 2,
            "linecolor": "white",
            "showbackground": true,
            "ticks": "",
            "zerolinecolor": "white"
           },
           "yaxis": {
            "backgroundcolor": "#E5ECF6",
            "gridcolor": "white",
            "gridwidth": 2,
            "linecolor": "white",
            "showbackground": true,
            "ticks": "",
            "zerolinecolor": "white"
           },
           "zaxis": {
            "backgroundcolor": "#E5ECF6",
            "gridcolor": "white",
            "gridwidth": 2,
            "linecolor": "white",
            "showbackground": true,
            "ticks": "",
            "zerolinecolor": "white"
           }
          },
          "shapedefaults": {
           "line": {
            "color": "#2a3f5f"
           }
          },
          "ternary": {
           "aaxis": {
            "gridcolor": "white",
            "linecolor": "white",
            "ticks": ""
           },
           "baxis": {
            "gridcolor": "white",
            "linecolor": "white",
            "ticks": ""
           },
           "bgcolor": "#E5ECF6",
           "caxis": {
            "gridcolor": "white",
            "linecolor": "white",
            "ticks": ""
           }
          },
          "title": {
           "x": 0.05
          },
          "xaxis": {
           "automargin": true,
           "gridcolor": "white",
           "linecolor": "white",
           "ticks": "",
           "title": {
            "standoff": 15
           },
           "zerolinecolor": "white",
           "zerolinewidth": 2
          },
          "yaxis": {
           "automargin": true,
           "gridcolor": "white",
           "linecolor": "white",
           "ticks": "",
           "title": {
            "standoff": 15
           },
           "zerolinecolor": "white",
           "zerolinewidth": 2
          }
         }
        }
       }
      },
      "text/html": [
       "<div>                            <div id=\"d298a19f-e5d2-4e0e-ba9c-e4c75ab848b0\" class=\"plotly-graph-div\" style=\"height:525px; width:100%;\"></div>            <script type=\"text/javascript\">                require([\"plotly\"], function(Plotly) {                    window.PLOTLYENV=window.PLOTLYENV || {};                                    if (document.getElementById(\"d298a19f-e5d2-4e0e-ba9c-e4c75ab848b0\")) {                    Plotly.newPlot(                        \"d298a19f-e5d2-4e0e-ba9c-e4c75ab848b0\",                        [{\"line\":{\"color\":\"green\"},\"mode\":\"lines+text\",\"showlegend\":false,\"text\":[\"\",\"a\"],\"x\":[0.0,0.3849663115200106],\"y\":[0.0,-1.4466725457093106],\"z\":[0.0,-0.785417295358525],\"type\":\"scatter3d\"},{\"line\":{\"color\":\"green\"},\"mode\":\"lines+text\",\"showlegend\":false,\"text\":[\"\",\"b\"],\"x\":[0.0,0.3849663115200106],\"y\":[0.0,1.4466725457093106],\"z\":[0.0,-0.785417295358525],\"type\":\"scatter3d\"},{\"line\":{\"color\":\"green\"},\"mode\":\"lines+text\",\"showlegend\":false,\"text\":[\"\",\"c\"],\"x\":[0.0,0.0],\"y\":[0.0,0.0],\"z\":[0.0,1.690544799778615],\"type\":\"scatter3d\"},{\"line\":{\"color\":\"black\"},\"mode\":\"lines\",\"showlegend\":false,\"text\":\"\",\"x\":[0.0,0.26284852378853707],\"y\":[-0.5288542053198008,-0.45890898724576823],\"z\":[-0.8452723998893074,-0.8452723998893075],\"type\":\"scatter3d\"},{\"line\":{\"color\":\"black\"},\"mode\":\"lines\",\"showlegend\":false,\"text\":\"\",\"x\":[0.0,-0.262848523788537],\"y\":[-0.5288542053198008,-0.45890898724576845],\"z\":[-0.8452723998893074,-0.8452723998893074],\"type\":\"scatter3d\"},{\"line\":{\"color\":\"black\"},\"mode\":\"lines\",\"showlegend\":false,\"text\":\"\",\"x\":[0.26284852378853707,0.26284852378853707],\"y\":[-0.45890898724576823,0.45890898724576823],\"z\":[-0.8452723998893075,-0.8452723998893075],\"type\":\"scatter3d\"},{\"line\":{\"color\":\"black\"},\"mode\":\"lines\",\"showlegend\":false,\"text\":\"\",\"x\":[0.26284852378853707,0.0],\"y\":[0.45890898724576823,0.5288542053198008],\"z\":[-0.8452723998893075,-0.8452723998893074],\"type\":\"scatter3d\"},{\"line\":{\"color\":\"black\"},\"mode\":\"lines\",\"showlegend\":false,\"text\":\"\",\"x\":[0.0,-0.262848523788537],\"y\":[0.5288542053198008,0.45890898724576845],\"z\":[-0.8452723998893074,-0.8452723998893074],\"type\":\"scatter3d\"},{\"line\":{\"color\":\"black\"},\"mode\":\"lines\",\"showlegend\":false,\"text\":\"\",\"x\":[-0.262848523788537,-0.262848523788537],\"y\":[0.45890898724576845,-0.45890898724576845],\"z\":[-0.8452723998893074,-0.8452723998893074],\"type\":\"scatter3d\"},{\"line\":{\"color\":\"black\"},\"mode\":\"lines\",\"showlegend\":false,\"text\":\"\",\"x\":[-0.12211778773147353,0.0],\"y\":[0.9877635584635422,0.5288542053198008],\"z\":[-0.05985510453078258,-0.8452723998893074],\"type\":\"scatter3d\"},{\"line\":{\"color\":\"black\"},\"mode\":\"lines\",\"showlegend\":false,\"text\":\"\",\"x\":[-0.12211778773147353,-0.3849663115200104],\"y\":[0.9877635584635422,0.9178183403895099],\"z\":[-0.05985510453078258,-0.05985510453078258],\"type\":\"scatter3d\"},{\"line\":{\"color\":\"black\"},\"mode\":\"lines\",\"showlegend\":false,\"text\":\"\",\"x\":[-0.262848523788537,-0.3849663115200104],\"y\":[0.45890898724576845,0.9178183403895099],\"z\":[-0.8452723998893074,-0.05985510453078258],\"type\":\"scatter3d\"},{\"line\":{\"color\":\"black\"},\"mode\":\"lines\",\"showlegend\":false,\"text\":\"\",\"x\":[-0.12211778773147353,0.12211778773147353],\"y\":[-0.9877635584635422,-0.9877635584635421],\"z\":[-0.05985510453078258,0.05985510453078258],\"type\":\"scatter3d\"},{\"line\":{\"color\":\"black\"},\"mode\":\"lines\",\"showlegend\":false,\"text\":\"\",\"x\":[-0.12211778773147353,0.0],\"y\":[-0.9877635584635422,-0.5288542053198008],\"z\":[-0.05985510453078258,-0.8452723998893074],\"type\":\"scatter3d\"},{\"line\":{\"color\":\"black\"},\"mode\":\"lines\",\"showlegend\":false,\"text\":\"\",\"x\":[0.12211778773147353,0.3849663115200107],\"y\":[-0.9877635584635421,-0.9178183403895098],\"z\":[0.05985510453078258,0.05985510453078235],\"type\":\"scatter3d\"},{\"line\":{\"color\":\"black\"},\"mode\":\"lines\",\"showlegend\":false,\"text\":\"\",\"x\":[0.3849663115200107,0.5070840992514841],\"y\":[-0.9178183403895098,-0.4589089872457684],\"z\":[0.05985510453078235,-0.7255621908277424],\"type\":\"scatter3d\"},{\"line\":{\"color\":\"black\"},\"mode\":\"lines\",\"showlegend\":false,\"text\":\"\",\"x\":[0.5070840992514841,0.26284852378853707],\"y\":[-0.4589089872457684,-0.45890898724576823],\"z\":[-0.7255621908277424,-0.8452723998893075],\"type\":\"scatter3d\"},{\"line\":{\"color\":\"black\"},\"mode\":\"lines\",\"showlegend\":false,\"text\":\"\",\"x\":[-0.12211778773147353,-0.3849663115200104],\"y\":[-0.9877635584635422,-0.9178183403895099],\"z\":[-0.05985510453078258,-0.05985510453078258],\"type\":\"scatter3d\"},{\"line\":{\"color\":\"black\"},\"mode\":\"lines\",\"showlegend\":false,\"text\":\"\",\"x\":[-0.262848523788537,-0.3849663115200104],\"y\":[-0.45890898724576845,-0.9178183403895099],\"z\":[-0.8452723998893074,-0.05985510453078258],\"type\":\"scatter3d\"},{\"line\":{\"color\":\"black\"},\"mode\":\"lines\",\"showlegend\":false,\"text\":\"\",\"x\":[-0.3849663115200104,-0.5070840992514842],\"y\":[-0.9178183403895099,-0.45890898724576856],\"z\":[-0.05985510453078258,0.7255621908277426],\"type\":\"scatter3d\"},{\"line\":{\"color\":\"black\"},\"mode\":\"lines\",\"showlegend\":false,\"text\":\"\",\"x\":[-0.5070840992514842,-0.5070840992514842],\"y\":[-0.45890898724576856,0.45890898724576856],\"z\":[0.7255621908277426,0.7255621908277426],\"type\":\"scatter3d\"},{\"line\":{\"color\":\"black\"},\"mode\":\"lines\",\"showlegend\":false,\"text\":\"\",\"x\":[-0.5070840992514842,-0.3849663115200104],\"y\":[0.45890898724576856,0.9178183403895099],\"z\":[0.7255621908277426,-0.05985510453078258],\"type\":\"scatter3d\"},{\"line\":{\"color\":\"black\"},\"mode\":\"lines\",\"showlegend\":false,\"text\":\"\",\"x\":[-0.12211778773147353,0.12211778773147353],\"y\":[0.9877635584635422,0.9877635584635421],\"z\":[-0.05985510453078258,0.05985510453078258],\"type\":\"scatter3d\"},{\"line\":{\"color\":\"black\"},\"mode\":\"lines\",\"showlegend\":false,\"text\":\"\",\"x\":[0.12211778773147353,0.3849663115200106],\"y\":[0.9877635584635421,0.9178183403895099],\"z\":[0.05985510453078258,0.05985510453078258],\"type\":\"scatter3d\"},{\"line\":{\"color\":\"black\"},\"mode\":\"lines\",\"showlegend\":false,\"text\":\"\",\"x\":[0.3849663115200106,0.5070840992514841],\"y\":[0.9178183403895099,0.4589089872457684],\"z\":[0.05985510453078258,-0.7255621908277424],\"type\":\"scatter3d\"},{\"line\":{\"color\":\"black\"},\"mode\":\"lines\",\"showlegend\":false,\"text\":\"\",\"x\":[0.5070840992514841,0.26284852378853707],\"y\":[0.4589089872457684,0.45890898724576823],\"z\":[-0.7255621908277424,-0.8452723998893075],\"type\":\"scatter3d\"},{\"line\":{\"color\":\"black\"},\"mode\":\"lines\",\"showlegend\":false,\"text\":\"\",\"x\":[0.5070840992514841,0.5070840992514841],\"y\":[-0.4589089872457684,0.4589089872457684],\"z\":[-0.7255621908277424,-0.7255621908277424],\"type\":\"scatter3d\"},{\"line\":{\"color\":\"black\"},\"mode\":\"lines\",\"showlegend\":false,\"text\":\"\",\"x\":[-0.26284852378853707,0.0],\"y\":[0.45890898724576845,0.5288542053198007],\"z\":[0.8452723998893076,0.8452723998893076],\"type\":\"scatter3d\"},{\"line\":{\"color\":\"black\"},\"mode\":\"lines\",\"showlegend\":false,\"text\":\"\",\"x\":[-0.26284852378853707,-0.26284852378853707],\"y\":[0.45890898724576845,-0.45890898724576845],\"z\":[0.8452723998893076,0.8452723998893076],\"type\":\"scatter3d\"},{\"line\":{\"color\":\"black\"},\"mode\":\"lines\",\"showlegend\":false,\"text\":\"\",\"x\":[0.0,0.262848523788537],\"y\":[0.5288542053198007,0.45890898724576856],\"z\":[0.8452723998893076,0.8452723998893076],\"type\":\"scatter3d\"},{\"line\":{\"color\":\"black\"},\"mode\":\"lines\",\"showlegend\":false,\"text\":\"\",\"x\":[0.262848523788537,0.26284852378853735],\"y\":[0.45890898724576856,-0.4589089872457684],\"z\":[0.8452723998893076,0.8452723998893076],\"type\":\"scatter3d\"},{\"line\":{\"color\":\"black\"},\"mode\":\"lines\",\"showlegend\":false,\"text\":\"\",\"x\":[0.26284852378853735,0.0],\"y\":[-0.4589089872457684,-0.5288542053198007],\"z\":[0.8452723998893076,0.8452723998893076],\"type\":\"scatter3d\"},{\"line\":{\"color\":\"black\"},\"mode\":\"lines\",\"showlegend\":false,\"text\":\"\",\"x\":[0.0,-0.26284852378853707],\"y\":[-0.5288542053198007,-0.45890898724576845],\"z\":[0.8452723998893076,0.8452723998893076],\"type\":\"scatter3d\"},{\"line\":{\"color\":\"black\"},\"mode\":\"lines\",\"showlegend\":false,\"text\":\"\",\"x\":[-0.5070840992514842,-0.26284852378853707],\"y\":[0.45890898724576856,0.45890898724576845],\"z\":[0.7255621908277426,0.8452723998893076],\"type\":\"scatter3d\"},{\"line\":{\"color\":\"black\"},\"mode\":\"lines\",\"showlegend\":false,\"text\":\"\",\"x\":[-0.5070840992514842,-0.26284852378853707],\"y\":[-0.45890898724576856,-0.45890898724576845],\"z\":[0.7255621908277426,0.8452723998893076],\"type\":\"scatter3d\"},{\"line\":{\"color\":\"black\"},\"mode\":\"lines\",\"showlegend\":false,\"text\":\"\",\"x\":[0.12211778773147353,0.0],\"y\":[0.9877635584635421,0.5288542053198007],\"z\":[0.05985510453078258,0.8452723998893076],\"type\":\"scatter3d\"},{\"line\":{\"color\":\"black\"},\"mode\":\"lines\",\"showlegend\":false,\"text\":\"\",\"x\":[0.3849663115200106,0.262848523788537],\"y\":[0.9178183403895099,0.45890898724576856],\"z\":[0.05985510453078258,0.8452723998893076],\"type\":\"scatter3d\"},{\"line\":{\"color\":\"black\"},\"mode\":\"lines\",\"showlegend\":false,\"text\":\"\",\"x\":[0.12211778773147353,0.0],\"y\":[-0.9877635584635421,-0.5288542053198007],\"z\":[0.05985510453078258,0.8452723998893076],\"type\":\"scatter3d\"},{\"line\":{\"color\":\"black\"},\"mode\":\"lines\",\"showlegend\":false,\"text\":\"\",\"x\":[0.3849663115200107,0.26284852378853735],\"y\":[-0.9178183403895098,-0.4589089872457684],\"z\":[0.05985510453078235,0.8452723998893076],\"type\":\"scatter3d\"},{\"line\":{\"color\":\"red\"},\"mode\":\"lines\",\"showlegend\":false,\"text\":\"\",\"x\":[0.0,0.1924831557600053],\"y\":[0.0,-0.7233362728546553],\"z\":[0.0,-0.3927086476792625],\"type\":\"scatter3d\"},{\"line\":{\"color\":\"red\"},\"mode\":\"lines\",\"showlegend\":false,\"text\":\"\",\"x\":[0.1924831557600053,0.26284845318334],\"y\":[-0.7233362728546553,-0.4589091245385433],\"z\":[-0.3927086476792625,-0.8452724279885733],\"type\":\"scatter3d\"},{\"line\":{\"color\":\"red\"},\"mode\":\"lines\",\"showlegend\":false,\"text\":\"\",\"x\":[0.5070841698566813,0.3849663115200106],\"y\":[-0.45890912453854327,0.0],\"z\":[-0.7255621627284767,0.059855104530782466],\"type\":\"scatter3d\"},{\"line\":{\"color\":\"red\"},\"mode\":\"lines\",\"showlegend\":false,\"text\":\"\",\"x\":[0.3849663115200106,0.0],\"y\":[0.0,0.0],\"z\":[0.059855104530782466,0.0],\"type\":\"scatter3d\"},{\"line\":{\"color\":\"red\"},\"mode\":\"lines\",\"showlegend\":false,\"text\":\"\",\"x\":[0.0,0.13142422659167],\"y\":[0.0,-0.4938817105853836],\"z\":[0.0,-0.8452724139389404],\"type\":\"scatter3d\"},{\"line\":{\"color\":\"red\"},\"mode\":\"lines\",\"showlegend\":false,\"text\":\"\",\"x\":[0.3849663115200106,0.3849663115200106],\"y\":[-0.4589091245385433,0.0],\"z\":[-0.785417295358525,-0.785417295358525],\"type\":\"scatter3d\"},{\"line\":{\"color\":\"red\"},\"mode\":\"lines\",\"showlegend\":false,\"text\":\"\",\"x\":[0.3849663115200106,0.5070841698566811],\"y\":[0.0,0.0],\"z\":[-0.785417295358525,-0.7255621627284767],\"type\":\"scatter3d\"},{\"line\":{\"color\":\"red\"},\"mode\":\"lines\",\"showlegend\":false,\"text\":\"\",\"x\":[0.5070841698566811,0.3849663115200106],\"y\":[0.0,0.0],\"z\":[-0.7255621627284767,0.059855104530782466],\"type\":\"scatter3d\"},{\"line\":{\"color\":\"red\"},\"mode\":\"lines\",\"showlegend\":false,\"text\":\"\",\"x\":[0.1924831557600053,0.4460252406883459],\"y\":[-0.7233362728546553,-0.6883636868078149],\"z\":[-0.3927086476792625,-0.33285352909884713],\"type\":\"scatter3d\"},{\"marker\":{\"color\":\"red\",\"size\":4},\"mode\":\"markers+text\",\"showlegend\":false,\"text\":[\"Γ\",\"B\",\"B_1\",\"F\",\"L\",\"L_1\",\"P\",\"P_1\",\"P_2\",\"Q\",\"X\",\"Z\"],\"textfont\":{\"color\":\"red\"},\"x\":[0.0,0.5070841698566813,0.26284845318334,0.3849663115200106,0.1924831557600053,0.0,0.4460252406883459,0.5070841698566811,0.26284845318334,0.3849663115200106,0.13142422659167,0.3849663115200106],\"y\":[0.0,-0.45890912453854327,-0.4589091245385433,0.0,-0.7233362728546553,0.0,-0.6883636868078149,0.0,0.0,-0.4589091245385433,-0.4938817105853836,0.0],\"z\":[0.0,-0.7255621627284767,-0.8452724279885733,-0.785417295358525,-0.3927086476792625,-0.8452723998893075,-0.33285352909884713,-0.7255621627284767,-0.8452724279885733,-0.785417295358525,-0.8452724139389404,0.059855104530782466],\"type\":\"scatter3d\"}],                        {\"template\":{\"data\":{\"histogram2dcontour\":[{\"type\":\"histogram2dcontour\",\"colorbar\":{\"outlinewidth\":0,\"ticks\":\"\"},\"colorscale\":[[0.0,\"#0d0887\"],[0.1111111111111111,\"#46039f\"],[0.2222222222222222,\"#7201a8\"],[0.3333333333333333,\"#9c179e\"],[0.4444444444444444,\"#bd3786\"],[0.5555555555555556,\"#d8576b\"],[0.6666666666666666,\"#ed7953\"],[0.7777777777777778,\"#fb9f3a\"],[0.8888888888888888,\"#fdca26\"],[1.0,\"#f0f921\"]]}],\"choropleth\":[{\"type\":\"choropleth\",\"colorbar\":{\"outlinewidth\":0,\"ticks\":\"\"}}],\"histogram2d\":[{\"type\":\"histogram2d\",\"colorbar\":{\"outlinewidth\":0,\"ticks\":\"\"},\"colorscale\":[[0.0,\"#0d0887\"],[0.1111111111111111,\"#46039f\"],[0.2222222222222222,\"#7201a8\"],[0.3333333333333333,\"#9c179e\"],[0.4444444444444444,\"#bd3786\"],[0.5555555555555556,\"#d8576b\"],[0.6666666666666666,\"#ed7953\"],[0.7777777777777778,\"#fb9f3a\"],[0.8888888888888888,\"#fdca26\"],[1.0,\"#f0f921\"]]}],\"heatmap\":[{\"type\":\"heatmap\",\"colorbar\":{\"outlinewidth\":0,\"ticks\":\"\"},\"colorscale\":[[0.0,\"#0d0887\"],[0.1111111111111111,\"#46039f\"],[0.2222222222222222,\"#7201a8\"],[0.3333333333333333,\"#9c179e\"],[0.4444444444444444,\"#bd3786\"],[0.5555555555555556,\"#d8576b\"],[0.6666666666666666,\"#ed7953\"],[0.7777777777777778,\"#fb9f3a\"],[0.8888888888888888,\"#fdca26\"],[1.0,\"#f0f921\"]]}],\"heatmapgl\":[{\"type\":\"heatmapgl\",\"colorbar\":{\"outlinewidth\":0,\"ticks\":\"\"},\"colorscale\":[[0.0,\"#0d0887\"],[0.1111111111111111,\"#46039f\"],[0.2222222222222222,\"#7201a8\"],[0.3333333333333333,\"#9c179e\"],[0.4444444444444444,\"#bd3786\"],[0.5555555555555556,\"#d8576b\"],[0.6666666666666666,\"#ed7953\"],[0.7777777777777778,\"#fb9f3a\"],[0.8888888888888888,\"#fdca26\"],[1.0,\"#f0f921\"]]}],\"contourcarpet\":[{\"type\":\"contourcarpet\",\"colorbar\":{\"outlinewidth\":0,\"ticks\":\"\"}}],\"contour\":[{\"type\":\"contour\",\"colorbar\":{\"outlinewidth\":0,\"ticks\":\"\"},\"colorscale\":[[0.0,\"#0d0887\"],[0.1111111111111111,\"#46039f\"],[0.2222222222222222,\"#7201a8\"],[0.3333333333333333,\"#9c179e\"],[0.4444444444444444,\"#bd3786\"],[0.5555555555555556,\"#d8576b\"],[0.6666666666666666,\"#ed7953\"],[0.7777777777777778,\"#fb9f3a\"],[0.8888888888888888,\"#fdca26\"],[1.0,\"#f0f921\"]]}],\"surface\":[{\"type\":\"surface\",\"colorbar\":{\"outlinewidth\":0,\"ticks\":\"\"},\"colorscale\":[[0.0,\"#0d0887\"],[0.1111111111111111,\"#46039f\"],[0.2222222222222222,\"#7201a8\"],[0.3333333333333333,\"#9c179e\"],[0.4444444444444444,\"#bd3786\"],[0.5555555555555556,\"#d8576b\"],[0.6666666666666666,\"#ed7953\"],[0.7777777777777778,\"#fb9f3a\"],[0.8888888888888888,\"#fdca26\"],[1.0,\"#f0f921\"]]}],\"mesh3d\":[{\"type\":\"mesh3d\",\"colorbar\":{\"outlinewidth\":0,\"ticks\":\"\"}}],\"scatter\":[{\"fillpattern\":{\"fillmode\":\"overlay\",\"size\":10,\"solidity\":0.2},\"type\":\"scatter\"}],\"parcoords\":[{\"type\":\"parcoords\",\"line\":{\"colorbar\":{\"outlinewidth\":0,\"ticks\":\"\"}}}],\"scatterpolargl\":[{\"type\":\"scatterpolargl\",\"marker\":{\"colorbar\":{\"outlinewidth\":0,\"ticks\":\"\"}}}],\"bar\":[{\"error_x\":{\"color\":\"#2a3f5f\"},\"error_y\":{\"color\":\"#2a3f5f\"},\"marker\":{\"line\":{\"color\":\"#E5ECF6\",\"width\":0.5},\"pattern\":{\"fillmode\":\"overlay\",\"size\":10,\"solidity\":0.2}},\"type\":\"bar\"}],\"scattergeo\":[{\"type\":\"scattergeo\",\"marker\":{\"colorbar\":{\"outlinewidth\":0,\"ticks\":\"\"}}}],\"scatterpolar\":[{\"type\":\"scatterpolar\",\"marker\":{\"colorbar\":{\"outlinewidth\":0,\"ticks\":\"\"}}}],\"histogram\":[{\"marker\":{\"pattern\":{\"fillmode\":\"overlay\",\"size\":10,\"solidity\":0.2}},\"type\":\"histogram\"}],\"scattergl\":[{\"type\":\"scattergl\",\"marker\":{\"colorbar\":{\"outlinewidth\":0,\"ticks\":\"\"}}}],\"scatter3d\":[{\"type\":\"scatter3d\",\"line\":{\"colorbar\":{\"outlinewidth\":0,\"ticks\":\"\"}},\"marker\":{\"colorbar\":{\"outlinewidth\":0,\"ticks\":\"\"}}}],\"scattermapbox\":[{\"type\":\"scattermapbox\",\"marker\":{\"colorbar\":{\"outlinewidth\":0,\"ticks\":\"\"}}}],\"scatterternary\":[{\"type\":\"scatterternary\",\"marker\":{\"colorbar\":{\"outlinewidth\":0,\"ticks\":\"\"}}}],\"scattercarpet\":[{\"type\":\"scattercarpet\",\"marker\":{\"colorbar\":{\"outlinewidth\":0,\"ticks\":\"\"}}}],\"carpet\":[{\"aaxis\":{\"endlinecolor\":\"#2a3f5f\",\"gridcolor\":\"white\",\"linecolor\":\"white\",\"minorgridcolor\":\"white\",\"startlinecolor\":\"#2a3f5f\"},\"baxis\":{\"endlinecolor\":\"#2a3f5f\",\"gridcolor\":\"white\",\"linecolor\":\"white\",\"minorgridcolor\":\"white\",\"startlinecolor\":\"#2a3f5f\"},\"type\":\"carpet\"}],\"table\":[{\"cells\":{\"fill\":{\"color\":\"#EBF0F8\"},\"line\":{\"color\":\"white\"}},\"header\":{\"fill\":{\"color\":\"#C8D4E3\"},\"line\":{\"color\":\"white\"}},\"type\":\"table\"}],\"barpolar\":[{\"marker\":{\"line\":{\"color\":\"#E5ECF6\",\"width\":0.5},\"pattern\":{\"fillmode\":\"overlay\",\"size\":10,\"solidity\":0.2}},\"type\":\"barpolar\"}],\"pie\":[{\"automargin\":true,\"type\":\"pie\"}]},\"layout\":{\"autotypenumbers\":\"strict\",\"colorway\":[\"#636efa\",\"#EF553B\",\"#00cc96\",\"#ab63fa\",\"#FFA15A\",\"#19d3f3\",\"#FF6692\",\"#B6E880\",\"#FF97FF\",\"#FECB52\"],\"font\":{\"color\":\"#2a3f5f\"},\"hovermode\":\"closest\",\"hoverlabel\":{\"align\":\"left\"},\"paper_bgcolor\":\"white\",\"plot_bgcolor\":\"#E5ECF6\",\"polar\":{\"bgcolor\":\"#E5ECF6\",\"angularaxis\":{\"gridcolor\":\"white\",\"linecolor\":\"white\",\"ticks\":\"\"},\"radialaxis\":{\"gridcolor\":\"white\",\"linecolor\":\"white\",\"ticks\":\"\"}},\"ternary\":{\"bgcolor\":\"#E5ECF6\",\"aaxis\":{\"gridcolor\":\"white\",\"linecolor\":\"white\",\"ticks\":\"\"},\"baxis\":{\"gridcolor\":\"white\",\"linecolor\":\"white\",\"ticks\":\"\"},\"caxis\":{\"gridcolor\":\"white\",\"linecolor\":\"white\",\"ticks\":\"\"}},\"coloraxis\":{\"colorbar\":{\"outlinewidth\":0,\"ticks\":\"\"}},\"colorscale\":{\"sequential\":[[0.0,\"#0d0887\"],[0.1111111111111111,\"#46039f\"],[0.2222222222222222,\"#7201a8\"],[0.3333333333333333,\"#9c179e\"],[0.4444444444444444,\"#bd3786\"],[0.5555555555555556,\"#d8576b\"],[0.6666666666666666,\"#ed7953\"],[0.7777777777777778,\"#fb9f3a\"],[0.8888888888888888,\"#fdca26\"],[1.0,\"#f0f921\"]],\"sequentialminus\":[[0.0,\"#0d0887\"],[0.1111111111111111,\"#46039f\"],[0.2222222222222222,\"#7201a8\"],[0.3333333333333333,\"#9c179e\"],[0.4444444444444444,\"#bd3786\"],[0.5555555555555556,\"#d8576b\"],[0.6666666666666666,\"#ed7953\"],[0.7777777777777778,\"#fb9f3a\"],[0.8888888888888888,\"#fdca26\"],[1.0,\"#f0f921\"]],\"diverging\":[[0,\"#8e0152\"],[0.1,\"#c51b7d\"],[0.2,\"#de77ae\"],[0.3,\"#f1b6da\"],[0.4,\"#fde0ef\"],[0.5,\"#f7f7f7\"],[0.6,\"#e6f5d0\"],[0.7,\"#b8e186\"],[0.8,\"#7fbc41\"],[0.9,\"#4d9221\"],[1,\"#276419\"]]},\"xaxis\":{\"gridcolor\":\"white\",\"linecolor\":\"white\",\"ticks\":\"\",\"title\":{\"standoff\":15},\"zerolinecolor\":\"white\",\"automargin\":true,\"zerolinewidth\":2},\"yaxis\":{\"gridcolor\":\"white\",\"linecolor\":\"white\",\"ticks\":\"\",\"title\":{\"standoff\":15},\"zerolinecolor\":\"white\",\"automargin\":true,\"zerolinewidth\":2},\"scene\":{\"xaxis\":{\"backgroundcolor\":\"#E5ECF6\",\"gridcolor\":\"white\",\"linecolor\":\"white\",\"showbackground\":true,\"ticks\":\"\",\"zerolinecolor\":\"white\",\"gridwidth\":2},\"yaxis\":{\"backgroundcolor\":\"#E5ECF6\",\"gridcolor\":\"white\",\"linecolor\":\"white\",\"showbackground\":true,\"ticks\":\"\",\"zerolinecolor\":\"white\",\"gridwidth\":2},\"zaxis\":{\"backgroundcolor\":\"#E5ECF6\",\"gridcolor\":\"white\",\"linecolor\":\"white\",\"showbackground\":true,\"ticks\":\"\",\"zerolinecolor\":\"white\",\"gridwidth\":2}},\"shapedefaults\":{\"line\":{\"color\":\"#2a3f5f\"}},\"annotationdefaults\":{\"arrowcolor\":\"#2a3f5f\",\"arrowhead\":0,\"arrowwidth\":1},\"geo\":{\"bgcolor\":\"white\",\"landcolor\":\"#E5ECF6\",\"subunitcolor\":\"white\",\"showland\":true,\"showlakes\":true,\"lakecolor\":\"white\"},\"title\":{\"x\":0.05},\"mapbox\":{\"style\":\"light\"}}},\"scene\":{\"xaxis\":{\"visible\":false,\"range\":[-1.15,1.15]},\"yaxis\":{\"visible\":false,\"range\":[-1.15,1.15]},\"zaxis\":{\"visible\":false,\"range\":[-1.15,1.15]}}},                        {\"responsive\": true}                    ).then(function(){\n",
       "                            \n",
       "var gd = document.getElementById('d298a19f-e5d2-4e0e-ba9c-e4c75ab848b0');\n",
       "var x = new MutationObserver(function (mutations, observer) {{\n",
       "        var display = window.getComputedStyle(gd).display;\n",
       "        if (!display || display === 'none') {{\n",
       "            console.log([gd, 'removed!']);\n",
       "            Plotly.purge(gd);\n",
       "            observer.disconnect();\n",
       "        }}\n",
       "}});\n",
       "\n",
       "// Listen for the removal of the full notebook cells\n",
       "var notebookContainer = gd.closest('#notebook-container');\n",
       "if (notebookContainer) {{\n",
       "    x.observe(notebookContainer, {childList: true});\n",
       "}}\n",
       "\n",
       "// Listen for the clearing of the current output cell\n",
       "var outputEl = gd.closest('.output');\n",
       "if (outputEl) {{\n",
       "    x.observe(outputEl, {childList: true});\n",
       "}}\n",
       "\n",
       "                        })                };                });            </script>        </div>"
      ]
     },
     "metadata": {},
     "output_type": "display_data"
    }
   ],
   "source": [
    "plot_brillouin_zone(el_bs.structure)"
   ]
  },
  {
   "cell_type": "markdown",
   "id": "a45a5c26",
   "metadata": {},
   "source": [
    "1) bande interdite "
   ]
  },
  {
   "cell_type": "markdown",
   "id": "578cd366",
   "metadata": {},
   "source": [
    "Comme dit plus haut, nous allons commencer par la bande interdite. Mais qu'est-ce que cette bande interdite ? Par définition, \"la bande interdite est une bande dans laquelle aucun niveau d'énergie ne peut être occupé par les électrons du cristal\". Ainsi, la densité d'états dans cette bande est nulle."
   ]
  },
  {
   "cell_type": "code",
   "execution_count": 35,
   "id": "22cc87b6",
   "metadata": {},
   "outputs": [
    {
     "name": "stdout",
     "output_type": "stream",
     "text": [
      "{'direct': False, 'energy': 2.5035, 'transition': '\\\\Gamma-F'}\n"
     ]
    }
   ],
   "source": [
    "#détermination de la bande interdite\n",
    "BI =el_bs.get_band_gap()\n",
    "print(BI)"
   ]
  },
  {
   "cell_type": "markdown",
   "id": "6b28f779",
   "metadata": {},
   "source": [
    "Bande interdite indirect:\n",
    "\n",
    "    - Étant donné que la bande interdite est indirecte, les transitions électroniques nécessitent un changement de moment (k), ce qui implique l'intervention d'un phonon.\n",
    "    \n",
    "    - Cela signifie que ce matériau n'est pas à privilégier pour des dispositifs optoélectroniques (comme les LED ou les lasers), car ces dispositifs nécessitent une recombinaison efficace des électrons.\n",
    "    \n",
    "    - En revanche, ce matériau pourrait être envisagé pour des applications électroniques (capteurs, transistors) où l'émission de lumière n'est pas essentielle.\n",
    "   \n",
    "Largeur du gap:\n",
    "\n",
    "    - le gap indique que le matériaux est un semi-conducteur à large bande interdite, cela pourrait rendre le matériaux utile ppour des applications a haute tension ou haute température \n",
    "    \n",
    "    \n",
    "Transition entre les points Gamma-F:\n",
    "\n",
    "    - la transition entre ces deux point dans la zone de brillouin inque une structure électronique spécifique qui pourrait influencer les propriétés de transport électronique et la mobilité des porteurs  "
   ]
  },
  {
   "cell_type": "markdown",
   "id": "4c84ef0b",
   "metadata": {},
   "source": [
    "Sur l’image, le point vert représente le maximum de la dernière bande de valence (VBM), tandis que le point rouge indique le minimum de la bande de conduction (CBM). La zone rouge met en évidence la bande interdite, et la flèche illustre la transition électronique entre ces deux niveaux d’énergie."
   ]
  },
  {
   "cell_type": "code",
   "execution_count": 36,
   "id": "364d7678",
   "metadata": {
    "scrolled": true
   },
   "outputs": [
    {
     "data": {
      "application/vnd.plotly.v1+json": {
       "config": {
        "plotlyServerURL": "https://plot.ly"
       },
       "data": [
        {
         "mode": "lines",
         "name": "band 11",
         "type": "scatter",
         "x": [
          0,
          0.04972189029404676,
          0.0994437974935389,
          0.14916568778758565,
          0.19888759498707784,
          0.24860948528112461,
          0.29833139248061674,
          0.34805328277466346,
          0.3977751899741556,
          0.4474970802682024,
          0.49721898746769455,
          0.5469408777617413,
          0.5966627849612334,
          0.6463846752552801,
          0.6961065824547723,
          0.745828472748819,
          0.7955503799483112,
          0.845272270242358,
          0.845272270242358,
          0.8933499526196786,
          0.9414276060635433,
          0.9895052884408639,
          1.0375829708181845,
          1.085660624262049,
          1.1337383066393696,
          1.1818159600832343,
          1.2298936424605549,
          1.2779713248378755,
          1.32604897828174,
          1.3741266606590605,
          1.3741266606590605,
          1.4224328884060216,
          1.470739116152983,
          1.5190453438999443,
          1.5673516005803616,
          1.6156578283273229,
          1.663964056074284,
          1.7122702838212454,
          1.7605765115682066,
          1.8088827393151679,
          1.8571889959955852,
          1.9054952237425464,
          1.9538014514895077,
          2.002107679236469,
          2.0504139069834304,
          2.098720134730392,
          2.147026391410809,
          2.19533261915777,
          2.2436388469047315,
          2.2919450746516925,
          2.2919450746516925,
          2.340644037446043,
          2.3893430002403933,
          2.4380419630347436,
          2.486740925829094,
          2.5354398886234444,
          2.5841388514177948,
          2.632837814212145,
          2.6815367770064955,
          2.6815367770064955,
          2.7309249713438746,
          2.7803131367477976,
          2.8297013310851766,
          2.8790894964890996,
          2.9284776908264787,
          2.9778658562304017,
          3.0272540505677807,
          3.0766422159717037,
          3.126030410309083,
          3.175418575713006,
          3.224806770050385,
          3.274194935454308,
          3.323583129791687,
          3.37297129519561,
          3.422359489532989,
          3.471747654936912,
          3.521135849274291,
          3.570524014678214,
          3.619912209015593,
          3.669300374419516,
          3.669300374419516,
          3.7151912869127433,
          3.7610821994059704,
          3.8069731118991976,
          3.852864024392425,
          3.898754936885652,
          3.9446458493788787,
          3.990536761872106,
          4.036427674365333,
          4.08231858685856,
          4.128209499351787,
          4.128209499351787,
          4.173542109879815,
          4.218874712967447,
          4.264207323495476,
          4.264207323495476,
          4.313885699103602,
          4.3635640914164675,
          4.4132424670245936,
          4.46292085933746,
          4.512599234945586,
          4.562277627258452,
          4.611956002866578,
          4.661634378474704,
          4.71131275408283,
          4.760991146395696,
          4.810669522003822,
          4.860347914316689,
          4.910026289924815,
          4.95970468223768,
          5.009383057845806,
          5.059061433453932,
          5.059061433453932,
          5.102869505285879,
          5.1466775848171515,
          5.1904856566490984,
          5.234293728481045,
          5.278101808012318,
          5.321909879844265
         ],
         "y": [
          -1.9617999999999998,
          -1.9511999999999998,
          -1.9202999999999997,
          -1.8723999999999998,
          -1.8122999999999998,
          -1.7460999999999998,
          -1.6804999999999999,
          -1.6221999999999999,
          -1.5773,
          -1.5532,
          -1.5602999999999998,
          -1.5970999999999997,
          -1.6444999999999999,
          -1.6887999999999999,
          -1.7245999999999997,
          -1.7502999999999997,
          -1.7656999999999998,
          -1.7708,
          -1.7708,
          -1.7645,
          -1.7459999999999998,
          -1.7158999999999998,
          -1.6756999999999997,
          -1.6270999999999998,
          -1.5723999999999998,
          -1.5149,
          -1.4586,
          -1.4094999999999998,
          -1.3757,
          -1.3648999999999998,
          -1.3648999999999998,
          -1.3754999999999997,
          -1.3967999999999998,
          -1.4198999999999997,
          -1.4406999999999999,
          -1.4577999999999998,
          -1.4711999999999998,
          -1.4815999999999998,
          -1.4900999999999998,
          -1.4975999999999998,
          -1.5049,
          -1.5225999999999997,
          -1.5305999999999997,
          -1.5312,
          -1.5407999999999997,
          -1.5499999999999998,
          -1.5580999999999998,
          -1.5643999999999998,
          -1.5682999999999998,
          -1.5696999999999999,
          -1.5696999999999999,
          -1.5924999999999998,
          -1.6509999999999998,
          -1.7258999999999998,
          -1.8014999999999999,
          -1.8678999999999997,
          -1.9189999999999998,
          -1.9509999999999998,
          -1.9617999999999998,
          -1.9617999999999998,
          -1.9512999999999998,
          -1.9203999999999999,
          -1.8712,
          -1.8068999999999997,
          -1.7317999999999998,
          -1.6507999999999998,
          -1.5695999999999999,
          -1.4949,
          -1.4417999999999997,
          -1.4610999999999998,
          -1.5313999999999999,
          -1.5977,
          -1.6455999999999997,
          -1.6702,
          -1.6695999999999998,
          -1.6430999999999998,
          -1.5915,
          -1.5162999999999998,
          -1.4213999999999998,
          -1.3928999999999998,
          -1.3928999999999998,
          -1.4753999999999998,
          -1.5688999999999997,
          -1.6662,
          -1.7618999999999998,
          -1.8514,
          -1.9303999999999997,
          -1.9954999999999998,
          -2.0439999999999996,
          -2.0739,
          -2.0839999999999996,
          -2.0839999999999996,
          -2.0761,
          -2.053,
          -2.0162,
          -2.0162,
          -1.9957999999999998,
          -1.9604,
          -1.9133999999999998,
          -1.8586999999999998,
          -1.8005999999999998,
          -1.7433999999999998,
          -1.6907999999999999,
          -1.6450999999999998,
          -1.6062999999999998,
          -1.5734,
          -1.5506999999999997,
          -1.5501999999999998,
          -1.5575999999999999,
          -1.5640999999999998,
          -1.5682999999999998,
          -1.5696999999999999,
          -1.7708,
          -1.7836999999999998,
          -1.8188,
          -1.8678,
          -1.9215999999999998,
          -1.9728999999999999,
          -2.0162
         ]
        },
        {
         "mode": "lines",
         "name": "band 12",
         "type": "scatter",
         "x": [
          0,
          0.04972189029404676,
          0.0994437974935389,
          0.14916568778758565,
          0.19888759498707784,
          0.24860948528112461,
          0.29833139248061674,
          0.34805328277466346,
          0.3977751899741556,
          0.4474970802682024,
          0.49721898746769455,
          0.5469408777617413,
          0.5966627849612334,
          0.6463846752552801,
          0.6961065824547723,
          0.745828472748819,
          0.7955503799483112,
          0.845272270242358,
          0.845272270242358,
          0.8933499526196786,
          0.9414276060635433,
          0.9895052884408639,
          1.0375829708181845,
          1.085660624262049,
          1.1337383066393696,
          1.1818159600832343,
          1.2298936424605549,
          1.2779713248378755,
          1.32604897828174,
          1.3741266606590605,
          1.3741266606590605,
          1.4224328884060216,
          1.470739116152983,
          1.5190453438999443,
          1.5673516005803616,
          1.6156578283273229,
          1.663964056074284,
          1.7122702838212454,
          1.7605765115682066,
          1.8088827393151679,
          1.8571889959955852,
          1.9054952237425464,
          1.9538014514895077,
          2.002107679236469,
          2.0504139069834304,
          2.098720134730392,
          2.147026391410809,
          2.19533261915777,
          2.2436388469047315,
          2.2919450746516925,
          2.2919450746516925,
          2.340644037446043,
          2.3893430002403933,
          2.4380419630347436,
          2.486740925829094,
          2.5354398886234444,
          2.5841388514177948,
          2.632837814212145,
          2.6815367770064955,
          2.6815367770064955,
          2.7309249713438746,
          2.7803131367477976,
          2.8297013310851766,
          2.8790894964890996,
          2.9284776908264787,
          2.9778658562304017,
          3.0272540505677807,
          3.0766422159717037,
          3.126030410309083,
          3.175418575713006,
          3.224806770050385,
          3.274194935454308,
          3.323583129791687,
          3.37297129519561,
          3.422359489532989,
          3.471747654936912,
          3.521135849274291,
          3.570524014678214,
          3.619912209015593,
          3.669300374419516,
          3.669300374419516,
          3.7151912869127433,
          3.7610821994059704,
          3.8069731118991976,
          3.852864024392425,
          3.898754936885652,
          3.9446458493788787,
          3.990536761872106,
          4.036427674365333,
          4.08231858685856,
          4.128209499351787,
          4.128209499351787,
          4.173542109879815,
          4.218874712967447,
          4.264207323495476,
          4.264207323495476,
          4.313885699103602,
          4.3635640914164675,
          4.4132424670245936,
          4.46292085933746,
          4.512599234945586,
          4.562277627258452,
          4.611956002866578,
          4.661634378474704,
          4.71131275408283,
          4.760991146395696,
          4.810669522003822,
          4.860347914316689,
          4.910026289924815,
          4.95970468223768,
          5.009383057845806,
          5.059061433453932,
          5.059061433453932,
          5.102869505285879,
          5.1466775848171515,
          5.1904856566490984,
          5.234293728481045,
          5.278101808012318,
          5.321909879844265
         ],
         "y": [
          -1.3456,
          -1.3427999999999998,
          -1.3347999999999998,
          -1.3227999999999998,
          -1.3082999999999998,
          -1.2939999999999998,
          -1.2838999999999998,
          -1.2844999999999998,
          -1.3019999999999998,
          -1.3314,
          -1.3484999999999998,
          -1.3362999999999998,
          -1.3005999999999998,
          -1.2479999999999998,
          -1.1823,
          -1.1086999999999998,
          -1.0406999999999997,
          -1.0279999999999998,
          -1.0279999999999998,
          -1.0746999999999998,
          -1.1370999999999998,
          -1.1988999999999999,
          -1.2537999999999998,
          -1.2978999999999998,
          -1.3295,
          -1.3478999999999999,
          -1.3536,
          -1.3479999999999999,
          -1.3331999999999997,
          -1.3122999999999998,
          -1.3122999999999998,
          -1.2895999999999999,
          -1.2705999999999997,
          -1.2616999999999998,
          -1.2686999999999997,
          -1.2933,
          -1.3318999999999999,
          -1.3780999999999999,
          -1.4250999999999998,
          -1.4672999999999998,
          -1.5008,
          -1.5129,
          -1.5216999999999998,
          -1.5234999999999999,
          -1.5010999999999999,
          -1.4644,
          -1.4163999999999999,
          -1.3638,
          -1.3193,
          -1.301,
          -1.301,
          -1.3027999999999997,
          -1.3078999999999998,
          -1.3153,
          -1.3238999999999999,
          -1.3322999999999998,
          -1.3393,
          -1.3438999999999999,
          -1.3456,
          -1.3456,
          -1.3430999999999997,
          -1.3359999999999999,
          -1.3249999999999997,
          -1.3111,
          -1.2956999999999999,
          -1.2796999999999998,
          -1.2641999999999998,
          -1.2492999999999999,
          -1.299,
          -1.3049999999999997,
          -1.2649,
          -1.2240999999999997,
          -1.1922,
          -1.1723999999999999,
          -1.1664999999999999,
          -1.1758999999999997,
          -1.2018999999999997,
          -1.2453999999999998,
          -1.3049999999999997,
          -1.2975999999999999,
          -1.2975999999999999,
          -1.1838999999999997,
          -1.0796999999999999,
          -1.0942999999999998,
          -1.1067999999999998,
          -1.1173999999999997,
          -1.1261999999999999,
          -1.1331999999999998,
          -1.1382999999999999,
          -1.1414999999999997,
          -1.1424999999999998,
          -1.1424999999999998,
          -1.1401999999999999,
          -1.1333999999999997,
          -1.1224999999999998,
          -1.1224999999999998,
          -1.1270999999999998,
          -1.13,
          -1.132,
          -1.1342999999999999,
          -1.1916999999999998,
          -1.2764999999999997,
          -1.3507999999999998,
          -1.4116999999999997,
          -1.4576999999999998,
          -1.4880999999999998,
          -1.4960999999999998,
          -1.4685,
          -1.4206999999999999,
          -1.3666999999999998,
          -1.3202999999999998,
          -1.301,
          -1.0279999999999998,
          -1.0325999999999997,
          -1.0454999999999999,
          -1.0640999999999998,
          -1.0850999999999997,
          -1.1053999999999997,
          -1.1224999999999998
         ]
        },
        {
         "mode": "lines",
         "name": "band 13",
         "type": "scatter",
         "x": [
          0,
          0.04972189029404676,
          0.0994437974935389,
          0.14916568778758565,
          0.19888759498707784,
          0.24860948528112461,
          0.29833139248061674,
          0.34805328277466346,
          0.3977751899741556,
          0.4474970802682024,
          0.49721898746769455,
          0.5469408777617413,
          0.5966627849612334,
          0.6463846752552801,
          0.6961065824547723,
          0.745828472748819,
          0.7955503799483112,
          0.845272270242358,
          0.845272270242358,
          0.8933499526196786,
          0.9414276060635433,
          0.9895052884408639,
          1.0375829708181845,
          1.085660624262049,
          1.1337383066393696,
          1.1818159600832343,
          1.2298936424605549,
          1.2779713248378755,
          1.32604897828174,
          1.3741266606590605,
          1.3741266606590605,
          1.4224328884060216,
          1.470739116152983,
          1.5190453438999443,
          1.5673516005803616,
          1.6156578283273229,
          1.663964056074284,
          1.7122702838212454,
          1.7605765115682066,
          1.8088827393151679,
          1.8571889959955852,
          1.9054952237425464,
          1.9538014514895077,
          2.002107679236469,
          2.0504139069834304,
          2.098720134730392,
          2.147026391410809,
          2.19533261915777,
          2.2436388469047315,
          2.2919450746516925,
          2.2919450746516925,
          2.340644037446043,
          2.3893430002403933,
          2.4380419630347436,
          2.486740925829094,
          2.5354398886234444,
          2.5841388514177948,
          2.632837814212145,
          2.6815367770064955,
          2.6815367770064955,
          2.7309249713438746,
          2.7803131367477976,
          2.8297013310851766,
          2.8790894964890996,
          2.9284776908264787,
          2.9778658562304017,
          3.0272540505677807,
          3.0766422159717037,
          3.126030410309083,
          3.175418575713006,
          3.224806770050385,
          3.274194935454308,
          3.323583129791687,
          3.37297129519561,
          3.422359489532989,
          3.471747654936912,
          3.521135849274291,
          3.570524014678214,
          3.619912209015593,
          3.669300374419516,
          3.669300374419516,
          3.7151912869127433,
          3.7610821994059704,
          3.8069731118991976,
          3.852864024392425,
          3.898754936885652,
          3.9446458493788787,
          3.990536761872106,
          4.036427674365333,
          4.08231858685856,
          4.128209499351787,
          4.128209499351787,
          4.173542109879815,
          4.218874712967447,
          4.264207323495476,
          4.264207323495476,
          4.313885699103602,
          4.3635640914164675,
          4.4132424670245936,
          4.46292085933746,
          4.512599234945586,
          4.562277627258452,
          4.611956002866578,
          4.661634378474704,
          4.71131275408283,
          4.760991146395696,
          4.810669522003822,
          4.860347914316689,
          4.910026289924815,
          4.95970468223768,
          5.009383057845806,
          5.059061433453932,
          5.059061433453932,
          5.102869505285879,
          5.1466775848171515,
          5.1904856566490984,
          5.234293728481045,
          5.278101808012318,
          5.321909879844265
         ],
         "y": [
          -1.3456,
          -1.3415,
          -1.3294,
          -1.3099999999999998,
          -1.2842999999999998,
          -1.2535999999999998,
          -1.2195999999999998,
          -1.1842,
          -1.1495999999999997,
          -1.1176,
          -1.0899999999999999,
          -1.0677999999999999,
          -1.0514999999999999,
          -1.0403999999999998,
          -1.0336999999999998,
          -1.0300999999999998,
          -1.0283999999999998,
          -1.0091999999999999,
          -1.0091999999999999,
          -0.9767999999999999,
          -0.9501999999999999,
          -0.9316999999999998,
          -0.9163999999999999,
          -0.9013999999999998,
          -0.8849999999999998,
          -0.8660999999999999,
          -0.9203999999999999,
          -0.9869999999999999,
          -1.0306999999999997,
          -1.0442999999999998,
          -1.0442999999999998,
          -1.0315999999999999,
          -1.0068,
          -0.9851999999999999,
          -0.9788999999999999,
          -0.9905999999999999,
          -1.0134999999999998,
          -1.0412,
          -1.0703999999999998,
          -1.0995,
          -1.1281999999999999,
          -1.1562,
          -1.1833999999999998,
          -1.2096999999999998,
          -1.2342999999999997,
          -1.2563999999999997,
          -1.275,
          -1.2892,
          -1.2979999999999998,
          -1.301,
          -1.301,
          -1.3027999999999997,
          -1.3078999999999998,
          -1.3153,
          -1.3238999999999999,
          -1.3322999999999998,
          -1.3393,
          -1.3438999999999999,
          -1.3456,
          -1.3456,
          -1.3411999999999997,
          -1.3280999999999998,
          -1.3071,
          -1.2793999999999999,
          -1.2482999999999997,
          -1.2212999999999998,
          -1.2137999999999998,
          -1.2441999999999998,
          -1.2347,
          -1.2194999999999998,
          -1.2024,
          -1.1816999999999998,
          -1.1557999999999997,
          -1.1232999999999997,
          -1.0836999999999999,
          -1.0378999999999998,
          -0.9954999999999998,
          -0.9952999999999999,
          -1.0191999999999999,
          -1.0431,
          -1.0431,
          -1.0626999999999998,
          -1.0703999999999998,
          -1.0039999999999998,
          -1.0093999999999999,
          -1.0346999999999997,
          -1.0601999999999998,
          -1.0815,
          -1.0972999999999997,
          -1.1069999999999998,
          -1.1101999999999999,
          -1.1101999999999999,
          -1.1028999999999998,
          -1.0816,
          -1.0476999999999999,
          -1.0476999999999999,
          -1.0095999999999998,
          -0.9752999999999998,
          -1.0110999999999999,
          -1.1005999999999998,
          -1.1381999999999999,
          -1.1450999999999998,
          -1.1559,
          -1.1708999999999998,
          -1.1896999999999998,
          -1.2109999999999999,
          -1.2333999999999998,
          -1.255,
          -1.2738999999999998,
          -1.2885999999999997,
          -1.2977999999999998,
          -1.301,
          -1.0091999999999999,
          -1.0044999999999997,
          -0.9952999999999999,
          -0.9923999999999997,
          -1.0028,
          -1.0234999999999999,
          -1.0476999999999999
         ]
        },
        {
         "mode": "lines",
         "name": "band 14",
         "type": "scatter",
         "x": [
          0,
          0.04972189029404676,
          0.0994437974935389,
          0.14916568778758565,
          0.19888759498707784,
          0.24860948528112461,
          0.29833139248061674,
          0.34805328277466346,
          0.3977751899741556,
          0.4474970802682024,
          0.49721898746769455,
          0.5469408777617413,
          0.5966627849612334,
          0.6463846752552801,
          0.6961065824547723,
          0.745828472748819,
          0.7955503799483112,
          0.845272270242358,
          0.845272270242358,
          0.8933499526196786,
          0.9414276060635433,
          0.9895052884408639,
          1.0375829708181845,
          1.085660624262049,
          1.1337383066393696,
          1.1818159600832343,
          1.2298936424605549,
          1.2779713248378755,
          1.32604897828174,
          1.3741266606590605,
          1.3741266606590605,
          1.4224328884060216,
          1.470739116152983,
          1.5190453438999443,
          1.5673516005803616,
          1.6156578283273229,
          1.663964056074284,
          1.7122702838212454,
          1.7605765115682066,
          1.8088827393151679,
          1.8571889959955852,
          1.9054952237425464,
          1.9538014514895077,
          2.002107679236469,
          2.0504139069834304,
          2.098720134730392,
          2.147026391410809,
          2.19533261915777,
          2.2436388469047315,
          2.2919450746516925,
          2.2919450746516925,
          2.340644037446043,
          2.3893430002403933,
          2.4380419630347436,
          2.486740925829094,
          2.5354398886234444,
          2.5841388514177948,
          2.632837814212145,
          2.6815367770064955,
          2.6815367770064955,
          2.7309249713438746,
          2.7803131367477976,
          2.8297013310851766,
          2.8790894964890996,
          2.9284776908264787,
          2.9778658562304017,
          3.0272540505677807,
          3.0766422159717037,
          3.126030410309083,
          3.175418575713006,
          3.224806770050385,
          3.274194935454308,
          3.323583129791687,
          3.37297129519561,
          3.422359489532989,
          3.471747654936912,
          3.521135849274291,
          3.570524014678214,
          3.619912209015593,
          3.669300374419516,
          3.669300374419516,
          3.7151912869127433,
          3.7610821994059704,
          3.8069731118991976,
          3.852864024392425,
          3.898754936885652,
          3.9446458493788787,
          3.990536761872106,
          4.036427674365333,
          4.08231858685856,
          4.128209499351787,
          4.128209499351787,
          4.173542109879815,
          4.218874712967447,
          4.264207323495476,
          4.264207323495476,
          4.313885699103602,
          4.3635640914164675,
          4.4132424670245936,
          4.46292085933746,
          4.512599234945586,
          4.562277627258452,
          4.611956002866578,
          4.661634378474704,
          4.71131275408283,
          4.760991146395696,
          4.810669522003822,
          4.860347914316689,
          4.910026289924815,
          4.95970468223768,
          5.009383057845806,
          5.059061433453932,
          5.059061433453932,
          5.102869505285879,
          5.1466775848171515,
          5.1904856566490984,
          5.234293728481045,
          5.278101808012318,
          5.321909879844265
         ],
         "y": [
          -0.10229999999999961,
          -0.10389999999999988,
          -0.11399999999999988,
          -0.20989999999999975,
          -0.34240000000000004,
          -0.48419999999999996,
          -0.6194999999999999,
          -0.7314999999999998,
          -0.8041999999999998,
          -0.8322999999999998,
          -0.8263999999999998,
          -0.8025999999999998,
          -0.7725999999999997,
          -0.7436999999999998,
          -0.7205999999999999,
          -0.7073,
          -0.7092999999999998,
          -0.7175999999999998,
          -0.7175999999999998,
          -0.7170999999999998,
          -0.7157999999999998,
          -0.7142999999999997,
          -0.7143999999999999,
          -0.7216999999999998,
          -0.7617999999999998,
          -0.8403999999999998,
          -0.8440999999999999,
          -0.8186999999999998,
          -0.7902999999999998,
          -0.7602999999999998,
          -0.7602999999999998,
          -0.7675999999999998,
          -0.7873999999999999,
          -0.7995999999999999,
          -0.7960999999999998,
          -0.7752999999999999,
          -0.7433999999999998,
          -0.7056999999999998,
          -0.6638999999999999,
          -0.6179999999999999,
          -0.5670999999999999,
          -0.5105,
          -0.44789999999999974,
          -0.3805999999999998,
          -0.35329999999999995,
          -0.4192,
          -0.5091999999999999,
          -0.6002999999999998,
          -0.6709999999999998,
          -0.6983999999999999,
          -0.6983999999999999,
          -0.6686999999999999,
          -0.5903,
          -0.4846999999999997,
          -0.37109999999999976,
          -0.2648999999999999,
          -0.17849999999999966,
          -0.12199999999999989,
          -0.10229999999999961,
          -0.10229999999999961,
          -0.10329999999999995,
          -0.10639999999999983,
          -0.2023999999999999,
          -0.3335999999999997,
          -0.47409999999999997,
          -0.6063999999999998,
          -0.7066999999999997,
          -0.7497999999999998,
          -0.7351999999999999,
          -0.6882999999999999,
          -0.6315999999999997,
          -0.6642999999999999,
          -0.7317999999999998,
          -0.7929999999999999,
          -0.8469999999999998,
          -0.8921999999999999,
          -0.9190999999999998,
          -0.8901999999999999,
          -0.8257999999999999,
          -0.7583999999999997,
          -0.7583999999999997,
          -0.8096999999999999,
          -0.8430999999999997,
          -0.8171999999999999,
          -0.7115999999999998,
          -0.5835999999999997,
          -0.5976999999999997,
          -0.6151999999999997,
          -0.6292999999999997,
          -0.6381999999999999,
          -0.6412999999999998,
          -0.6412999999999998,
          -0.6517999999999997,
          -0.6824999999999997,
          -0.7307999999999999,
          -0.7307999999999999,
          -0.8087999999999997,
          -0.8877999999999999,
          -0.8990999999999998,
          -0.8555999999999999,
          -0.8045999999999998,
          -0.7487999999999999,
          -0.6869999999999998,
          -0.6179999999999999,
          -0.5427,
          -0.46599999999999975,
          -0.4047999999999998,
          -0.41759999999999975,
          -0.5017,
          -0.5954999999999999,
          -0.6694,
          -0.6983999999999999,
          -0.7175999999999998,
          -0.7356999999999998,
          -0.7637999999999998,
          -0.7786999999999997,
          -0.7741999999999998,
          -0.7556999999999998,
          -0.7307999999999999
         ]
        },
        {
         "mode": "lines",
         "name": "band 15",
         "type": "scatter",
         "x": [
          0,
          0.04972189029404676,
          0.0994437974935389,
          0.14916568778758565,
          0.19888759498707784,
          0.24860948528112461,
          0.29833139248061674,
          0.34805328277466346,
          0.3977751899741556,
          0.4474970802682024,
          0.49721898746769455,
          0.5469408777617413,
          0.5966627849612334,
          0.6463846752552801,
          0.6961065824547723,
          0.745828472748819,
          0.7955503799483112,
          0.845272270242358,
          0.845272270242358,
          0.8933499526196786,
          0.9414276060635433,
          0.9895052884408639,
          1.0375829708181845,
          1.085660624262049,
          1.1337383066393696,
          1.1818159600832343,
          1.2298936424605549,
          1.2779713248378755,
          1.32604897828174,
          1.3741266606590605,
          1.3741266606590605,
          1.4224328884060216,
          1.470739116152983,
          1.5190453438999443,
          1.5673516005803616,
          1.6156578283273229,
          1.663964056074284,
          1.7122702838212454,
          1.7605765115682066,
          1.8088827393151679,
          1.8571889959955852,
          1.9054952237425464,
          1.9538014514895077,
          2.002107679236469,
          2.0504139069834304,
          2.098720134730392,
          2.147026391410809,
          2.19533261915777,
          2.2436388469047315,
          2.2919450746516925,
          2.2919450746516925,
          2.340644037446043,
          2.3893430002403933,
          2.4380419630347436,
          2.486740925829094,
          2.5354398886234444,
          2.5841388514177948,
          2.632837814212145,
          2.6815367770064955,
          2.6815367770064955,
          2.7309249713438746,
          2.7803131367477976,
          2.8297013310851766,
          2.8790894964890996,
          2.9284776908264787,
          2.9778658562304017,
          3.0272540505677807,
          3.0766422159717037,
          3.126030410309083,
          3.175418575713006,
          3.224806770050385,
          3.274194935454308,
          3.323583129791687,
          3.37297129519561,
          3.422359489532989,
          3.471747654936912,
          3.521135849274291,
          3.570524014678214,
          3.619912209015593,
          3.669300374419516,
          3.669300374419516,
          3.7151912869127433,
          3.7610821994059704,
          3.8069731118991976,
          3.852864024392425,
          3.898754936885652,
          3.9446458493788787,
          3.990536761872106,
          4.036427674365333,
          4.08231858685856,
          4.128209499351787,
          4.128209499351787,
          4.173542109879815,
          4.218874712967447,
          4.264207323495476,
          4.264207323495476,
          4.313885699103602,
          4.3635640914164675,
          4.4132424670245936,
          4.46292085933746,
          4.512599234945586,
          4.562277627258452,
          4.611956002866578,
          4.661634378474704,
          4.71131275408283,
          4.760991146395696,
          4.810669522003822,
          4.860347914316689,
          4.910026289924815,
          4.95970468223768,
          5.009383057845806,
          5.059061433453932,
          5.059061433453932,
          5.102869505285879,
          5.1466775848171515,
          5.1904856566490984,
          5.234293728481045,
          5.278101808012318,
          5.321909879844265
         ],
         "y": [
          0,
          -0.02499999999999991,
          -0.09039999999999981,
          -0.10779999999999967,
          -0.1115999999999997,
          -0.11529999999999996,
          -0.15459999999999985,
          -0.19369999999999976,
          -0.23029999999999973,
          -0.26229999999999976,
          -0.28839999999999977,
          -0.3078999999999996,
          -0.32089999999999996,
          -0.3285,
          -0.40559999999999974,
          -0.4945999999999997,
          -0.5633999999999997,
          -0.5877999999999997,
          -0.5877999999999997,
          -0.5677999999999996,
          -0.5156999999999998,
          -0.4554,
          -0.5357999999999996,
          -0.6194999999999999,
          -0.6751999999999998,
          -0.6919,
          -0.7014999999999998,
          -0.7128999999999999,
          -0.7279999999999998,
          -0.7466999999999999,
          -0.7466999999999999,
          -0.7317999999999998,
          -0.7101999999999999,
          -0.6981999999999999,
          -0.6888999999999998,
          -0.6717999999999997,
          -0.6419999999999999,
          -0.6006999999999998,
          -0.5516999999999999,
          -0.49849999999999994,
          -0.44499999999999984,
          -0.3948999999999998,
          -0.35399999999999965,
          -0.3334999999999999,
          -0.31099999999999994,
          -0.24309999999999965,
          -0.18189999999999973,
          -0.13280000000000003,
          -0.10089999999999977,
          -0.08979999999999988,
          -0.08979999999999988,
          -0.08630000000000004,
          -0.07640000000000002,
          -0.061699999999999644,
          -0.04449999999999976,
          -0.027399999999999647,
          -0.01289999999999969,
          -0.0032999999999998586,
          0,
          0,
          -0.024699999999999722,
          -0.09519999999999973,
          -0.11139999999999972,
          -0.12019999999999964,
          -0.15469999999999962,
          -0.21479999999999988,
          -0.2841,
          -0.35909999999999975,
          -0.43699999999999983,
          -0.5151999999999997,
          -0.5915999999999997,
          -0.5791999999999997,
          -0.54,
          -0.5192999999999999,
          -0.5198999999999998,
          -0.5415999999999999,
          -0.5817999999999999,
          -0.6355999999999997,
          -0.6967999999999996,
          -0.7531999999999999,
          -0.7531999999999999,
          -0.6858,
          -0.6254999999999997,
          -0.5840999999999998,
          -0.5714999999999999,
          -0.5806,
          -0.4591999999999996,
          -0.3495999999999997,
          -0.2634999999999996,
          -0.20829999999999993,
          -0.1892999999999998,
          -0.1892999999999998,
          -0.1921999999999997,
          -0.20059999999999967,
          -0.2237,
          -0.2237,
          -0.20859999999999967,
          -0.20719999999999983,
          -0.20889999999999986,
          -0.21219999999999972,
          -0.21509999999999962,
          -0.21579999999999977,
          -0.2126999999999999,
          -0.20479999999999965,
          -0.19199999999999973,
          -0.1751999999999998,
          -0.23029999999999973,
          -0.2347999999999999,
          -0.18489999999999984,
          -0.1349999999999998,
          -0.1014999999999997,
          -0.08979999999999988,
          -0.5877999999999997,
          -0.5587999999999997,
          -0.49719999999999986,
          -0.4243999999999999,
          -0.34999999999999964,
          -0.2808999999999999,
          -0.2237
         ]
        },
        {
         "mode": "lines",
         "name": "band 16",
         "type": "scatter",
         "x": [
          0,
          0.04972189029404676,
          0.0994437974935389,
          0.14916568778758565,
          0.19888759498707784,
          0.24860948528112461,
          0.29833139248061674,
          0.34805328277466346,
          0.3977751899741556,
          0.4474970802682024,
          0.49721898746769455,
          0.5469408777617413,
          0.5966627849612334,
          0.6463846752552801,
          0.6961065824547723,
          0.745828472748819,
          0.7955503799483112,
          0.845272270242358,
          0.845272270242358,
          0.8933499526196786,
          0.9414276060635433,
          0.9895052884408639,
          1.0375829708181845,
          1.085660624262049,
          1.1337383066393696,
          1.1818159600832343,
          1.2298936424605549,
          1.2779713248378755,
          1.32604897828174,
          1.3741266606590605,
          1.3741266606590605,
          1.4224328884060216,
          1.470739116152983,
          1.5190453438999443,
          1.5673516005803616,
          1.6156578283273229,
          1.663964056074284,
          1.7122702838212454,
          1.7605765115682066,
          1.8088827393151679,
          1.8571889959955852,
          1.9054952237425464,
          1.9538014514895077,
          2.002107679236469,
          2.0504139069834304,
          2.098720134730392,
          2.147026391410809,
          2.19533261915777,
          2.2436388469047315,
          2.2919450746516925,
          2.2919450746516925,
          2.340644037446043,
          2.3893430002403933,
          2.4380419630347436,
          2.486740925829094,
          2.5354398886234444,
          2.5841388514177948,
          2.632837814212145,
          2.6815367770064955,
          2.6815367770064955,
          2.7309249713438746,
          2.7803131367477976,
          2.8297013310851766,
          2.8790894964890996,
          2.9284776908264787,
          2.9778658562304017,
          3.0272540505677807,
          3.0766422159717037,
          3.126030410309083,
          3.175418575713006,
          3.224806770050385,
          3.274194935454308,
          3.323583129791687,
          3.37297129519561,
          3.422359489532989,
          3.471747654936912,
          3.521135849274291,
          3.570524014678214,
          3.619912209015593,
          3.669300374419516,
          3.669300374419516,
          3.7151912869127433,
          3.7610821994059704,
          3.8069731118991976,
          3.852864024392425,
          3.898754936885652,
          3.9446458493788787,
          3.990536761872106,
          4.036427674365333,
          4.08231858685856,
          4.128209499351787,
          4.128209499351787,
          4.173542109879815,
          4.218874712967447,
          4.264207323495476,
          4.264207323495476,
          4.313885699103602,
          4.3635640914164675,
          4.4132424670245936,
          4.46292085933746,
          4.512599234945586,
          4.562277627258452,
          4.611956002866578,
          4.661634378474704,
          4.71131275408283,
          4.760991146395696,
          4.810669522003822,
          4.860347914316689,
          4.910026289924815,
          4.95970468223768,
          5.009383057845806,
          5.059061433453932,
          5.059061433453932,
          5.102869505285879,
          5.1466775848171515,
          5.1904856566490984,
          5.234293728481045,
          5.278101808012318,
          5.321909879844265
         ],
         "y": [
          0,
          -0.005399999999999849,
          -0.021199999999999886,
          -0.0461999999999998,
          -0.07830000000000004,
          -0.11299999999999999,
          -0.11229999999999984,
          -0.11119999999999974,
          -0.11309999999999976,
          -0.12259999999999982,
          -0.1448999999999998,
          -0.18409999999999993,
          -0.24219999999999997,
          -0.31779999999999964,
          -0.33199999999999985,
          -0.33309999999999995,
          -0.3331999999999997,
          -0.33309999999999995,
          -0.33309999999999995,
          -0.3477999999999999,
          -0.39019999999999966,
          -0.4476,
          -0.3780999999999999,
          -0.31769999999999987,
          -0.27349999999999985,
          -0.24939999999999962,
          -0.2466999999999997,
          -0.26359999999999983,
          -0.29549999999999965,
          -0.3348,
          -0.3348,
          -0.3712,
          -0.3908999999999998,
          -0.38280000000000003,
          -0.3472999999999997,
          -0.29359999999999964,
          -0.23179999999999978,
          -0.1701999999999999,
          -0.11619999999999964,
          -0.07609999999999983,
          -0.055199999999999694,
          -0.05669999999999975,
          -0.07889999999999997,
          -0.1115999999999997,
          -0.13209999999999988,
          -0.129,
          -0.11539999999999973,
          -0.10199999999999987,
          -0.09289999999999976,
          -0.08979999999999988,
          -0.08979999999999988,
          -0.08630000000000004,
          -0.07640000000000002,
          -0.061699999999999644,
          -0.04449999999999976,
          -0.027399999999999647,
          -0.01289999999999969,
          -0.0032999999999998586,
          0,
          0,
          -0.005999999999999783,
          -0.02400000000000002,
          -0.05359999999999987,
          -0.09199999999999964,
          -0.1155999999999997,
          -0.12270000000000003,
          -0.1269,
          -0.12939999999999996,
          -0.13039999999999985,
          -0.1307999999999998,
          -0.13159999999999972,
          -0.13419999999999987,
          -0.13999999999999968,
          -0.15009999999999968,
          -0.1654,
          -0.18619999999999992,
          -0.21259999999999968,
          -0.2434999999999996,
          -0.27780000000000005,
          -0.3131999999999997,
          -0.3131999999999997,
          -0.34389999999999965,
          -0.3666999999999998,
          -0.37129999999999974,
          -0.34899999999999975,
          -0.3081999999999998,
          -0.2634999999999996,
          -0.2237,
          -0.19309999999999983,
          -0.1740999999999997,
          -0.16759999999999975,
          -0.16759999999999975,
          -0.1741999999999999,
          -0.19349999999999978,
          -0.21409999999999973,
          -0.21409999999999973,
          -0.19099999999999984,
          -0.16199999999999992,
          -0.13490000000000002,
          -0.10939999999999994,
          -0.08709999999999996,
          -0.07169999999999987,
          -0.06849999999999978,
          -0.08259999999999978,
          -0.11739999999999995,
          -0.17159999999999975,
          -0.15579999999999972,
          -0.1357999999999997,
          -0.11749999999999972,
          -0.10270000000000001,
          -0.09309999999999974,
          -0.08979999999999988,
          -0.33309999999999995,
          -0.3272999999999997,
          -0.3112999999999997,
          -0.2881999999999998,
          -0.2616999999999998,
          -0.2359,
          -0.21409999999999973
         ]
        },
        {
         "mode": "lines",
         "name": "band 17",
         "type": "scatter",
         "x": [
          0,
          0.04972189029404676,
          0.0994437974935389,
          0.14916568778758565,
          0.19888759498707784,
          0.24860948528112461,
          0.29833139248061674,
          0.34805328277466346,
          0.3977751899741556,
          0.4474970802682024,
          0.49721898746769455,
          0.5469408777617413,
          0.5966627849612334,
          0.6463846752552801,
          0.6961065824547723,
          0.745828472748819,
          0.7955503799483112,
          0.845272270242358,
          0.845272270242358,
          0.8933499526196786,
          0.9414276060635433,
          0.9895052884408639,
          1.0375829708181845,
          1.085660624262049,
          1.1337383066393696,
          1.1818159600832343,
          1.2298936424605549,
          1.2779713248378755,
          1.32604897828174,
          1.3741266606590605,
          1.3741266606590605,
          1.4224328884060216,
          1.470739116152983,
          1.5190453438999443,
          1.5673516005803616,
          1.6156578283273229,
          1.663964056074284,
          1.7122702838212454,
          1.7605765115682066,
          1.8088827393151679,
          1.8571889959955852,
          1.9054952237425464,
          1.9538014514895077,
          2.002107679236469,
          2.0504139069834304,
          2.098720134730392,
          2.147026391410809,
          2.19533261915777,
          2.2436388469047315,
          2.2919450746516925,
          2.2919450746516925,
          2.340644037446043,
          2.3893430002403933,
          2.4380419630347436,
          2.486740925829094,
          2.5354398886234444,
          2.5841388514177948,
          2.632837814212145,
          2.6815367770064955,
          2.6815367770064955,
          2.7309249713438746,
          2.7803131367477976,
          2.8297013310851766,
          2.8790894964890996,
          2.9284776908264787,
          2.9778658562304017,
          3.0272540505677807,
          3.0766422159717037,
          3.126030410309083,
          3.175418575713006,
          3.224806770050385,
          3.274194935454308,
          3.323583129791687,
          3.37297129519561,
          3.422359489532989,
          3.471747654936912,
          3.521135849274291,
          3.570524014678214,
          3.619912209015593,
          3.669300374419516,
          3.669300374419516,
          3.7151912869127433,
          3.7610821994059704,
          3.8069731118991976,
          3.852864024392425,
          3.898754936885652,
          3.9446458493788787,
          3.990536761872106,
          4.036427674365333,
          4.08231858685856,
          4.128209499351787,
          4.128209499351787,
          4.173542109879815,
          4.218874712967447,
          4.264207323495476,
          4.264207323495476,
          4.313885699103602,
          4.3635640914164675,
          4.4132424670245936,
          4.46292085933746,
          4.512599234945586,
          4.562277627258452,
          4.611956002866578,
          4.661634378474704,
          4.71131275408283,
          4.760991146395696,
          4.810669522003822,
          4.860347914316689,
          4.910026289924815,
          4.95970468223768,
          5.009383057845806,
          5.059061433453932,
          5.059061433453932,
          5.102869505285879,
          5.1466775848171515,
          5.1904856566490984,
          5.234293728481045,
          5.278101808012318,
          5.321909879844265
         ],
         "y": [
          3.4977,
          3.5143000000000004,
          3.4939,
          3.4398,
          3.3820000000000006,
          3.3264000000000005,
          3.2758000000000003,
          3.2315000000000005,
          3.1936,
          3.1619,
          3.1364,
          3.1172000000000004,
          3.1045,
          3.0978000000000003,
          3.0962000000000005,
          3.0977000000000006,
          3.1000000000000005,
          3.1010999999999997,
          3.1010999999999997,
          3.1099000000000006,
          3.1340000000000003,
          3.1678000000000006,
          3.2044000000000006,
          3.239,
          3.2688000000000006,
          3.2929000000000004,
          3.3098,
          3.3162000000000003,
          3.3095,
          3.292,
          3.292,
          3.2692000000000005,
          3.2468000000000004,
          3.229,
          3.2194000000000003,
          3.2203,
          3.2332,
          3.2342000000000004,
          3.1997999999999998,
          3.173,
          3.1555,
          3.1486,
          3.1530000000000005,
          3.1692,
          3.1965000000000003,
          3.2328,
          3.2738000000000005,
          3.3130000000000006,
          3.3417000000000003,
          3.3523000000000005,
          3.3523000000000005,
          3.3551,
          3.3631,
          3.3763000000000005,
          3.3942000000000005,
          3.4166,
          3.4435000000000002,
          3.4748,
          3.4977,
          3.4977,
          3.5170000000000003,
          3.4976000000000003,
          3.4450000000000003,
          3.3931000000000004,
          3.3485000000000005,
          3.3148,
          3.2933000000000003,
          3.2835,
          3.284,
          3.2932000000000006,
          3.309,
          3.3298000000000005,
          3.3542000000000005,
          3.3597,
          3.3365,
          3.3222000000000005,
          3.316,
          3.3153000000000006,
          3.3139000000000003,
          3.3,
          3.3,
          3.2629,
          3.1969000000000003,
          3.1050000000000004,
          2.9944000000000006,
          2.8753,
          2.7588,
          2.6552,
          2.5736,
          2.5215000000000005,
          2.5035,
          2.5035,
          2.5129,
          2.5408,
          2.5862,
          2.5862,
          2.5812,
          2.5945,
          2.6254,
          2.6724000000000006,
          2.7329,
          2.8037,
          2.8807,
          2.9588,
          3.0335,
          3.1017,
          3.1628,
          3.2179,
          3.2678000000000003,
          3.3106999999999998,
          3.3411,
          3.3523000000000005,
          3.1010999999999997,
          3.0545,
          2.9560000000000004,
          2.8474000000000004,
          2.7449000000000003,
          2.6562,
          2.5862
         ]
        },
        {
         "mode": "lines",
         "name": "band 18",
         "type": "scatter",
         "x": [
          0,
          0.04972189029404676,
          0.0994437974935389,
          0.14916568778758565,
          0.19888759498707784,
          0.24860948528112461,
          0.29833139248061674,
          0.34805328277466346,
          0.3977751899741556,
          0.4474970802682024,
          0.49721898746769455,
          0.5469408777617413,
          0.5966627849612334,
          0.6463846752552801,
          0.6961065824547723,
          0.745828472748819,
          0.7955503799483112,
          0.845272270242358,
          0.845272270242358,
          0.8933499526196786,
          0.9414276060635433,
          0.9895052884408639,
          1.0375829708181845,
          1.085660624262049,
          1.1337383066393696,
          1.1818159600832343,
          1.2298936424605549,
          1.2779713248378755,
          1.32604897828174,
          1.3741266606590605,
          1.3741266606590605,
          1.4224328884060216,
          1.470739116152983,
          1.5190453438999443,
          1.5673516005803616,
          1.6156578283273229,
          1.663964056074284,
          1.7122702838212454,
          1.7605765115682066,
          1.8088827393151679,
          1.8571889959955852,
          1.9054952237425464,
          1.9538014514895077,
          2.002107679236469,
          2.0504139069834304,
          2.098720134730392,
          2.147026391410809,
          2.19533261915777,
          2.2436388469047315,
          2.2919450746516925,
          2.2919450746516925,
          2.340644037446043,
          2.3893430002403933,
          2.4380419630347436,
          2.486740925829094,
          2.5354398886234444,
          2.5841388514177948,
          2.632837814212145,
          2.6815367770064955,
          2.6815367770064955,
          2.7309249713438746,
          2.7803131367477976,
          2.8297013310851766,
          2.8790894964890996,
          2.9284776908264787,
          2.9778658562304017,
          3.0272540505677807,
          3.0766422159717037,
          3.126030410309083,
          3.175418575713006,
          3.224806770050385,
          3.274194935454308,
          3.323583129791687,
          3.37297129519561,
          3.422359489532989,
          3.471747654936912,
          3.521135849274291,
          3.570524014678214,
          3.619912209015593,
          3.669300374419516,
          3.669300374419516,
          3.7151912869127433,
          3.7610821994059704,
          3.8069731118991976,
          3.852864024392425,
          3.898754936885652,
          3.9446458493788787,
          3.990536761872106,
          4.036427674365333,
          4.08231858685856,
          4.128209499351787,
          4.128209499351787,
          4.173542109879815,
          4.218874712967447,
          4.264207323495476,
          4.264207323495476,
          4.313885699103602,
          4.3635640914164675,
          4.4132424670245936,
          4.46292085933746,
          4.512599234945586,
          4.562277627258452,
          4.611956002866578,
          4.661634378474704,
          4.71131275408283,
          4.760991146395696,
          4.810669522003822,
          4.860347914316689,
          4.910026289924815,
          4.95970468223768,
          5.009383057845806,
          5.059061433453932,
          5.059061433453932,
          5.102869505285879,
          5.1466775848171515,
          5.1904856566490984,
          5.234293728481045,
          5.278101808012318,
          5.321909879844265
         ],
         "y": [
          3.5566000000000004,
          3.5425000000000004,
          3.5743,
          3.6437,
          3.6811,
          3.6722,
          3.6583000000000006,
          3.646,
          3.6353,
          3.6263000000000005,
          3.6191000000000004,
          3.6135,
          3.5946,
          3.5468,
          3.5003,
          3.4628000000000005,
          3.4383,
          3.4297000000000004,
          3.4297000000000004,
          3.4372,
          3.4572000000000003,
          3.4835000000000003,
          3.5076,
          3.5230000000000006,
          3.5293,
          3.5295000000000005,
          3.518,
          3.5122999999999998,
          3.508,
          3.4911000000000003,
          3.4911000000000003,
          3.4674000000000005,
          3.4369000000000005,
          3.4005,
          3.3598,
          3.3167999999999997,
          3.2741,
          3.2589000000000006,
          3.2971000000000004,
          3.3462000000000005,
          3.4038000000000004,
          3.4659000000000004,
          3.5273000000000003,
          3.582,
          3.6266,
          3.6615,
          3.6884000000000006,
          3.7072000000000003,
          3.7178000000000004,
          3.7211,
          3.7211,
          3.7213000000000003,
          3.7218999999999998,
          3.723,
          3.7246000000000006,
          3.7096,
          3.6491,
          3.5902000000000003,
          3.5566000000000004,
          3.5566000000000004,
          3.5397,
          3.5709,
          3.6404000000000005,
          3.6643,
          3.6532,
          3.6363000000000003,
          3.6158,
          3.5898000000000003,
          3.5566000000000004,
          3.5167,
          3.4731000000000005,
          3.4302,
          3.3914999999999997,
          3.3810000000000002,
          3.4089,
          3.4369000000000005,
          3.4638,
          3.4884000000000004,
          3.5097000000000005,
          3.5005000000000006,
          3.5005000000000006,
          3.4973,
          3.5071000000000003,
          3.5243,
          3.5439,
          3.5627000000000004,
          3.5791000000000004,
          3.5890000000000004,
          3.5934,
          3.5961,
          3.5970000000000004,
          3.5970000000000004,
          3.5962000000000005,
          3.5939000000000005,
          3.5904,
          3.5904,
          3.5868,
          3.5779000000000005,
          3.5661000000000005,
          3.5544000000000002,
          3.5458,
          3.5435,
          3.5502000000000002,
          3.5679,
          3.5963000000000003,
          3.6301000000000005,
          3.6608,
          3.6811,
          3.6983000000000006,
          3.7096,
          3.7179,
          3.7211,
          3.4297000000000004,
          3.4655000000000005,
          3.5257000000000005,
          3.5620000000000003,
          3.5774,
          3.5855000000000006,
          3.5904
         ]
        },
        {
         "mode": "lines",
         "name": "band 19",
         "type": "scatter",
         "x": [
          0,
          0.04972189029404676,
          0.0994437974935389,
          0.14916568778758565,
          0.19888759498707784,
          0.24860948528112461,
          0.29833139248061674,
          0.34805328277466346,
          0.3977751899741556,
          0.4474970802682024,
          0.49721898746769455,
          0.5469408777617413,
          0.5966627849612334,
          0.6463846752552801,
          0.6961065824547723,
          0.745828472748819,
          0.7955503799483112,
          0.845272270242358,
          0.845272270242358,
          0.8933499526196786,
          0.9414276060635433,
          0.9895052884408639,
          1.0375829708181845,
          1.085660624262049,
          1.1337383066393696,
          1.1818159600832343,
          1.2298936424605549,
          1.2779713248378755,
          1.32604897828174,
          1.3741266606590605,
          1.3741266606590605,
          1.4224328884060216,
          1.470739116152983,
          1.5190453438999443,
          1.5673516005803616,
          1.6156578283273229,
          1.663964056074284,
          1.7122702838212454,
          1.7605765115682066,
          1.8088827393151679,
          1.8571889959955852,
          1.9054952237425464,
          1.9538014514895077,
          2.002107679236469,
          2.0504139069834304,
          2.098720134730392,
          2.147026391410809,
          2.19533261915777,
          2.2436388469047315,
          2.2919450746516925,
          2.2919450746516925,
          2.340644037446043,
          2.3893430002403933,
          2.4380419630347436,
          2.486740925829094,
          2.5354398886234444,
          2.5841388514177948,
          2.632837814212145,
          2.6815367770064955,
          2.6815367770064955,
          2.7309249713438746,
          2.7803131367477976,
          2.8297013310851766,
          2.8790894964890996,
          2.9284776908264787,
          2.9778658562304017,
          3.0272540505677807,
          3.0766422159717037,
          3.126030410309083,
          3.175418575713006,
          3.224806770050385,
          3.274194935454308,
          3.323583129791687,
          3.37297129519561,
          3.422359489532989,
          3.471747654936912,
          3.521135849274291,
          3.570524014678214,
          3.619912209015593,
          3.669300374419516,
          3.669300374419516,
          3.7151912869127433,
          3.7610821994059704,
          3.8069731118991976,
          3.852864024392425,
          3.898754936885652,
          3.9446458493788787,
          3.990536761872106,
          4.036427674365333,
          4.08231858685856,
          4.128209499351787,
          4.128209499351787,
          4.173542109879815,
          4.218874712967447,
          4.264207323495476,
          4.264207323495476,
          4.313885699103602,
          4.3635640914164675,
          4.4132424670245936,
          4.46292085933746,
          4.512599234945586,
          4.562277627258452,
          4.611956002866578,
          4.661634378474704,
          4.71131275408283,
          4.760991146395696,
          4.810669522003822,
          4.860347914316689,
          4.910026289924815,
          4.95970468223768,
          5.009383057845806,
          5.059061433453932,
          5.059061433453932,
          5.102869505285879,
          5.1466775848171515,
          5.1904856566490984,
          5.234293728481045,
          5.278101808012318,
          5.321909879844265
         ],
         "y": [
          3.7344,
          3.7304000000000004,
          3.7190000000000003,
          3.7036,
          3.6874000000000002,
          3.686,
          3.6818,
          3.6731,
          3.6602000000000006,
          3.644,
          3.6279000000000003,
          3.6146000000000003,
          3.6096000000000004,
          3.6069000000000004,
          3.6052,
          3.6043000000000003,
          3.6038000000000006,
          3.6037,
          3.6037,
          3.6022,
          3.5977000000000006,
          3.5901000000000005,
          3.5791000000000004,
          3.5651,
          3.5488,
          3.5319000000000003,
          3.526,
          3.5192000000000005,
          3.519,
          3.5366,
          3.5366,
          3.5600000000000005,
          3.5840000000000005,
          3.6052,
          3.6218000000000004,
          3.6338,
          3.6422,
          3.6486,
          3.6547,
          3.662,
          3.6722,
          3.6864,
          3.6996,
          3.7025000000000006,
          3.7052000000000005,
          3.7079000000000004,
          3.7111,
          3.7151000000000005,
          3.7192,
          3.7211,
          3.7211,
          3.7213000000000003,
          3.7218999999999998,
          3.723,
          3.7246000000000006,
          3.7269000000000005,
          3.7298,
          3.7329,
          3.7344,
          3.7344,
          3.7306,
          3.7206,
          3.7136000000000005,
          3.7197000000000005,
          3.7175000000000002,
          3.7162000000000006,
          3.716,
          3.7110000000000003,
          3.6966,
          3.6831000000000005,
          3.6715,
          3.6611000000000002,
          3.6502,
          3.6370000000000005,
          3.6197,
          3.5979,
          3.5724,
          3.5448000000000004,
          3.5187,
          3.5272000000000006,
          3.5272000000000006,
          3.5403000000000002,
          3.5511,
          3.5603,
          3.5686999999999998,
          3.5763,
          3.5832000000000006,
          3.5921000000000003,
          3.6014,
          3.607,
          3.6089,
          3.6089,
          3.6086,
          3.6079,
          3.6069000000000004,
          3.6069000000000004,
          3.6059,
          3.6050000000000004,
          3.6044,
          3.6047000000000002,
          3.6061000000000005,
          3.6092000000000004,
          3.6145000000000005,
          3.6223,
          3.633,
          3.6467,
          3.6630000000000003,
          3.683,
          3.6984000000000004,
          3.7116,
          3.7189000000000005,
          3.7211,
          3.6037,
          3.6038000000000006,
          3.6041,
          3.6046000000000005,
          3.6053000000000006,
          3.6061000000000005,
          3.6069000000000004
         ]
        },
        {
         "mode": "lines",
         "name": "band 20",
         "type": "scatter",
         "x": [
          0,
          0.04972189029404676,
          0.0994437974935389,
          0.14916568778758565,
          0.19888759498707784,
          0.24860948528112461,
          0.29833139248061674,
          0.34805328277466346,
          0.3977751899741556,
          0.4474970802682024,
          0.49721898746769455,
          0.5469408777617413,
          0.5966627849612334,
          0.6463846752552801,
          0.6961065824547723,
          0.745828472748819,
          0.7955503799483112,
          0.845272270242358,
          0.845272270242358,
          0.8933499526196786,
          0.9414276060635433,
          0.9895052884408639,
          1.0375829708181845,
          1.085660624262049,
          1.1337383066393696,
          1.1818159600832343,
          1.2298936424605549,
          1.2779713248378755,
          1.32604897828174,
          1.3741266606590605,
          1.3741266606590605,
          1.4224328884060216,
          1.470739116152983,
          1.5190453438999443,
          1.5673516005803616,
          1.6156578283273229,
          1.663964056074284,
          1.7122702838212454,
          1.7605765115682066,
          1.8088827393151679,
          1.8571889959955852,
          1.9054952237425464,
          1.9538014514895077,
          2.002107679236469,
          2.0504139069834304,
          2.098720134730392,
          2.147026391410809,
          2.19533261915777,
          2.2436388469047315,
          2.2919450746516925,
          2.2919450746516925,
          2.340644037446043,
          2.3893430002403933,
          2.4380419630347436,
          2.486740925829094,
          2.5354398886234444,
          2.5841388514177948,
          2.632837814212145,
          2.6815367770064955,
          2.6815367770064955,
          2.7309249713438746,
          2.7803131367477976,
          2.8297013310851766,
          2.8790894964890996,
          2.9284776908264787,
          2.9778658562304017,
          3.0272540505677807,
          3.0766422159717037,
          3.126030410309083,
          3.175418575713006,
          3.224806770050385,
          3.274194935454308,
          3.323583129791687,
          3.37297129519561,
          3.422359489532989,
          3.471747654936912,
          3.521135849274291,
          3.570524014678214,
          3.619912209015593,
          3.669300374419516,
          3.669300374419516,
          3.7151912869127433,
          3.7610821994059704,
          3.8069731118991976,
          3.852864024392425,
          3.898754936885652,
          3.9446458493788787,
          3.990536761872106,
          4.036427674365333,
          4.08231858685856,
          4.128209499351787,
          4.128209499351787,
          4.173542109879815,
          4.218874712967447,
          4.264207323495476,
          4.264207323495476,
          4.313885699103602,
          4.3635640914164675,
          4.4132424670245936,
          4.46292085933746,
          4.512599234945586,
          4.562277627258452,
          4.611956002866578,
          4.661634378474704,
          4.71131275408283,
          4.760991146395696,
          4.810669522003822,
          4.860347914316689,
          4.910026289924815,
          4.95970468223768,
          5.009383057845806,
          5.059061433453932,
          5.059061433453932,
          5.102869505285879,
          5.1466775848171515,
          5.1904856566490984,
          5.234293728481045,
          5.278101808012318,
          5.321909879844265
         ],
         "y": [
          3.7344,
          3.7315000000000005,
          3.7302,
          3.7426000000000004,
          3.7580999999999998,
          3.7572,
          3.7569,
          3.7571000000000003,
          3.7356,
          3.7119999999999997,
          3.6898999999999997,
          3.6545000000000005,
          3.6157000000000004,
          3.6076000000000006,
          3.606,
          3.6061000000000005,
          3.6067,
          3.6069000000000004,
          3.6069000000000004,
          3.6069000000000004,
          3.6071,
          3.6084000000000005,
          3.6124,
          3.6201,
          3.63,
          3.6396000000000006,
          3.6477000000000004,
          3.654,
          3.6593999999999998,
          3.6644000000000005,
          3.6644000000000005,
          3.6698000000000004,
          3.6754,
          3.6809000000000003,
          3.6856999999999998,
          3.6893000000000002,
          3.6915000000000004,
          3.6925,
          3.6928,
          3.6933,
          3.6946000000000003,
          3.6968000000000005,
          3.7057,
          3.7291,
          3.7519,
          3.7707000000000006,
          3.7897,
          3.8138000000000005,
          3.8333000000000004,
          3.8362,
          3.8362,
          3.8323,
          3.8198,
          3.7967000000000004,
          3.7603,
          3.7269000000000005,
          3.7298,
          3.7329,
          3.7344,
          3.7344,
          3.731,
          3.7263,
          3.7227000000000006,
          3.7276,
          3.7331000000000003,
          3.7305,
          3.7229,
          3.7172,
          3.7195,
          3.7214,
          3.7178000000000004,
          3.7041000000000004,
          3.6884000000000006,
          3.675,
          3.6647,
          3.6578,
          3.6542000000000003,
          3.6539,
          3.6568000000000005,
          3.6629000000000005,
          3.6629000000000005,
          3.6706000000000003,
          3.6792,
          3.6873000000000005,
          3.6935000000000002,
          3.6975,
          3.6994,
          3.7,
          3.7,
          3.6997999999999998,
          3.6997,
          3.6997,
          3.6980000000000004,
          3.6931000000000003,
          3.6858000000000004,
          3.6858000000000004,
          3.6833,
          3.6814,
          3.6804000000000006,
          3.6811,
          3.6844,
          3.6913,
          3.7022000000000004,
          3.7171000000000003,
          3.7359999999999998,
          3.7603999999999997,
          3.7729,
          3.7792000000000003,
          3.7916,
          3.8132,
          3.8332000000000006,
          3.8362,
          3.6069000000000004,
          3.6109,
          3.6253,
          3.649,
          3.6666,
          3.6776,
          3.6858000000000004
         ]
        },
        {
         "mode": "lines",
         "name": "band 21",
         "type": "scatter",
         "x": [
          0,
          0.04972189029404676,
          0.0994437974935389,
          0.14916568778758565,
          0.19888759498707784,
          0.24860948528112461,
          0.29833139248061674,
          0.34805328277466346,
          0.3977751899741556,
          0.4474970802682024,
          0.49721898746769455,
          0.5469408777617413,
          0.5966627849612334,
          0.6463846752552801,
          0.6961065824547723,
          0.745828472748819,
          0.7955503799483112,
          0.845272270242358,
          0.845272270242358,
          0.8933499526196786,
          0.9414276060635433,
          0.9895052884408639,
          1.0375829708181845,
          1.085660624262049,
          1.1337383066393696,
          1.1818159600832343,
          1.2298936424605549,
          1.2779713248378755,
          1.32604897828174,
          1.3741266606590605,
          1.3741266606590605,
          1.4224328884060216,
          1.470739116152983,
          1.5190453438999443,
          1.5673516005803616,
          1.6156578283273229,
          1.663964056074284,
          1.7122702838212454,
          1.7605765115682066,
          1.8088827393151679,
          1.8571889959955852,
          1.9054952237425464,
          1.9538014514895077,
          2.002107679236469,
          2.0504139069834304,
          2.098720134730392,
          2.147026391410809,
          2.19533261915777,
          2.2436388469047315,
          2.2919450746516925,
          2.2919450746516925,
          2.340644037446043,
          2.3893430002403933,
          2.4380419630347436,
          2.486740925829094,
          2.5354398886234444,
          2.5841388514177948,
          2.632837814212145,
          2.6815367770064955,
          2.6815367770064955,
          2.7309249713438746,
          2.7803131367477976,
          2.8297013310851766,
          2.8790894964890996,
          2.9284776908264787,
          2.9778658562304017,
          3.0272540505677807,
          3.0766422159717037,
          3.126030410309083,
          3.175418575713006,
          3.224806770050385,
          3.274194935454308,
          3.323583129791687,
          3.37297129519561,
          3.422359489532989,
          3.471747654936912,
          3.521135849274291,
          3.570524014678214,
          3.619912209015593,
          3.669300374419516,
          3.669300374419516,
          3.7151912869127433,
          3.7610821994059704,
          3.8069731118991976,
          3.852864024392425,
          3.898754936885652,
          3.9446458493788787,
          3.990536761872106,
          4.036427674365333,
          4.08231858685856,
          4.128209499351787,
          4.128209499351787,
          4.173542109879815,
          4.218874712967447,
          4.264207323495476,
          4.264207323495476,
          4.313885699103602,
          4.3635640914164675,
          4.4132424670245936,
          4.46292085933746,
          4.512599234945586,
          4.562277627258452,
          4.611956002866578,
          4.661634378474704,
          4.71131275408283,
          4.760991146395696,
          4.810669522003822,
          4.860347914316689,
          4.910026289924815,
          4.95970468223768,
          5.009383057845806,
          5.059061433453932,
          5.059061433453932,
          5.102869505285879,
          5.1466775848171515,
          5.1904856566490984,
          5.234293728481045,
          5.278101808012318,
          5.321909879844265
         ],
         "y": [
          3.7698,
          3.7671,
          3.7627000000000006,
          3.7597000000000005,
          3.7893,
          3.8035000000000005,
          3.7895000000000003,
          3.7635000000000005,
          3.7579000000000002,
          3.7591,
          3.7385,
          3.7072000000000003,
          3.694,
          3.6875,
          3.684,
          3.6823000000000006,
          3.6816000000000004,
          3.6814,
          3.6814,
          3.6826,
          3.6862000000000004,
          3.6924,
          3.7008,
          3.7105000000000006,
          3.7202,
          3.7287,
          3.7359,
          3.7423,
          3.7481,
          3.7538,
          3.7538,
          3.7538,
          3.7518000000000002,
          3.7511,
          3.7521000000000004,
          3.7547000000000006,
          3.7584999999999997,
          3.763,
          3.7679,
          3.7732,
          3.7789,
          3.7860000000000005,
          3.7962,
          3.8131000000000004,
          3.8233000000000006,
          3.8264000000000005,
          3.8282,
          3.83,
          3.8437,
          3.8634000000000004,
          3.8634000000000004,
          3.8599000000000006,
          3.8500000000000005,
          3.8354,
          3.8183,
          3.8009000000000004,
          3.7855,
          3.7742000000000004,
          3.7698,
          3.7698,
          3.7674000000000003,
          3.7655000000000003,
          3.7738000000000005,
          3.8108000000000004,
          3.8142000000000005,
          3.8142000000000005,
          3.8099,
          3.7959000000000005,
          3.7811000000000003,
          3.7605000000000004,
          3.7461,
          3.7443,
          3.7477,
          3.7517000000000005,
          3.7499000000000002,
          3.7469,
          3.7456000000000005,
          3.7458,
          3.7469,
          3.7486000000000006,
          3.7486000000000006,
          3.7505000000000006,
          3.7525000000000004,
          3.7549,
          3.7579000000000002,
          3.7616000000000005,
          3.766,
          3.7708000000000004,
          3.7751,
          3.7781000000000002,
          3.7792000000000003,
          3.7792000000000003,
          3.7789,
          3.7782,
          3.7733,
          3.7733,
          3.7761000000000005,
          3.776,
          3.7749000000000006,
          3.7735000000000003,
          3.7721,
          3.7707000000000006,
          3.7696000000000005,
          3.7689000000000004,
          3.7689000000000004,
          3.7699,
          3.7903000000000002,
          3.8148,
          3.8253000000000004,
          3.8294000000000006,
          3.843,
          3.8634000000000004,
          3.6814,
          3.6839000000000004,
          3.6928,
          3.7128000000000005,
          3.74,
          3.761,
          3.7733
         ]
        },
        {
         "mode": "lines",
         "name": "band 22",
         "type": "scatter",
         "x": [
          0,
          0.04972189029404676,
          0.0994437974935389,
          0.14916568778758565,
          0.19888759498707784,
          0.24860948528112461,
          0.29833139248061674,
          0.34805328277466346,
          0.3977751899741556,
          0.4474970802682024,
          0.49721898746769455,
          0.5469408777617413,
          0.5966627849612334,
          0.6463846752552801,
          0.6961065824547723,
          0.745828472748819,
          0.7955503799483112,
          0.845272270242358,
          0.845272270242358,
          0.8933499526196786,
          0.9414276060635433,
          0.9895052884408639,
          1.0375829708181845,
          1.085660624262049,
          1.1337383066393696,
          1.1818159600832343,
          1.2298936424605549,
          1.2779713248378755,
          1.32604897828174,
          1.3741266606590605,
          1.3741266606590605,
          1.4224328884060216,
          1.470739116152983,
          1.5190453438999443,
          1.5673516005803616,
          1.6156578283273229,
          1.663964056074284,
          1.7122702838212454,
          1.7605765115682066,
          1.8088827393151679,
          1.8571889959955852,
          1.9054952237425464,
          1.9538014514895077,
          2.002107679236469,
          2.0504139069834304,
          2.098720134730392,
          2.147026391410809,
          2.19533261915777,
          2.2436388469047315,
          2.2919450746516925,
          2.2919450746516925,
          2.340644037446043,
          2.3893430002403933,
          2.4380419630347436,
          2.486740925829094,
          2.5354398886234444,
          2.5841388514177948,
          2.632837814212145,
          2.6815367770064955,
          2.6815367770064955,
          2.7309249713438746,
          2.7803131367477976,
          2.8297013310851766,
          2.8790894964890996,
          2.9284776908264787,
          2.9778658562304017,
          3.0272540505677807,
          3.0766422159717037,
          3.126030410309083,
          3.175418575713006,
          3.224806770050385,
          3.274194935454308,
          3.323583129791687,
          3.37297129519561,
          3.422359489532989,
          3.471747654936912,
          3.521135849274291,
          3.570524014678214,
          3.619912209015593,
          3.669300374419516,
          3.669300374419516,
          3.7151912869127433,
          3.7610821994059704,
          3.8069731118991976,
          3.852864024392425,
          3.898754936885652,
          3.9446458493788787,
          3.990536761872106,
          4.036427674365333,
          4.08231858685856,
          4.128209499351787,
          4.128209499351787,
          4.173542109879815,
          4.218874712967447,
          4.264207323495476,
          4.264207323495476,
          4.313885699103602,
          4.3635640914164675,
          4.4132424670245936,
          4.46292085933746,
          4.512599234945586,
          4.562277627258452,
          4.611956002866578,
          4.661634378474704,
          4.71131275408283,
          4.760991146395696,
          4.810669522003822,
          4.860347914316689,
          4.910026289924815,
          4.95970468223768,
          5.009383057845806,
          5.059061433453932,
          5.059061433453932,
          5.102869505285879,
          5.1466775848171515,
          5.1904856566490984,
          5.234293728481045,
          5.278101808012318,
          5.321909879844265
         ],
         "y": [
          3.7698,
          3.7784000000000004,
          3.7934,
          3.806,
          3.8174,
          3.8411,
          3.8459000000000003,
          3.8449999999999998,
          3.8324,
          3.7862,
          3.7607,
          3.7625,
          3.7645,
          3.7664,
          3.768,
          3.7693000000000003,
          3.7702,
          3.7704000000000004,
          3.7704000000000004,
          3.7712000000000003,
          3.7731000000000003,
          3.7750000000000004,
          3.7761000000000005,
          3.7758000000000003,
          3.7741,
          3.7714,
          3.7681000000000004,
          3.7643000000000004,
          3.7605000000000004,
          3.7569,
          3.7569,
          3.7590000000000003,
          3.7635000000000005,
          3.7674000000000003,
          3.7705,
          3.7733,
          3.7762000000000002,
          3.7797,
          3.7842000000000002,
          3.7901,
          3.7972,
          3.8050000000000006,
          3.8124000000000002,
          3.8186999999999998,
          3.8422,
          3.8834999999999997,
          3.9082,
          3.8872,
          3.8709,
          3.8634000000000004,
          3.8634000000000004,
          3.8599000000000006,
          3.8500000000000005,
          3.8354,
          3.8183,
          3.8009000000000004,
          3.7855,
          3.7742000000000004,
          3.7698,
          3.7698,
          3.7781000000000002,
          3.7923,
          3.8037,
          3.8213,
          3.8524000000000003,
          3.8356000000000003,
          3.8138000000000005,
          3.7991,
          3.7839,
          3.7761000000000005,
          3.7702999999999998,
          3.7650000000000006,
          3.7596,
          3.7542999999999997,
          3.7554,
          3.7583,
          3.7602,
          3.7611,
          3.7611,
          3.7605000000000004,
          3.7605000000000004,
          3.7598000000000003,
          3.7596,
          3.7607,
          3.7635000000000005,
          3.7678000000000003,
          3.7725,
          3.7769000000000004,
          3.7801,
          3.7821,
          3.7828,
          3.7828,
          3.7819000000000003,
          3.779,
          3.7771,
          3.7771,
          3.7768000000000006,
          3.7782,
          3.7800000000000002,
          3.7821,
          3.7853000000000003,
          3.7903000000000002,
          3.7978000000000005,
          3.8078000000000003,
          3.8197,
          3.8321000000000005,
          3.8463000000000003,
          3.8683000000000005,
          3.8885000000000005,
          3.8848000000000003,
          3.8711,
          3.8634000000000004,
          3.7704000000000004,
          3.7707000000000006,
          3.7715000000000005,
          3.7727000000000004,
          3.7741,
          3.7757000000000005,
          3.7771
         ]
        },
        {
         "mode": "lines",
         "name": "band 23",
         "type": "scatter",
         "x": [
          0,
          0.04972189029404676,
          0.0994437974935389,
          0.14916568778758565,
          0.19888759498707784,
          0.24860948528112461,
          0.29833139248061674,
          0.34805328277466346,
          0.3977751899741556,
          0.4474970802682024,
          0.49721898746769455,
          0.5469408777617413,
          0.5966627849612334,
          0.6463846752552801,
          0.6961065824547723,
          0.745828472748819,
          0.7955503799483112,
          0.845272270242358,
          0.845272270242358,
          0.8933499526196786,
          0.9414276060635433,
          0.9895052884408639,
          1.0375829708181845,
          1.085660624262049,
          1.1337383066393696,
          1.1818159600832343,
          1.2298936424605549,
          1.2779713248378755,
          1.32604897828174,
          1.3741266606590605,
          1.3741266606590605,
          1.4224328884060216,
          1.470739116152983,
          1.5190453438999443,
          1.5673516005803616,
          1.6156578283273229,
          1.663964056074284,
          1.7122702838212454,
          1.7605765115682066,
          1.8088827393151679,
          1.8571889959955852,
          1.9054952237425464,
          1.9538014514895077,
          2.002107679236469,
          2.0504139069834304,
          2.098720134730392,
          2.147026391410809,
          2.19533261915777,
          2.2436388469047315,
          2.2919450746516925,
          2.2919450746516925,
          2.340644037446043,
          2.3893430002403933,
          2.4380419630347436,
          2.486740925829094,
          2.5354398886234444,
          2.5841388514177948,
          2.632837814212145,
          2.6815367770064955,
          2.6815367770064955,
          2.7309249713438746,
          2.7803131367477976,
          2.8297013310851766,
          2.8790894964890996,
          2.9284776908264787,
          2.9778658562304017,
          3.0272540505677807,
          3.0766422159717037,
          3.126030410309083,
          3.175418575713006,
          3.224806770050385,
          3.274194935454308,
          3.323583129791687,
          3.37297129519561,
          3.422359489532989,
          3.471747654936912,
          3.521135849274291,
          3.570524014678214,
          3.619912209015593,
          3.669300374419516,
          3.669300374419516,
          3.7151912869127433,
          3.7610821994059704,
          3.8069731118991976,
          3.852864024392425,
          3.898754936885652,
          3.9446458493788787,
          3.990536761872106,
          4.036427674365333,
          4.08231858685856,
          4.128209499351787,
          4.128209499351787,
          4.173542109879815,
          4.218874712967447,
          4.264207323495476,
          4.264207323495476,
          4.313885699103602,
          4.3635640914164675,
          4.4132424670245936,
          4.46292085933746,
          4.512599234945586,
          4.562277627258452,
          4.611956002866578,
          4.661634378474704,
          4.71131275408283,
          4.760991146395696,
          4.810669522003822,
          4.860347914316689,
          4.910026289924815,
          4.95970468223768,
          5.009383057845806,
          5.059061433453932,
          5.059061433453932,
          5.102869505285879,
          5.1466775848171515,
          5.1904856566490984,
          5.234293728481045,
          5.278101808012318,
          5.321909879844265
         ],
         "y": [
          3.9241,
          3.933,
          3.9521000000000006,
          3.9694000000000003,
          3.9805,
          3.9779999999999998,
          3.9334,
          3.8879,
          3.8529,
          3.8499,
          3.8507,
          3.8520000000000003,
          3.8534000000000006,
          3.8548,
          3.8561000000000005,
          3.8571,
          3.8578,
          3.8580000000000005,
          3.8580000000000005,
          3.8584000000000005,
          3.8592000000000004,
          3.8602,
          3.8606,
          3.8597,
          3.8571999999999997,
          3.8538000000000006,
          3.8503,
          3.8479,
          3.8468,
          3.8472,
          3.8472,
          3.849,
          3.8519000000000005,
          3.8557000000000006,
          3.8605,
          3.8663,
          3.8731999999999998,
          3.8817000000000004,
          3.8925,
          3.9063,
          3.9238,
          3.9439,
          3.9607,
          3.9648000000000003,
          3.9530000000000003,
          3.9316000000000004,
          3.9276999999999997,
          3.9545000000000003,
          3.9414,
          3.9241,
          3.9241,
          3.9241,
          3.9241,
          3.9241,
          3.9241,
          3.9241,
          3.9241,
          3.9241,
          3.9241,
          3.9241,
          3.933,
          3.9461000000000004,
          3.9348,
          3.9240000000000004,
          3.9821999999999997,
          3.942,
          3.9066,
          3.8808,
          3.8662,
          3.8596000000000004,
          3.8569000000000004,
          3.8559,
          3.8554000000000004,
          3.8548999999999998,
          3.8539000000000003,
          3.8524000000000003,
          3.8505000000000003,
          3.8485000000000005,
          3.8471,
          3.8468999999999998,
          3.8468999999999998,
          3.8483,
          3.8520000000000003,
          3.8587,
          3.8689999999999998,
          3.8833,
          3.9013,
          3.9209000000000005,
          3.9392000000000005,
          3.9522000000000004,
          3.9569,
          3.9569,
          3.9542,
          3.9461000000000004,
          3.9331000000000005,
          3.9331000000000005,
          3.9355,
          3.9380000000000006,
          3.9407000000000005,
          3.9441000000000006,
          3.9487000000000005,
          3.9554,
          3.9653,
          3.9793000000000003,
          3.9961,
          3.9957000000000003,
          3.9912,
          3.9859,
          3.9782,
          3.9648000000000003,
          3.9423000000000004,
          3.9241,
          3.8580000000000005,
          3.8600000000000003,
          3.8662,
          3.8778000000000006,
          3.8950000000000005,
          3.9149000000000003,
          3.9331000000000005
         ]
        },
        {
         "mode": "lines",
         "name": "band 24",
         "type": "scatter",
         "x": [
          0,
          0.04972189029404676,
          0.0994437974935389,
          0.14916568778758565,
          0.19888759498707784,
          0.24860948528112461,
          0.29833139248061674,
          0.34805328277466346,
          0.3977751899741556,
          0.4474970802682024,
          0.49721898746769455,
          0.5469408777617413,
          0.5966627849612334,
          0.6463846752552801,
          0.6961065824547723,
          0.745828472748819,
          0.7955503799483112,
          0.845272270242358,
          0.845272270242358,
          0.8933499526196786,
          0.9414276060635433,
          0.9895052884408639,
          1.0375829708181845,
          1.085660624262049,
          1.1337383066393696,
          1.1818159600832343,
          1.2298936424605549,
          1.2779713248378755,
          1.32604897828174,
          1.3741266606590605,
          1.3741266606590605,
          1.4224328884060216,
          1.470739116152983,
          1.5190453438999443,
          1.5673516005803616,
          1.6156578283273229,
          1.663964056074284,
          1.7122702838212454,
          1.7605765115682066,
          1.8088827393151679,
          1.8571889959955852,
          1.9054952237425464,
          1.9538014514895077,
          2.002107679236469,
          2.0504139069834304,
          2.098720134730392,
          2.147026391410809,
          2.19533261915777,
          2.2436388469047315,
          2.2919450746516925,
          2.2919450746516925,
          2.340644037446043,
          2.3893430002403933,
          2.4380419630347436,
          2.486740925829094,
          2.5354398886234444,
          2.5841388514177948,
          2.632837814212145,
          2.6815367770064955,
          2.6815367770064955,
          2.7309249713438746,
          2.7803131367477976,
          2.8297013310851766,
          2.8790894964890996,
          2.9284776908264787,
          2.9778658562304017,
          3.0272540505677807,
          3.0766422159717037,
          3.126030410309083,
          3.175418575713006,
          3.224806770050385,
          3.274194935454308,
          3.323583129791687,
          3.37297129519561,
          3.422359489532989,
          3.471747654936912,
          3.521135849274291,
          3.570524014678214,
          3.619912209015593,
          3.669300374419516,
          3.669300374419516,
          3.7151912869127433,
          3.7610821994059704,
          3.8069731118991976,
          3.852864024392425,
          3.898754936885652,
          3.9446458493788787,
          3.990536761872106,
          4.036427674365333,
          4.08231858685856,
          4.128209499351787,
          4.128209499351787,
          4.173542109879815,
          4.218874712967447,
          4.264207323495476,
          4.264207323495476,
          4.313885699103602,
          4.3635640914164675,
          4.4132424670245936,
          4.46292085933746,
          4.512599234945586,
          4.562277627258452,
          4.611956002866578,
          4.661634378474704,
          4.71131275408283,
          4.760991146395696,
          4.810669522003822,
          4.860347914316689,
          4.910026289924815,
          4.95970468223768,
          5.009383057845806,
          5.059061433453932,
          5.059061433453932,
          5.102869505285879,
          5.1466775848171515,
          5.1904856566490984,
          5.234293728481045,
          5.278101808012318,
          5.321909879844265
         ],
         "y": [
          4.045,
          4.0204,
          3.9905,
          3.9736000000000002,
          3.9815000000000005,
          3.9866,
          3.99,
          3.9923,
          3.9943,
          3.9966,
          3.9991000000000003,
          4.002,
          4.0051000000000005,
          4.0082,
          4.0109,
          4.0131000000000006,
          4.0145,
          4.015000000000001,
          4.015000000000001,
          4.0232,
          4.0486,
          4.091600000000001,
          4.1508,
          4.2202,
          4.289000000000001,
          4.3431,
          4.3702000000000005,
          4.3678,
          4.345,
          4.313000000000001,
          4.313000000000001,
          4.2793,
          4.2482,
          4.2214,
          4.1994,
          4.1821,
          4.1687,
          4.1583000000000006,
          4.149900000000001,
          4.1421,
          4.1338,
          4.1240000000000006,
          4.112,
          4.0974,
          4.08,
          4.0601,
          4.0401,
          4.035,
          4.0668,
          4.097300000000001,
          4.097300000000001,
          4.0989,
          4.103400000000001,
          4.1104,
          4.1169,
          4.091200000000001,
          4.0681,
          4.051200000000001,
          4.045,
          4.045,
          4.0206,
          4.000900000000001,
          4.0256,
          4.0280000000000005,
          3.9836,
          4.0814,
          4.1568000000000005,
          4.2149,
          4.2624,
          4.301,
          4.3312,
          4.3528,
          4.3661,
          4.3724,
          4.3739,
          4.3735,
          4.3727,
          4.3696,
          4.3575,
          4.3263,
          4.3263,
          4.2754,
          4.2119,
          4.1503000000000005,
          4.1013,
          4.0677,
          4.0479,
          4.0387,
          4.0362,
          4.0367,
          4.0372,
          4.0372,
          4.0366,
          4.035,
          4.0324,
          4.0324,
          4.0325,
          4.0309,
          4.0280000000000005,
          4.024,
          4.0193,
          4.0143,
          4.0093000000000005,
          4.0045,
          4,
          4.0087,
          4.0073,
          3.9939,
          3.9914000000000005,
          4.0201,
          4.0648,
          4.097300000000001,
          4.015000000000001,
          4.0157,
          4.0176,
          4.020700000000001,
          4.0245,
          4.0286,
          4.0324
         ]
        },
        {
         "mode": "lines",
         "name": "band 25",
         "type": "scatter",
         "x": [
          0,
          0.04972189029404676,
          0.0994437974935389,
          0.14916568778758565,
          0.19888759498707784,
          0.24860948528112461,
          0.29833139248061674,
          0.34805328277466346,
          0.3977751899741556,
          0.4474970802682024,
          0.49721898746769455,
          0.5469408777617413,
          0.5966627849612334,
          0.6463846752552801,
          0.6961065824547723,
          0.745828472748819,
          0.7955503799483112,
          0.845272270242358,
          0.845272270242358,
          0.8933499526196786,
          0.9414276060635433,
          0.9895052884408639,
          1.0375829708181845,
          1.085660624262049,
          1.1337383066393696,
          1.1818159600832343,
          1.2298936424605549,
          1.2779713248378755,
          1.32604897828174,
          1.3741266606590605,
          1.3741266606590605,
          1.4224328884060216,
          1.470739116152983,
          1.5190453438999443,
          1.5673516005803616,
          1.6156578283273229,
          1.663964056074284,
          1.7122702838212454,
          1.7605765115682066,
          1.8088827393151679,
          1.8571889959955852,
          1.9054952237425464,
          1.9538014514895077,
          2.002107679236469,
          2.0504139069834304,
          2.098720134730392,
          2.147026391410809,
          2.19533261915777,
          2.2436388469047315,
          2.2919450746516925,
          2.2919450746516925,
          2.340644037446043,
          2.3893430002403933,
          2.4380419630347436,
          2.486740925829094,
          2.5354398886234444,
          2.5841388514177948,
          2.632837814212145,
          2.6815367770064955,
          2.6815367770064955,
          2.7309249713438746,
          2.7803131367477976,
          2.8297013310851766,
          2.8790894964890996,
          2.9284776908264787,
          2.9778658562304017,
          3.0272540505677807,
          3.0766422159717037,
          3.126030410309083,
          3.175418575713006,
          3.224806770050385,
          3.274194935454308,
          3.323583129791687,
          3.37297129519561,
          3.422359489532989,
          3.471747654936912,
          3.521135849274291,
          3.570524014678214,
          3.619912209015593,
          3.669300374419516,
          3.669300374419516,
          3.7151912869127433,
          3.7610821994059704,
          3.8069731118991976,
          3.852864024392425,
          3.898754936885652,
          3.9446458493788787,
          3.990536761872106,
          4.036427674365333,
          4.08231858685856,
          4.128209499351787,
          4.128209499351787,
          4.173542109879815,
          4.218874712967447,
          4.264207323495476,
          4.264207323495476,
          4.313885699103602,
          4.3635640914164675,
          4.4132424670245936,
          4.46292085933746,
          4.512599234945586,
          4.562277627258452,
          4.611956002866578,
          4.661634378474704,
          4.71131275408283,
          4.760991146395696,
          4.810669522003822,
          4.860347914316689,
          4.910026289924815,
          4.95970468223768,
          5.009383057845806,
          5.059061433453932,
          5.059061433453932,
          5.102869505285879,
          5.1466775848171515,
          5.1904856566490984,
          5.234293728481045,
          5.278101808012318,
          5.321909879844265
         ],
         "y": [
          4.143800000000001,
          4.1351,
          4.1106,
          4.0743,
          4.0336,
          4.0708,
          4.21,
          4.3653,
          4.5007,
          4.5864,
          4.6129,
          4.5992,
          4.5687,
          4.5358,
          4.5074000000000005,
          4.486400000000001,
          4.4738,
          4.4696,
          4.4696,
          4.4797,
          4.5114,
          4.569,
          4.6577,
          4.7812,
          4.9363,
          4.9082,
          4.8968,
          4.9198,
          4.9376,
          4.8643,
          4.8643,
          4.785,
          4.7047,
          4.6269,
          4.554,
          4.4874,
          4.4273,
          4.373600000000001,
          4.3258,
          4.2837000000000005,
          4.248,
          4.2213,
          4.2091,
          4.2151000000000005,
          4.2285,
          4.2247,
          4.1935,
          4.1491,
          4.111800000000001,
          4.097300000000001,
          4.097300000000001,
          4.0989,
          4.103400000000001,
          4.1104,
          4.119,
          4.1283,
          4.1366000000000005,
          4.1426,
          4.143800000000001,
          4.143800000000001,
          4.1346,
          4.1088000000000005,
          4.071400000000001,
          4.0762,
          4.1483,
          4.2611,
          4.4077,
          4.4529000000000005,
          4.4974,
          4.5412,
          4.5843,
          4.625900000000001,
          4.6653,
          4.7024,
          4.7383,
          4.7753000000000005,
          4.8165000000000004,
          4.8642,
          4.9199,
          4.9270000000000005,
          4.9270000000000005,
          4.8966,
          4.8994,
          4.9263,
          4.9649,
          5.0032000000000005,
          5.0282,
          5.0285,
          5.0054,
          4.9783,
          4.9669,
          4.9669,
          4.9622,
          4.944100000000001,
          4.9038,
          4.9038,
          4.9355,
          4.9644,
          4.986,
          4.9978,
          4.9976,
          4.9272,
          4.7948,
          4.668,
          4.5625,
          4.4918000000000005,
          4.4541,
          4.3405000000000005,
          4.2414000000000005,
          4.163,
          4.1136,
          4.097300000000001,
          4.4696,
          4.486,
          4.5351,
          4.6148,
          4.7161,
          4.8204,
          4.9038
         ]
        },
        {
         "mode": "lines",
         "name": "band 26",
         "type": "scatter",
         "x": [
          0,
          0.04972189029404676,
          0.0994437974935389,
          0.14916568778758565,
          0.19888759498707784,
          0.24860948528112461,
          0.29833139248061674,
          0.34805328277466346,
          0.3977751899741556,
          0.4474970802682024,
          0.49721898746769455,
          0.5469408777617413,
          0.5966627849612334,
          0.6463846752552801,
          0.6961065824547723,
          0.745828472748819,
          0.7955503799483112,
          0.845272270242358,
          0.845272270242358,
          0.8933499526196786,
          0.9414276060635433,
          0.9895052884408639,
          1.0375829708181845,
          1.085660624262049,
          1.1337383066393696,
          1.1818159600832343,
          1.2298936424605549,
          1.2779713248378755,
          1.32604897828174,
          1.3741266606590605,
          1.3741266606590605,
          1.4224328884060216,
          1.470739116152983,
          1.5190453438999443,
          1.5673516005803616,
          1.6156578283273229,
          1.663964056074284,
          1.7122702838212454,
          1.7605765115682066,
          1.8088827393151679,
          1.8571889959955852,
          1.9054952237425464,
          1.9538014514895077,
          2.002107679236469,
          2.0504139069834304,
          2.098720134730392,
          2.147026391410809,
          2.19533261915777,
          2.2436388469047315,
          2.2919450746516925,
          2.2919450746516925,
          2.340644037446043,
          2.3893430002403933,
          2.4380419630347436,
          2.486740925829094,
          2.5354398886234444,
          2.5841388514177948,
          2.632837814212145,
          2.6815367770064955,
          2.6815367770064955,
          2.7309249713438746,
          2.7803131367477976,
          2.8297013310851766,
          2.8790894964890996,
          2.9284776908264787,
          2.9778658562304017,
          3.0272540505677807,
          3.0766422159717037,
          3.126030410309083,
          3.175418575713006,
          3.224806770050385,
          3.274194935454308,
          3.323583129791687,
          3.37297129519561,
          3.422359489532989,
          3.471747654936912,
          3.521135849274291,
          3.570524014678214,
          3.619912209015593,
          3.669300374419516,
          3.669300374419516,
          3.7151912869127433,
          3.7610821994059704,
          3.8069731118991976,
          3.852864024392425,
          3.898754936885652,
          3.9446458493788787,
          3.990536761872106,
          4.036427674365333,
          4.08231858685856,
          4.128209499351787,
          4.128209499351787,
          4.173542109879815,
          4.218874712967447,
          4.264207323495476,
          4.264207323495476,
          4.313885699103602,
          4.3635640914164675,
          4.4132424670245936,
          4.46292085933746,
          4.512599234945586,
          4.562277627258452,
          4.611956002866578,
          4.661634378474704,
          4.71131275408283,
          4.760991146395696,
          4.810669522003822,
          4.860347914316689,
          4.910026289924815,
          4.95970468223768,
          5.009383057845806,
          5.059061433453932,
          5.059061433453932,
          5.102869505285879,
          5.1466775848171515,
          5.1904856566490984,
          5.234293728481045,
          5.278101808012318,
          5.321909879844265
         ],
         "y": [
          4.1447,
          4.1554,
          4.190300000000001,
          4.2531,
          4.3424000000000005,
          4.4523,
          4.5759,
          4.7068,
          4.8396,
          4.9695,
          5.0829,
          5.1124,
          5.1344,
          5.1583000000000006,
          5.1894,
          5.2251,
          5.2556,
          5.2678,
          5.2678,
          5.2541,
          5.2152,
          5.1565,
          5.0863000000000005,
          5.0142,
          4.9509,
          5.0702,
          5.0505,
          5.0008,
          4.9714,
          5.0445,
          5.0445,
          5.1349,
          5.237,
          5.3415,
          5.4331,
          5.4918,
          5.501799999999999,
          5.4627,
          5.3901,
          5.2235000000000005,
          5.0562000000000005,
          4.9064000000000005,
          4.7782,
          4.6746,
          4.5998,
          4.5575,
          4.4589,
          4.3363000000000005,
          4.2382,
          4.1883,
          4.1883,
          4.182300000000001,
          4.1658,
          4.1428,
          4.119,
          4.1283,
          4.1366000000000005,
          4.1426,
          4.1447,
          4.1447,
          4.1547,
          4.182300000000001,
          4.2217,
          4.2671,
          4.3144,
          4.3615,
          4.4204,
          4.6022,
          4.787100000000001,
          4.9593,
          5.0932,
          5.0879,
          5.1033,
          5.1416,
          5.2041,
          5.1886,
          5.1435,
          5.0739,
          4.9934,
          4.9836,
          4.9836,
          5.0492,
          5.1192,
          5.1913,
          5.2626,
          5.330299999999999,
          5.391400000000001,
          5.4293,
          5.395300000000001,
          5.3855,
          5.384,
          5.384,
          5.3712,
          5.338100000000001,
          5.2996,
          5.2996,
          5.2994,
          5.2805,
          5.236400000000001,
          5.1627,
          5.0607,
          4.9972,
          4.9635,
          4.837400000000001,
          4.7071000000000005,
          4.5778,
          4.4628000000000005,
          4.4594000000000005,
          4.4295,
          4.337,
          4.2403,
          4.1883,
          5.2678,
          5.2663,
          5.2623,
          5.2583,
          5.2584,
          5.2700000000000005,
          5.2996
         ]
        },
        {
         "mode": "lines",
         "name": "band 27",
         "type": "scatter",
         "x": [
          0,
          0.04972189029404676,
          0.0994437974935389,
          0.14916568778758565,
          0.19888759498707784,
          0.24860948528112461,
          0.29833139248061674,
          0.34805328277466346,
          0.3977751899741556,
          0.4474970802682024,
          0.49721898746769455,
          0.5469408777617413,
          0.5966627849612334,
          0.6463846752552801,
          0.6961065824547723,
          0.745828472748819,
          0.7955503799483112,
          0.845272270242358,
          0.845272270242358,
          0.8933499526196786,
          0.9414276060635433,
          0.9895052884408639,
          1.0375829708181845,
          1.085660624262049,
          1.1337383066393696,
          1.1818159600832343,
          1.2298936424605549,
          1.2779713248378755,
          1.32604897828174,
          1.3741266606590605,
          1.3741266606590605,
          1.4224328884060216,
          1.470739116152983,
          1.5190453438999443,
          1.5673516005803616,
          1.6156578283273229,
          1.663964056074284,
          1.7122702838212454,
          1.7605765115682066,
          1.8088827393151679,
          1.8571889959955852,
          1.9054952237425464,
          1.9538014514895077,
          2.002107679236469,
          2.0504139069834304,
          2.098720134730392,
          2.147026391410809,
          2.19533261915777,
          2.2436388469047315,
          2.2919450746516925,
          2.2919450746516925,
          2.340644037446043,
          2.3893430002403933,
          2.4380419630347436,
          2.486740925829094,
          2.5354398886234444,
          2.5841388514177948,
          2.632837814212145,
          2.6815367770064955,
          2.6815367770064955,
          2.7309249713438746,
          2.7803131367477976,
          2.8297013310851766,
          2.8790894964890996,
          2.9284776908264787,
          2.9778658562304017,
          3.0272540505677807,
          3.0766422159717037,
          3.126030410309083,
          3.175418575713006,
          3.224806770050385,
          3.274194935454308,
          3.323583129791687,
          3.37297129519561,
          3.422359489532989,
          3.471747654936912,
          3.521135849274291,
          3.570524014678214,
          3.619912209015593,
          3.669300374419516,
          3.669300374419516,
          3.7151912869127433,
          3.7610821994059704,
          3.8069731118991976,
          3.852864024392425,
          3.898754936885652,
          3.9446458493788787,
          3.990536761872106,
          4.036427674365333,
          4.08231858685856,
          4.128209499351787,
          4.128209499351787,
          4.173542109879815,
          4.218874712967447,
          4.264207323495476,
          4.264207323495476,
          4.313885699103602,
          4.3635640914164675,
          4.4132424670245936,
          4.46292085933746,
          4.512599234945586,
          4.562277627258452,
          4.611956002866578,
          4.661634378474704,
          4.71131275408283,
          4.760991146395696,
          4.810669522003822,
          4.860347914316689,
          4.910026289924815,
          4.95970468223768,
          5.009383057845806,
          5.059061433453932,
          5.059061433453932,
          5.102869505285879,
          5.1466775848171515,
          5.1904856566490984,
          5.234293728481045,
          5.278101808012318,
          5.321909879844265
         ],
         "y": [
          4.1447,
          4.1962,
          4.3015,
          4.432,
          4.5737000000000005,
          4.7131,
          4.8364,
          4.9316,
          4.9963,
          5.0433,
          5.0936,
          5.2098,
          5.3172,
          5.414300000000001,
          5.498200000000001,
          5.5646,
          5.6076999999999995,
          5.6227,
          5.6227,
          5.579000000000001,
          5.4818999999999996,
          5.3758,
          5.2823,
          5.2094000000000005,
          5.1583000000000006,
          5.1683,
          5.3505,
          5.558199999999999,
          5.754200000000001,
          5.915699999999999,
          5.915699999999999,
          6.0235,
          6.0693,
          6.056800000000001,
          5.9932,
          5.8862000000000005,
          5.7446,
          5.578799999999999,
          5.4011,
          5.301400000000001,
          5.2067000000000005,
          5.1074,
          4.9988,
          4.875900000000001,
          4.7395000000000005,
          4.5968,
          4.5406,
          4.5336,
          4.5293,
          4.5276000000000005,
          4.5276000000000005,
          4.5145,
          4.4726,
          4.4023,
          4.3171,
          4.2388,
          4.1832,
          4.1530000000000005,
          4.1447,
          4.1447,
          4.1974,
          4.3071,
          4.4468000000000005,
          4.6025,
          4.7604,
          4.9097,
          5.045100000000001,
          5.1661,
          5.1547,
          5.1165,
          5.0966000000000005,
          5.1763,
          5.2071000000000005,
          5.2146,
          5.2095,
          5.2905999999999995,
          5.4002,
          5.5311,
          5.681000000000001,
          5.8459,
          5.8459,
          6.0069,
          6.073600000000001,
          5.9131,
          5.757,
          5.6164000000000005,
          5.5032,
          5.4437,
          5.4847,
          5.5114,
          5.5207999999999995,
          5.5207999999999995,
          5.521599999999999,
          5.524000000000001,
          5.5274,
          5.5274,
          5.484,
          5.427,
          5.3584,
          5.2785,
          5.1863,
          5.0809,
          4.9777000000000005,
          4.9475,
          4.9008,
          4.8329,
          4.7428,
          4.6384,
          4.5572,
          4.5349,
          4.5294,
          4.5276000000000005,
          5.6227,
          5.619,
          5.6082,
          5.591200000000001,
          5.5701,
          5.547700000000001,
          5.5274
         ]
        },
        {
         "mode": "lines",
         "name": "band 28",
         "type": "scatter",
         "x": [
          0,
          0.04972189029404676,
          0.0994437974935389,
          0.14916568778758565,
          0.19888759498707784,
          0.24860948528112461,
          0.29833139248061674,
          0.34805328277466346,
          0.3977751899741556,
          0.4474970802682024,
          0.49721898746769455,
          0.5469408777617413,
          0.5966627849612334,
          0.6463846752552801,
          0.6961065824547723,
          0.745828472748819,
          0.7955503799483112,
          0.845272270242358,
          0.845272270242358,
          0.8933499526196786,
          0.9414276060635433,
          0.9895052884408639,
          1.0375829708181845,
          1.085660624262049,
          1.1337383066393696,
          1.1818159600832343,
          1.2298936424605549,
          1.2779713248378755,
          1.32604897828174,
          1.3741266606590605,
          1.3741266606590605,
          1.4224328884060216,
          1.470739116152983,
          1.5190453438999443,
          1.5673516005803616,
          1.6156578283273229,
          1.663964056074284,
          1.7122702838212454,
          1.7605765115682066,
          1.8088827393151679,
          1.8571889959955852,
          1.9054952237425464,
          1.9538014514895077,
          2.002107679236469,
          2.0504139069834304,
          2.098720134730392,
          2.147026391410809,
          2.19533261915777,
          2.2436388469047315,
          2.2919450746516925,
          2.2919450746516925,
          2.340644037446043,
          2.3893430002403933,
          2.4380419630347436,
          2.486740925829094,
          2.5354398886234444,
          2.5841388514177948,
          2.632837814212145,
          2.6815367770064955,
          2.6815367770064955,
          2.7309249713438746,
          2.7803131367477976,
          2.8297013310851766,
          2.8790894964890996,
          2.9284776908264787,
          2.9778658562304017,
          3.0272540505677807,
          3.0766422159717037,
          3.126030410309083,
          3.175418575713006,
          3.224806770050385,
          3.274194935454308,
          3.323583129791687,
          3.37297129519561,
          3.422359489532989,
          3.471747654936912,
          3.521135849274291,
          3.570524014678214,
          3.619912209015593,
          3.669300374419516,
          3.669300374419516,
          3.7151912869127433,
          3.7610821994059704,
          3.8069731118991976,
          3.852864024392425,
          3.898754936885652,
          3.9446458493788787,
          3.990536761872106,
          4.036427674365333,
          4.08231858685856,
          4.128209499351787,
          4.128209499351787,
          4.173542109879815,
          4.218874712967447,
          4.264207323495476,
          4.264207323495476,
          4.313885699103602,
          4.3635640914164675,
          4.4132424670245936,
          4.46292085933746,
          4.512599234945586,
          4.562277627258452,
          4.611956002866578,
          4.661634378474704,
          4.71131275408283,
          4.760991146395696,
          4.810669522003822,
          4.860347914316689,
          4.910026289924815,
          4.95970468223768,
          5.009383057845806,
          5.059061433453932,
          5.059061433453932,
          5.102869505285879,
          5.1466775848171515,
          5.1904856566490984,
          5.234293728481045,
          5.278101808012318,
          5.321909879844265
         ],
         "y": [
          5.5009,
          5.497300000000001,
          5.484,
          5.4603,
          5.434100000000001,
          5.416399999999999,
          5.4161,
          5.440799999999999,
          5.495000000000001,
          5.5739,
          5.668800000000001,
          5.786900000000001,
          5.9307,
          6.0748,
          6.1556999999999995,
          6.1606000000000005,
          6.1396,
          6.128400000000001,
          6.128400000000001,
          6.1623,
          6.2255,
          6.264800000000001,
          6.261000000000001,
          6.2295,
          6.196200000000001,
          6.1823,
          6.2026,
          6.2645,
          6.3689,
          6.308300000000001,
          6.308300000000001,
          6.228,
          6.1637,
          6.1159,
          6.0847,
          6.0694,
          6.0663,
          6.0694,
          6.0738,
          6.077300000000001,
          5.9491,
          5.7797,
          5.627000000000001,
          5.501100000000001,
          5.4161,
          5.3865,
          5.4183,
          5.497999999999999,
          5.5882000000000005,
          5.630599999999999,
          5.630599999999999,
          5.6008,
          5.5527,
          5.5382,
          5.5723,
          5.646100000000001,
          5.5783000000000005,
          5.5206,
          5.5009,
          5.5009,
          5.4945,
          5.4773,
          5.451499999999999,
          5.4168,
          5.372199999999999,
          5.3187999999999995,
          5.2609,
          5.2043,
          5.2728,
          5.3658,
          5.457700000000001,
          5.5776,
          5.7303,
          5.8957,
          6.0168,
          6.0785,
          6.1409,
          6.2181999999999995,
          6.312200000000001,
          6.3485,
          6.3485,
          6.225099999999999,
          6.165800000000001,
          6.306100000000001,
          6.4049,
          6.4503,
          6.459,
          6.382,
          6.313600000000001,
          6.270099999999999,
          6.2553,
          6.2553,
          6.213100000000001,
          6.1426,
          6.0884,
          6.0884,
          6.088900000000001,
          6.0958000000000006,
          6.0931999999999995,
          6.0725999999999996,
          6.0379000000000005,
          5.9862,
          5.899900000000001,
          5.777900000000001,
          5.6434,
          5.5197,
          5.4274000000000004,
          5.3881,
          5.4137,
          5.492700000000001,
          5.586,
          5.630599999999999,
          6.128400000000001,
          6.122,
          6.1051,
          6.0837,
          6.066700000000001,
          6.0646,
          6.0884
         ]
        },
        {
         "mode": "lines",
         "name": "band 29",
         "type": "scatter",
         "x": [
          0,
          0.04972189029404676,
          0.0994437974935389,
          0.14916568778758565,
          0.19888759498707784,
          0.24860948528112461,
          0.29833139248061674,
          0.34805328277466346,
          0.3977751899741556,
          0.4474970802682024,
          0.49721898746769455,
          0.5469408777617413,
          0.5966627849612334,
          0.6463846752552801,
          0.6961065824547723,
          0.745828472748819,
          0.7955503799483112,
          0.845272270242358,
          0.845272270242358,
          0.8933499526196786,
          0.9414276060635433,
          0.9895052884408639,
          1.0375829708181845,
          1.085660624262049,
          1.1337383066393696,
          1.1818159600832343,
          1.2298936424605549,
          1.2779713248378755,
          1.32604897828174,
          1.3741266606590605,
          1.3741266606590605,
          1.4224328884060216,
          1.470739116152983,
          1.5190453438999443,
          1.5673516005803616,
          1.6156578283273229,
          1.663964056074284,
          1.7122702838212454,
          1.7605765115682066,
          1.8088827393151679,
          1.8571889959955852,
          1.9054952237425464,
          1.9538014514895077,
          2.002107679236469,
          2.0504139069834304,
          2.098720134730392,
          2.147026391410809,
          2.19533261915777,
          2.2436388469047315,
          2.2919450746516925,
          2.2919450746516925,
          2.340644037446043,
          2.3893430002403933,
          2.4380419630347436,
          2.486740925829094,
          2.5354398886234444,
          2.5841388514177948,
          2.632837814212145,
          2.6815367770064955,
          2.6815367770064955,
          2.7309249713438746,
          2.7803131367477976,
          2.8297013310851766,
          2.8790894964890996,
          2.9284776908264787,
          2.9778658562304017,
          3.0272540505677807,
          3.0766422159717037,
          3.126030410309083,
          3.175418575713006,
          3.224806770050385,
          3.274194935454308,
          3.323583129791687,
          3.37297129519561,
          3.422359489532989,
          3.471747654936912,
          3.521135849274291,
          3.570524014678214,
          3.619912209015593,
          3.669300374419516,
          3.669300374419516,
          3.7151912869127433,
          3.7610821994059704,
          3.8069731118991976,
          3.852864024392425,
          3.898754936885652,
          3.9446458493788787,
          3.990536761872106,
          4.036427674365333,
          4.08231858685856,
          4.128209499351787,
          4.128209499351787,
          4.173542109879815,
          4.218874712967447,
          4.264207323495476,
          4.264207323495476,
          4.313885699103602,
          4.3635640914164675,
          4.4132424670245936,
          4.46292085933746,
          4.512599234945586,
          4.562277627258452,
          4.611956002866578,
          4.661634378474704,
          4.71131275408283,
          4.760991146395696,
          4.810669522003822,
          4.860347914316689,
          4.910026289924815,
          4.95970468223768,
          5.009383057845806,
          5.059061433453932,
          5.059061433453932,
          5.102869505285879,
          5.1466775848171515,
          5.1904856566490984,
          5.234293728481045,
          5.278101808012318,
          5.321909879844265
         ],
         "y": [
          5.5009,
          5.5114,
          5.5426,
          5.5928,
          5.6599,
          5.7409,
          5.775,
          5.744300000000001,
          5.752000000000001,
          5.814500000000001,
          5.937100000000001,
          6.091100000000001,
          6.231199999999999,
          6.346400000000001,
          6.4952000000000005,
          6.701700000000001,
          6.919499999999999,
          6.9754000000000005,
          6.9754000000000005,
          6.940100000000001,
          6.8841,
          6.858700000000001,
          6.787599999999999,
          6.7155000000000005,
          6.659800000000001,
          6.620000000000001,
          6.5794999999999995,
          6.5015,
          6.402000000000001,
          6.5159,
          6.5159,
          6.7071000000000005,
          6.7095,
          6.671900000000001,
          6.6151,
          6.5472,
          6.4796,
          6.415900000000001,
          6.321400000000001,
          6.130000000000001,
          6.0794,
          6.068099999999999,
          5.9968,
          5.9483999999999995,
          5.9358,
          5.9579,
          6.007300000000001,
          6.0737000000000005,
          6.145900000000001,
          6.198,
          6.198,
          6.1861999999999995,
          6.065100000000001,
          5.9251000000000005,
          5.7887,
          5.6699,
          5.5783000000000005,
          5.5206,
          5.5009,
          5.5009,
          5.5139,
          5.5517,
          5.607200000000001,
          5.655100000000001,
          5.6648,
          5.647600000000001,
          5.625500000000001,
          5.6119,
          5.616,
          5.6472,
          5.709899999999999,
          5.793800000000001,
          5.882099999999999,
          5.9643,
          6.0777,
          6.2292000000000005,
          6.3543,
          6.427300000000001,
          6.427,
          6.417199999999999,
          6.417199999999999,
          6.5098,
          6.5847999999999995,
          6.623900000000001,
          6.612,
          6.5519,
          6.466900000000001,
          6.455,
          6.4511,
          6.4511,
          6.452400000000001,
          6.452400000000001,
          6.4573,
          6.4718,
          6.496,
          6.496,
          6.4404,
          6.3729,
          6.2978000000000005,
          6.2226,
          6.155800000000001,
          6.1052,
          6.0755,
          6.0685,
          6.083,
          5.9991,
          5.959200000000001,
          5.9648,
          6.0062,
          6.070500000000001,
          6.144,
          6.198,
          6.9754000000000005,
          6.932500000000001,
          6.8370999999999995,
          6.731400000000001,
          6.6349,
          6.555400000000001,
          6.496
         ]
        },
        {
         "mode": "lines",
         "name": "band 30",
         "type": "scatter",
         "x": [
          0,
          0.04972189029404676,
          0.0994437974935389,
          0.14916568778758565,
          0.19888759498707784,
          0.24860948528112461,
          0.29833139248061674,
          0.34805328277466346,
          0.3977751899741556,
          0.4474970802682024,
          0.49721898746769455,
          0.5469408777617413,
          0.5966627849612334,
          0.6463846752552801,
          0.6961065824547723,
          0.745828472748819,
          0.7955503799483112,
          0.845272270242358,
          0.845272270242358,
          0.8933499526196786,
          0.9414276060635433,
          0.9895052884408639,
          1.0375829708181845,
          1.085660624262049,
          1.1337383066393696,
          1.1818159600832343,
          1.2298936424605549,
          1.2779713248378755,
          1.32604897828174,
          1.3741266606590605,
          1.3741266606590605,
          1.4224328884060216,
          1.470739116152983,
          1.5190453438999443,
          1.5673516005803616,
          1.6156578283273229,
          1.663964056074284,
          1.7122702838212454,
          1.7605765115682066,
          1.8088827393151679,
          1.8571889959955852,
          1.9054952237425464,
          1.9538014514895077,
          2.002107679236469,
          2.0504139069834304,
          2.098720134730392,
          2.147026391410809,
          2.19533261915777,
          2.2436388469047315,
          2.2919450746516925,
          2.2919450746516925,
          2.340644037446043,
          2.3893430002403933,
          2.4380419630347436,
          2.486740925829094,
          2.5354398886234444,
          2.5841388514177948,
          2.632837814212145,
          2.6815367770064955,
          2.6815367770064955,
          2.7309249713438746,
          2.7803131367477976,
          2.8297013310851766,
          2.8790894964890996,
          2.9284776908264787,
          2.9778658562304017,
          3.0272540505677807,
          3.0766422159717037,
          3.126030410309083,
          3.175418575713006,
          3.224806770050385,
          3.274194935454308,
          3.323583129791687,
          3.37297129519561,
          3.422359489532989,
          3.471747654936912,
          3.521135849274291,
          3.570524014678214,
          3.619912209015593,
          3.669300374419516,
          3.669300374419516,
          3.7151912869127433,
          3.7610821994059704,
          3.8069731118991976,
          3.852864024392425,
          3.898754936885652,
          3.9446458493788787,
          3.990536761872106,
          4.036427674365333,
          4.08231858685856,
          4.128209499351787,
          4.128209499351787,
          4.173542109879815,
          4.218874712967447,
          4.264207323495476,
          4.264207323495476,
          4.313885699103602,
          4.3635640914164675,
          4.4132424670245936,
          4.46292085933746,
          4.512599234945586,
          4.562277627258452,
          4.611956002866578,
          4.661634378474704,
          4.71131275408283,
          4.760991146395696,
          4.810669522003822,
          4.860347914316689,
          4.910026289924815,
          4.95970468223768,
          5.009383057845806,
          5.059061433453932,
          5.059061433453932,
          5.102869505285879,
          5.1466775848171515,
          5.1904856566490984,
          5.234293728481045,
          5.278101808012318,
          5.321909879844265
         ],
         "y": [
          5.873200000000001,
          5.872300000000001,
          5.8748000000000005,
          5.878,
          5.8629,
          5.822800000000001,
          5.8331,
          5.9346,
          6.044600000000001,
          6.162800000000001,
          6.288399999999999,
          6.4190000000000005,
          6.5504,
          6.6767,
          6.7912,
          6.886000000000001,
          6.9514,
          7.0481,
          7.0481,
          7.021000000000001,
          6.9536999999999995,
          6.8703,
          6.877700000000001,
          6.9283,
          6.9940999999999995,
          6.8565000000000005,
          6.7439,
          6.7018,
          6.706900000000001,
          6.7209,
          6.7209,
          6.7249,
          6.9338,
          7.0512999999999995,
          6.8774,
          6.729100000000001,
          6.612299999999999,
          6.5251,
          6.3454999999999995,
          6.262499999999999,
          6.1708,
          6.0944,
          6.100200000000001,
          6.124600000000001,
          6.1639,
          6.216100000000001,
          6.274100000000001,
          6.3095,
          6.260400000000001,
          6.2439,
          6.2439,
          6.1861999999999995,
          6.065100000000001,
          5.9251000000000005,
          5.7887,
          5.6699,
          5.7416,
          5.8321000000000005,
          5.873200000000001,
          5.873200000000001,
          5.8726,
          5.872199999999999,
          5.8805,
          5.9269,
          6.048299999999999,
          6.239000000000001,
          6.478,
          6.5244,
          6.4794,
          6.415100000000001,
          6.351100000000001,
          6.3019,
          6.276,
          6.2775,
          6.3071,
          6.363200000000001,
          6.4421,
          6.538399999999999,
          6.644400000000001,
          6.7484,
          6.7484,
          6.8271,
          6.869300000000001,
          6.8725000000000005,
          6.8591,
          6.8376,
          6.790100000000001,
          6.715400000000001,
          6.6349,
          6.572699999999999,
          6.5486,
          6.5486,
          6.6058,
          6.7158999999999995,
          6.8192,
          6.8192,
          6.736600000000001,
          6.6426,
          6.5587,
          6.4885,
          6.4192,
          6.347300000000001,
          6.288399999999999,
          6.2067,
          6.0867,
          6.1165,
          6.1653,
          6.2249,
          6.2888,
          6.3131,
          6.2613,
          6.2439,
          7.0481,
          7.046200000000001,
          7.0389,
          7.0214,
          6.9849,
          6.9191,
          6.8192
         ]
        },
        {
         "marker": {
          "color": "green",
          "size": 10
         },
         "mode": "markers",
         "name": "VBM (max valence)",
         "type": "scatter",
         "x": [
          2.6815367770064955
         ],
         "y": [
          -0.11689254000000027
         ]
        },
        {
         "marker": {
          "color": "red",
          "size": 10
         },
         "mode": "markers",
         "name": "CBM (min conduction)",
         "type": "scatter",
         "x": [
          4.128209499351787
         ],
         "y": [
          2.3866074599999996
         ]
        }
       ],
       "layout": {
        "annotations": [
         {
          "arrowcolor": "black",
          "arrowhead": 2,
          "arrowsize": 2,
          "arrowwidth": 2,
          "ax": 2.6815367770064955,
          "axref": "x",
          "ay": -0.11689254000000027,
          "ayref": "y",
          "showarrow": true,
          "x": 4.128209499351787,
          "xref": "x",
          "y": 2.3866074599999996,
          "yref": "y"
         }
        ],
        "shapes": [
         {
          "line": {
           "color": "black",
           "width": 1
          },
          "type": "line",
          "x0": 0.845272270242358,
          "x1": 0.845272270242358,
          "xref": "x",
          "y0": 0,
          "y1": 1,
          "yref": "y domain"
         },
         {
          "line": {
           "color": "black",
           "width": 1
          },
          "type": "line",
          "x0": 1.3741266606590605,
          "x1": 1.3741266606590605,
          "xref": "x",
          "y0": 0,
          "y1": 1,
          "yref": "y domain"
         },
         {
          "line": {
           "color": "black",
           "width": 1
          },
          "type": "line",
          "x0": 2.2919450746516925,
          "x1": 2.2919450746516925,
          "xref": "x",
          "y0": 0,
          "y1": 1,
          "yref": "y domain"
         },
         {
          "line": {
           "color": "black",
           "width": 1
          },
          "type": "line",
          "x0": 2.6815367770064955,
          "x1": 2.6815367770064955,
          "xref": "x",
          "y0": 0,
          "y1": 1,
          "yref": "y domain"
         },
         {
          "line": {
           "color": "black",
           "width": 1
          },
          "type": "line",
          "x0": 3.669300374419516,
          "x1": 3.669300374419516,
          "xref": "x",
          "y0": 0,
          "y1": 1,
          "yref": "y domain"
         },
         {
          "line": {
           "color": "black",
           "width": 1
          },
          "type": "line",
          "x0": 4.128209499351787,
          "x1": 4.128209499351787,
          "xref": "x",
          "y0": 0,
          "y1": 1,
          "yref": "y domain"
         },
         {
          "line": {
           "color": "black",
           "width": 1
          },
          "type": "line",
          "x0": 4.264207323495476,
          "x1": 4.264207323495476,
          "xref": "x",
          "y0": 0,
          "y1": 1,
          "yref": "y domain"
         },
         {
          "line": {
           "color": "black",
           "width": 1
          },
          "type": "line",
          "x0": 5.059061433453932,
          "x1": 5.059061433453932,
          "xref": "x",
          "y0": 0,
          "y1": 1,
          "yref": "y domain"
         },
         {
          "fillcolor": "rgba(255, 0, 0, 0.3)",
          "layer": "below",
          "line": {
           "width": 0
          },
          "type": "rect",
          "x0": 0,
          "x1": 5.321909879844265,
          "y0": -0.11689254000000027,
          "y1": 2.3866074599999996
         }
        ],
        "template": {
         "data": {
          "bar": [
           {
            "error_x": {
             "color": "#2a3f5f"
            },
            "error_y": {
             "color": "#2a3f5f"
            },
            "marker": {
             "line": {
              "color": "white",
              "width": 0.5
             },
             "pattern": {
              "fillmode": "overlay",
              "size": 10,
              "solidity": 0.2
             }
            },
            "type": "bar"
           }
          ],
          "barpolar": [
           {
            "marker": {
             "line": {
              "color": "white",
              "width": 0.5
             },
             "pattern": {
              "fillmode": "overlay",
              "size": 10,
              "solidity": 0.2
             }
            },
            "type": "barpolar"
           }
          ],
          "carpet": [
           {
            "aaxis": {
             "endlinecolor": "#2a3f5f",
             "gridcolor": "#C8D4E3",
             "linecolor": "#C8D4E3",
             "minorgridcolor": "#C8D4E3",
             "startlinecolor": "#2a3f5f"
            },
            "baxis": {
             "endlinecolor": "#2a3f5f",
             "gridcolor": "#C8D4E3",
             "linecolor": "#C8D4E3",
             "minorgridcolor": "#C8D4E3",
             "startlinecolor": "#2a3f5f"
            },
            "type": "carpet"
           }
          ],
          "choropleth": [
           {
            "colorbar": {
             "outlinewidth": 0,
             "ticks": ""
            },
            "type": "choropleth"
           }
          ],
          "contour": [
           {
            "colorbar": {
             "outlinewidth": 0,
             "ticks": ""
            },
            "colorscale": [
             [
              0,
              "#0d0887"
             ],
             [
              0.1111111111111111,
              "#46039f"
             ],
             [
              0.2222222222222222,
              "#7201a8"
             ],
             [
              0.3333333333333333,
              "#9c179e"
             ],
             [
              0.4444444444444444,
              "#bd3786"
             ],
             [
              0.5555555555555556,
              "#d8576b"
             ],
             [
              0.6666666666666666,
              "#ed7953"
             ],
             [
              0.7777777777777778,
              "#fb9f3a"
             ],
             [
              0.8888888888888888,
              "#fdca26"
             ],
             [
              1,
              "#f0f921"
             ]
            ],
            "type": "contour"
           }
          ],
          "contourcarpet": [
           {
            "colorbar": {
             "outlinewidth": 0,
             "ticks": ""
            },
            "type": "contourcarpet"
           }
          ],
          "heatmap": [
           {
            "colorbar": {
             "outlinewidth": 0,
             "ticks": ""
            },
            "colorscale": [
             [
              0,
              "#0d0887"
             ],
             [
              0.1111111111111111,
              "#46039f"
             ],
             [
              0.2222222222222222,
              "#7201a8"
             ],
             [
              0.3333333333333333,
              "#9c179e"
             ],
             [
              0.4444444444444444,
              "#bd3786"
             ],
             [
              0.5555555555555556,
              "#d8576b"
             ],
             [
              0.6666666666666666,
              "#ed7953"
             ],
             [
              0.7777777777777778,
              "#fb9f3a"
             ],
             [
              0.8888888888888888,
              "#fdca26"
             ],
             [
              1,
              "#f0f921"
             ]
            ],
            "type": "heatmap"
           }
          ],
          "heatmapgl": [
           {
            "colorbar": {
             "outlinewidth": 0,
             "ticks": ""
            },
            "colorscale": [
             [
              0,
              "#0d0887"
             ],
             [
              0.1111111111111111,
              "#46039f"
             ],
             [
              0.2222222222222222,
              "#7201a8"
             ],
             [
              0.3333333333333333,
              "#9c179e"
             ],
             [
              0.4444444444444444,
              "#bd3786"
             ],
             [
              0.5555555555555556,
              "#d8576b"
             ],
             [
              0.6666666666666666,
              "#ed7953"
             ],
             [
              0.7777777777777778,
              "#fb9f3a"
             ],
             [
              0.8888888888888888,
              "#fdca26"
             ],
             [
              1,
              "#f0f921"
             ]
            ],
            "type": "heatmapgl"
           }
          ],
          "histogram": [
           {
            "marker": {
             "pattern": {
              "fillmode": "overlay",
              "size": 10,
              "solidity": 0.2
             }
            },
            "type": "histogram"
           }
          ],
          "histogram2d": [
           {
            "colorbar": {
             "outlinewidth": 0,
             "ticks": ""
            },
            "colorscale": [
             [
              0,
              "#0d0887"
             ],
             [
              0.1111111111111111,
              "#46039f"
             ],
             [
              0.2222222222222222,
              "#7201a8"
             ],
             [
              0.3333333333333333,
              "#9c179e"
             ],
             [
              0.4444444444444444,
              "#bd3786"
             ],
             [
              0.5555555555555556,
              "#d8576b"
             ],
             [
              0.6666666666666666,
              "#ed7953"
             ],
             [
              0.7777777777777778,
              "#fb9f3a"
             ],
             [
              0.8888888888888888,
              "#fdca26"
             ],
             [
              1,
              "#f0f921"
             ]
            ],
            "type": "histogram2d"
           }
          ],
          "histogram2dcontour": [
           {
            "colorbar": {
             "outlinewidth": 0,
             "ticks": ""
            },
            "colorscale": [
             [
              0,
              "#0d0887"
             ],
             [
              0.1111111111111111,
              "#46039f"
             ],
             [
              0.2222222222222222,
              "#7201a8"
             ],
             [
              0.3333333333333333,
              "#9c179e"
             ],
             [
              0.4444444444444444,
              "#bd3786"
             ],
             [
              0.5555555555555556,
              "#d8576b"
             ],
             [
              0.6666666666666666,
              "#ed7953"
             ],
             [
              0.7777777777777778,
              "#fb9f3a"
             ],
             [
              0.8888888888888888,
              "#fdca26"
             ],
             [
              1,
              "#f0f921"
             ]
            ],
            "type": "histogram2dcontour"
           }
          ],
          "mesh3d": [
           {
            "colorbar": {
             "outlinewidth": 0,
             "ticks": ""
            },
            "type": "mesh3d"
           }
          ],
          "parcoords": [
           {
            "line": {
             "colorbar": {
              "outlinewidth": 0,
              "ticks": ""
             }
            },
            "type": "parcoords"
           }
          ],
          "pie": [
           {
            "automargin": true,
            "type": "pie"
           }
          ],
          "scatter": [
           {
            "fillpattern": {
             "fillmode": "overlay",
             "size": 10,
             "solidity": 0.2
            },
            "type": "scatter"
           }
          ],
          "scatter3d": [
           {
            "line": {
             "colorbar": {
              "outlinewidth": 0,
              "ticks": ""
             }
            },
            "marker": {
             "colorbar": {
              "outlinewidth": 0,
              "ticks": ""
             }
            },
            "type": "scatter3d"
           }
          ],
          "scattercarpet": [
           {
            "marker": {
             "colorbar": {
              "outlinewidth": 0,
              "ticks": ""
             }
            },
            "type": "scattercarpet"
           }
          ],
          "scattergeo": [
           {
            "marker": {
             "colorbar": {
              "outlinewidth": 0,
              "ticks": ""
             }
            },
            "type": "scattergeo"
           }
          ],
          "scattergl": [
           {
            "marker": {
             "colorbar": {
              "outlinewidth": 0,
              "ticks": ""
             }
            },
            "type": "scattergl"
           }
          ],
          "scattermapbox": [
           {
            "marker": {
             "colorbar": {
              "outlinewidth": 0,
              "ticks": ""
             }
            },
            "type": "scattermapbox"
           }
          ],
          "scatterpolar": [
           {
            "marker": {
             "colorbar": {
              "outlinewidth": 0,
              "ticks": ""
             }
            },
            "type": "scatterpolar"
           }
          ],
          "scatterpolargl": [
           {
            "marker": {
             "colorbar": {
              "outlinewidth": 0,
              "ticks": ""
             }
            },
            "type": "scatterpolargl"
           }
          ],
          "scatterternary": [
           {
            "marker": {
             "colorbar": {
              "outlinewidth": 0,
              "ticks": ""
             }
            },
            "type": "scatterternary"
           }
          ],
          "surface": [
           {
            "colorbar": {
             "outlinewidth": 0,
             "ticks": ""
            },
            "colorscale": [
             [
              0,
              "#0d0887"
             ],
             [
              0.1111111111111111,
              "#46039f"
             ],
             [
              0.2222222222222222,
              "#7201a8"
             ],
             [
              0.3333333333333333,
              "#9c179e"
             ],
             [
              0.4444444444444444,
              "#bd3786"
             ],
             [
              0.5555555555555556,
              "#d8576b"
             ],
             [
              0.6666666666666666,
              "#ed7953"
             ],
             [
              0.7777777777777778,
              "#fb9f3a"
             ],
             [
              0.8888888888888888,
              "#fdca26"
             ],
             [
              1,
              "#f0f921"
             ]
            ],
            "type": "surface"
           }
          ],
          "table": [
           {
            "cells": {
             "fill": {
              "color": "#EBF0F8"
             },
             "line": {
              "color": "white"
             }
            },
            "header": {
             "fill": {
              "color": "#C8D4E3"
             },
             "line": {
              "color": "white"
             }
            },
            "type": "table"
           }
          ]
         },
         "layout": {
          "annotationdefaults": {
           "arrowcolor": "#2a3f5f",
           "arrowhead": 0,
           "arrowwidth": 1
          },
          "autotypenumbers": "strict",
          "coloraxis": {
           "colorbar": {
            "outlinewidth": 0,
            "ticks": ""
           }
          },
          "colorscale": {
           "diverging": [
            [
             0,
             "#8e0152"
            ],
            [
             0.1,
             "#c51b7d"
            ],
            [
             0.2,
             "#de77ae"
            ],
            [
             0.3,
             "#f1b6da"
            ],
            [
             0.4,
             "#fde0ef"
            ],
            [
             0.5,
             "#f7f7f7"
            ],
            [
             0.6,
             "#e6f5d0"
            ],
            [
             0.7,
             "#b8e186"
            ],
            [
             0.8,
             "#7fbc41"
            ],
            [
             0.9,
             "#4d9221"
            ],
            [
             1,
             "#276419"
            ]
           ],
           "sequential": [
            [
             0,
             "#0d0887"
            ],
            [
             0.1111111111111111,
             "#46039f"
            ],
            [
             0.2222222222222222,
             "#7201a8"
            ],
            [
             0.3333333333333333,
             "#9c179e"
            ],
            [
             0.4444444444444444,
             "#bd3786"
            ],
            [
             0.5555555555555556,
             "#d8576b"
            ],
            [
             0.6666666666666666,
             "#ed7953"
            ],
            [
             0.7777777777777778,
             "#fb9f3a"
            ],
            [
             0.8888888888888888,
             "#fdca26"
            ],
            [
             1,
             "#f0f921"
            ]
           ],
           "sequentialminus": [
            [
             0,
             "#0d0887"
            ],
            [
             0.1111111111111111,
             "#46039f"
            ],
            [
             0.2222222222222222,
             "#7201a8"
            ],
            [
             0.3333333333333333,
             "#9c179e"
            ],
            [
             0.4444444444444444,
             "#bd3786"
            ],
            [
             0.5555555555555556,
             "#d8576b"
            ],
            [
             0.6666666666666666,
             "#ed7953"
            ],
            [
             0.7777777777777778,
             "#fb9f3a"
            ],
            [
             0.8888888888888888,
             "#fdca26"
            ],
            [
             1,
             "#f0f921"
            ]
           ]
          },
          "colorway": [
           "#636efa",
           "#EF553B",
           "#00cc96",
           "#ab63fa",
           "#FFA15A",
           "#19d3f3",
           "#FF6692",
           "#B6E880",
           "#FF97FF",
           "#FECB52"
          ],
          "font": {
           "color": "#2a3f5f"
          },
          "geo": {
           "bgcolor": "white",
           "lakecolor": "white",
           "landcolor": "white",
           "showlakes": true,
           "showland": true,
           "subunitcolor": "#C8D4E3"
          },
          "hoverlabel": {
           "align": "left"
          },
          "hovermode": "closest",
          "mapbox": {
           "style": "light"
          },
          "paper_bgcolor": "white",
          "plot_bgcolor": "white",
          "polar": {
           "angularaxis": {
            "gridcolor": "#EBF0F8",
            "linecolor": "#EBF0F8",
            "ticks": ""
           },
           "bgcolor": "white",
           "radialaxis": {
            "gridcolor": "#EBF0F8",
            "linecolor": "#EBF0F8",
            "ticks": ""
           }
          },
          "scene": {
           "xaxis": {
            "backgroundcolor": "white",
            "gridcolor": "#DFE8F3",
            "gridwidth": 2,
            "linecolor": "#EBF0F8",
            "showbackground": true,
            "ticks": "",
            "zerolinecolor": "#EBF0F8"
           },
           "yaxis": {
            "backgroundcolor": "white",
            "gridcolor": "#DFE8F3",
            "gridwidth": 2,
            "linecolor": "#EBF0F8",
            "showbackground": true,
            "ticks": "",
            "zerolinecolor": "#EBF0F8"
           },
           "zaxis": {
            "backgroundcolor": "white",
            "gridcolor": "#DFE8F3",
            "gridwidth": 2,
            "linecolor": "#EBF0F8",
            "showbackground": true,
            "ticks": "",
            "zerolinecolor": "#EBF0F8"
           }
          },
          "shapedefaults": {
           "line": {
            "color": "#2a3f5f"
           }
          },
          "ternary": {
           "aaxis": {
            "gridcolor": "#DFE8F3",
            "linecolor": "#A2B1C6",
            "ticks": ""
           },
           "baxis": {
            "gridcolor": "#DFE8F3",
            "linecolor": "#A2B1C6",
            "ticks": ""
           },
           "bgcolor": "white",
           "caxis": {
            "gridcolor": "#DFE8F3",
            "linecolor": "#A2B1C6",
            "ticks": ""
           }
          },
          "title": {
           "x": 0.05
          },
          "xaxis": {
           "automargin": true,
           "gridcolor": "#EBF0F8",
           "linecolor": "#EBF0F8",
           "ticks": "",
           "title": {
            "standoff": 15
           },
           "zerolinecolor": "#EBF0F8",
           "zerolinewidth": 2
          },
          "yaxis": {
           "automargin": true,
           "gridcolor": "#EBF0F8",
           "linecolor": "#EBF0F8",
           "ticks": "",
           "title": {
            "standoff": 15
           },
           "zerolinecolor": "#EBF0F8",
           "zerolinewidth": 2
          }
         }
        },
        "xaxis": {
         "mirror": true,
         "showgrid": false,
         "ticklen": 0,
         "ticks": "inside",
         "ticktext": [
          "Γ",
          "L",
          "B_1|B",
          "Z",
          "Γ",
          "X|Q",
          "F",
          "P_1",
          "Z|L",
          "P"
         ],
         "tickvals": [
          0,
          0.845272270242358,
          1.3741266606590605,
          2.2919450746516925,
          2.6815367770064955,
          3.669300374419516,
          4.128209499351787,
          4.264207323495476,
          5.059061433453932,
          5.321909879844265
         ],
         "title": {
          "text": "Wave Vector"
         }
        },
        "yaxis": {
         "mirror": true,
         "range": [
          -3,
          6
         ],
         "showgrid": false,
         "ticklen": 10,
         "ticks": "inside",
         "title": {
          "text": "E - E<sub>f</sub> (eV)"
         }
        }
       }
      },
      "text/html": [
       "<div>                            <div id=\"71198651-8133-44d8-9f97-f9b00b12555e\" class=\"plotly-graph-div\" style=\"height:525px; width:100%;\"></div>            <script type=\"text/javascript\">                require([\"plotly\"], function(Plotly) {                    window.PLOTLYENV=window.PLOTLYENV || {};                                    if (document.getElementById(\"71198651-8133-44d8-9f97-f9b00b12555e\")) {                    Plotly.newPlot(                        \"71198651-8133-44d8-9f97-f9b00b12555e\",                        [{\"mode\":\"lines\",\"name\":\"band 11\",\"x\":[0.0,0.04972189029404676,0.0994437974935389,0.14916568778758565,0.19888759498707784,0.24860948528112461,0.29833139248061674,0.34805328277466346,0.3977751899741556,0.4474970802682024,0.49721898746769455,0.5469408777617413,0.5966627849612334,0.6463846752552801,0.6961065824547723,0.745828472748819,0.7955503799483112,0.845272270242358,0.845272270242358,0.8933499526196786,0.9414276060635433,0.9895052884408639,1.0375829708181845,1.085660624262049,1.1337383066393696,1.1818159600832343,1.2298936424605549,1.2779713248378755,1.32604897828174,1.3741266606590605,1.3741266606590605,1.4224328884060216,1.470739116152983,1.5190453438999443,1.5673516005803616,1.6156578283273229,1.663964056074284,1.7122702838212454,1.7605765115682066,1.8088827393151679,1.8571889959955852,1.9054952237425464,1.9538014514895077,2.002107679236469,2.0504139069834304,2.098720134730392,2.147026391410809,2.19533261915777,2.2436388469047315,2.2919450746516925,2.2919450746516925,2.340644037446043,2.3893430002403933,2.4380419630347436,2.486740925829094,2.5354398886234444,2.5841388514177948,2.632837814212145,2.6815367770064955,2.6815367770064955,2.7309249713438746,2.7803131367477976,2.8297013310851766,2.8790894964890996,2.9284776908264787,2.9778658562304017,3.0272540505677807,3.0766422159717037,3.126030410309083,3.175418575713006,3.224806770050385,3.274194935454308,3.323583129791687,3.37297129519561,3.422359489532989,3.471747654936912,3.521135849274291,3.570524014678214,3.619912209015593,3.669300374419516,3.669300374419516,3.7151912869127433,3.7610821994059704,3.8069731118991976,3.852864024392425,3.898754936885652,3.9446458493788787,3.990536761872106,4.036427674365333,4.08231858685856,4.128209499351787,4.128209499351787,4.173542109879815,4.218874712967447,4.264207323495476,4.264207323495476,4.313885699103602,4.3635640914164675,4.4132424670245936,4.46292085933746,4.512599234945586,4.562277627258452,4.611956002866578,4.661634378474704,4.71131275408283,4.760991146395696,4.810669522003822,4.860347914316689,4.910026289924815,4.95970468223768,5.009383057845806,5.059061433453932,5.059061433453932,5.102869505285879,5.1466775848171515,5.1904856566490984,5.234293728481045,5.278101808012318,5.321909879844265],\"y\":[-1.9617999999999998,-1.9511999999999998,-1.9202999999999997,-1.8723999999999998,-1.8122999999999998,-1.7460999999999998,-1.6804999999999999,-1.6221999999999999,-1.5773,-1.5532,-1.5602999999999998,-1.5970999999999997,-1.6444999999999999,-1.6887999999999999,-1.7245999999999997,-1.7502999999999997,-1.7656999999999998,-1.7708,-1.7708,-1.7645,-1.7459999999999998,-1.7158999999999998,-1.6756999999999997,-1.6270999999999998,-1.5723999999999998,-1.5149,-1.4586,-1.4094999999999998,-1.3757,-1.3648999999999998,-1.3648999999999998,-1.3754999999999997,-1.3967999999999998,-1.4198999999999997,-1.4406999999999999,-1.4577999999999998,-1.4711999999999998,-1.4815999999999998,-1.4900999999999998,-1.4975999999999998,-1.5049,-1.5225999999999997,-1.5305999999999997,-1.5312,-1.5407999999999997,-1.5499999999999998,-1.5580999999999998,-1.5643999999999998,-1.5682999999999998,-1.5696999999999999,-1.5696999999999999,-1.5924999999999998,-1.6509999999999998,-1.7258999999999998,-1.8014999999999999,-1.8678999999999997,-1.9189999999999998,-1.9509999999999998,-1.9617999999999998,-1.9617999999999998,-1.9512999999999998,-1.9203999999999999,-1.8712,-1.8068999999999997,-1.7317999999999998,-1.6507999999999998,-1.5695999999999999,-1.4949,-1.4417999999999997,-1.4610999999999998,-1.5313999999999999,-1.5977,-1.6455999999999997,-1.6702,-1.6695999999999998,-1.6430999999999998,-1.5915,-1.5162999999999998,-1.4213999999999998,-1.3928999999999998,-1.3928999999999998,-1.4753999999999998,-1.5688999999999997,-1.6662,-1.7618999999999998,-1.8514,-1.9303999999999997,-1.9954999999999998,-2.0439999999999996,-2.0739,-2.0839999999999996,-2.0839999999999996,-2.0761,-2.053,-2.0162,-2.0162,-1.9957999999999998,-1.9604,-1.9133999999999998,-1.8586999999999998,-1.8005999999999998,-1.7433999999999998,-1.6907999999999999,-1.6450999999999998,-1.6062999999999998,-1.5734,-1.5506999999999997,-1.5501999999999998,-1.5575999999999999,-1.5640999999999998,-1.5682999999999998,-1.5696999999999999,-1.7708,-1.7836999999999998,-1.8188,-1.8678,-1.9215999999999998,-1.9728999999999999,-2.0162],\"type\":\"scatter\"},{\"mode\":\"lines\",\"name\":\"band 12\",\"x\":[0.0,0.04972189029404676,0.0994437974935389,0.14916568778758565,0.19888759498707784,0.24860948528112461,0.29833139248061674,0.34805328277466346,0.3977751899741556,0.4474970802682024,0.49721898746769455,0.5469408777617413,0.5966627849612334,0.6463846752552801,0.6961065824547723,0.745828472748819,0.7955503799483112,0.845272270242358,0.845272270242358,0.8933499526196786,0.9414276060635433,0.9895052884408639,1.0375829708181845,1.085660624262049,1.1337383066393696,1.1818159600832343,1.2298936424605549,1.2779713248378755,1.32604897828174,1.3741266606590605,1.3741266606590605,1.4224328884060216,1.470739116152983,1.5190453438999443,1.5673516005803616,1.6156578283273229,1.663964056074284,1.7122702838212454,1.7605765115682066,1.8088827393151679,1.8571889959955852,1.9054952237425464,1.9538014514895077,2.002107679236469,2.0504139069834304,2.098720134730392,2.147026391410809,2.19533261915777,2.2436388469047315,2.2919450746516925,2.2919450746516925,2.340644037446043,2.3893430002403933,2.4380419630347436,2.486740925829094,2.5354398886234444,2.5841388514177948,2.632837814212145,2.6815367770064955,2.6815367770064955,2.7309249713438746,2.7803131367477976,2.8297013310851766,2.8790894964890996,2.9284776908264787,2.9778658562304017,3.0272540505677807,3.0766422159717037,3.126030410309083,3.175418575713006,3.224806770050385,3.274194935454308,3.323583129791687,3.37297129519561,3.422359489532989,3.471747654936912,3.521135849274291,3.570524014678214,3.619912209015593,3.669300374419516,3.669300374419516,3.7151912869127433,3.7610821994059704,3.8069731118991976,3.852864024392425,3.898754936885652,3.9446458493788787,3.990536761872106,4.036427674365333,4.08231858685856,4.128209499351787,4.128209499351787,4.173542109879815,4.218874712967447,4.264207323495476,4.264207323495476,4.313885699103602,4.3635640914164675,4.4132424670245936,4.46292085933746,4.512599234945586,4.562277627258452,4.611956002866578,4.661634378474704,4.71131275408283,4.760991146395696,4.810669522003822,4.860347914316689,4.910026289924815,4.95970468223768,5.009383057845806,5.059061433453932,5.059061433453932,5.102869505285879,5.1466775848171515,5.1904856566490984,5.234293728481045,5.278101808012318,5.321909879844265],\"y\":[-1.3456,-1.3427999999999998,-1.3347999999999998,-1.3227999999999998,-1.3082999999999998,-1.2939999999999998,-1.2838999999999998,-1.2844999999999998,-1.3019999999999998,-1.3314,-1.3484999999999998,-1.3362999999999998,-1.3005999999999998,-1.2479999999999998,-1.1823,-1.1086999999999998,-1.0406999999999997,-1.0279999999999998,-1.0279999999999998,-1.0746999999999998,-1.1370999999999998,-1.1988999999999999,-1.2537999999999998,-1.2978999999999998,-1.3295,-1.3478999999999999,-1.3536,-1.3479999999999999,-1.3331999999999997,-1.3122999999999998,-1.3122999999999998,-1.2895999999999999,-1.2705999999999997,-1.2616999999999998,-1.2686999999999997,-1.2933,-1.3318999999999999,-1.3780999999999999,-1.4250999999999998,-1.4672999999999998,-1.5008,-1.5129,-1.5216999999999998,-1.5234999999999999,-1.5010999999999999,-1.4644,-1.4163999999999999,-1.3638,-1.3193,-1.301,-1.301,-1.3027999999999997,-1.3078999999999998,-1.3153,-1.3238999999999999,-1.3322999999999998,-1.3393,-1.3438999999999999,-1.3456,-1.3456,-1.3430999999999997,-1.3359999999999999,-1.3249999999999997,-1.3111,-1.2956999999999999,-1.2796999999999998,-1.2641999999999998,-1.2492999999999999,-1.299,-1.3049999999999997,-1.2649,-1.2240999999999997,-1.1922,-1.1723999999999999,-1.1664999999999999,-1.1758999999999997,-1.2018999999999997,-1.2453999999999998,-1.3049999999999997,-1.2975999999999999,-1.2975999999999999,-1.1838999999999997,-1.0796999999999999,-1.0942999999999998,-1.1067999999999998,-1.1173999999999997,-1.1261999999999999,-1.1331999999999998,-1.1382999999999999,-1.1414999999999997,-1.1424999999999998,-1.1424999999999998,-1.1401999999999999,-1.1333999999999997,-1.1224999999999998,-1.1224999999999998,-1.1270999999999998,-1.13,-1.132,-1.1342999999999999,-1.1916999999999998,-1.2764999999999997,-1.3507999999999998,-1.4116999999999997,-1.4576999999999998,-1.4880999999999998,-1.4960999999999998,-1.4685,-1.4206999999999999,-1.3666999999999998,-1.3202999999999998,-1.301,-1.0279999999999998,-1.0325999999999997,-1.0454999999999999,-1.0640999999999998,-1.0850999999999997,-1.1053999999999997,-1.1224999999999998],\"type\":\"scatter\"},{\"mode\":\"lines\",\"name\":\"band 13\",\"x\":[0.0,0.04972189029404676,0.0994437974935389,0.14916568778758565,0.19888759498707784,0.24860948528112461,0.29833139248061674,0.34805328277466346,0.3977751899741556,0.4474970802682024,0.49721898746769455,0.5469408777617413,0.5966627849612334,0.6463846752552801,0.6961065824547723,0.745828472748819,0.7955503799483112,0.845272270242358,0.845272270242358,0.8933499526196786,0.9414276060635433,0.9895052884408639,1.0375829708181845,1.085660624262049,1.1337383066393696,1.1818159600832343,1.2298936424605549,1.2779713248378755,1.32604897828174,1.3741266606590605,1.3741266606590605,1.4224328884060216,1.470739116152983,1.5190453438999443,1.5673516005803616,1.6156578283273229,1.663964056074284,1.7122702838212454,1.7605765115682066,1.8088827393151679,1.8571889959955852,1.9054952237425464,1.9538014514895077,2.002107679236469,2.0504139069834304,2.098720134730392,2.147026391410809,2.19533261915777,2.2436388469047315,2.2919450746516925,2.2919450746516925,2.340644037446043,2.3893430002403933,2.4380419630347436,2.486740925829094,2.5354398886234444,2.5841388514177948,2.632837814212145,2.6815367770064955,2.6815367770064955,2.7309249713438746,2.7803131367477976,2.8297013310851766,2.8790894964890996,2.9284776908264787,2.9778658562304017,3.0272540505677807,3.0766422159717037,3.126030410309083,3.175418575713006,3.224806770050385,3.274194935454308,3.323583129791687,3.37297129519561,3.422359489532989,3.471747654936912,3.521135849274291,3.570524014678214,3.619912209015593,3.669300374419516,3.669300374419516,3.7151912869127433,3.7610821994059704,3.8069731118991976,3.852864024392425,3.898754936885652,3.9446458493788787,3.990536761872106,4.036427674365333,4.08231858685856,4.128209499351787,4.128209499351787,4.173542109879815,4.218874712967447,4.264207323495476,4.264207323495476,4.313885699103602,4.3635640914164675,4.4132424670245936,4.46292085933746,4.512599234945586,4.562277627258452,4.611956002866578,4.661634378474704,4.71131275408283,4.760991146395696,4.810669522003822,4.860347914316689,4.910026289924815,4.95970468223768,5.009383057845806,5.059061433453932,5.059061433453932,5.102869505285879,5.1466775848171515,5.1904856566490984,5.234293728481045,5.278101808012318,5.321909879844265],\"y\":[-1.3456,-1.3415,-1.3294,-1.3099999999999998,-1.2842999999999998,-1.2535999999999998,-1.2195999999999998,-1.1842,-1.1495999999999997,-1.1176,-1.0899999999999999,-1.0677999999999999,-1.0514999999999999,-1.0403999999999998,-1.0336999999999998,-1.0300999999999998,-1.0283999999999998,-1.0091999999999999,-1.0091999999999999,-0.9767999999999999,-0.9501999999999999,-0.9316999999999998,-0.9163999999999999,-0.9013999999999998,-0.8849999999999998,-0.8660999999999999,-0.9203999999999999,-0.9869999999999999,-1.0306999999999997,-1.0442999999999998,-1.0442999999999998,-1.0315999999999999,-1.0068,-0.9851999999999999,-0.9788999999999999,-0.9905999999999999,-1.0134999999999998,-1.0412,-1.0703999999999998,-1.0995,-1.1281999999999999,-1.1562,-1.1833999999999998,-1.2096999999999998,-1.2342999999999997,-1.2563999999999997,-1.275,-1.2892,-1.2979999999999998,-1.301,-1.301,-1.3027999999999997,-1.3078999999999998,-1.3153,-1.3238999999999999,-1.3322999999999998,-1.3393,-1.3438999999999999,-1.3456,-1.3456,-1.3411999999999997,-1.3280999999999998,-1.3071,-1.2793999999999999,-1.2482999999999997,-1.2212999999999998,-1.2137999999999998,-1.2441999999999998,-1.2347,-1.2194999999999998,-1.2024,-1.1816999999999998,-1.1557999999999997,-1.1232999999999997,-1.0836999999999999,-1.0378999999999998,-0.9954999999999998,-0.9952999999999999,-1.0191999999999999,-1.0431,-1.0431,-1.0626999999999998,-1.0703999999999998,-1.0039999999999998,-1.0093999999999999,-1.0346999999999997,-1.0601999999999998,-1.0815,-1.0972999999999997,-1.1069999999999998,-1.1101999999999999,-1.1101999999999999,-1.1028999999999998,-1.0816,-1.0476999999999999,-1.0476999999999999,-1.0095999999999998,-0.9752999999999998,-1.0110999999999999,-1.1005999999999998,-1.1381999999999999,-1.1450999999999998,-1.1559,-1.1708999999999998,-1.1896999999999998,-1.2109999999999999,-1.2333999999999998,-1.255,-1.2738999999999998,-1.2885999999999997,-1.2977999999999998,-1.301,-1.0091999999999999,-1.0044999999999997,-0.9952999999999999,-0.9923999999999997,-1.0028,-1.0234999999999999,-1.0476999999999999],\"type\":\"scatter\"},{\"mode\":\"lines\",\"name\":\"band 14\",\"x\":[0.0,0.04972189029404676,0.0994437974935389,0.14916568778758565,0.19888759498707784,0.24860948528112461,0.29833139248061674,0.34805328277466346,0.3977751899741556,0.4474970802682024,0.49721898746769455,0.5469408777617413,0.5966627849612334,0.6463846752552801,0.6961065824547723,0.745828472748819,0.7955503799483112,0.845272270242358,0.845272270242358,0.8933499526196786,0.9414276060635433,0.9895052884408639,1.0375829708181845,1.085660624262049,1.1337383066393696,1.1818159600832343,1.2298936424605549,1.2779713248378755,1.32604897828174,1.3741266606590605,1.3741266606590605,1.4224328884060216,1.470739116152983,1.5190453438999443,1.5673516005803616,1.6156578283273229,1.663964056074284,1.7122702838212454,1.7605765115682066,1.8088827393151679,1.8571889959955852,1.9054952237425464,1.9538014514895077,2.002107679236469,2.0504139069834304,2.098720134730392,2.147026391410809,2.19533261915777,2.2436388469047315,2.2919450746516925,2.2919450746516925,2.340644037446043,2.3893430002403933,2.4380419630347436,2.486740925829094,2.5354398886234444,2.5841388514177948,2.632837814212145,2.6815367770064955,2.6815367770064955,2.7309249713438746,2.7803131367477976,2.8297013310851766,2.8790894964890996,2.9284776908264787,2.9778658562304017,3.0272540505677807,3.0766422159717037,3.126030410309083,3.175418575713006,3.224806770050385,3.274194935454308,3.323583129791687,3.37297129519561,3.422359489532989,3.471747654936912,3.521135849274291,3.570524014678214,3.619912209015593,3.669300374419516,3.669300374419516,3.7151912869127433,3.7610821994059704,3.8069731118991976,3.852864024392425,3.898754936885652,3.9446458493788787,3.990536761872106,4.036427674365333,4.08231858685856,4.128209499351787,4.128209499351787,4.173542109879815,4.218874712967447,4.264207323495476,4.264207323495476,4.313885699103602,4.3635640914164675,4.4132424670245936,4.46292085933746,4.512599234945586,4.562277627258452,4.611956002866578,4.661634378474704,4.71131275408283,4.760991146395696,4.810669522003822,4.860347914316689,4.910026289924815,4.95970468223768,5.009383057845806,5.059061433453932,5.059061433453932,5.102869505285879,5.1466775848171515,5.1904856566490984,5.234293728481045,5.278101808012318,5.321909879844265],\"y\":[-0.10229999999999961,-0.10389999999999988,-0.11399999999999988,-0.20989999999999975,-0.34240000000000004,-0.48419999999999996,-0.6194999999999999,-0.7314999999999998,-0.8041999999999998,-0.8322999999999998,-0.8263999999999998,-0.8025999999999998,-0.7725999999999997,-0.7436999999999998,-0.7205999999999999,-0.7073,-0.7092999999999998,-0.7175999999999998,-0.7175999999999998,-0.7170999999999998,-0.7157999999999998,-0.7142999999999997,-0.7143999999999999,-0.7216999999999998,-0.7617999999999998,-0.8403999999999998,-0.8440999999999999,-0.8186999999999998,-0.7902999999999998,-0.7602999999999998,-0.7602999999999998,-0.7675999999999998,-0.7873999999999999,-0.7995999999999999,-0.7960999999999998,-0.7752999999999999,-0.7433999999999998,-0.7056999999999998,-0.6638999999999999,-0.6179999999999999,-0.5670999999999999,-0.5105,-0.44789999999999974,-0.3805999999999998,-0.35329999999999995,-0.4192,-0.5091999999999999,-0.6002999999999998,-0.6709999999999998,-0.6983999999999999,-0.6983999999999999,-0.6686999999999999,-0.5903,-0.4846999999999997,-0.37109999999999976,-0.2648999999999999,-0.17849999999999966,-0.12199999999999989,-0.10229999999999961,-0.10229999999999961,-0.10329999999999995,-0.10639999999999983,-0.2023999999999999,-0.3335999999999997,-0.47409999999999997,-0.6063999999999998,-0.7066999999999997,-0.7497999999999998,-0.7351999999999999,-0.6882999999999999,-0.6315999999999997,-0.6642999999999999,-0.7317999999999998,-0.7929999999999999,-0.8469999999999998,-0.8921999999999999,-0.9190999999999998,-0.8901999999999999,-0.8257999999999999,-0.7583999999999997,-0.7583999999999997,-0.8096999999999999,-0.8430999999999997,-0.8171999999999999,-0.7115999999999998,-0.5835999999999997,-0.5976999999999997,-0.6151999999999997,-0.6292999999999997,-0.6381999999999999,-0.6412999999999998,-0.6412999999999998,-0.6517999999999997,-0.6824999999999997,-0.7307999999999999,-0.7307999999999999,-0.8087999999999997,-0.8877999999999999,-0.8990999999999998,-0.8555999999999999,-0.8045999999999998,-0.7487999999999999,-0.6869999999999998,-0.6179999999999999,-0.5427,-0.46599999999999975,-0.4047999999999998,-0.41759999999999975,-0.5017,-0.5954999999999999,-0.6694,-0.6983999999999999,-0.7175999999999998,-0.7356999999999998,-0.7637999999999998,-0.7786999999999997,-0.7741999999999998,-0.7556999999999998,-0.7307999999999999],\"type\":\"scatter\"},{\"mode\":\"lines\",\"name\":\"band 15\",\"x\":[0.0,0.04972189029404676,0.0994437974935389,0.14916568778758565,0.19888759498707784,0.24860948528112461,0.29833139248061674,0.34805328277466346,0.3977751899741556,0.4474970802682024,0.49721898746769455,0.5469408777617413,0.5966627849612334,0.6463846752552801,0.6961065824547723,0.745828472748819,0.7955503799483112,0.845272270242358,0.845272270242358,0.8933499526196786,0.9414276060635433,0.9895052884408639,1.0375829708181845,1.085660624262049,1.1337383066393696,1.1818159600832343,1.2298936424605549,1.2779713248378755,1.32604897828174,1.3741266606590605,1.3741266606590605,1.4224328884060216,1.470739116152983,1.5190453438999443,1.5673516005803616,1.6156578283273229,1.663964056074284,1.7122702838212454,1.7605765115682066,1.8088827393151679,1.8571889959955852,1.9054952237425464,1.9538014514895077,2.002107679236469,2.0504139069834304,2.098720134730392,2.147026391410809,2.19533261915777,2.2436388469047315,2.2919450746516925,2.2919450746516925,2.340644037446043,2.3893430002403933,2.4380419630347436,2.486740925829094,2.5354398886234444,2.5841388514177948,2.632837814212145,2.6815367770064955,2.6815367770064955,2.7309249713438746,2.7803131367477976,2.8297013310851766,2.8790894964890996,2.9284776908264787,2.9778658562304017,3.0272540505677807,3.0766422159717037,3.126030410309083,3.175418575713006,3.224806770050385,3.274194935454308,3.323583129791687,3.37297129519561,3.422359489532989,3.471747654936912,3.521135849274291,3.570524014678214,3.619912209015593,3.669300374419516,3.669300374419516,3.7151912869127433,3.7610821994059704,3.8069731118991976,3.852864024392425,3.898754936885652,3.9446458493788787,3.990536761872106,4.036427674365333,4.08231858685856,4.128209499351787,4.128209499351787,4.173542109879815,4.218874712967447,4.264207323495476,4.264207323495476,4.313885699103602,4.3635640914164675,4.4132424670245936,4.46292085933746,4.512599234945586,4.562277627258452,4.611956002866578,4.661634378474704,4.71131275408283,4.760991146395696,4.810669522003822,4.860347914316689,4.910026289924815,4.95970468223768,5.009383057845806,5.059061433453932,5.059061433453932,5.102869505285879,5.1466775848171515,5.1904856566490984,5.234293728481045,5.278101808012318,5.321909879844265],\"y\":[0.0,-0.02499999999999991,-0.09039999999999981,-0.10779999999999967,-0.1115999999999997,-0.11529999999999996,-0.15459999999999985,-0.19369999999999976,-0.23029999999999973,-0.26229999999999976,-0.28839999999999977,-0.3078999999999996,-0.32089999999999996,-0.3285,-0.40559999999999974,-0.4945999999999997,-0.5633999999999997,-0.5877999999999997,-0.5877999999999997,-0.5677999999999996,-0.5156999999999998,-0.4554,-0.5357999999999996,-0.6194999999999999,-0.6751999999999998,-0.6919,-0.7014999999999998,-0.7128999999999999,-0.7279999999999998,-0.7466999999999999,-0.7466999999999999,-0.7317999999999998,-0.7101999999999999,-0.6981999999999999,-0.6888999999999998,-0.6717999999999997,-0.6419999999999999,-0.6006999999999998,-0.5516999999999999,-0.49849999999999994,-0.44499999999999984,-0.3948999999999998,-0.35399999999999965,-0.3334999999999999,-0.31099999999999994,-0.24309999999999965,-0.18189999999999973,-0.13280000000000003,-0.10089999999999977,-0.08979999999999988,-0.08979999999999988,-0.08630000000000004,-0.07640000000000002,-0.061699999999999644,-0.04449999999999976,-0.027399999999999647,-0.01289999999999969,-0.0032999999999998586,0.0,0.0,-0.024699999999999722,-0.09519999999999973,-0.11139999999999972,-0.12019999999999964,-0.15469999999999962,-0.21479999999999988,-0.2841,-0.35909999999999975,-0.43699999999999983,-0.5151999999999997,-0.5915999999999997,-0.5791999999999997,-0.54,-0.5192999999999999,-0.5198999999999998,-0.5415999999999999,-0.5817999999999999,-0.6355999999999997,-0.6967999999999996,-0.7531999999999999,-0.7531999999999999,-0.6858,-0.6254999999999997,-0.5840999999999998,-0.5714999999999999,-0.5806,-0.4591999999999996,-0.3495999999999997,-0.2634999999999996,-0.20829999999999993,-0.1892999999999998,-0.1892999999999998,-0.1921999999999997,-0.20059999999999967,-0.2237,-0.2237,-0.20859999999999967,-0.20719999999999983,-0.20889999999999986,-0.21219999999999972,-0.21509999999999962,-0.21579999999999977,-0.2126999999999999,-0.20479999999999965,-0.19199999999999973,-0.1751999999999998,-0.23029999999999973,-0.2347999999999999,-0.18489999999999984,-0.1349999999999998,-0.1014999999999997,-0.08979999999999988,-0.5877999999999997,-0.5587999999999997,-0.49719999999999986,-0.4243999999999999,-0.34999999999999964,-0.2808999999999999,-0.2237],\"type\":\"scatter\"},{\"mode\":\"lines\",\"name\":\"band 16\",\"x\":[0.0,0.04972189029404676,0.0994437974935389,0.14916568778758565,0.19888759498707784,0.24860948528112461,0.29833139248061674,0.34805328277466346,0.3977751899741556,0.4474970802682024,0.49721898746769455,0.5469408777617413,0.5966627849612334,0.6463846752552801,0.6961065824547723,0.745828472748819,0.7955503799483112,0.845272270242358,0.845272270242358,0.8933499526196786,0.9414276060635433,0.9895052884408639,1.0375829708181845,1.085660624262049,1.1337383066393696,1.1818159600832343,1.2298936424605549,1.2779713248378755,1.32604897828174,1.3741266606590605,1.3741266606590605,1.4224328884060216,1.470739116152983,1.5190453438999443,1.5673516005803616,1.6156578283273229,1.663964056074284,1.7122702838212454,1.7605765115682066,1.8088827393151679,1.8571889959955852,1.9054952237425464,1.9538014514895077,2.002107679236469,2.0504139069834304,2.098720134730392,2.147026391410809,2.19533261915777,2.2436388469047315,2.2919450746516925,2.2919450746516925,2.340644037446043,2.3893430002403933,2.4380419630347436,2.486740925829094,2.5354398886234444,2.5841388514177948,2.632837814212145,2.6815367770064955,2.6815367770064955,2.7309249713438746,2.7803131367477976,2.8297013310851766,2.8790894964890996,2.9284776908264787,2.9778658562304017,3.0272540505677807,3.0766422159717037,3.126030410309083,3.175418575713006,3.224806770050385,3.274194935454308,3.323583129791687,3.37297129519561,3.422359489532989,3.471747654936912,3.521135849274291,3.570524014678214,3.619912209015593,3.669300374419516,3.669300374419516,3.7151912869127433,3.7610821994059704,3.8069731118991976,3.852864024392425,3.898754936885652,3.9446458493788787,3.990536761872106,4.036427674365333,4.08231858685856,4.128209499351787,4.128209499351787,4.173542109879815,4.218874712967447,4.264207323495476,4.264207323495476,4.313885699103602,4.3635640914164675,4.4132424670245936,4.46292085933746,4.512599234945586,4.562277627258452,4.611956002866578,4.661634378474704,4.71131275408283,4.760991146395696,4.810669522003822,4.860347914316689,4.910026289924815,4.95970468223768,5.009383057845806,5.059061433453932,5.059061433453932,5.102869505285879,5.1466775848171515,5.1904856566490984,5.234293728481045,5.278101808012318,5.321909879844265],\"y\":[0.0,-0.005399999999999849,-0.021199999999999886,-0.0461999999999998,-0.07830000000000004,-0.11299999999999999,-0.11229999999999984,-0.11119999999999974,-0.11309999999999976,-0.12259999999999982,-0.1448999999999998,-0.18409999999999993,-0.24219999999999997,-0.31779999999999964,-0.33199999999999985,-0.33309999999999995,-0.3331999999999997,-0.33309999999999995,-0.33309999999999995,-0.3477999999999999,-0.39019999999999966,-0.4476,-0.3780999999999999,-0.31769999999999987,-0.27349999999999985,-0.24939999999999962,-0.2466999999999997,-0.26359999999999983,-0.29549999999999965,-0.3348,-0.3348,-0.3712,-0.3908999999999998,-0.38280000000000003,-0.3472999999999997,-0.29359999999999964,-0.23179999999999978,-0.1701999999999999,-0.11619999999999964,-0.07609999999999983,-0.055199999999999694,-0.05669999999999975,-0.07889999999999997,-0.1115999999999997,-0.13209999999999988,-0.129,-0.11539999999999973,-0.10199999999999987,-0.09289999999999976,-0.08979999999999988,-0.08979999999999988,-0.08630000000000004,-0.07640000000000002,-0.061699999999999644,-0.04449999999999976,-0.027399999999999647,-0.01289999999999969,-0.0032999999999998586,0.0,0.0,-0.005999999999999783,-0.02400000000000002,-0.05359999999999987,-0.09199999999999964,-0.1155999999999997,-0.12270000000000003,-0.1269,-0.12939999999999996,-0.13039999999999985,-0.1307999999999998,-0.13159999999999972,-0.13419999999999987,-0.13999999999999968,-0.15009999999999968,-0.1654,-0.18619999999999992,-0.21259999999999968,-0.2434999999999996,-0.27780000000000005,-0.3131999999999997,-0.3131999999999997,-0.34389999999999965,-0.3666999999999998,-0.37129999999999974,-0.34899999999999975,-0.3081999999999998,-0.2634999999999996,-0.2237,-0.19309999999999983,-0.1740999999999997,-0.16759999999999975,-0.16759999999999975,-0.1741999999999999,-0.19349999999999978,-0.21409999999999973,-0.21409999999999973,-0.19099999999999984,-0.16199999999999992,-0.13490000000000002,-0.10939999999999994,-0.08709999999999996,-0.07169999999999987,-0.06849999999999978,-0.08259999999999978,-0.11739999999999995,-0.17159999999999975,-0.15579999999999972,-0.1357999999999997,-0.11749999999999972,-0.10270000000000001,-0.09309999999999974,-0.08979999999999988,-0.33309999999999995,-0.3272999999999997,-0.3112999999999997,-0.2881999999999998,-0.2616999999999998,-0.2359,-0.21409999999999973],\"type\":\"scatter\"},{\"mode\":\"lines\",\"name\":\"band 17\",\"x\":[0.0,0.04972189029404676,0.0994437974935389,0.14916568778758565,0.19888759498707784,0.24860948528112461,0.29833139248061674,0.34805328277466346,0.3977751899741556,0.4474970802682024,0.49721898746769455,0.5469408777617413,0.5966627849612334,0.6463846752552801,0.6961065824547723,0.745828472748819,0.7955503799483112,0.845272270242358,0.845272270242358,0.8933499526196786,0.9414276060635433,0.9895052884408639,1.0375829708181845,1.085660624262049,1.1337383066393696,1.1818159600832343,1.2298936424605549,1.2779713248378755,1.32604897828174,1.3741266606590605,1.3741266606590605,1.4224328884060216,1.470739116152983,1.5190453438999443,1.5673516005803616,1.6156578283273229,1.663964056074284,1.7122702838212454,1.7605765115682066,1.8088827393151679,1.8571889959955852,1.9054952237425464,1.9538014514895077,2.002107679236469,2.0504139069834304,2.098720134730392,2.147026391410809,2.19533261915777,2.2436388469047315,2.2919450746516925,2.2919450746516925,2.340644037446043,2.3893430002403933,2.4380419630347436,2.486740925829094,2.5354398886234444,2.5841388514177948,2.632837814212145,2.6815367770064955,2.6815367770064955,2.7309249713438746,2.7803131367477976,2.8297013310851766,2.8790894964890996,2.9284776908264787,2.9778658562304017,3.0272540505677807,3.0766422159717037,3.126030410309083,3.175418575713006,3.224806770050385,3.274194935454308,3.323583129791687,3.37297129519561,3.422359489532989,3.471747654936912,3.521135849274291,3.570524014678214,3.619912209015593,3.669300374419516,3.669300374419516,3.7151912869127433,3.7610821994059704,3.8069731118991976,3.852864024392425,3.898754936885652,3.9446458493788787,3.990536761872106,4.036427674365333,4.08231858685856,4.128209499351787,4.128209499351787,4.173542109879815,4.218874712967447,4.264207323495476,4.264207323495476,4.313885699103602,4.3635640914164675,4.4132424670245936,4.46292085933746,4.512599234945586,4.562277627258452,4.611956002866578,4.661634378474704,4.71131275408283,4.760991146395696,4.810669522003822,4.860347914316689,4.910026289924815,4.95970468223768,5.009383057845806,5.059061433453932,5.059061433453932,5.102869505285879,5.1466775848171515,5.1904856566490984,5.234293728481045,5.278101808012318,5.321909879844265],\"y\":[3.4977,3.5143000000000004,3.4939,3.4398,3.3820000000000006,3.3264000000000005,3.2758000000000003,3.2315000000000005,3.1936,3.1619,3.1364,3.1172000000000004,3.1045,3.0978000000000003,3.0962000000000005,3.0977000000000006,3.1000000000000005,3.1010999999999997,3.1010999999999997,3.1099000000000006,3.1340000000000003,3.1678000000000006,3.2044000000000006,3.239,3.2688000000000006,3.2929000000000004,3.3098,3.3162000000000003,3.3095,3.292,3.292,3.2692000000000005,3.2468000000000004,3.229,3.2194000000000003,3.2203,3.2332,3.2342000000000004,3.1997999999999998,3.173,3.1555,3.1486,3.1530000000000005,3.1692,3.1965000000000003,3.2328,3.2738000000000005,3.3130000000000006,3.3417000000000003,3.3523000000000005,3.3523000000000005,3.3551,3.3631,3.3763000000000005,3.3942000000000005,3.4166,3.4435000000000002,3.4748,3.4977,3.4977,3.5170000000000003,3.4976000000000003,3.4450000000000003,3.3931000000000004,3.3485000000000005,3.3148,3.2933000000000003,3.2835,3.284,3.2932000000000006,3.309,3.3298000000000005,3.3542000000000005,3.3597,3.3365,3.3222000000000005,3.316,3.3153000000000006,3.3139000000000003,3.3,3.3,3.2629,3.1969000000000003,3.1050000000000004,2.9944000000000006,2.8753,2.7588,2.6552,2.5736,2.5215000000000005,2.5035,2.5035,2.5129,2.5408,2.5862,2.5862,2.5812,2.5945,2.6254,2.6724000000000006,2.7329,2.8037,2.8807,2.9588,3.0335,3.1017,3.1628,3.2179,3.2678000000000003,3.3106999999999998,3.3411,3.3523000000000005,3.1010999999999997,3.0545,2.9560000000000004,2.8474000000000004,2.7449000000000003,2.6562,2.5862],\"type\":\"scatter\"},{\"mode\":\"lines\",\"name\":\"band 18\",\"x\":[0.0,0.04972189029404676,0.0994437974935389,0.14916568778758565,0.19888759498707784,0.24860948528112461,0.29833139248061674,0.34805328277466346,0.3977751899741556,0.4474970802682024,0.49721898746769455,0.5469408777617413,0.5966627849612334,0.6463846752552801,0.6961065824547723,0.745828472748819,0.7955503799483112,0.845272270242358,0.845272270242358,0.8933499526196786,0.9414276060635433,0.9895052884408639,1.0375829708181845,1.085660624262049,1.1337383066393696,1.1818159600832343,1.2298936424605549,1.2779713248378755,1.32604897828174,1.3741266606590605,1.3741266606590605,1.4224328884060216,1.470739116152983,1.5190453438999443,1.5673516005803616,1.6156578283273229,1.663964056074284,1.7122702838212454,1.7605765115682066,1.8088827393151679,1.8571889959955852,1.9054952237425464,1.9538014514895077,2.002107679236469,2.0504139069834304,2.098720134730392,2.147026391410809,2.19533261915777,2.2436388469047315,2.2919450746516925,2.2919450746516925,2.340644037446043,2.3893430002403933,2.4380419630347436,2.486740925829094,2.5354398886234444,2.5841388514177948,2.632837814212145,2.6815367770064955,2.6815367770064955,2.7309249713438746,2.7803131367477976,2.8297013310851766,2.8790894964890996,2.9284776908264787,2.9778658562304017,3.0272540505677807,3.0766422159717037,3.126030410309083,3.175418575713006,3.224806770050385,3.274194935454308,3.323583129791687,3.37297129519561,3.422359489532989,3.471747654936912,3.521135849274291,3.570524014678214,3.619912209015593,3.669300374419516,3.669300374419516,3.7151912869127433,3.7610821994059704,3.8069731118991976,3.852864024392425,3.898754936885652,3.9446458493788787,3.990536761872106,4.036427674365333,4.08231858685856,4.128209499351787,4.128209499351787,4.173542109879815,4.218874712967447,4.264207323495476,4.264207323495476,4.313885699103602,4.3635640914164675,4.4132424670245936,4.46292085933746,4.512599234945586,4.562277627258452,4.611956002866578,4.661634378474704,4.71131275408283,4.760991146395696,4.810669522003822,4.860347914316689,4.910026289924815,4.95970468223768,5.009383057845806,5.059061433453932,5.059061433453932,5.102869505285879,5.1466775848171515,5.1904856566490984,5.234293728481045,5.278101808012318,5.321909879844265],\"y\":[3.5566000000000004,3.5425000000000004,3.5743,3.6437,3.6811,3.6722,3.6583000000000006,3.646,3.6353,3.6263000000000005,3.6191000000000004,3.6135,3.5946,3.5468,3.5003,3.4628000000000005,3.4383,3.4297000000000004,3.4297000000000004,3.4372,3.4572000000000003,3.4835000000000003,3.5076,3.5230000000000006,3.5293,3.5295000000000005,3.518,3.5122999999999998,3.508,3.4911000000000003,3.4911000000000003,3.4674000000000005,3.4369000000000005,3.4005,3.3598,3.3167999999999997,3.2741,3.2589000000000006,3.2971000000000004,3.3462000000000005,3.4038000000000004,3.4659000000000004,3.5273000000000003,3.582,3.6266,3.6615,3.6884000000000006,3.7072000000000003,3.7178000000000004,3.7211,3.7211,3.7213000000000003,3.7218999999999998,3.723,3.7246000000000006,3.7096,3.6491,3.5902000000000003,3.5566000000000004,3.5566000000000004,3.5397,3.5709,3.6404000000000005,3.6643,3.6532,3.6363000000000003,3.6158,3.5898000000000003,3.5566000000000004,3.5167,3.4731000000000005,3.4302,3.3914999999999997,3.3810000000000002,3.4089,3.4369000000000005,3.4638,3.4884000000000004,3.5097000000000005,3.5005000000000006,3.5005000000000006,3.4973,3.5071000000000003,3.5243,3.5439,3.5627000000000004,3.5791000000000004,3.5890000000000004,3.5934,3.5961,3.5970000000000004,3.5970000000000004,3.5962000000000005,3.5939000000000005,3.5904,3.5904,3.5868,3.5779000000000005,3.5661000000000005,3.5544000000000002,3.5458,3.5435,3.5502000000000002,3.5679,3.5963000000000003,3.6301000000000005,3.6608,3.6811,3.6983000000000006,3.7096,3.7179,3.7211,3.4297000000000004,3.4655000000000005,3.5257000000000005,3.5620000000000003,3.5774,3.5855000000000006,3.5904],\"type\":\"scatter\"},{\"mode\":\"lines\",\"name\":\"band 19\",\"x\":[0.0,0.04972189029404676,0.0994437974935389,0.14916568778758565,0.19888759498707784,0.24860948528112461,0.29833139248061674,0.34805328277466346,0.3977751899741556,0.4474970802682024,0.49721898746769455,0.5469408777617413,0.5966627849612334,0.6463846752552801,0.6961065824547723,0.745828472748819,0.7955503799483112,0.845272270242358,0.845272270242358,0.8933499526196786,0.9414276060635433,0.9895052884408639,1.0375829708181845,1.085660624262049,1.1337383066393696,1.1818159600832343,1.2298936424605549,1.2779713248378755,1.32604897828174,1.3741266606590605,1.3741266606590605,1.4224328884060216,1.470739116152983,1.5190453438999443,1.5673516005803616,1.6156578283273229,1.663964056074284,1.7122702838212454,1.7605765115682066,1.8088827393151679,1.8571889959955852,1.9054952237425464,1.9538014514895077,2.002107679236469,2.0504139069834304,2.098720134730392,2.147026391410809,2.19533261915777,2.2436388469047315,2.2919450746516925,2.2919450746516925,2.340644037446043,2.3893430002403933,2.4380419630347436,2.486740925829094,2.5354398886234444,2.5841388514177948,2.632837814212145,2.6815367770064955,2.6815367770064955,2.7309249713438746,2.7803131367477976,2.8297013310851766,2.8790894964890996,2.9284776908264787,2.9778658562304017,3.0272540505677807,3.0766422159717037,3.126030410309083,3.175418575713006,3.224806770050385,3.274194935454308,3.323583129791687,3.37297129519561,3.422359489532989,3.471747654936912,3.521135849274291,3.570524014678214,3.619912209015593,3.669300374419516,3.669300374419516,3.7151912869127433,3.7610821994059704,3.8069731118991976,3.852864024392425,3.898754936885652,3.9446458493788787,3.990536761872106,4.036427674365333,4.08231858685856,4.128209499351787,4.128209499351787,4.173542109879815,4.218874712967447,4.264207323495476,4.264207323495476,4.313885699103602,4.3635640914164675,4.4132424670245936,4.46292085933746,4.512599234945586,4.562277627258452,4.611956002866578,4.661634378474704,4.71131275408283,4.760991146395696,4.810669522003822,4.860347914316689,4.910026289924815,4.95970468223768,5.009383057845806,5.059061433453932,5.059061433453932,5.102869505285879,5.1466775848171515,5.1904856566490984,5.234293728481045,5.278101808012318,5.321909879844265],\"y\":[3.7344,3.7304000000000004,3.7190000000000003,3.7036,3.6874000000000002,3.686,3.6818,3.6731,3.6602000000000006,3.644,3.6279000000000003,3.6146000000000003,3.6096000000000004,3.6069000000000004,3.6052,3.6043000000000003,3.6038000000000006,3.6037,3.6037,3.6022,3.5977000000000006,3.5901000000000005,3.5791000000000004,3.5651,3.5488,3.5319000000000003,3.526,3.5192000000000005,3.519,3.5366,3.5366,3.5600000000000005,3.5840000000000005,3.6052,3.6218000000000004,3.6338,3.6422,3.6486,3.6547,3.662,3.6722,3.6864,3.6996,3.7025000000000006,3.7052000000000005,3.7079000000000004,3.7111,3.7151000000000005,3.7192,3.7211,3.7211,3.7213000000000003,3.7218999999999998,3.723,3.7246000000000006,3.7269000000000005,3.7298,3.7329,3.7344,3.7344,3.7306,3.7206,3.7136000000000005,3.7197000000000005,3.7175000000000002,3.7162000000000006,3.716,3.7110000000000003,3.6966,3.6831000000000005,3.6715,3.6611000000000002,3.6502,3.6370000000000005,3.6197,3.5979,3.5724,3.5448000000000004,3.5187,3.5272000000000006,3.5272000000000006,3.5403000000000002,3.5511,3.5603,3.5686999999999998,3.5763,3.5832000000000006,3.5921000000000003,3.6014,3.607,3.6089,3.6089,3.6086,3.6079,3.6069000000000004,3.6069000000000004,3.6059,3.6050000000000004,3.6044,3.6047000000000002,3.6061000000000005,3.6092000000000004,3.6145000000000005,3.6223,3.633,3.6467,3.6630000000000003,3.683,3.6984000000000004,3.7116,3.7189000000000005,3.7211,3.6037,3.6038000000000006,3.6041,3.6046000000000005,3.6053000000000006,3.6061000000000005,3.6069000000000004],\"type\":\"scatter\"},{\"mode\":\"lines\",\"name\":\"band 20\",\"x\":[0.0,0.04972189029404676,0.0994437974935389,0.14916568778758565,0.19888759498707784,0.24860948528112461,0.29833139248061674,0.34805328277466346,0.3977751899741556,0.4474970802682024,0.49721898746769455,0.5469408777617413,0.5966627849612334,0.6463846752552801,0.6961065824547723,0.745828472748819,0.7955503799483112,0.845272270242358,0.845272270242358,0.8933499526196786,0.9414276060635433,0.9895052884408639,1.0375829708181845,1.085660624262049,1.1337383066393696,1.1818159600832343,1.2298936424605549,1.2779713248378755,1.32604897828174,1.3741266606590605,1.3741266606590605,1.4224328884060216,1.470739116152983,1.5190453438999443,1.5673516005803616,1.6156578283273229,1.663964056074284,1.7122702838212454,1.7605765115682066,1.8088827393151679,1.8571889959955852,1.9054952237425464,1.9538014514895077,2.002107679236469,2.0504139069834304,2.098720134730392,2.147026391410809,2.19533261915777,2.2436388469047315,2.2919450746516925,2.2919450746516925,2.340644037446043,2.3893430002403933,2.4380419630347436,2.486740925829094,2.5354398886234444,2.5841388514177948,2.632837814212145,2.6815367770064955,2.6815367770064955,2.7309249713438746,2.7803131367477976,2.8297013310851766,2.8790894964890996,2.9284776908264787,2.9778658562304017,3.0272540505677807,3.0766422159717037,3.126030410309083,3.175418575713006,3.224806770050385,3.274194935454308,3.323583129791687,3.37297129519561,3.422359489532989,3.471747654936912,3.521135849274291,3.570524014678214,3.619912209015593,3.669300374419516,3.669300374419516,3.7151912869127433,3.7610821994059704,3.8069731118991976,3.852864024392425,3.898754936885652,3.9446458493788787,3.990536761872106,4.036427674365333,4.08231858685856,4.128209499351787,4.128209499351787,4.173542109879815,4.218874712967447,4.264207323495476,4.264207323495476,4.313885699103602,4.3635640914164675,4.4132424670245936,4.46292085933746,4.512599234945586,4.562277627258452,4.611956002866578,4.661634378474704,4.71131275408283,4.760991146395696,4.810669522003822,4.860347914316689,4.910026289924815,4.95970468223768,5.009383057845806,5.059061433453932,5.059061433453932,5.102869505285879,5.1466775848171515,5.1904856566490984,5.234293728481045,5.278101808012318,5.321909879844265],\"y\":[3.7344,3.7315000000000005,3.7302,3.7426000000000004,3.7580999999999998,3.7572,3.7569,3.7571000000000003,3.7356,3.7119999999999997,3.6898999999999997,3.6545000000000005,3.6157000000000004,3.6076000000000006,3.606,3.6061000000000005,3.6067,3.6069000000000004,3.6069000000000004,3.6069000000000004,3.6071,3.6084000000000005,3.6124,3.6201,3.63,3.6396000000000006,3.6477000000000004,3.654,3.6593999999999998,3.6644000000000005,3.6644000000000005,3.6698000000000004,3.6754,3.6809000000000003,3.6856999999999998,3.6893000000000002,3.6915000000000004,3.6925,3.6928,3.6933,3.6946000000000003,3.6968000000000005,3.7057,3.7291,3.7519,3.7707000000000006,3.7897,3.8138000000000005,3.8333000000000004,3.8362,3.8362,3.8323,3.8198,3.7967000000000004,3.7603,3.7269000000000005,3.7298,3.7329,3.7344,3.7344,3.731,3.7263,3.7227000000000006,3.7276,3.7331000000000003,3.7305,3.7229,3.7172,3.7195,3.7214,3.7178000000000004,3.7041000000000004,3.6884000000000006,3.675,3.6647,3.6578,3.6542000000000003,3.6539,3.6568000000000005,3.6629000000000005,3.6629000000000005,3.6706000000000003,3.6792,3.6873000000000005,3.6935000000000002,3.6975,3.6994,3.7,3.7,3.6997999999999998,3.6997,3.6997,3.6980000000000004,3.6931000000000003,3.6858000000000004,3.6858000000000004,3.6833,3.6814,3.6804000000000006,3.6811,3.6844,3.6913,3.7022000000000004,3.7171000000000003,3.7359999999999998,3.7603999999999997,3.7729,3.7792000000000003,3.7916,3.8132,3.8332000000000006,3.8362,3.6069000000000004,3.6109,3.6253,3.649,3.6666,3.6776,3.6858000000000004],\"type\":\"scatter\"},{\"mode\":\"lines\",\"name\":\"band 21\",\"x\":[0.0,0.04972189029404676,0.0994437974935389,0.14916568778758565,0.19888759498707784,0.24860948528112461,0.29833139248061674,0.34805328277466346,0.3977751899741556,0.4474970802682024,0.49721898746769455,0.5469408777617413,0.5966627849612334,0.6463846752552801,0.6961065824547723,0.745828472748819,0.7955503799483112,0.845272270242358,0.845272270242358,0.8933499526196786,0.9414276060635433,0.9895052884408639,1.0375829708181845,1.085660624262049,1.1337383066393696,1.1818159600832343,1.2298936424605549,1.2779713248378755,1.32604897828174,1.3741266606590605,1.3741266606590605,1.4224328884060216,1.470739116152983,1.5190453438999443,1.5673516005803616,1.6156578283273229,1.663964056074284,1.7122702838212454,1.7605765115682066,1.8088827393151679,1.8571889959955852,1.9054952237425464,1.9538014514895077,2.002107679236469,2.0504139069834304,2.098720134730392,2.147026391410809,2.19533261915777,2.2436388469047315,2.2919450746516925,2.2919450746516925,2.340644037446043,2.3893430002403933,2.4380419630347436,2.486740925829094,2.5354398886234444,2.5841388514177948,2.632837814212145,2.6815367770064955,2.6815367770064955,2.7309249713438746,2.7803131367477976,2.8297013310851766,2.8790894964890996,2.9284776908264787,2.9778658562304017,3.0272540505677807,3.0766422159717037,3.126030410309083,3.175418575713006,3.224806770050385,3.274194935454308,3.323583129791687,3.37297129519561,3.422359489532989,3.471747654936912,3.521135849274291,3.570524014678214,3.619912209015593,3.669300374419516,3.669300374419516,3.7151912869127433,3.7610821994059704,3.8069731118991976,3.852864024392425,3.898754936885652,3.9446458493788787,3.990536761872106,4.036427674365333,4.08231858685856,4.128209499351787,4.128209499351787,4.173542109879815,4.218874712967447,4.264207323495476,4.264207323495476,4.313885699103602,4.3635640914164675,4.4132424670245936,4.46292085933746,4.512599234945586,4.562277627258452,4.611956002866578,4.661634378474704,4.71131275408283,4.760991146395696,4.810669522003822,4.860347914316689,4.910026289924815,4.95970468223768,5.009383057845806,5.059061433453932,5.059061433453932,5.102869505285879,5.1466775848171515,5.1904856566490984,5.234293728481045,5.278101808012318,5.321909879844265],\"y\":[3.7698,3.7671,3.7627000000000006,3.7597000000000005,3.7893,3.8035000000000005,3.7895000000000003,3.7635000000000005,3.7579000000000002,3.7591,3.7385,3.7072000000000003,3.694,3.6875,3.684,3.6823000000000006,3.6816000000000004,3.6814,3.6814,3.6826,3.6862000000000004,3.6924,3.7008,3.7105000000000006,3.7202,3.7287,3.7359,3.7423,3.7481,3.7538,3.7538,3.7538,3.7518000000000002,3.7511,3.7521000000000004,3.7547000000000006,3.7584999999999997,3.763,3.7679,3.7732,3.7789,3.7860000000000005,3.7962,3.8131000000000004,3.8233000000000006,3.8264000000000005,3.8282,3.83,3.8437,3.8634000000000004,3.8634000000000004,3.8599000000000006,3.8500000000000005,3.8354,3.8183,3.8009000000000004,3.7855,3.7742000000000004,3.7698,3.7698,3.7674000000000003,3.7655000000000003,3.7738000000000005,3.8108000000000004,3.8142000000000005,3.8142000000000005,3.8099,3.7959000000000005,3.7811000000000003,3.7605000000000004,3.7461,3.7443,3.7477,3.7517000000000005,3.7499000000000002,3.7469,3.7456000000000005,3.7458,3.7469,3.7486000000000006,3.7486000000000006,3.7505000000000006,3.7525000000000004,3.7549,3.7579000000000002,3.7616000000000005,3.766,3.7708000000000004,3.7751,3.7781000000000002,3.7792000000000003,3.7792000000000003,3.7789,3.7782,3.7733,3.7733,3.7761000000000005,3.776,3.7749000000000006,3.7735000000000003,3.7721,3.7707000000000006,3.7696000000000005,3.7689000000000004,3.7689000000000004,3.7699,3.7903000000000002,3.8148,3.8253000000000004,3.8294000000000006,3.843,3.8634000000000004,3.6814,3.6839000000000004,3.6928,3.7128000000000005,3.74,3.761,3.7733],\"type\":\"scatter\"},{\"mode\":\"lines\",\"name\":\"band 22\",\"x\":[0.0,0.04972189029404676,0.0994437974935389,0.14916568778758565,0.19888759498707784,0.24860948528112461,0.29833139248061674,0.34805328277466346,0.3977751899741556,0.4474970802682024,0.49721898746769455,0.5469408777617413,0.5966627849612334,0.6463846752552801,0.6961065824547723,0.745828472748819,0.7955503799483112,0.845272270242358,0.845272270242358,0.8933499526196786,0.9414276060635433,0.9895052884408639,1.0375829708181845,1.085660624262049,1.1337383066393696,1.1818159600832343,1.2298936424605549,1.2779713248378755,1.32604897828174,1.3741266606590605,1.3741266606590605,1.4224328884060216,1.470739116152983,1.5190453438999443,1.5673516005803616,1.6156578283273229,1.663964056074284,1.7122702838212454,1.7605765115682066,1.8088827393151679,1.8571889959955852,1.9054952237425464,1.9538014514895077,2.002107679236469,2.0504139069834304,2.098720134730392,2.147026391410809,2.19533261915777,2.2436388469047315,2.2919450746516925,2.2919450746516925,2.340644037446043,2.3893430002403933,2.4380419630347436,2.486740925829094,2.5354398886234444,2.5841388514177948,2.632837814212145,2.6815367770064955,2.6815367770064955,2.7309249713438746,2.7803131367477976,2.8297013310851766,2.8790894964890996,2.9284776908264787,2.9778658562304017,3.0272540505677807,3.0766422159717037,3.126030410309083,3.175418575713006,3.224806770050385,3.274194935454308,3.323583129791687,3.37297129519561,3.422359489532989,3.471747654936912,3.521135849274291,3.570524014678214,3.619912209015593,3.669300374419516,3.669300374419516,3.7151912869127433,3.7610821994059704,3.8069731118991976,3.852864024392425,3.898754936885652,3.9446458493788787,3.990536761872106,4.036427674365333,4.08231858685856,4.128209499351787,4.128209499351787,4.173542109879815,4.218874712967447,4.264207323495476,4.264207323495476,4.313885699103602,4.3635640914164675,4.4132424670245936,4.46292085933746,4.512599234945586,4.562277627258452,4.611956002866578,4.661634378474704,4.71131275408283,4.760991146395696,4.810669522003822,4.860347914316689,4.910026289924815,4.95970468223768,5.009383057845806,5.059061433453932,5.059061433453932,5.102869505285879,5.1466775848171515,5.1904856566490984,5.234293728481045,5.278101808012318,5.321909879844265],\"y\":[3.7698,3.7784000000000004,3.7934,3.806,3.8174,3.8411,3.8459000000000003,3.8449999999999998,3.8324,3.7862,3.7607,3.7625,3.7645,3.7664,3.768,3.7693000000000003,3.7702,3.7704000000000004,3.7704000000000004,3.7712000000000003,3.7731000000000003,3.7750000000000004,3.7761000000000005,3.7758000000000003,3.7741,3.7714,3.7681000000000004,3.7643000000000004,3.7605000000000004,3.7569,3.7569,3.7590000000000003,3.7635000000000005,3.7674000000000003,3.7705,3.7733,3.7762000000000002,3.7797,3.7842000000000002,3.7901,3.7972,3.8050000000000006,3.8124000000000002,3.8186999999999998,3.8422,3.8834999999999997,3.9082,3.8872,3.8709,3.8634000000000004,3.8634000000000004,3.8599000000000006,3.8500000000000005,3.8354,3.8183,3.8009000000000004,3.7855,3.7742000000000004,3.7698,3.7698,3.7781000000000002,3.7923,3.8037,3.8213,3.8524000000000003,3.8356000000000003,3.8138000000000005,3.7991,3.7839,3.7761000000000005,3.7702999999999998,3.7650000000000006,3.7596,3.7542999999999997,3.7554,3.7583,3.7602,3.7611,3.7611,3.7605000000000004,3.7605000000000004,3.7598000000000003,3.7596,3.7607,3.7635000000000005,3.7678000000000003,3.7725,3.7769000000000004,3.7801,3.7821,3.7828,3.7828,3.7819000000000003,3.779,3.7771,3.7771,3.7768000000000006,3.7782,3.7800000000000002,3.7821,3.7853000000000003,3.7903000000000002,3.7978000000000005,3.8078000000000003,3.8197,3.8321000000000005,3.8463000000000003,3.8683000000000005,3.8885000000000005,3.8848000000000003,3.8711,3.8634000000000004,3.7704000000000004,3.7707000000000006,3.7715000000000005,3.7727000000000004,3.7741,3.7757000000000005,3.7771],\"type\":\"scatter\"},{\"mode\":\"lines\",\"name\":\"band 23\",\"x\":[0.0,0.04972189029404676,0.0994437974935389,0.14916568778758565,0.19888759498707784,0.24860948528112461,0.29833139248061674,0.34805328277466346,0.3977751899741556,0.4474970802682024,0.49721898746769455,0.5469408777617413,0.5966627849612334,0.6463846752552801,0.6961065824547723,0.745828472748819,0.7955503799483112,0.845272270242358,0.845272270242358,0.8933499526196786,0.9414276060635433,0.9895052884408639,1.0375829708181845,1.085660624262049,1.1337383066393696,1.1818159600832343,1.2298936424605549,1.2779713248378755,1.32604897828174,1.3741266606590605,1.3741266606590605,1.4224328884060216,1.470739116152983,1.5190453438999443,1.5673516005803616,1.6156578283273229,1.663964056074284,1.7122702838212454,1.7605765115682066,1.8088827393151679,1.8571889959955852,1.9054952237425464,1.9538014514895077,2.002107679236469,2.0504139069834304,2.098720134730392,2.147026391410809,2.19533261915777,2.2436388469047315,2.2919450746516925,2.2919450746516925,2.340644037446043,2.3893430002403933,2.4380419630347436,2.486740925829094,2.5354398886234444,2.5841388514177948,2.632837814212145,2.6815367770064955,2.6815367770064955,2.7309249713438746,2.7803131367477976,2.8297013310851766,2.8790894964890996,2.9284776908264787,2.9778658562304017,3.0272540505677807,3.0766422159717037,3.126030410309083,3.175418575713006,3.224806770050385,3.274194935454308,3.323583129791687,3.37297129519561,3.422359489532989,3.471747654936912,3.521135849274291,3.570524014678214,3.619912209015593,3.669300374419516,3.669300374419516,3.7151912869127433,3.7610821994059704,3.8069731118991976,3.852864024392425,3.898754936885652,3.9446458493788787,3.990536761872106,4.036427674365333,4.08231858685856,4.128209499351787,4.128209499351787,4.173542109879815,4.218874712967447,4.264207323495476,4.264207323495476,4.313885699103602,4.3635640914164675,4.4132424670245936,4.46292085933746,4.512599234945586,4.562277627258452,4.611956002866578,4.661634378474704,4.71131275408283,4.760991146395696,4.810669522003822,4.860347914316689,4.910026289924815,4.95970468223768,5.009383057845806,5.059061433453932,5.059061433453932,5.102869505285879,5.1466775848171515,5.1904856566490984,5.234293728481045,5.278101808012318,5.321909879844265],\"y\":[3.9241,3.933,3.9521000000000006,3.9694000000000003,3.9805,3.9779999999999998,3.9334,3.8879,3.8529,3.8499,3.8507,3.8520000000000003,3.8534000000000006,3.8548,3.8561000000000005,3.8571,3.8578,3.8580000000000005,3.8580000000000005,3.8584000000000005,3.8592000000000004,3.8602,3.8606,3.8597,3.8571999999999997,3.8538000000000006,3.8503,3.8479,3.8468,3.8472,3.8472,3.849,3.8519000000000005,3.8557000000000006,3.8605,3.8663,3.8731999999999998,3.8817000000000004,3.8925,3.9063,3.9238,3.9439,3.9607,3.9648000000000003,3.9530000000000003,3.9316000000000004,3.9276999999999997,3.9545000000000003,3.9414,3.9241,3.9241,3.9241,3.9241,3.9241,3.9241,3.9241,3.9241,3.9241,3.9241,3.9241,3.933,3.9461000000000004,3.9348,3.9240000000000004,3.9821999999999997,3.942,3.9066,3.8808,3.8662,3.8596000000000004,3.8569000000000004,3.8559,3.8554000000000004,3.8548999999999998,3.8539000000000003,3.8524000000000003,3.8505000000000003,3.8485000000000005,3.8471,3.8468999999999998,3.8468999999999998,3.8483,3.8520000000000003,3.8587,3.8689999999999998,3.8833,3.9013,3.9209000000000005,3.9392000000000005,3.9522000000000004,3.9569,3.9569,3.9542,3.9461000000000004,3.9331000000000005,3.9331000000000005,3.9355,3.9380000000000006,3.9407000000000005,3.9441000000000006,3.9487000000000005,3.9554,3.9653,3.9793000000000003,3.9961,3.9957000000000003,3.9912,3.9859,3.9782,3.9648000000000003,3.9423000000000004,3.9241,3.8580000000000005,3.8600000000000003,3.8662,3.8778000000000006,3.8950000000000005,3.9149000000000003,3.9331000000000005],\"type\":\"scatter\"},{\"mode\":\"lines\",\"name\":\"band 24\",\"x\":[0.0,0.04972189029404676,0.0994437974935389,0.14916568778758565,0.19888759498707784,0.24860948528112461,0.29833139248061674,0.34805328277466346,0.3977751899741556,0.4474970802682024,0.49721898746769455,0.5469408777617413,0.5966627849612334,0.6463846752552801,0.6961065824547723,0.745828472748819,0.7955503799483112,0.845272270242358,0.845272270242358,0.8933499526196786,0.9414276060635433,0.9895052884408639,1.0375829708181845,1.085660624262049,1.1337383066393696,1.1818159600832343,1.2298936424605549,1.2779713248378755,1.32604897828174,1.3741266606590605,1.3741266606590605,1.4224328884060216,1.470739116152983,1.5190453438999443,1.5673516005803616,1.6156578283273229,1.663964056074284,1.7122702838212454,1.7605765115682066,1.8088827393151679,1.8571889959955852,1.9054952237425464,1.9538014514895077,2.002107679236469,2.0504139069834304,2.098720134730392,2.147026391410809,2.19533261915777,2.2436388469047315,2.2919450746516925,2.2919450746516925,2.340644037446043,2.3893430002403933,2.4380419630347436,2.486740925829094,2.5354398886234444,2.5841388514177948,2.632837814212145,2.6815367770064955,2.6815367770064955,2.7309249713438746,2.7803131367477976,2.8297013310851766,2.8790894964890996,2.9284776908264787,2.9778658562304017,3.0272540505677807,3.0766422159717037,3.126030410309083,3.175418575713006,3.224806770050385,3.274194935454308,3.323583129791687,3.37297129519561,3.422359489532989,3.471747654936912,3.521135849274291,3.570524014678214,3.619912209015593,3.669300374419516,3.669300374419516,3.7151912869127433,3.7610821994059704,3.8069731118991976,3.852864024392425,3.898754936885652,3.9446458493788787,3.990536761872106,4.036427674365333,4.08231858685856,4.128209499351787,4.128209499351787,4.173542109879815,4.218874712967447,4.264207323495476,4.264207323495476,4.313885699103602,4.3635640914164675,4.4132424670245936,4.46292085933746,4.512599234945586,4.562277627258452,4.611956002866578,4.661634378474704,4.71131275408283,4.760991146395696,4.810669522003822,4.860347914316689,4.910026289924815,4.95970468223768,5.009383057845806,5.059061433453932,5.059061433453932,5.102869505285879,5.1466775848171515,5.1904856566490984,5.234293728481045,5.278101808012318,5.321909879844265],\"y\":[4.045,4.0204,3.9905,3.9736000000000002,3.9815000000000005,3.9866,3.99,3.9923,3.9943,3.9966,3.9991000000000003,4.002,4.0051000000000005,4.0082,4.0109,4.0131000000000006,4.0145,4.015000000000001,4.015000000000001,4.0232,4.0486,4.091600000000001,4.1508,4.2202,4.289000000000001,4.3431,4.3702000000000005,4.3678,4.345,4.313000000000001,4.313000000000001,4.2793,4.2482,4.2214,4.1994,4.1821,4.1687,4.1583000000000006,4.149900000000001,4.1421,4.1338,4.1240000000000006,4.112,4.0974,4.08,4.0601,4.0401,4.035,4.0668,4.097300000000001,4.097300000000001,4.0989,4.103400000000001,4.1104,4.1169,4.091200000000001,4.0681,4.051200000000001,4.045,4.045,4.0206,4.000900000000001,4.0256,4.0280000000000005,3.9836,4.0814,4.1568000000000005,4.2149,4.2624,4.301,4.3312,4.3528,4.3661,4.3724,4.3739,4.3735,4.3727,4.3696,4.3575,4.3263,4.3263,4.2754,4.2119,4.1503000000000005,4.1013,4.0677,4.0479,4.0387,4.0362,4.0367,4.0372,4.0372,4.0366,4.035,4.0324,4.0324,4.0325,4.0309,4.0280000000000005,4.024,4.0193,4.0143,4.0093000000000005,4.0045,4.0,4.0087,4.0073,3.9939,3.9914000000000005,4.0201,4.0648,4.097300000000001,4.015000000000001,4.0157,4.0176,4.020700000000001,4.0245,4.0286,4.0324],\"type\":\"scatter\"},{\"mode\":\"lines\",\"name\":\"band 25\",\"x\":[0.0,0.04972189029404676,0.0994437974935389,0.14916568778758565,0.19888759498707784,0.24860948528112461,0.29833139248061674,0.34805328277466346,0.3977751899741556,0.4474970802682024,0.49721898746769455,0.5469408777617413,0.5966627849612334,0.6463846752552801,0.6961065824547723,0.745828472748819,0.7955503799483112,0.845272270242358,0.845272270242358,0.8933499526196786,0.9414276060635433,0.9895052884408639,1.0375829708181845,1.085660624262049,1.1337383066393696,1.1818159600832343,1.2298936424605549,1.2779713248378755,1.32604897828174,1.3741266606590605,1.3741266606590605,1.4224328884060216,1.470739116152983,1.5190453438999443,1.5673516005803616,1.6156578283273229,1.663964056074284,1.7122702838212454,1.7605765115682066,1.8088827393151679,1.8571889959955852,1.9054952237425464,1.9538014514895077,2.002107679236469,2.0504139069834304,2.098720134730392,2.147026391410809,2.19533261915777,2.2436388469047315,2.2919450746516925,2.2919450746516925,2.340644037446043,2.3893430002403933,2.4380419630347436,2.486740925829094,2.5354398886234444,2.5841388514177948,2.632837814212145,2.6815367770064955,2.6815367770064955,2.7309249713438746,2.7803131367477976,2.8297013310851766,2.8790894964890996,2.9284776908264787,2.9778658562304017,3.0272540505677807,3.0766422159717037,3.126030410309083,3.175418575713006,3.224806770050385,3.274194935454308,3.323583129791687,3.37297129519561,3.422359489532989,3.471747654936912,3.521135849274291,3.570524014678214,3.619912209015593,3.669300374419516,3.669300374419516,3.7151912869127433,3.7610821994059704,3.8069731118991976,3.852864024392425,3.898754936885652,3.9446458493788787,3.990536761872106,4.036427674365333,4.08231858685856,4.128209499351787,4.128209499351787,4.173542109879815,4.218874712967447,4.264207323495476,4.264207323495476,4.313885699103602,4.3635640914164675,4.4132424670245936,4.46292085933746,4.512599234945586,4.562277627258452,4.611956002866578,4.661634378474704,4.71131275408283,4.760991146395696,4.810669522003822,4.860347914316689,4.910026289924815,4.95970468223768,5.009383057845806,5.059061433453932,5.059061433453932,5.102869505285879,5.1466775848171515,5.1904856566490984,5.234293728481045,5.278101808012318,5.321909879844265],\"y\":[4.143800000000001,4.1351,4.1106,4.0743,4.0336,4.0708,4.21,4.3653,4.5007,4.5864,4.6129,4.5992,4.5687,4.5358,4.5074000000000005,4.486400000000001,4.4738,4.4696,4.4696,4.4797,4.5114,4.569,4.6577,4.7812,4.9363,4.9082,4.8968,4.9198,4.9376,4.8643,4.8643,4.785,4.7047,4.6269,4.554,4.4874,4.4273,4.373600000000001,4.3258,4.2837000000000005,4.248,4.2213,4.2091,4.2151000000000005,4.2285,4.2247,4.1935,4.1491,4.111800000000001,4.097300000000001,4.097300000000001,4.0989,4.103400000000001,4.1104,4.119,4.1283,4.1366000000000005,4.1426,4.143800000000001,4.143800000000001,4.1346,4.1088000000000005,4.071400000000001,4.0762,4.1483,4.2611,4.4077,4.4529000000000005,4.4974,4.5412,4.5843,4.625900000000001,4.6653,4.7024,4.7383,4.7753000000000005,4.8165000000000004,4.8642,4.9199,4.9270000000000005,4.9270000000000005,4.8966,4.8994,4.9263,4.9649,5.0032000000000005,5.0282,5.0285,5.0054,4.9783,4.9669,4.9669,4.9622,4.944100000000001,4.9038,4.9038,4.9355,4.9644,4.986,4.9978,4.9976,4.9272,4.7948,4.668,4.5625,4.4918000000000005,4.4541,4.3405000000000005,4.2414000000000005,4.163,4.1136,4.097300000000001,4.4696,4.486,4.5351,4.6148,4.7161,4.8204,4.9038],\"type\":\"scatter\"},{\"mode\":\"lines\",\"name\":\"band 26\",\"x\":[0.0,0.04972189029404676,0.0994437974935389,0.14916568778758565,0.19888759498707784,0.24860948528112461,0.29833139248061674,0.34805328277466346,0.3977751899741556,0.4474970802682024,0.49721898746769455,0.5469408777617413,0.5966627849612334,0.6463846752552801,0.6961065824547723,0.745828472748819,0.7955503799483112,0.845272270242358,0.845272270242358,0.8933499526196786,0.9414276060635433,0.9895052884408639,1.0375829708181845,1.085660624262049,1.1337383066393696,1.1818159600832343,1.2298936424605549,1.2779713248378755,1.32604897828174,1.3741266606590605,1.3741266606590605,1.4224328884060216,1.470739116152983,1.5190453438999443,1.5673516005803616,1.6156578283273229,1.663964056074284,1.7122702838212454,1.7605765115682066,1.8088827393151679,1.8571889959955852,1.9054952237425464,1.9538014514895077,2.002107679236469,2.0504139069834304,2.098720134730392,2.147026391410809,2.19533261915777,2.2436388469047315,2.2919450746516925,2.2919450746516925,2.340644037446043,2.3893430002403933,2.4380419630347436,2.486740925829094,2.5354398886234444,2.5841388514177948,2.632837814212145,2.6815367770064955,2.6815367770064955,2.7309249713438746,2.7803131367477976,2.8297013310851766,2.8790894964890996,2.9284776908264787,2.9778658562304017,3.0272540505677807,3.0766422159717037,3.126030410309083,3.175418575713006,3.224806770050385,3.274194935454308,3.323583129791687,3.37297129519561,3.422359489532989,3.471747654936912,3.521135849274291,3.570524014678214,3.619912209015593,3.669300374419516,3.669300374419516,3.7151912869127433,3.7610821994059704,3.8069731118991976,3.852864024392425,3.898754936885652,3.9446458493788787,3.990536761872106,4.036427674365333,4.08231858685856,4.128209499351787,4.128209499351787,4.173542109879815,4.218874712967447,4.264207323495476,4.264207323495476,4.313885699103602,4.3635640914164675,4.4132424670245936,4.46292085933746,4.512599234945586,4.562277627258452,4.611956002866578,4.661634378474704,4.71131275408283,4.760991146395696,4.810669522003822,4.860347914316689,4.910026289924815,4.95970468223768,5.009383057845806,5.059061433453932,5.059061433453932,5.102869505285879,5.1466775848171515,5.1904856566490984,5.234293728481045,5.278101808012318,5.321909879844265],\"y\":[4.1447,4.1554,4.190300000000001,4.2531,4.3424000000000005,4.4523,4.5759,4.7068,4.8396,4.9695,5.0829,5.1124,5.1344,5.1583000000000006,5.1894,5.2251,5.2556,5.2678,5.2678,5.2541,5.2152,5.1565,5.0863000000000005,5.0142,4.9509,5.0702,5.0505,5.0008,4.9714,5.0445,5.0445,5.1349,5.237,5.3415,5.4331,5.4918,5.501799999999999,5.4627,5.3901,5.2235000000000005,5.0562000000000005,4.9064000000000005,4.7782,4.6746,4.5998,4.5575,4.4589,4.3363000000000005,4.2382,4.1883,4.1883,4.182300000000001,4.1658,4.1428,4.119,4.1283,4.1366000000000005,4.1426,4.1447,4.1447,4.1547,4.182300000000001,4.2217,4.2671,4.3144,4.3615,4.4204,4.6022,4.787100000000001,4.9593,5.0932,5.0879,5.1033,5.1416,5.2041,5.1886,5.1435,5.0739,4.9934,4.9836,4.9836,5.0492,5.1192,5.1913,5.2626,5.330299999999999,5.391400000000001,5.4293,5.395300000000001,5.3855,5.384,5.384,5.3712,5.338100000000001,5.2996,5.2996,5.2994,5.2805,5.236400000000001,5.1627,5.0607,4.9972,4.9635,4.837400000000001,4.7071000000000005,4.5778,4.4628000000000005,4.4594000000000005,4.4295,4.337,4.2403,4.1883,5.2678,5.2663,5.2623,5.2583,5.2584,5.2700000000000005,5.2996],\"type\":\"scatter\"},{\"mode\":\"lines\",\"name\":\"band 27\",\"x\":[0.0,0.04972189029404676,0.0994437974935389,0.14916568778758565,0.19888759498707784,0.24860948528112461,0.29833139248061674,0.34805328277466346,0.3977751899741556,0.4474970802682024,0.49721898746769455,0.5469408777617413,0.5966627849612334,0.6463846752552801,0.6961065824547723,0.745828472748819,0.7955503799483112,0.845272270242358,0.845272270242358,0.8933499526196786,0.9414276060635433,0.9895052884408639,1.0375829708181845,1.085660624262049,1.1337383066393696,1.1818159600832343,1.2298936424605549,1.2779713248378755,1.32604897828174,1.3741266606590605,1.3741266606590605,1.4224328884060216,1.470739116152983,1.5190453438999443,1.5673516005803616,1.6156578283273229,1.663964056074284,1.7122702838212454,1.7605765115682066,1.8088827393151679,1.8571889959955852,1.9054952237425464,1.9538014514895077,2.002107679236469,2.0504139069834304,2.098720134730392,2.147026391410809,2.19533261915777,2.2436388469047315,2.2919450746516925,2.2919450746516925,2.340644037446043,2.3893430002403933,2.4380419630347436,2.486740925829094,2.5354398886234444,2.5841388514177948,2.632837814212145,2.6815367770064955,2.6815367770064955,2.7309249713438746,2.7803131367477976,2.8297013310851766,2.8790894964890996,2.9284776908264787,2.9778658562304017,3.0272540505677807,3.0766422159717037,3.126030410309083,3.175418575713006,3.224806770050385,3.274194935454308,3.323583129791687,3.37297129519561,3.422359489532989,3.471747654936912,3.521135849274291,3.570524014678214,3.619912209015593,3.669300374419516,3.669300374419516,3.7151912869127433,3.7610821994059704,3.8069731118991976,3.852864024392425,3.898754936885652,3.9446458493788787,3.990536761872106,4.036427674365333,4.08231858685856,4.128209499351787,4.128209499351787,4.173542109879815,4.218874712967447,4.264207323495476,4.264207323495476,4.313885699103602,4.3635640914164675,4.4132424670245936,4.46292085933746,4.512599234945586,4.562277627258452,4.611956002866578,4.661634378474704,4.71131275408283,4.760991146395696,4.810669522003822,4.860347914316689,4.910026289924815,4.95970468223768,5.009383057845806,5.059061433453932,5.059061433453932,5.102869505285879,5.1466775848171515,5.1904856566490984,5.234293728481045,5.278101808012318,5.321909879844265],\"y\":[4.1447,4.1962,4.3015,4.432,4.5737000000000005,4.7131,4.8364,4.9316,4.9963,5.0433,5.0936,5.2098,5.3172,5.414300000000001,5.498200000000001,5.5646,5.6076999999999995,5.6227,5.6227,5.579000000000001,5.4818999999999996,5.3758,5.2823,5.2094000000000005,5.1583000000000006,5.1683,5.3505,5.558199999999999,5.754200000000001,5.915699999999999,5.915699999999999,6.0235,6.0693,6.056800000000001,5.9932,5.8862000000000005,5.7446,5.578799999999999,5.4011,5.301400000000001,5.2067000000000005,5.1074,4.9988,4.875900000000001,4.7395000000000005,4.5968,4.5406,4.5336,4.5293,4.5276000000000005,4.5276000000000005,4.5145,4.4726,4.4023,4.3171,4.2388,4.1832,4.1530000000000005,4.1447,4.1447,4.1974,4.3071,4.4468000000000005,4.6025,4.7604,4.9097,5.045100000000001,5.1661,5.1547,5.1165,5.0966000000000005,5.1763,5.2071000000000005,5.2146,5.2095,5.2905999999999995,5.4002,5.5311,5.681000000000001,5.8459,5.8459,6.0069,6.073600000000001,5.9131,5.757,5.6164000000000005,5.5032,5.4437,5.4847,5.5114,5.5207999999999995,5.5207999999999995,5.521599999999999,5.524000000000001,5.5274,5.5274,5.484,5.427,5.3584,5.2785,5.1863,5.0809,4.9777000000000005,4.9475,4.9008,4.8329,4.7428,4.6384,4.5572,4.5349,4.5294,4.5276000000000005,5.6227,5.619,5.6082,5.591200000000001,5.5701,5.547700000000001,5.5274],\"type\":\"scatter\"},{\"mode\":\"lines\",\"name\":\"band 28\",\"x\":[0.0,0.04972189029404676,0.0994437974935389,0.14916568778758565,0.19888759498707784,0.24860948528112461,0.29833139248061674,0.34805328277466346,0.3977751899741556,0.4474970802682024,0.49721898746769455,0.5469408777617413,0.5966627849612334,0.6463846752552801,0.6961065824547723,0.745828472748819,0.7955503799483112,0.845272270242358,0.845272270242358,0.8933499526196786,0.9414276060635433,0.9895052884408639,1.0375829708181845,1.085660624262049,1.1337383066393696,1.1818159600832343,1.2298936424605549,1.2779713248378755,1.32604897828174,1.3741266606590605,1.3741266606590605,1.4224328884060216,1.470739116152983,1.5190453438999443,1.5673516005803616,1.6156578283273229,1.663964056074284,1.7122702838212454,1.7605765115682066,1.8088827393151679,1.8571889959955852,1.9054952237425464,1.9538014514895077,2.002107679236469,2.0504139069834304,2.098720134730392,2.147026391410809,2.19533261915777,2.2436388469047315,2.2919450746516925,2.2919450746516925,2.340644037446043,2.3893430002403933,2.4380419630347436,2.486740925829094,2.5354398886234444,2.5841388514177948,2.632837814212145,2.6815367770064955,2.6815367770064955,2.7309249713438746,2.7803131367477976,2.8297013310851766,2.8790894964890996,2.9284776908264787,2.9778658562304017,3.0272540505677807,3.0766422159717037,3.126030410309083,3.175418575713006,3.224806770050385,3.274194935454308,3.323583129791687,3.37297129519561,3.422359489532989,3.471747654936912,3.521135849274291,3.570524014678214,3.619912209015593,3.669300374419516,3.669300374419516,3.7151912869127433,3.7610821994059704,3.8069731118991976,3.852864024392425,3.898754936885652,3.9446458493788787,3.990536761872106,4.036427674365333,4.08231858685856,4.128209499351787,4.128209499351787,4.173542109879815,4.218874712967447,4.264207323495476,4.264207323495476,4.313885699103602,4.3635640914164675,4.4132424670245936,4.46292085933746,4.512599234945586,4.562277627258452,4.611956002866578,4.661634378474704,4.71131275408283,4.760991146395696,4.810669522003822,4.860347914316689,4.910026289924815,4.95970468223768,5.009383057845806,5.059061433453932,5.059061433453932,5.102869505285879,5.1466775848171515,5.1904856566490984,5.234293728481045,5.278101808012318,5.321909879844265],\"y\":[5.5009,5.497300000000001,5.484,5.4603,5.434100000000001,5.416399999999999,5.4161,5.440799999999999,5.495000000000001,5.5739,5.668800000000001,5.786900000000001,5.9307,6.0748,6.1556999999999995,6.1606000000000005,6.1396,6.128400000000001,6.128400000000001,6.1623,6.2255,6.264800000000001,6.261000000000001,6.2295,6.196200000000001,6.1823,6.2026,6.2645,6.3689,6.308300000000001,6.308300000000001,6.228,6.1637,6.1159,6.0847,6.0694,6.0663,6.0694,6.0738,6.077300000000001,5.9491,5.7797,5.627000000000001,5.501100000000001,5.4161,5.3865,5.4183,5.497999999999999,5.5882000000000005,5.630599999999999,5.630599999999999,5.6008,5.5527,5.5382,5.5723,5.646100000000001,5.5783000000000005,5.5206,5.5009,5.5009,5.4945,5.4773,5.451499999999999,5.4168,5.372199999999999,5.3187999999999995,5.2609,5.2043,5.2728,5.3658,5.457700000000001,5.5776,5.7303,5.8957,6.0168,6.0785,6.1409,6.2181999999999995,6.312200000000001,6.3485,6.3485,6.225099999999999,6.165800000000001,6.306100000000001,6.4049,6.4503,6.459,6.382,6.313600000000001,6.270099999999999,6.2553,6.2553,6.213100000000001,6.1426,6.0884,6.0884,6.088900000000001,6.0958000000000006,6.0931999999999995,6.0725999999999996,6.0379000000000005,5.9862,5.899900000000001,5.777900000000001,5.6434,5.5197,5.4274000000000004,5.3881,5.4137,5.492700000000001,5.586,5.630599999999999,6.128400000000001,6.122,6.1051,6.0837,6.066700000000001,6.0646,6.0884],\"type\":\"scatter\"},{\"mode\":\"lines\",\"name\":\"band 29\",\"x\":[0.0,0.04972189029404676,0.0994437974935389,0.14916568778758565,0.19888759498707784,0.24860948528112461,0.29833139248061674,0.34805328277466346,0.3977751899741556,0.4474970802682024,0.49721898746769455,0.5469408777617413,0.5966627849612334,0.6463846752552801,0.6961065824547723,0.745828472748819,0.7955503799483112,0.845272270242358,0.845272270242358,0.8933499526196786,0.9414276060635433,0.9895052884408639,1.0375829708181845,1.085660624262049,1.1337383066393696,1.1818159600832343,1.2298936424605549,1.2779713248378755,1.32604897828174,1.3741266606590605,1.3741266606590605,1.4224328884060216,1.470739116152983,1.5190453438999443,1.5673516005803616,1.6156578283273229,1.663964056074284,1.7122702838212454,1.7605765115682066,1.8088827393151679,1.8571889959955852,1.9054952237425464,1.9538014514895077,2.002107679236469,2.0504139069834304,2.098720134730392,2.147026391410809,2.19533261915777,2.2436388469047315,2.2919450746516925,2.2919450746516925,2.340644037446043,2.3893430002403933,2.4380419630347436,2.486740925829094,2.5354398886234444,2.5841388514177948,2.632837814212145,2.6815367770064955,2.6815367770064955,2.7309249713438746,2.7803131367477976,2.8297013310851766,2.8790894964890996,2.9284776908264787,2.9778658562304017,3.0272540505677807,3.0766422159717037,3.126030410309083,3.175418575713006,3.224806770050385,3.274194935454308,3.323583129791687,3.37297129519561,3.422359489532989,3.471747654936912,3.521135849274291,3.570524014678214,3.619912209015593,3.669300374419516,3.669300374419516,3.7151912869127433,3.7610821994059704,3.8069731118991976,3.852864024392425,3.898754936885652,3.9446458493788787,3.990536761872106,4.036427674365333,4.08231858685856,4.128209499351787,4.128209499351787,4.173542109879815,4.218874712967447,4.264207323495476,4.264207323495476,4.313885699103602,4.3635640914164675,4.4132424670245936,4.46292085933746,4.512599234945586,4.562277627258452,4.611956002866578,4.661634378474704,4.71131275408283,4.760991146395696,4.810669522003822,4.860347914316689,4.910026289924815,4.95970468223768,5.009383057845806,5.059061433453932,5.059061433453932,5.102869505285879,5.1466775848171515,5.1904856566490984,5.234293728481045,5.278101808012318,5.321909879844265],\"y\":[5.5009,5.5114,5.5426,5.5928,5.6599,5.7409,5.775,5.744300000000001,5.752000000000001,5.814500000000001,5.937100000000001,6.091100000000001,6.231199999999999,6.346400000000001,6.4952000000000005,6.701700000000001,6.919499999999999,6.9754000000000005,6.9754000000000005,6.940100000000001,6.8841,6.858700000000001,6.787599999999999,6.7155000000000005,6.659800000000001,6.620000000000001,6.5794999999999995,6.5015,6.402000000000001,6.5159,6.5159,6.7071000000000005,6.7095,6.671900000000001,6.6151,6.5472,6.4796,6.415900000000001,6.321400000000001,6.130000000000001,6.0794,6.068099999999999,5.9968,5.9483999999999995,5.9358,5.9579,6.007300000000001,6.0737000000000005,6.145900000000001,6.198,6.198,6.1861999999999995,6.065100000000001,5.9251000000000005,5.7887,5.6699,5.5783000000000005,5.5206,5.5009,5.5009,5.5139,5.5517,5.607200000000001,5.655100000000001,5.6648,5.647600000000001,5.625500000000001,5.6119,5.616,5.6472,5.709899999999999,5.793800000000001,5.882099999999999,5.9643,6.0777,6.2292000000000005,6.3543,6.427300000000001,6.427,6.417199999999999,6.417199999999999,6.5098,6.5847999999999995,6.623900000000001,6.612,6.5519,6.466900000000001,6.455,6.4511,6.4511,6.452400000000001,6.452400000000001,6.4573,6.4718,6.496,6.496,6.4404,6.3729,6.2978000000000005,6.2226,6.155800000000001,6.1052,6.0755,6.0685,6.083,5.9991,5.959200000000001,5.9648,6.0062,6.070500000000001,6.144,6.198,6.9754000000000005,6.932500000000001,6.8370999999999995,6.731400000000001,6.6349,6.555400000000001,6.496],\"type\":\"scatter\"},{\"mode\":\"lines\",\"name\":\"band 30\",\"x\":[0.0,0.04972189029404676,0.0994437974935389,0.14916568778758565,0.19888759498707784,0.24860948528112461,0.29833139248061674,0.34805328277466346,0.3977751899741556,0.4474970802682024,0.49721898746769455,0.5469408777617413,0.5966627849612334,0.6463846752552801,0.6961065824547723,0.745828472748819,0.7955503799483112,0.845272270242358,0.845272270242358,0.8933499526196786,0.9414276060635433,0.9895052884408639,1.0375829708181845,1.085660624262049,1.1337383066393696,1.1818159600832343,1.2298936424605549,1.2779713248378755,1.32604897828174,1.3741266606590605,1.3741266606590605,1.4224328884060216,1.470739116152983,1.5190453438999443,1.5673516005803616,1.6156578283273229,1.663964056074284,1.7122702838212454,1.7605765115682066,1.8088827393151679,1.8571889959955852,1.9054952237425464,1.9538014514895077,2.002107679236469,2.0504139069834304,2.098720134730392,2.147026391410809,2.19533261915777,2.2436388469047315,2.2919450746516925,2.2919450746516925,2.340644037446043,2.3893430002403933,2.4380419630347436,2.486740925829094,2.5354398886234444,2.5841388514177948,2.632837814212145,2.6815367770064955,2.6815367770064955,2.7309249713438746,2.7803131367477976,2.8297013310851766,2.8790894964890996,2.9284776908264787,2.9778658562304017,3.0272540505677807,3.0766422159717037,3.126030410309083,3.175418575713006,3.224806770050385,3.274194935454308,3.323583129791687,3.37297129519561,3.422359489532989,3.471747654936912,3.521135849274291,3.570524014678214,3.619912209015593,3.669300374419516,3.669300374419516,3.7151912869127433,3.7610821994059704,3.8069731118991976,3.852864024392425,3.898754936885652,3.9446458493788787,3.990536761872106,4.036427674365333,4.08231858685856,4.128209499351787,4.128209499351787,4.173542109879815,4.218874712967447,4.264207323495476,4.264207323495476,4.313885699103602,4.3635640914164675,4.4132424670245936,4.46292085933746,4.512599234945586,4.562277627258452,4.611956002866578,4.661634378474704,4.71131275408283,4.760991146395696,4.810669522003822,4.860347914316689,4.910026289924815,4.95970468223768,5.009383057845806,5.059061433453932,5.059061433453932,5.102869505285879,5.1466775848171515,5.1904856566490984,5.234293728481045,5.278101808012318,5.321909879844265],\"y\":[5.873200000000001,5.872300000000001,5.8748000000000005,5.878,5.8629,5.822800000000001,5.8331,5.9346,6.044600000000001,6.162800000000001,6.288399999999999,6.4190000000000005,6.5504,6.6767,6.7912,6.886000000000001,6.9514,7.0481,7.0481,7.021000000000001,6.9536999999999995,6.8703,6.877700000000001,6.9283,6.9940999999999995,6.8565000000000005,6.7439,6.7018,6.706900000000001,6.7209,6.7209,6.7249,6.9338,7.0512999999999995,6.8774,6.729100000000001,6.612299999999999,6.5251,6.3454999999999995,6.262499999999999,6.1708,6.0944,6.100200000000001,6.124600000000001,6.1639,6.216100000000001,6.274100000000001,6.3095,6.260400000000001,6.2439,6.2439,6.1861999999999995,6.065100000000001,5.9251000000000005,5.7887,5.6699,5.7416,5.8321000000000005,5.873200000000001,5.873200000000001,5.8726,5.872199999999999,5.8805,5.9269,6.048299999999999,6.239000000000001,6.478,6.5244,6.4794,6.415100000000001,6.351100000000001,6.3019,6.276,6.2775,6.3071,6.363200000000001,6.4421,6.538399999999999,6.644400000000001,6.7484,6.7484,6.8271,6.869300000000001,6.8725000000000005,6.8591,6.8376,6.790100000000001,6.715400000000001,6.6349,6.572699999999999,6.5486,6.5486,6.6058,6.7158999999999995,6.8192,6.8192,6.736600000000001,6.6426,6.5587,6.4885,6.4192,6.347300000000001,6.288399999999999,6.2067,6.0867,6.1165,6.1653,6.2249,6.2888,6.3131,6.2613,6.2439,7.0481,7.046200000000001,7.0389,7.0214,6.9849,6.9191,6.8192],\"type\":\"scatter\"},{\"marker\":{\"color\":\"green\",\"size\":10},\"mode\":\"markers\",\"name\":\"VBM (max valence)\",\"x\":[2.6815367770064955],\"y\":[-0.11689254000000027],\"type\":\"scatter\"},{\"marker\":{\"color\":\"red\",\"size\":10},\"mode\":\"markers\",\"name\":\"CBM (min conduction)\",\"x\":[4.128209499351787],\"y\":[2.3866074599999996],\"type\":\"scatter\"}],                        {\"template\":{\"data\":{\"barpolar\":[{\"marker\":{\"line\":{\"color\":\"white\",\"width\":0.5},\"pattern\":{\"fillmode\":\"overlay\",\"size\":10,\"solidity\":0.2}},\"type\":\"barpolar\"}],\"bar\":[{\"error_x\":{\"color\":\"#2a3f5f\"},\"error_y\":{\"color\":\"#2a3f5f\"},\"marker\":{\"line\":{\"color\":\"white\",\"width\":0.5},\"pattern\":{\"fillmode\":\"overlay\",\"size\":10,\"solidity\":0.2}},\"type\":\"bar\"}],\"carpet\":[{\"aaxis\":{\"endlinecolor\":\"#2a3f5f\",\"gridcolor\":\"#C8D4E3\",\"linecolor\":\"#C8D4E3\",\"minorgridcolor\":\"#C8D4E3\",\"startlinecolor\":\"#2a3f5f\"},\"baxis\":{\"endlinecolor\":\"#2a3f5f\",\"gridcolor\":\"#C8D4E3\",\"linecolor\":\"#C8D4E3\",\"minorgridcolor\":\"#C8D4E3\",\"startlinecolor\":\"#2a3f5f\"},\"type\":\"carpet\"}],\"choropleth\":[{\"colorbar\":{\"outlinewidth\":0,\"ticks\":\"\"},\"type\":\"choropleth\"}],\"contourcarpet\":[{\"colorbar\":{\"outlinewidth\":0,\"ticks\":\"\"},\"type\":\"contourcarpet\"}],\"contour\":[{\"colorbar\":{\"outlinewidth\":0,\"ticks\":\"\"},\"colorscale\":[[0.0,\"#0d0887\"],[0.1111111111111111,\"#46039f\"],[0.2222222222222222,\"#7201a8\"],[0.3333333333333333,\"#9c179e\"],[0.4444444444444444,\"#bd3786\"],[0.5555555555555556,\"#d8576b\"],[0.6666666666666666,\"#ed7953\"],[0.7777777777777778,\"#fb9f3a\"],[0.8888888888888888,\"#fdca26\"],[1.0,\"#f0f921\"]],\"type\":\"contour\"}],\"heatmapgl\":[{\"colorbar\":{\"outlinewidth\":0,\"ticks\":\"\"},\"colorscale\":[[0.0,\"#0d0887\"],[0.1111111111111111,\"#46039f\"],[0.2222222222222222,\"#7201a8\"],[0.3333333333333333,\"#9c179e\"],[0.4444444444444444,\"#bd3786\"],[0.5555555555555556,\"#d8576b\"],[0.6666666666666666,\"#ed7953\"],[0.7777777777777778,\"#fb9f3a\"],[0.8888888888888888,\"#fdca26\"],[1.0,\"#f0f921\"]],\"type\":\"heatmapgl\"}],\"heatmap\":[{\"colorbar\":{\"outlinewidth\":0,\"ticks\":\"\"},\"colorscale\":[[0.0,\"#0d0887\"],[0.1111111111111111,\"#46039f\"],[0.2222222222222222,\"#7201a8\"],[0.3333333333333333,\"#9c179e\"],[0.4444444444444444,\"#bd3786\"],[0.5555555555555556,\"#d8576b\"],[0.6666666666666666,\"#ed7953\"],[0.7777777777777778,\"#fb9f3a\"],[0.8888888888888888,\"#fdca26\"],[1.0,\"#f0f921\"]],\"type\":\"heatmap\"}],\"histogram2dcontour\":[{\"colorbar\":{\"outlinewidth\":0,\"ticks\":\"\"},\"colorscale\":[[0.0,\"#0d0887\"],[0.1111111111111111,\"#46039f\"],[0.2222222222222222,\"#7201a8\"],[0.3333333333333333,\"#9c179e\"],[0.4444444444444444,\"#bd3786\"],[0.5555555555555556,\"#d8576b\"],[0.6666666666666666,\"#ed7953\"],[0.7777777777777778,\"#fb9f3a\"],[0.8888888888888888,\"#fdca26\"],[1.0,\"#f0f921\"]],\"type\":\"histogram2dcontour\"}],\"histogram2d\":[{\"colorbar\":{\"outlinewidth\":0,\"ticks\":\"\"},\"colorscale\":[[0.0,\"#0d0887\"],[0.1111111111111111,\"#46039f\"],[0.2222222222222222,\"#7201a8\"],[0.3333333333333333,\"#9c179e\"],[0.4444444444444444,\"#bd3786\"],[0.5555555555555556,\"#d8576b\"],[0.6666666666666666,\"#ed7953\"],[0.7777777777777778,\"#fb9f3a\"],[0.8888888888888888,\"#fdca26\"],[1.0,\"#f0f921\"]],\"type\":\"histogram2d\"}],\"histogram\":[{\"marker\":{\"pattern\":{\"fillmode\":\"overlay\",\"size\":10,\"solidity\":0.2}},\"type\":\"histogram\"}],\"mesh3d\":[{\"colorbar\":{\"outlinewidth\":0,\"ticks\":\"\"},\"type\":\"mesh3d\"}],\"parcoords\":[{\"line\":{\"colorbar\":{\"outlinewidth\":0,\"ticks\":\"\"}},\"type\":\"parcoords\"}],\"pie\":[{\"automargin\":true,\"type\":\"pie\"}],\"scatter3d\":[{\"line\":{\"colorbar\":{\"outlinewidth\":0,\"ticks\":\"\"}},\"marker\":{\"colorbar\":{\"outlinewidth\":0,\"ticks\":\"\"}},\"type\":\"scatter3d\"}],\"scattercarpet\":[{\"marker\":{\"colorbar\":{\"outlinewidth\":0,\"ticks\":\"\"}},\"type\":\"scattercarpet\"}],\"scattergeo\":[{\"marker\":{\"colorbar\":{\"outlinewidth\":0,\"ticks\":\"\"}},\"type\":\"scattergeo\"}],\"scattergl\":[{\"marker\":{\"colorbar\":{\"outlinewidth\":0,\"ticks\":\"\"}},\"type\":\"scattergl\"}],\"scattermapbox\":[{\"marker\":{\"colorbar\":{\"outlinewidth\":0,\"ticks\":\"\"}},\"type\":\"scattermapbox\"}],\"scatterpolargl\":[{\"marker\":{\"colorbar\":{\"outlinewidth\":0,\"ticks\":\"\"}},\"type\":\"scatterpolargl\"}],\"scatterpolar\":[{\"marker\":{\"colorbar\":{\"outlinewidth\":0,\"ticks\":\"\"}},\"type\":\"scatterpolar\"}],\"scatter\":[{\"fillpattern\":{\"fillmode\":\"overlay\",\"size\":10,\"solidity\":0.2},\"type\":\"scatter\"}],\"scatterternary\":[{\"marker\":{\"colorbar\":{\"outlinewidth\":0,\"ticks\":\"\"}},\"type\":\"scatterternary\"}],\"surface\":[{\"colorbar\":{\"outlinewidth\":0,\"ticks\":\"\"},\"colorscale\":[[0.0,\"#0d0887\"],[0.1111111111111111,\"#46039f\"],[0.2222222222222222,\"#7201a8\"],[0.3333333333333333,\"#9c179e\"],[0.4444444444444444,\"#bd3786\"],[0.5555555555555556,\"#d8576b\"],[0.6666666666666666,\"#ed7953\"],[0.7777777777777778,\"#fb9f3a\"],[0.8888888888888888,\"#fdca26\"],[1.0,\"#f0f921\"]],\"type\":\"surface\"}],\"table\":[{\"cells\":{\"fill\":{\"color\":\"#EBF0F8\"},\"line\":{\"color\":\"white\"}},\"header\":{\"fill\":{\"color\":\"#C8D4E3\"},\"line\":{\"color\":\"white\"}},\"type\":\"table\"}]},\"layout\":{\"annotationdefaults\":{\"arrowcolor\":\"#2a3f5f\",\"arrowhead\":0,\"arrowwidth\":1},\"autotypenumbers\":\"strict\",\"coloraxis\":{\"colorbar\":{\"outlinewidth\":0,\"ticks\":\"\"}},\"colorscale\":{\"diverging\":[[0,\"#8e0152\"],[0.1,\"#c51b7d\"],[0.2,\"#de77ae\"],[0.3,\"#f1b6da\"],[0.4,\"#fde0ef\"],[0.5,\"#f7f7f7\"],[0.6,\"#e6f5d0\"],[0.7,\"#b8e186\"],[0.8,\"#7fbc41\"],[0.9,\"#4d9221\"],[1,\"#276419\"]],\"sequential\":[[0.0,\"#0d0887\"],[0.1111111111111111,\"#46039f\"],[0.2222222222222222,\"#7201a8\"],[0.3333333333333333,\"#9c179e\"],[0.4444444444444444,\"#bd3786\"],[0.5555555555555556,\"#d8576b\"],[0.6666666666666666,\"#ed7953\"],[0.7777777777777778,\"#fb9f3a\"],[0.8888888888888888,\"#fdca26\"],[1.0,\"#f0f921\"]],\"sequentialminus\":[[0.0,\"#0d0887\"],[0.1111111111111111,\"#46039f\"],[0.2222222222222222,\"#7201a8\"],[0.3333333333333333,\"#9c179e\"],[0.4444444444444444,\"#bd3786\"],[0.5555555555555556,\"#d8576b\"],[0.6666666666666666,\"#ed7953\"],[0.7777777777777778,\"#fb9f3a\"],[0.8888888888888888,\"#fdca26\"],[1.0,\"#f0f921\"]]},\"colorway\":[\"#636efa\",\"#EF553B\",\"#00cc96\",\"#ab63fa\",\"#FFA15A\",\"#19d3f3\",\"#FF6692\",\"#B6E880\",\"#FF97FF\",\"#FECB52\"],\"font\":{\"color\":\"#2a3f5f\"},\"geo\":{\"bgcolor\":\"white\",\"lakecolor\":\"white\",\"landcolor\":\"white\",\"showlakes\":true,\"showland\":true,\"subunitcolor\":\"#C8D4E3\"},\"hoverlabel\":{\"align\":\"left\"},\"hovermode\":\"closest\",\"mapbox\":{\"style\":\"light\"},\"paper_bgcolor\":\"white\",\"plot_bgcolor\":\"white\",\"polar\":{\"angularaxis\":{\"gridcolor\":\"#EBF0F8\",\"linecolor\":\"#EBF0F8\",\"ticks\":\"\"},\"bgcolor\":\"white\",\"radialaxis\":{\"gridcolor\":\"#EBF0F8\",\"linecolor\":\"#EBF0F8\",\"ticks\":\"\"}},\"scene\":{\"xaxis\":{\"backgroundcolor\":\"white\",\"gridcolor\":\"#DFE8F3\",\"gridwidth\":2,\"linecolor\":\"#EBF0F8\",\"showbackground\":true,\"ticks\":\"\",\"zerolinecolor\":\"#EBF0F8\"},\"yaxis\":{\"backgroundcolor\":\"white\",\"gridcolor\":\"#DFE8F3\",\"gridwidth\":2,\"linecolor\":\"#EBF0F8\",\"showbackground\":true,\"ticks\":\"\",\"zerolinecolor\":\"#EBF0F8\"},\"zaxis\":{\"backgroundcolor\":\"white\",\"gridcolor\":\"#DFE8F3\",\"gridwidth\":2,\"linecolor\":\"#EBF0F8\",\"showbackground\":true,\"ticks\":\"\",\"zerolinecolor\":\"#EBF0F8\"}},\"shapedefaults\":{\"line\":{\"color\":\"#2a3f5f\"}},\"ternary\":{\"aaxis\":{\"gridcolor\":\"#DFE8F3\",\"linecolor\":\"#A2B1C6\",\"ticks\":\"\"},\"baxis\":{\"gridcolor\":\"#DFE8F3\",\"linecolor\":\"#A2B1C6\",\"ticks\":\"\"},\"bgcolor\":\"white\",\"caxis\":{\"gridcolor\":\"#DFE8F3\",\"linecolor\":\"#A2B1C6\",\"ticks\":\"\"}},\"title\":{\"x\":0.05},\"xaxis\":{\"automargin\":true,\"gridcolor\":\"#EBF0F8\",\"linecolor\":\"#EBF0F8\",\"ticks\":\"\",\"title\":{\"standoff\":15},\"zerolinecolor\":\"#EBF0F8\",\"zerolinewidth\":2},\"yaxis\":{\"automargin\":true,\"gridcolor\":\"#EBF0F8\",\"linecolor\":\"#EBF0F8\",\"ticks\":\"\",\"title\":{\"standoff\":15},\"zerolinecolor\":\"#EBF0F8\",\"zerolinewidth\":2}}},\"shapes\":[{\"line\":{\"color\":\"black\",\"width\":1},\"type\":\"line\",\"x0\":0.845272270242358,\"x1\":0.845272270242358,\"xref\":\"x\",\"y0\":0,\"y1\":1,\"yref\":\"y domain\"},{\"line\":{\"color\":\"black\",\"width\":1},\"type\":\"line\",\"x0\":1.3741266606590605,\"x1\":1.3741266606590605,\"xref\":\"x\",\"y0\":0,\"y1\":1,\"yref\":\"y domain\"},{\"line\":{\"color\":\"black\",\"width\":1},\"type\":\"line\",\"x0\":2.2919450746516925,\"x1\":2.2919450746516925,\"xref\":\"x\",\"y0\":0,\"y1\":1,\"yref\":\"y domain\"},{\"line\":{\"color\":\"black\",\"width\":1},\"type\":\"line\",\"x0\":2.6815367770064955,\"x1\":2.6815367770064955,\"xref\":\"x\",\"y0\":0,\"y1\":1,\"yref\":\"y domain\"},{\"line\":{\"color\":\"black\",\"width\":1},\"type\":\"line\",\"x0\":3.669300374419516,\"x1\":3.669300374419516,\"xref\":\"x\",\"y0\":0,\"y1\":1,\"yref\":\"y domain\"},{\"line\":{\"color\":\"black\",\"width\":1},\"type\":\"line\",\"x0\":4.128209499351787,\"x1\":4.128209499351787,\"xref\":\"x\",\"y0\":0,\"y1\":1,\"yref\":\"y domain\"},{\"line\":{\"color\":\"black\",\"width\":1},\"type\":\"line\",\"x0\":4.264207323495476,\"x1\":4.264207323495476,\"xref\":\"x\",\"y0\":0,\"y1\":1,\"yref\":\"y domain\"},{\"line\":{\"color\":\"black\",\"width\":1},\"type\":\"line\",\"x0\":5.059061433453932,\"x1\":5.059061433453932,\"xref\":\"x\",\"y0\":0,\"y1\":1,\"yref\":\"y domain\"},{\"fillcolor\":\"rgba(255, 0, 0, 0.3)\",\"layer\":\"below\",\"line\":{\"width\":0},\"type\":\"rect\",\"x0\":0.0,\"x1\":5.321909879844265,\"y0\":-0.11689254000000027,\"y1\":2.3866074599999996}],\"xaxis\":{\"mirror\":true,\"showgrid\":false,\"ticks\":\"inside\",\"tickvals\":[0.0,0.845272270242358,1.3741266606590605,2.2919450746516925,2.6815367770064955,3.669300374419516,4.128209499351787,4.264207323495476,5.059061433453932,5.321909879844265],\"ticktext\":[\"Γ\",\"L\",\"B_1|B\",\"Z\",\"Γ\",\"X|Q\",\"F\",\"P_1\",\"Z|L\",\"P\"],\"ticklen\":0,\"title\":{\"text\":\"Wave Vector\"}},\"yaxis\":{\"mirror\":true,\"showgrid\":false,\"ticks\":\"inside\",\"ticklen\":10,\"range\":[-3,6],\"title\":{\"text\":\"E - E\\u003csub\\u003ef\\u003c\\u002fsub\\u003e (eV)\"}},\"annotations\":[{\"arrowcolor\":\"black\",\"arrowhead\":2,\"arrowsize\":2,\"arrowwidth\":2,\"ax\":2.6815367770064955,\"axref\":\"x\",\"ay\":-0.11689254000000027,\"ayref\":\"y\",\"showarrow\":true,\"x\":4.128209499351787,\"xref\":\"x\",\"y\":2.3866074599999996,\"yref\":\"y\"}]},                        {\"responsive\": true}                    ).then(function(){\n",
       "                            \n",
       "var gd = document.getElementById('71198651-8133-44d8-9f97-f9b00b12555e');\n",
       "var x = new MutationObserver(function (mutations, observer) {{\n",
       "        var display = window.getComputedStyle(gd).display;\n",
       "        if (!display || display === 'none') {{\n",
       "            console.log([gd, 'removed!']);\n",
       "            Plotly.purge(gd);\n",
       "            observer.disconnect();\n",
       "        }}\n",
       "}});\n",
       "\n",
       "// Listen for the removal of the full notebook cells\n",
       "var notebookContainer = gd.closest('#notebook-container');\n",
       "if (notebookContainer) {{\n",
       "    x.observe(notebookContainer, {childList: true});\n",
       "}}\n",
       "\n",
       "// Listen for the clearing of the current output cell\n",
       "var outputEl = gd.closest('.output');\n",
       "if (outputEl) {{\n",
       "    x.observe(outputEl, {childList: true});\n",
       "}}\n",
       "\n",
       "                        })                };                });            </script>        </div>"
      ]
     },
     "metadata": {},
     "output_type": "display_data"
    }
   ],
   "source": [
    "# figure de la structure de bande\n",
    "fig_el_bs = get_plot_bs(el_bs, plot_range=[-3, 6])\n",
    "\n",
    "# VBM et CBM\n",
    "valence_max = el_bs.get_vbm()\n",
    "conduction_min = el_bs.get_cbm()\n",
    "\n",
    "# coordonnées des points VBM et CBM\n",
    "x_vbm = el_bs.distance[valence_max['kpoint_index'][1]]\n",
    "y_vbm = valence_max['energy'] - el_bs.efermi  # Ajustement par rapport à E_f\n",
    "\n",
    "x_cbm = el_bs.distance[conduction_min['kpoint_index'][0]]\n",
    "y_cbm = conduction_min['energy'] - el_bs.efermi  # Ajustement par rapport à E_f\n",
    "\n",
    "# Ajouter des points VBM et CBM \n",
    "fig_el_bs.add_traces([\n",
    "    go.Scatter(\n",
    "        x=[x_vbm], y=[y_vbm],\n",
    "        mode='markers', marker=dict(color='green', size=10),\n",
    "        name='VBM (max valence)'\n",
    "    ),\n",
    "    go.Scatter(\n",
    "        x=[x_cbm], y=[y_cbm],\n",
    "        mode='markers', marker=dict(color='red', size=10),\n",
    "        name='CBM (min conduction)'\n",
    "    )\n",
    "])\n",
    "\n",
    "# flèche entre VBM et CBM\n",
    "fig_el_bs.add_annotation(\n",
    "    x=x_cbm, y=y_cbm, ax=x_vbm, ay=y_vbm,\n",
    "    xref=\"x\", yref=\"y\", axref=\"x\", ayref=\"y\",\n",
    "    showarrow=True, arrowhead=2, arrowsize=2, arrowwidth=2, arrowcolor=\"black\"\n",
    ")\n",
    "\n",
    "# bande interdite \n",
    "fig_el_bs.add_shape(\n",
    "    type=\"rect\",\n",
    "    x0=min(el_bs.distance), x1=max(el_bs.distance),  # Toute la largeur du graphe\n",
    "    y0=y_vbm, y1=y_cbm,  # Entre VBM et CBM\n",
    "    fillcolor=\"rgba(255, 0, 0, 0.3)\",  # Rouge transparent\n",
    "    line=dict(width=0),\n",
    "    layer=\"below\"\n",
    ")\n",
    "\n",
    "# amélioration de l'affichage\n",
    "fig_el_bs.update_layout(template=\"plotly_white\")\n",
    "fig_el_bs.show()\n"
   ]
  },
  {
   "cell_type": "markdown",
   "id": "6b87dfe5",
   "metadata": {},
   "source": [
    "2) dispersion"
   ]
  },
  {
   "cell_type": "markdown",
   "id": "a46bba2d",
   "metadata": {},
   "source": [
    "Dans l'étude du CsLaS2, l'analyse de la dispersion des bandes nous permettra de déterminer si les porteurs de charge ont une mobilité élevée et d'identifier la nature du gab électronique"
   ]
  },
  {
   "cell_type": "code",
   "execution_count": 37,
   "id": "55c04975",
   "metadata": {
    "scrolled": true
   },
   "outputs": [
    {
     "data": {
      "image/png": "[encoded data removed]",
      "text/plain": [
       "<Figure size 1200x800 with 1 Axes>"
      ]
     },
     "metadata": {},
     "output_type": "display_data"
    },
    {
     "name": "stdout",
     "output_type": "stream",
     "text": [
      "BLEU - Pente max bande de valence: 1.3852088722613463\n",
      "VERT - Pente min bande de valence: 0.16845858670467023\n",
      "ROUGE - Pente max bande de conduction: 1.958923505430837\n",
      "ORANGE - Pente min bande de conduction: 0.0656992702267627\n"
     ]
    }
   ],
   "source": [
    "\n",
    "class DispersionAnalyzer:\n",
    "    def __init__(self, band_structure):\n",
    "        \"\"\"Initialisation avec la structure de bande électronique.\"\"\"\n",
    "        self.bs = band_structure\n",
    "        self.bsplot = BSPlotter(self.bs)\n",
    "        self.data = self.bsplot.bs_plot_data()\n",
    "        self.distances = self.data['distances']\n",
    "        self.energies = self.data['energy']\n",
    "        self.dist = self.data['ticks']['distance']\n",
    "\n",
    "    def calculer_pente(self, energie, distance):\n",
    "        \"\"\"Calcule la pente d'une bande donnée.\"\"\"\n",
    "        return abs(energie[-1] - energie[0]) / (distance[-1] - distance[0])\n",
    "\n",
    "    def extraire_dispersion(self, band_index):\n",
    "        \"\"\"Retourne un DataFrame contenant les pentes de la bande spécifiée.\"\"\"\n",
    "        results = []\n",
    "        for i, d in enumerate(self.distances):\n",
    "            pente = self.calculer_pente(self.energies['1'][i][band_index], d)\n",
    "            results.append([self.energies['1'][i][band_index][-1], \n",
    "                            self.energies['1'][i][band_index][0], \n",
    "                            d[-1], d[0], pente])\n",
    "        return pd.DataFrame(results, columns=['E_final', 'E_initial', 'D_final', 'D_initial', 'pente'])\n",
    "\n",
    "    def analyser_band_structure(self):\n",
    "        \"\"\"Analyse la dispersion des bandes de valence et de conduction.\"\"\"\n",
    "        vbm_index = self.bs.get_vbm()['band_index'][Spin.up][0]\n",
    "        cbm_index = self.bs.get_cbm()['band_index'][Spin.up][0]\n",
    "\n",
    "        dispersion_valence = self.extraire_dispersion(vbm_index)\n",
    "        dispersion_conduction = self.extraire_dispersion(cbm_index)\n",
    "\n",
    "        pente_val_max = dispersion_valence.loc[dispersion_valence['pente'].idxmax()]\n",
    "        pente_val_min = dispersion_valence.loc[dispersion_valence['pente'].idxmin()]\n",
    "        pente_cond_max = dispersion_conduction.loc[dispersion_conduction['pente'].idxmax()]\n",
    "        pente_cond_min = dispersion_conduction.loc[dispersion_conduction['pente'].idxmin()]\n",
    "\n",
    "        return pente_val_max, pente_val_min, pente_cond_max, pente_cond_min\n",
    "\n",
    "    def afficher_resultats(self):\n",
    "        \"\"\"Affiche les résultats sous forme graphique et textuelle.\"\"\"\n",
    "        pente_val_max, pente_val_min, pente_cond_max, pente_cond_min = self.analyser_band_structure()\n",
    "\n",
    "        self.bsplot.get_plot(vbm_cbm_marker=False)\n",
    "\n",
    "        couleurs = ['blue', 'purple', 'red', 'pink']\n",
    "        pentes = [pente_val_max, pente_val_min, pente_cond_max, pente_cond_min]\n",
    "\n",
    "        for i, pente in enumerate(pentes):\n",
    "            plt.arrow(pente['D_initial'], pente['E_initial'], \n",
    "                      pente['D_final'] - pente['D_initial'], \n",
    "                      pente['E_final'] - pente['E_initial'], \n",
    "                      color=couleurs[i], width=0.03, length_includes_head=True)\n",
    "\n",
    "        plt.show()\n",
    "\n",
    "        noms = [\"BLEU - Pente max bande de valence\", \"VERT - Pente min bande de valence\",\n",
    "                \"ROUGE - Pente max bande de conduction\", \"ORANGE - Pente min bande de conduction\"]\n",
    "\n",
    "        for nom, pente in zip(noms, pentes):\n",
    "            print(f\"{nom}: {pente['pente']}\")\n",
    "\n",
    "# Utilisation\n",
    "analyzer = DispersionAnalyzer(el_bs)\n",
    "analyzer.afficher_resultats()\n"
   ]
  },
  {
   "cell_type": "markdown",
   "id": "61a3ead3",
   "metadata": {},
   "source": [
    "3) Masse effective"
   ]
  },
  {
   "cell_type": "markdown",
   "id": "196c31bc",
   "metadata": {},
   "source": [
    "Dans l'hypothèse où la dispersion suit une loi parabolique, la masse effective peut être exprimée à l'aide de la relation :"
   ]
  },
  {
   "attachments": {
    "image.png": {
     "image/png": "[encoded data removed]"
    }
   },
   "cell_type": "markdown",
   "id": "fd9780fe",
   "metadata": {},
   "source": [
    "![image.png](attachment:image.png)"
   ]
  },
  {
   "cell_type": "markdown",
   "id": "08abb7ef",
   "metadata": {},
   "source": [
    "où ℏ représente la constante de Planck réduite, aux alentours des points extrémaux des bandes d'énergie, cette relation se simplifie sous la forme :"
   ]
  },
  {
   "attachments": {
    "image.png": {
     "image/png": "[encoded data removed]"
    }
   },
   "cell_type": "markdown",
   "id": "4933b099",
   "metadata": {},
   "source": [
    "![image.png](attachment:image.png)"
   ]
  },
  {
   "cell_type": "markdown",
   "id": "51c2a32f",
   "metadata": {},
   "source": [
    "Dans la suite de cette analyse, nous supposerons que \n",
    "E(k)−E0 correspond à l’énergie de l’électron."
   ]
  },
  {
   "cell_type": "code",
   "execution_count": 38,
   "id": "a883c984",
   "metadata": {},
   "outputs": [
    {
     "name": "stdout",
     "output_type": "stream",
     "text": [
      "Norme k pour le VBM : 0.0\n",
      "Masse effective du VBM : 5.22117249387025e-32 kg\n",
      "Norme k pour le CBM : 0.7071067811865476\n",
      "Masse effective du CBM : 2.717493874041073e-32 kg\n"
     ]
    }
   ],
   "source": [
    "\n",
    "\n",
    "# Constante de Planck réduite en eV.s\n",
    "h_bar = 6.582119570e-16  \n",
    "\n",
    "# Calcul de la norme de G\n",
    "G = 2 * np.pi / a  \n",
    "\n",
    "def calculer_masse_effective(extremum):\n",
    "    \"\"\" Calcule la masse effective à partir d'un extremum de bande (VBM ou CBM). \"\"\"\n",
    "    kpoint = extremum['kpoint'].frac_coords\n",
    "    k_norm = np.linalg.norm(kpoint)  # Norme du vecteur d'onde\n",
    "    E = extremum['energy']  # Énergie de l'extrémum\n",
    "    masse_effective = h_bar**2 * G**2 / (2 * E)  # Calcul de la masse effective\n",
    "    return k_norm, masse_effective\n",
    "\n",
    "# Calcul pour la bande de valence\n",
    "VBM = el_bs.get_vbm()\n",
    "k_VBM, m_e_VBM = calculer_masse_effective(VBM)\n",
    "print(f\"Norme k pour le VBM : {k_VBM}\")\n",
    "print(f\"Masse effective du VBM : {m_e_VBM} kg\")\n",
    "\n",
    "# Calcul pour la bande de conduction\n",
    "CBM = el_bs.get_cbm()\n",
    "k_CBM, m_e_CBM = calculer_masse_effective(CBM)\n",
    "print(f\"Norme k pour le CBM : {k_CBM}\")\n",
    "print(f\"Masse effective du CBM : {m_e_CBM} kg\")\n"
   ]
  }
 ],
 "metadata": {
  "kernelspec": {
   "display_name": "Python 3 (ipykernel)",
   "language": "python",
   "name": "python3"
  },
  "language_info": {
   "codemirror_mode": {
    "name": "ipython",
    "version": 3
   },
   "file_extension": ".py",
   "mimetype": "text/x-python",
   "name": "python",
   "nbconvert_exporter": "python",
   "pygments_lexer": "ipython3",
   "version": "3.9.13"
  }
 },
 "nbformat": 4,
 "nbformat_minor": 5
}
