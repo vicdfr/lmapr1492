{
 "cells": [
  {
   "cell_type": "code",
   "execution_count": 7,
   "id": "63589b4a",
   "metadata": {},
   "outputs": [],
   "source": [
    "import numpy as np\n",
    "import matplotlib.pyplot as plt\n",
    "from mp_api.client import MPRester\n",
    "from pymatgen.io.cif import CifWriter\n",
    "from pymatgen.core.operations import SymmOp\n",
    "from pymatgen.symmetry.analyzer import SpacegroupAnalyzer\n",
    "from pymatgen.electronic_structure.plotter import BSPlotter\n",
    "from pymatgen.phonon.plotter import PhononBSPlotter\n",
    "from jupyter_jsmol.pymatgen import quick_view\n",
    "from lmapr1492 import plot_brillouin_zone, get_plot_bs, get_plot_dos, get_plot_bs_and_dos, get_branch_wavevectors\n",
    "from plotly.subplots import make_subplots\n",
    "import plotly.graph_objects as go\n",
    "from pymatgen.analysis.diffraction.xrd import XRDCalculator\n",
    "from pymatgen.ext.matproj import MPRester\n",
    "from pymatgen.electronic_structure.core import Spin\n",
    "from scipy.interpolate import UnivariateSpline\n",
    "import pandas as pd"
   ]
  },
  {
   "cell_type": "code",
   "execution_count": 8,
   "id": "9b2e2d97",
   "metadata": {},
   "outputs": [],
   "source": [
    "mp_key = \"saKvn4nYOR6knw5q6WoAxtMKCsoAG1gq\"\n",
    "mp_id = \"mp-561586\""
   ]
  },
  {
   "cell_type": "code",
   "execution_count": 22,
   "id": "ed58f068",
   "metadata": {},
   "outputs": [
    {
     "data": {
      "application/vnd.jupyter.widget-view+json": {
       "model_id": "4987470322db4ef384357746a2f7c0fe",
       "version_major": 2,
       "version_minor": 0
      },
      "text/plain": [
       "Retrieving MaterialsDoc documents:   0%|          | 0/1 [00:00<?, ?it/s]"
      ]
     },
     "metadata": {},
     "output_type": "display_data"
    },
    {
     "data": {
      "application/vnd.jupyter.widget-view+json": {
       "model_id": "18daa9f49da64e52ac975031afd9d037",
       "version_major": 2,
       "version_minor": 0
      },
      "text/plain": [
       "Retrieving PhononBSDOSDoc documents:   0%|          | 0/1 [00:00<?, ?it/s]"
      ]
     },
     "metadata": {},
     "output_type": "display_data"
    }
   ],
   "source": [
    "with MPRester(mp_key) as m:\n",
    "    prim_struc = m.get_structure_by_material_id(mp_id)\n",
    "    ph_bs = m.get_phonon_bandstructure_by_material_id(mp_id)\n",
    "conv_struc = SpacegroupAnalyzer(prim_struc).get_conventional_standard_structure()\n",
    "symmops = SpacegroupAnalyzer(conv_struc).get_space_group_operations()\n",
    "ph_plot = PhononBSPlotter(ph_bs)\n",
    "data = ph_plot.bs_plot_data()\n",
    "distances = data.get('distances')\n",
    "frequences = data.get('frequency')"
   ]
  },
  {
   "cell_type": "markdown",
   "id": "2116e597",
   "metadata": {},
   "source": [
    "INTRODUCTION "
   ]
  },
  {
   "cell_type": "markdown",
   "id": "75913fa9",
   "metadata": {},
   "source": [
    "Dans un matériau cristallin, les vibrations atomiques peuvent être décrites par des phonons, qui représentent les quanta d'énergie associés aux ondes élastiques. L'analyse de la structure de bande des phonons permet d'extraire la vitesse du son dans différentes directions de la zone de Brillouin. l'objectif de ce travail est de calculer la vitesse du son pour trois branches acoustiques différentes dans trois directions différentes de la zone de Brillouin."
   ]
  },
  {
   "cell_type": "markdown",
   "id": "f64d42da",
   "metadata": {},
   "source": [
    "ZONE DE BRILLOUIN"
   ]
  },
  {
   "cell_type": "code",
   "execution_count": 23,
   "id": "29cbd8c1",
   "metadata": {},
   "outputs": [
    {
     "data": {
      "application/vnd.plotly.v1+json": {
       "config": {
        "plotlyServerURL": "https://plot.ly"
       },
       "data": [
        {
         "line": {
          "color": "green"
         },
         "mode": "lines+text",
         "showlegend": false,
         "text": [
          "",
          "a"
         ],
         "type": "scatter3d",
         "x": [
          0,
          0.3917944618826113
         ],
         "y": [
          0,
          -1.467033471417193
         ],
         "z": [
          0,
          -0.7961016532634445
         ]
        },
        {
         "line": {
          "color": "green"
         },
         "mode": "lines+text",
         "showlegend": false,
         "text": [
          "",
          "b"
         ],
         "type": "scatter3d",
         "x": [
          0,
          0.3917944618826113
         ],
         "y": [
          0,
          1.467033471417193
         ],
         "z": [
          0,
          -0.7961016532634445
         ]
        },
        {
         "line": {
          "color": "green"
         },
         "mode": "lines+text",
         "showlegend": false,
         "text": [
          "",
          "c"
         ],
         "type": "scatter3d",
         "x": [
          0,
          0
         ],
         "y": [
          0,
          0
         ],
         "z": [
          0,
          1.71448766368878
         ]
        },
        {
         "line": {
          "color": "black"
         },
         "mode": "lines",
         "showlegend": false,
         "text": "",
         "type": "scatter3d",
         "x": [
          -0.12423705332262575,
          -0.3917944618826111
         ],
         "y": [
          -1.001840791713311,
          -0.9303853594059625
         ],
         "z": [
          -0.061142178580945394,
          -0.061142178580945505
         ]
        },
        {
         "line": {
          "color": "black"
         },
         "mode": "lines",
         "showlegend": false,
         "text": "",
         "type": "scatter3d",
         "x": [
          -0.12423705332262575,
          0.12423705332262591
         ],
         "y": [
          -1.001840791713311,
          -1.001840791713311
         ],
         "z": [
          -0.061142178580945394,
          0.061142178580945616
         ]
        },
        {
         "line": {
          "color": "black"
         },
         "mode": "lines",
         "showlegend": false,
         "text": "",
         "type": "scatter3d",
         "x": [
          -0.3917944618826111,
          -0.516031515205237
         ],
         "y": [
          -0.9303853594059625,
          -0.4651926797038824
         ],
         "z": [
          -0.061142178580945505,
          0.734959474682499
         ]
        },
        {
         "line": {
          "color": "black"
         },
         "mode": "lines",
         "showlegend": false,
         "text": "",
         "type": "scatter3d",
         "x": [
          -0.516031515205237,
          -0.26755740855998555
         ],
         "y": [
          -0.4651926797038824,
          -0.4651926797038823
         ],
         "z": [
          0.734959474682499,
          0.85724383184439
         ]
        },
        {
         "line": {
          "color": "black"
         },
         "mode": "lines",
         "showlegend": false,
         "text": "",
         "type": "scatter3d",
         "x": [
          -0.26755740855998555,
          0
         ],
         "y": [
          -0.4651926797038823,
          -0.5366481120112306
         ],
         "z": [
          0.85724383184439,
          0.8572438318443899
         ]
        },
        {
         "line": {
          "color": "black"
         },
         "mode": "lines",
         "showlegend": false,
         "text": "",
         "type": "scatter3d",
         "x": [
          0,
          0.12423705332262591
         ],
         "y": [
          -0.5366481120112306,
          -1.001840791713311
         ],
         "z": [
          0.8572438318443899,
          0.061142178580945616
         ]
        },
        {
         "line": {
          "color": "black"
         },
         "mode": "lines",
         "showlegend": false,
         "text": "",
         "type": "scatter3d",
         "x": [
          -0.12423705332262575,
          0
         ],
         "y": [
          -1.001840791713311,
          -0.5366481120112307
         ],
         "z": [
          -0.061142178580945394,
          -0.8572438318443899
         ]
        },
        {
         "line": {
          "color": "black"
         },
         "mode": "lines",
         "showlegend": false,
         "text": "",
         "type": "scatter3d",
         "x": [
          0,
          -0.26755740855998555
         ],
         "y": [
          -0.5366481120112307,
          -0.46519267970388256
         ],
         "z": [
          -0.8572438318443899,
          -0.85724383184439
         ]
        },
        {
         "line": {
          "color": "black"
         },
         "mode": "lines",
         "showlegend": false,
         "text": "",
         "type": "scatter3d",
         "x": [
          -0.26755740855998555,
          -0.3917944618826111
         ],
         "y": [
          -0.46519267970388256,
          -0.9303853594059625
         ],
         "z": [
          -0.85724383184439,
          -0.061142178580945505
         ]
        },
        {
         "line": {
          "color": "black"
         },
         "mode": "lines",
         "showlegend": false,
         "text": "",
         "type": "scatter3d",
         "x": [
          0,
          0.26755740855998544
         ],
         "y": [
          -0.5366481120112307,
          -0.4651926797038823
         ],
         "z": [
          -0.8572438318443899,
          -0.85724383184439
         ]
        },
        {
         "line": {
          "color": "black"
         },
         "mode": "lines",
         "showlegend": false,
         "text": "",
         "type": "scatter3d",
         "x": [
          -0.26755740855998555,
          -0.26755740855998555
         ],
         "y": [
          -0.46519267970388256,
          0.46519267970388256
         ],
         "z": [
          -0.85724383184439,
          -0.85724383184439
         ]
        },
        {
         "line": {
          "color": "black"
         },
         "mode": "lines",
         "showlegend": false,
         "text": "",
         "type": "scatter3d",
         "x": [
          -0.26755740855998555,
          0
         ],
         "y": [
          0.46519267970388256,
          0.5366481120112307
         ],
         "z": [
          -0.85724383184439,
          -0.8572438318443899
         ]
        },
        {
         "line": {
          "color": "black"
         },
         "mode": "lines",
         "showlegend": false,
         "text": "",
         "type": "scatter3d",
         "x": [
          0,
          0.2675574085599859
         ],
         "y": [
          0.5366481120112307,
          0.46519267970388256
         ],
         "z": [
          -0.8572438318443899,
          -0.85724383184439
         ]
        },
        {
         "line": {
          "color": "black"
         },
         "mode": "lines",
         "showlegend": false,
         "text": "",
         "type": "scatter3d",
         "x": [
          0.2675574085599859,
          0.26755740855998544
         ],
         "y": [
          0.46519267970388256,
          -0.4651926797038823
         ],
         "z": [
          -0.85724383184439,
          -0.85724383184439
         ]
        },
        {
         "line": {
          "color": "black"
         },
         "mode": "lines",
         "showlegend": false,
         "text": "",
         "type": "scatter3d",
         "x": [
          -0.26755740855998555,
          -0.3917944618826115
         ],
         "y": [
          0.46519267970388256,
          0.9303853594059625
         ],
         "z": [
          -0.85724383184439,
          -0.061142178580945505
         ]
        },
        {
         "line": {
          "color": "black"
         },
         "mode": "lines",
         "showlegend": false,
         "text": "",
         "type": "scatter3d",
         "x": [
          -0.3917944618826115,
          -0.12423705332262575
         ],
         "y": [
          0.9303853594059625,
          1.0018407917133108
         ],
         "z": [
          -0.061142178580945505,
          -0.061142178580945505
         ]
        },
        {
         "line": {
          "color": "black"
         },
         "mode": "lines",
         "showlegend": false,
         "text": "",
         "type": "scatter3d",
         "x": [
          -0.12423705332262575,
          0
         ],
         "y": [
          1.0018407917133108,
          0.5366481120112307
         ],
         "z": [
          -0.061142178580945505,
          -0.8572438318443899
         ]
        },
        {
         "line": {
          "color": "black"
         },
         "mode": "lines",
         "showlegend": false,
         "text": "",
         "type": "scatter3d",
         "x": [
          -0.516031515205237,
          -0.516031515205237
         ],
         "y": [
          0.4651926797038824,
          -0.4651926797038824
         ],
         "z": [
          0.734959474682499,
          0.734959474682499
         ]
        },
        {
         "line": {
          "color": "black"
         },
         "mode": "lines",
         "showlegend": false,
         "text": "",
         "type": "scatter3d",
         "x": [
          -0.516031515205237,
          -0.26755740855998555
         ],
         "y": [
          0.4651926797038824,
          0.4651926797038823
         ],
         "z": [
          0.734959474682499,
          0.85724383184439
         ]
        },
        {
         "line": {
          "color": "black"
         },
         "mode": "lines",
         "showlegend": false,
         "text": "",
         "type": "scatter3d",
         "x": [
          -0.26755740855998555,
          -0.26755740855998555
         ],
         "y": [
          -0.4651926797038823,
          0.4651926797038823
         ],
         "z": [
          0.85724383184439,
          0.85724383184439
         ]
        },
        {
         "line": {
          "color": "black"
         },
         "mode": "lines",
         "showlegend": false,
         "text": "",
         "type": "scatter3d",
         "x": [
          -0.516031515205237,
          -0.3917944618826115
         ],
         "y": [
          0.4651926797038824,
          0.9303853594059625
         ],
         "z": [
          0.734959474682499,
          -0.061142178580945505
         ]
        },
        {
         "line": {
          "color": "black"
         },
         "mode": "lines",
         "showlegend": false,
         "text": "",
         "type": "scatter3d",
         "x": [
          -0.12423705332262575,
          0.1242370533226258
         ],
         "y": [
          1.0018407917133108,
          1.0018407917133108
         ],
         "z": [
          -0.061142178580945505,
          0.061142178580945505
         ]
        },
        {
         "line": {
          "color": "black"
         },
         "mode": "lines",
         "showlegend": false,
         "text": "",
         "type": "scatter3d",
         "x": [
          0.1242370533226258,
          0
         ],
         "y": [
          1.0018407917133108,
          0.5366481120112306
         ],
         "z": [
          0.061142178580945505,
          0.8572438318443899
         ]
        },
        {
         "line": {
          "color": "black"
         },
         "mode": "lines",
         "showlegend": false,
         "text": "",
         "type": "scatter3d",
         "x": [
          0,
          -0.26755740855998555
         ],
         "y": [
          0.5366481120112306,
          0.4651926797038823
         ],
         "z": [
          0.8572438318443899,
          0.85724383184439
         ]
        },
        {
         "line": {
          "color": "black"
         },
         "mode": "lines",
         "showlegend": false,
         "text": "",
         "type": "scatter3d",
         "x": [
          0.5160315152052373,
          0.516031515205237
         ],
         "y": [
          0.4651926797038824,
          -0.4651926797038824
         ],
         "z": [
          -0.734959474682499,
          -0.734959474682499
         ]
        },
        {
         "line": {
          "color": "black"
         },
         "mode": "lines",
         "showlegend": false,
         "text": "",
         "type": "scatter3d",
         "x": [
          0.5160315152052373,
          0.3917944618826113
         ],
         "y": [
          0.4651926797038824,
          0.9303853594059625
         ],
         "z": [
          -0.734959474682499,
          0.06114217858094542
         ]
        },
        {
         "line": {
          "color": "black"
         },
         "mode": "lines",
         "showlegend": false,
         "text": "",
         "type": "scatter3d",
         "x": [
          0.516031515205237,
          0.3917944618826113
         ],
         "y": [
          -0.4651926797038824,
          -0.9303853594059625
         ],
         "z": [
          -0.734959474682499,
          0.06114217858094542
         ]
        },
        {
         "line": {
          "color": "black"
         },
         "mode": "lines",
         "showlegend": false,
         "text": "",
         "type": "scatter3d",
         "x": [
          0.3917944618826113,
          0.26755740855998544
         ],
         "y": [
          -0.9303853594059625,
          -0.4651926797038823
         ],
         "z": [
          0.06114217858094542,
          0.85724383184439
         ]
        },
        {
         "line": {
          "color": "black"
         },
         "mode": "lines",
         "showlegend": false,
         "text": "",
         "type": "scatter3d",
         "x": [
          0.26755740855998544,
          0.26755740855998544
         ],
         "y": [
          -0.4651926797038823,
          0.4651926797038823
         ],
         "z": [
          0.85724383184439,
          0.85724383184439
         ]
        },
        {
         "line": {
          "color": "black"
         },
         "mode": "lines",
         "showlegend": false,
         "text": "",
         "type": "scatter3d",
         "x": [
          0.26755740855998544,
          0.3917944618826113
         ],
         "y": [
          0.4651926797038823,
          0.9303853594059625
         ],
         "z": [
          0.85724383184439,
          0.06114217858094542
         ]
        },
        {
         "line": {
          "color": "black"
         },
         "mode": "lines",
         "showlegend": false,
         "text": "",
         "type": "scatter3d",
         "x": [
          0.1242370533226258,
          0.3917944618826113
         ],
         "y": [
          1.0018407917133108,
          0.9303853594059625
         ],
         "z": [
          0.061142178580945505,
          0.06114217858094542
         ]
        },
        {
         "line": {
          "color": "black"
         },
         "mode": "lines",
         "showlegend": false,
         "text": "",
         "type": "scatter3d",
         "x": [
          0,
          0.26755740855998544
         ],
         "y": [
          0.5366481120112306,
          0.4651926797038823
         ],
         "z": [
          0.8572438318443899,
          0.85724383184439
         ]
        },
        {
         "line": {
          "color": "black"
         },
         "mode": "lines",
         "showlegend": false,
         "text": "",
         "type": "scatter3d",
         "x": [
          0.2675574085599859,
          0.5160315152052373
         ],
         "y": [
          0.46519267970388256,
          0.4651926797038824
         ],
         "z": [
          -0.85724383184439,
          -0.734959474682499
         ]
        },
        {
         "line": {
          "color": "black"
         },
         "mode": "lines",
         "showlegend": false,
         "text": "",
         "type": "scatter3d",
         "x": [
          0.26755740855998544,
          0.516031515205237
         ],
         "y": [
          -0.4651926797038823,
          -0.4651926797038824
         ],
         "z": [
          -0.85724383184439,
          -0.734959474682499
         ]
        },
        {
         "line": {
          "color": "black"
         },
         "mode": "lines",
         "showlegend": false,
         "text": "",
         "type": "scatter3d",
         "x": [
          0.3917944618826113,
          0.12423705332262591
         ],
         "y": [
          -0.9303853594059625,
          -1.001840791713311
         ],
         "z": [
          0.06114217858094542,
          0.061142178580945616
         ]
        },
        {
         "line": {
          "color": "black"
         },
         "mode": "lines",
         "showlegend": false,
         "text": "",
         "type": "scatter3d",
         "x": [
          0.26755740855998544,
          0
         ],
         "y": [
          -0.4651926797038823,
          -0.5366481120112306
         ],
         "z": [
          0.85724383184439,
          0.8572438318443899
         ]
        },
        {
         "line": {
          "color": "red"
         },
         "mode": "lines",
         "showlegend": false,
         "text": "",
         "type": "scatter3d",
         "x": [
          0,
          0.19589723094130565
         ],
         "y": [
          0,
          -0.7335167357085965
         ],
         "z": [
          0,
          -0.39805082663172225
         ]
        },
        {
         "line": {
          "color": "red"
         },
         "mode": "lines",
         "showlegend": false,
         "text": "",
         "type": "scatter3d",
         "x": [
          0.19589723094130565,
          0.2675574085589131
         ],
         "y": [
          -0.7335167357085965,
          -0.4651926797033601
         ],
         "z": [
          -0.39805082663172225,
          -0.8572438318446653
         ]
        },
        {
         "line": {
          "color": "red"
         },
         "mode": "lines",
         "showlegend": false,
         "text": "",
         "type": "scatter3d",
         "x": [
          0.5160315152063095,
          0.3917944618826113
         ],
         "y": [
          -0.4651926797033601,
          0
         ],
         "z": [
          -0.7349594746822237,
          0.061142178580945505
         ]
        },
        {
         "line": {
          "color": "red"
         },
         "mode": "lines",
         "showlegend": false,
         "text": "",
         "type": "scatter3d",
         "x": [
          0.3917944618826113,
          0
         ],
         "y": [
          0,
          0
         ],
         "z": [
          0.061142178580945505,
          0
         ]
        },
        {
         "line": {
          "color": "red"
         },
         "mode": "lines",
         "showlegend": false,
         "text": "",
         "type": "scatter3d",
         "x": [
          0,
          0.13377870427945654
         ],
         "y": [
          0,
          -0.5009203958569165
         ],
         "z": [
          0,
          -0.8572438318445277
         ]
        },
        {
         "line": {
          "color": "red"
         },
         "mode": "lines",
         "showlegend": false,
         "text": "",
         "type": "scatter3d",
         "x": [
          0.3917944618826113,
          0.3917944618826113
         ],
         "y": [
          -0.4651926797033601,
          0
         ],
         "z": [
          -0.7961016532634445,
          -0.7961016532634445
         ]
        },
        {
         "line": {
          "color": "red"
         },
         "mode": "lines",
         "showlegend": false,
         "text": "",
         "type": "scatter3d",
         "x": [
          0.3917944618826113,
          0.5160315152063095
         ],
         "y": [
          0,
          0
         ],
         "z": [
          -0.7961016532634445,
          -0.7349594746822238
         ]
        },
        {
         "line": {
          "color": "red"
         },
         "mode": "lines",
         "showlegend": false,
         "text": "",
         "type": "scatter3d",
         "x": [
          0.5160315152063095,
          0.3917944618826113
         ],
         "y": [
          0,
          0
         ],
         "z": [
          -0.7349594746822238,
          0.061142178580945505
         ]
        },
        {
         "line": {
          "color": "red"
         },
         "mode": "lines",
         "showlegend": false,
         "text": "",
         "type": "scatter3d",
         "x": [
          0.19589723094130565,
          0.4539129885444604
         ],
         "y": [
          -0.7335167357085965,
          -0.6977890195550401
         ],
         "z": [
          -0.39805082663172225,
          -0.336908648050639
         ]
        },
        {
         "marker": {
          "color": "red",
          "size": 4
         },
         "mode": "markers+text",
         "showlegend": false,
         "text": [
          "Γ",
          "B",
          "B_1",
          "F",
          "L",
          "L_1",
          "P",
          "P_1",
          "P_2",
          "Q",
          "X",
          "Z"
         ],
         "textfont": {
          "color": "red"
         },
         "type": "scatter3d",
         "x": [
          0,
          0.5160315152063095,
          0.2675574085589131,
          0.3917944618826113,
          0.19589723094130565,
          0,
          0.4539129885444604,
          0.5160315152063095,
          0.2675574085589131,
          0.3917944618826113,
          0.13377870427945654,
          0.3917944618826113
         ],
         "y": [
          0,
          -0.4651926797033601,
          -0.4651926797033601,
          0,
          -0.7335167357085965,
          0,
          -0.6977890195550401,
          0,
          0,
          -0.4651926797033601,
          -0.5009203958569165,
          0
         ],
         "z": [
          0,
          -0.7349594746822237,
          -0.8572438318446653,
          -0.7961016532634445,
          -0.39805082663172225,
          -0.85724383184439,
          -0.336908648050639,
          -0.7349594746822238,
          -0.8572438318446652,
          -0.7961016532634445,
          -0.8572438318445277,
          0.061142178580945505
         ]
        }
       ],
       "layout": {
        "scene": {
         "xaxis": {
          "range": [
           -1.15,
           1.15
          ],
          "visible": false
         },
         "yaxis": {
          "range": [
           -1.15,
           1.15
          ],
          "visible": false
         },
         "zaxis": {
          "range": [
           -1.15,
           1.15
          ],
          "visible": false
         }
        },
        "template": {
         "data": {
          "bar": [
           {
            "error_x": {
             "color": "#2a3f5f"
            },
            "error_y": {
             "color": "#2a3f5f"
            },
            "marker": {
             "line": {
              "color": "#E5ECF6",
              "width": 0.5
             },
             "pattern": {
              "fillmode": "overlay",
              "size": 10,
              "solidity": 0.2
             }
            },
            "type": "bar"
           }
          ],
          "barpolar": [
           {
            "marker": {
             "line": {
              "color": "#E5ECF6",
              "width": 0.5
             },
             "pattern": {
              "fillmode": "overlay",
              "size": 10,
              "solidity": 0.2
             }
            },
            "type": "barpolar"
           }
          ],
          "carpet": [
           {
            "aaxis": {
             "endlinecolor": "#2a3f5f",
             "gridcolor": "white",
             "linecolor": "white",
             "minorgridcolor": "white",
             "startlinecolor": "#2a3f5f"
            },
            "baxis": {
             "endlinecolor": "#2a3f5f",
             "gridcolor": "white",
             "linecolor": "white",
             "minorgridcolor": "white",
             "startlinecolor": "#2a3f5f"
            },
            "type": "carpet"
           }
          ],
          "choropleth": [
           {
            "colorbar": {
             "outlinewidth": 0,
             "ticks": ""
            },
            "type": "choropleth"
           }
          ],
          "contour": [
           {
            "colorbar": {
             "outlinewidth": 0,
             "ticks": ""
            },
            "colorscale": [
             [
              0,
              "#0d0887"
             ],
             [
              0.1111111111111111,
              "#46039f"
             ],
             [
              0.2222222222222222,
              "#7201a8"
             ],
             [
              0.3333333333333333,
              "#9c179e"
             ],
             [
              0.4444444444444444,
              "#bd3786"
             ],
             [
              0.5555555555555556,
              "#d8576b"
             ],
             [
              0.6666666666666666,
              "#ed7953"
             ],
             [
              0.7777777777777778,
              "#fb9f3a"
             ],
             [
              0.8888888888888888,
              "#fdca26"
             ],
             [
              1,
              "#f0f921"
             ]
            ],
            "type": "contour"
           }
          ],
          "contourcarpet": [
           {
            "colorbar": {
             "outlinewidth": 0,
             "ticks": ""
            },
            "type": "contourcarpet"
           }
          ],
          "heatmap": [
           {
            "colorbar": {
             "outlinewidth": 0,
             "ticks": ""
            },
            "colorscale": [
             [
              0,
              "#0d0887"
             ],
             [
              0.1111111111111111,
              "#46039f"
             ],
             [
              0.2222222222222222,
              "#7201a8"
             ],
             [
              0.3333333333333333,
              "#9c179e"
             ],
             [
              0.4444444444444444,
              "#bd3786"
             ],
             [
              0.5555555555555556,
              "#d8576b"
             ],
             [
              0.6666666666666666,
              "#ed7953"
             ],
             [
              0.7777777777777778,
              "#fb9f3a"
             ],
             [
              0.8888888888888888,
              "#fdca26"
             ],
             [
              1,
              "#f0f921"
             ]
            ],
            "type": "heatmap"
           }
          ],
          "heatmapgl": [
           {
            "colorbar": {
             "outlinewidth": 0,
             "ticks": ""
            },
            "colorscale": [
             [
              0,
              "#0d0887"
             ],
             [
              0.1111111111111111,
              "#46039f"
             ],
             [
              0.2222222222222222,
              "#7201a8"
             ],
             [
              0.3333333333333333,
              "#9c179e"
             ],
             [
              0.4444444444444444,
              "#bd3786"
             ],
             [
              0.5555555555555556,
              "#d8576b"
             ],
             [
              0.6666666666666666,
              "#ed7953"
             ],
             [
              0.7777777777777778,
              "#fb9f3a"
             ],
             [
              0.8888888888888888,
              "#fdca26"
             ],
             [
              1,
              "#f0f921"
             ]
            ],
            "type": "heatmapgl"
           }
          ],
          "histogram": [
           {
            "marker": {
             "pattern": {
              "fillmode": "overlay",
              "size": 10,
              "solidity": 0.2
             }
            },
            "type": "histogram"
           }
          ],
          "histogram2d": [
           {
            "colorbar": {
             "outlinewidth": 0,
             "ticks": ""
            },
            "colorscale": [
             [
              0,
              "#0d0887"
             ],
             [
              0.1111111111111111,
              "#46039f"
             ],
             [
              0.2222222222222222,
              "#7201a8"
             ],
             [
              0.3333333333333333,
              "#9c179e"
             ],
             [
              0.4444444444444444,
              "#bd3786"
             ],
             [
              0.5555555555555556,
              "#d8576b"
             ],
             [
              0.6666666666666666,
              "#ed7953"
             ],
             [
              0.7777777777777778,
              "#fb9f3a"
             ],
             [
              0.8888888888888888,
              "#fdca26"
             ],
             [
              1,
              "#f0f921"
             ]
            ],
            "type": "histogram2d"
           }
          ],
          "histogram2dcontour": [
           {
            "colorbar": {
             "outlinewidth": 0,
             "ticks": ""
            },
            "colorscale": [
             [
              0,
              "#0d0887"
             ],
             [
              0.1111111111111111,
              "#46039f"
             ],
             [
              0.2222222222222222,
              "#7201a8"
             ],
             [
              0.3333333333333333,
              "#9c179e"
             ],
             [
              0.4444444444444444,
              "#bd3786"
             ],
             [
              0.5555555555555556,
              "#d8576b"
             ],
             [
              0.6666666666666666,
              "#ed7953"
             ],
             [
              0.7777777777777778,
              "#fb9f3a"
             ],
             [
              0.8888888888888888,
              "#fdca26"
             ],
             [
              1,
              "#f0f921"
             ]
            ],
            "type": "histogram2dcontour"
           }
          ],
          "mesh3d": [
           {
            "colorbar": {
             "outlinewidth": 0,
             "ticks": ""
            },
            "type": "mesh3d"
           }
          ],
          "parcoords": [
           {
            "line": {
             "colorbar": {
              "outlinewidth": 0,
              "ticks": ""
             }
            },
            "type": "parcoords"
           }
          ],
          "pie": [
           {
            "automargin": true,
            "type": "pie"
           }
          ],
          "scatter": [
           {
            "fillpattern": {
             "fillmode": "overlay",
             "size": 10,
             "solidity": 0.2
            },
            "type": "scatter"
           }
          ],
          "scatter3d": [
           {
            "line": {
             "colorbar": {
              "outlinewidth": 0,
              "ticks": ""
             }
            },
            "marker": {
             "colorbar": {
              "outlinewidth": 0,
              "ticks": ""
             }
            },
            "type": "scatter3d"
           }
          ],
          "scattercarpet": [
           {
            "marker": {
             "colorbar": {
              "outlinewidth": 0,
              "ticks": ""
             }
            },
            "type": "scattercarpet"
           }
          ],
          "scattergeo": [
           {
            "marker": {
             "colorbar": {
              "outlinewidth": 0,
              "ticks": ""
             }
            },
            "type": "scattergeo"
           }
          ],
          "scattergl": [
           {
            "marker": {
             "colorbar": {
              "outlinewidth": 0,
              "ticks": ""
             }
            },
            "type": "scattergl"
           }
          ],
          "scattermapbox": [
           {
            "marker": {
             "colorbar": {
              "outlinewidth": 0,
              "ticks": ""
             }
            },
            "type": "scattermapbox"
           }
          ],
          "scatterpolar": [
           {
            "marker": {
             "colorbar": {
              "outlinewidth": 0,
              "ticks": ""
             }
            },
            "type": "scatterpolar"
           }
          ],
          "scatterpolargl": [
           {
            "marker": {
             "colorbar": {
              "outlinewidth": 0,
              "ticks": ""
             }
            },
            "type": "scatterpolargl"
           }
          ],
          "scatterternary": [
           {
            "marker": {
             "colorbar": {
              "outlinewidth": 0,
              "ticks": ""
             }
            },
            "type": "scatterternary"
           }
          ],
          "surface": [
           {
            "colorbar": {
             "outlinewidth": 0,
             "ticks": ""
            },
            "colorscale": [
             [
              0,
              "#0d0887"
             ],
             [
              0.1111111111111111,
              "#46039f"
             ],
             [
              0.2222222222222222,
              "#7201a8"
             ],
             [
              0.3333333333333333,
              "#9c179e"
             ],
             [
              0.4444444444444444,
              "#bd3786"
             ],
             [
              0.5555555555555556,
              "#d8576b"
             ],
             [
              0.6666666666666666,
              "#ed7953"
             ],
             [
              0.7777777777777778,
              "#fb9f3a"
             ],
             [
              0.8888888888888888,
              "#fdca26"
             ],
             [
              1,
              "#f0f921"
             ]
            ],
            "type": "surface"
           }
          ],
          "table": [
           {
            "cells": {
             "fill": {
              "color": "#EBF0F8"
             },
             "line": {
              "color": "white"
             }
            },
            "header": {
             "fill": {
              "color": "#C8D4E3"
             },
             "line": {
              "color": "white"
             }
            },
            "type": "table"
           }
          ]
         },
         "layout": {
          "annotationdefaults": {
           "arrowcolor": "#2a3f5f",
           "arrowhead": 0,
           "arrowwidth": 1
          },
          "autotypenumbers": "strict",
          "coloraxis": {
           "colorbar": {
            "outlinewidth": 0,
            "ticks": ""
           }
          },
          "colorscale": {
           "diverging": [
            [
             0,
             "#8e0152"
            ],
            [
             0.1,
             "#c51b7d"
            ],
            [
             0.2,
             "#de77ae"
            ],
            [
             0.3,
             "#f1b6da"
            ],
            [
             0.4,
             "#fde0ef"
            ],
            [
             0.5,
             "#f7f7f7"
            ],
            [
             0.6,
             "#e6f5d0"
            ],
            [
             0.7,
             "#b8e186"
            ],
            [
             0.8,
             "#7fbc41"
            ],
            [
             0.9,
             "#4d9221"
            ],
            [
             1,
             "#276419"
            ]
           ],
           "sequential": [
            [
             0,
             "#0d0887"
            ],
            [
             0.1111111111111111,
             "#46039f"
            ],
            [
             0.2222222222222222,
             "#7201a8"
            ],
            [
             0.3333333333333333,
             "#9c179e"
            ],
            [
             0.4444444444444444,
             "#bd3786"
            ],
            [
             0.5555555555555556,
             "#d8576b"
            ],
            [
             0.6666666666666666,
             "#ed7953"
            ],
            [
             0.7777777777777778,
             "#fb9f3a"
            ],
            [
             0.8888888888888888,
             "#fdca26"
            ],
            [
             1,
             "#f0f921"
            ]
           ],
           "sequentialminus": [
            [
             0,
             "#0d0887"
            ],
            [
             0.1111111111111111,
             "#46039f"
            ],
            [
             0.2222222222222222,
             "#7201a8"
            ],
            [
             0.3333333333333333,
             "#9c179e"
            ],
            [
             0.4444444444444444,
             "#bd3786"
            ],
            [
             0.5555555555555556,
             "#d8576b"
            ],
            [
             0.6666666666666666,
             "#ed7953"
            ],
            [
             0.7777777777777778,
             "#fb9f3a"
            ],
            [
             0.8888888888888888,
             "#fdca26"
            ],
            [
             1,
             "#f0f921"
            ]
           ]
          },
          "colorway": [
           "#636efa",
           "#EF553B",
           "#00cc96",
           "#ab63fa",
           "#FFA15A",
           "#19d3f3",
           "#FF6692",
           "#B6E880",
           "#FF97FF",
           "#FECB52"
          ],
          "font": {
           "color": "#2a3f5f"
          },
          "geo": {
           "bgcolor": "white",
           "lakecolor": "white",
           "landcolor": "#E5ECF6",
           "showlakes": true,
           "showland": true,
           "subunitcolor": "white"
          },
          "hoverlabel": {
           "align": "left"
          },
          "hovermode": "closest",
          "mapbox": {
           "style": "light"
          },
          "paper_bgcolor": "white",
          "plot_bgcolor": "#E5ECF6",
          "polar": {
           "angularaxis": {
            "gridcolor": "white",
            "linecolor": "white",
            "ticks": ""
           },
           "bgcolor": "#E5ECF6",
           "radialaxis": {
            "gridcolor": "white",
            "linecolor": "white",
            "ticks": ""
           }
          },
          "scene": {
           "xaxis": {
            "backgroundcolor": "#E5ECF6",
            "gridcolor": "white",
            "gridwidth": 2,
            "linecolor": "white",
            "showbackground": true,
            "ticks": "",
            "zerolinecolor": "white"
           },
           "yaxis": {
            "backgroundcolor": "#E5ECF6",
            "gridcolor": "white",
            "gridwidth": 2,
            "linecolor": "white",
            "showbackground": true,
            "ticks": "",
            "zerolinecolor": "white"
           },
           "zaxis": {
            "backgroundcolor": "#E5ECF6",
            "gridcolor": "white",
            "gridwidth": 2,
            "linecolor": "white",
            "showbackground": true,
            "ticks": "",
            "zerolinecolor": "white"
           }
          },
          "shapedefaults": {
           "line": {
            "color": "#2a3f5f"
           }
          },
          "ternary": {
           "aaxis": {
            "gridcolor": "white",
            "linecolor": "white",
            "ticks": ""
           },
           "baxis": {
            "gridcolor": "white",
            "linecolor": "white",
            "ticks": ""
           },
           "bgcolor": "#E5ECF6",
           "caxis": {
            "gridcolor": "white",
            "linecolor": "white",
            "ticks": ""
           }
          },
          "title": {
           "x": 0.05
          },
          "xaxis": {
           "automargin": true,
           "gridcolor": "white",
           "linecolor": "white",
           "ticks": "",
           "title": {
            "standoff": 15
           },
           "zerolinecolor": "white",
           "zerolinewidth": 2
          },
          "yaxis": {
           "automargin": true,
           "gridcolor": "white",
           "linecolor": "white",
           "ticks": "",
           "title": {
            "standoff": 15
           },
           "zerolinecolor": "white",
           "zerolinewidth": 2
          }
         }
        }
       }
      },
      "text/html": [
       "<div>                            <div id=\"ebb1fcb3-3d41-4ba8-bc6c-98f68d59e683\" class=\"plotly-graph-div\" style=\"height:525px; width:100%;\"></div>            <script type=\"text/javascript\">                require([\"plotly\"], function(Plotly) {                    window.PLOTLYENV=window.PLOTLYENV || {};                                    if (document.getElementById(\"ebb1fcb3-3d41-4ba8-bc6c-98f68d59e683\")) {                    Plotly.newPlot(                        \"ebb1fcb3-3d41-4ba8-bc6c-98f68d59e683\",                        [{\"line\":{\"color\":\"green\"},\"mode\":\"lines+text\",\"showlegend\":false,\"text\":[\"\",\"a\"],\"x\":[0.0,0.3917944618826113],\"y\":[0.0,-1.467033471417193],\"z\":[0.0,-0.7961016532634445],\"type\":\"scatter3d\"},{\"line\":{\"color\":\"green\"},\"mode\":\"lines+text\",\"showlegend\":false,\"text\":[\"\",\"b\"],\"x\":[0.0,0.3917944618826113],\"y\":[0.0,1.467033471417193],\"z\":[0.0,-0.7961016532634445],\"type\":\"scatter3d\"},{\"line\":{\"color\":\"green\"},\"mode\":\"lines+text\",\"showlegend\":false,\"text\":[\"\",\"c\"],\"x\":[0.0,0.0],\"y\":[0.0,0.0],\"z\":[0.0,1.71448766368878],\"type\":\"scatter3d\"},{\"line\":{\"color\":\"black\"},\"mode\":\"lines\",\"showlegend\":false,\"text\":\"\",\"x\":[-0.12423705332262575,-0.3917944618826111],\"y\":[-1.001840791713311,-0.9303853594059625],\"z\":[-0.061142178580945394,-0.061142178580945505],\"type\":\"scatter3d\"},{\"line\":{\"color\":\"black\"},\"mode\":\"lines\",\"showlegend\":false,\"text\":\"\",\"x\":[-0.12423705332262575,0.12423705332262591],\"y\":[-1.001840791713311,-1.001840791713311],\"z\":[-0.061142178580945394,0.061142178580945616],\"type\":\"scatter3d\"},{\"line\":{\"color\":\"black\"},\"mode\":\"lines\",\"showlegend\":false,\"text\":\"\",\"x\":[-0.3917944618826111,-0.516031515205237],\"y\":[-0.9303853594059625,-0.4651926797038824],\"z\":[-0.061142178580945505,0.734959474682499],\"type\":\"scatter3d\"},{\"line\":{\"color\":\"black\"},\"mode\":\"lines\",\"showlegend\":false,\"text\":\"\",\"x\":[-0.516031515205237,-0.26755740855998555],\"y\":[-0.4651926797038824,-0.4651926797038823],\"z\":[0.734959474682499,0.85724383184439],\"type\":\"scatter3d\"},{\"line\":{\"color\":\"black\"},\"mode\":\"lines\",\"showlegend\":false,\"text\":\"\",\"x\":[-0.26755740855998555,0.0],\"y\":[-0.4651926797038823,-0.5366481120112306],\"z\":[0.85724383184439,0.8572438318443899],\"type\":\"scatter3d\"},{\"line\":{\"color\":\"black\"},\"mode\":\"lines\",\"showlegend\":false,\"text\":\"\",\"x\":[0.0,0.12423705332262591],\"y\":[-0.5366481120112306,-1.001840791713311],\"z\":[0.8572438318443899,0.061142178580945616],\"type\":\"scatter3d\"},{\"line\":{\"color\":\"black\"},\"mode\":\"lines\",\"showlegend\":false,\"text\":\"\",\"x\":[-0.12423705332262575,0.0],\"y\":[-1.001840791713311,-0.5366481120112307],\"z\":[-0.061142178580945394,-0.8572438318443899],\"type\":\"scatter3d\"},{\"line\":{\"color\":\"black\"},\"mode\":\"lines\",\"showlegend\":false,\"text\":\"\",\"x\":[0.0,-0.26755740855998555],\"y\":[-0.5366481120112307,-0.46519267970388256],\"z\":[-0.8572438318443899,-0.85724383184439],\"type\":\"scatter3d\"},{\"line\":{\"color\":\"black\"},\"mode\":\"lines\",\"showlegend\":false,\"text\":\"\",\"x\":[-0.26755740855998555,-0.3917944618826111],\"y\":[-0.46519267970388256,-0.9303853594059625],\"z\":[-0.85724383184439,-0.061142178580945505],\"type\":\"scatter3d\"},{\"line\":{\"color\":\"black\"},\"mode\":\"lines\",\"showlegend\":false,\"text\":\"\",\"x\":[0.0,0.26755740855998544],\"y\":[-0.5366481120112307,-0.4651926797038823],\"z\":[-0.8572438318443899,-0.85724383184439],\"type\":\"scatter3d\"},{\"line\":{\"color\":\"black\"},\"mode\":\"lines\",\"showlegend\":false,\"text\":\"\",\"x\":[-0.26755740855998555,-0.26755740855998555],\"y\":[-0.46519267970388256,0.46519267970388256],\"z\":[-0.85724383184439,-0.85724383184439],\"type\":\"scatter3d\"},{\"line\":{\"color\":\"black\"},\"mode\":\"lines\",\"showlegend\":false,\"text\":\"\",\"x\":[-0.26755740855998555,0.0],\"y\":[0.46519267970388256,0.5366481120112307],\"z\":[-0.85724383184439,-0.8572438318443899],\"type\":\"scatter3d\"},{\"line\":{\"color\":\"black\"},\"mode\":\"lines\",\"showlegend\":false,\"text\":\"\",\"x\":[0.0,0.2675574085599859],\"y\":[0.5366481120112307,0.46519267970388256],\"z\":[-0.8572438318443899,-0.85724383184439],\"type\":\"scatter3d\"},{\"line\":{\"color\":\"black\"},\"mode\":\"lines\",\"showlegend\":false,\"text\":\"\",\"x\":[0.2675574085599859,0.26755740855998544],\"y\":[0.46519267970388256,-0.4651926797038823],\"z\":[-0.85724383184439,-0.85724383184439],\"type\":\"scatter3d\"},{\"line\":{\"color\":\"black\"},\"mode\":\"lines\",\"showlegend\":false,\"text\":\"\",\"x\":[-0.26755740855998555,-0.3917944618826115],\"y\":[0.46519267970388256,0.9303853594059625],\"z\":[-0.85724383184439,-0.061142178580945505],\"type\":\"scatter3d\"},{\"line\":{\"color\":\"black\"},\"mode\":\"lines\",\"showlegend\":false,\"text\":\"\",\"x\":[-0.3917944618826115,-0.12423705332262575],\"y\":[0.9303853594059625,1.0018407917133108],\"z\":[-0.061142178580945505,-0.061142178580945505],\"type\":\"scatter3d\"},{\"line\":{\"color\":\"black\"},\"mode\":\"lines\",\"showlegend\":false,\"text\":\"\",\"x\":[-0.12423705332262575,0.0],\"y\":[1.0018407917133108,0.5366481120112307],\"z\":[-0.061142178580945505,-0.8572438318443899],\"type\":\"scatter3d\"},{\"line\":{\"color\":\"black\"},\"mode\":\"lines\",\"showlegend\":false,\"text\":\"\",\"x\":[-0.516031515205237,-0.516031515205237],\"y\":[0.4651926797038824,-0.4651926797038824],\"z\":[0.734959474682499,0.734959474682499],\"type\":\"scatter3d\"},{\"line\":{\"color\":\"black\"},\"mode\":\"lines\",\"showlegend\":false,\"text\":\"\",\"x\":[-0.516031515205237,-0.26755740855998555],\"y\":[0.4651926797038824,0.4651926797038823],\"z\":[0.734959474682499,0.85724383184439],\"type\":\"scatter3d\"},{\"line\":{\"color\":\"black\"},\"mode\":\"lines\",\"showlegend\":false,\"text\":\"\",\"x\":[-0.26755740855998555,-0.26755740855998555],\"y\":[-0.4651926797038823,0.4651926797038823],\"z\":[0.85724383184439,0.85724383184439],\"type\":\"scatter3d\"},{\"line\":{\"color\":\"black\"},\"mode\":\"lines\",\"showlegend\":false,\"text\":\"\",\"x\":[-0.516031515205237,-0.3917944618826115],\"y\":[0.4651926797038824,0.9303853594059625],\"z\":[0.734959474682499,-0.061142178580945505],\"type\":\"scatter3d\"},{\"line\":{\"color\":\"black\"},\"mode\":\"lines\",\"showlegend\":false,\"text\":\"\",\"x\":[-0.12423705332262575,0.1242370533226258],\"y\":[1.0018407917133108,1.0018407917133108],\"z\":[-0.061142178580945505,0.061142178580945505],\"type\":\"scatter3d\"},{\"line\":{\"color\":\"black\"},\"mode\":\"lines\",\"showlegend\":false,\"text\":\"\",\"x\":[0.1242370533226258,0.0],\"y\":[1.0018407917133108,0.5366481120112306],\"z\":[0.061142178580945505,0.8572438318443899],\"type\":\"scatter3d\"},{\"line\":{\"color\":\"black\"},\"mode\":\"lines\",\"showlegend\":false,\"text\":\"\",\"x\":[0.0,-0.26755740855998555],\"y\":[0.5366481120112306,0.4651926797038823],\"z\":[0.8572438318443899,0.85724383184439],\"type\":\"scatter3d\"},{\"line\":{\"color\":\"black\"},\"mode\":\"lines\",\"showlegend\":false,\"text\":\"\",\"x\":[0.5160315152052373,0.516031515205237],\"y\":[0.4651926797038824,-0.4651926797038824],\"z\":[-0.734959474682499,-0.734959474682499],\"type\":\"scatter3d\"},{\"line\":{\"color\":\"black\"},\"mode\":\"lines\",\"showlegend\":false,\"text\":\"\",\"x\":[0.5160315152052373,0.3917944618826113],\"y\":[0.4651926797038824,0.9303853594059625],\"z\":[-0.734959474682499,0.06114217858094542],\"type\":\"scatter3d\"},{\"line\":{\"color\":\"black\"},\"mode\":\"lines\",\"showlegend\":false,\"text\":\"\",\"x\":[0.516031515205237,0.3917944618826113],\"y\":[-0.4651926797038824,-0.9303853594059625],\"z\":[-0.734959474682499,0.06114217858094542],\"type\":\"scatter3d\"},{\"line\":{\"color\":\"black\"},\"mode\":\"lines\",\"showlegend\":false,\"text\":\"\",\"x\":[0.3917944618826113,0.26755740855998544],\"y\":[-0.9303853594059625,-0.4651926797038823],\"z\":[0.06114217858094542,0.85724383184439],\"type\":\"scatter3d\"},{\"line\":{\"color\":\"black\"},\"mode\":\"lines\",\"showlegend\":false,\"text\":\"\",\"x\":[0.26755740855998544,0.26755740855998544],\"y\":[-0.4651926797038823,0.4651926797038823],\"z\":[0.85724383184439,0.85724383184439],\"type\":\"scatter3d\"},{\"line\":{\"color\":\"black\"},\"mode\":\"lines\",\"showlegend\":false,\"text\":\"\",\"x\":[0.26755740855998544,0.3917944618826113],\"y\":[0.4651926797038823,0.9303853594059625],\"z\":[0.85724383184439,0.06114217858094542],\"type\":\"scatter3d\"},{\"line\":{\"color\":\"black\"},\"mode\":\"lines\",\"showlegend\":false,\"text\":\"\",\"x\":[0.1242370533226258,0.3917944618826113],\"y\":[1.0018407917133108,0.9303853594059625],\"z\":[0.061142178580945505,0.06114217858094542],\"type\":\"scatter3d\"},{\"line\":{\"color\":\"black\"},\"mode\":\"lines\",\"showlegend\":false,\"text\":\"\",\"x\":[0.0,0.26755740855998544],\"y\":[0.5366481120112306,0.4651926797038823],\"z\":[0.8572438318443899,0.85724383184439],\"type\":\"scatter3d\"},{\"line\":{\"color\":\"black\"},\"mode\":\"lines\",\"showlegend\":false,\"text\":\"\",\"x\":[0.2675574085599859,0.5160315152052373],\"y\":[0.46519267970388256,0.4651926797038824],\"z\":[-0.85724383184439,-0.734959474682499],\"type\":\"scatter3d\"},{\"line\":{\"color\":\"black\"},\"mode\":\"lines\",\"showlegend\":false,\"text\":\"\",\"x\":[0.26755740855998544,0.516031515205237],\"y\":[-0.4651926797038823,-0.4651926797038824],\"z\":[-0.85724383184439,-0.734959474682499],\"type\":\"scatter3d\"},{\"line\":{\"color\":\"black\"},\"mode\":\"lines\",\"showlegend\":false,\"text\":\"\",\"x\":[0.3917944618826113,0.12423705332262591],\"y\":[-0.9303853594059625,-1.001840791713311],\"z\":[0.06114217858094542,0.061142178580945616],\"type\":\"scatter3d\"},{\"line\":{\"color\":\"black\"},\"mode\":\"lines\",\"showlegend\":false,\"text\":\"\",\"x\":[0.26755740855998544,0.0],\"y\":[-0.4651926797038823,-0.5366481120112306],\"z\":[0.85724383184439,0.8572438318443899],\"type\":\"scatter3d\"},{\"line\":{\"color\":\"red\"},\"mode\":\"lines\",\"showlegend\":false,\"text\":\"\",\"x\":[0.0,0.19589723094130565],\"y\":[0.0,-0.7335167357085965],\"z\":[0.0,-0.39805082663172225],\"type\":\"scatter3d\"},{\"line\":{\"color\":\"red\"},\"mode\":\"lines\",\"showlegend\":false,\"text\":\"\",\"x\":[0.19589723094130565,0.2675574085589131],\"y\":[-0.7335167357085965,-0.4651926797033601],\"z\":[-0.39805082663172225,-0.8572438318446653],\"type\":\"scatter3d\"},{\"line\":{\"color\":\"red\"},\"mode\":\"lines\",\"showlegend\":false,\"text\":\"\",\"x\":[0.5160315152063095,0.3917944618826113],\"y\":[-0.4651926797033601,0.0],\"z\":[-0.7349594746822237,0.061142178580945505],\"type\":\"scatter3d\"},{\"line\":{\"color\":\"red\"},\"mode\":\"lines\",\"showlegend\":false,\"text\":\"\",\"x\":[0.3917944618826113,0.0],\"y\":[0.0,0.0],\"z\":[0.061142178580945505,0.0],\"type\":\"scatter3d\"},{\"line\":{\"color\":\"red\"},\"mode\":\"lines\",\"showlegend\":false,\"text\":\"\",\"x\":[0.0,0.13377870427945654],\"y\":[0.0,-0.5009203958569165],\"z\":[0.0,-0.8572438318445277],\"type\":\"scatter3d\"},{\"line\":{\"color\":\"red\"},\"mode\":\"lines\",\"showlegend\":false,\"text\":\"\",\"x\":[0.3917944618826113,0.3917944618826113],\"y\":[-0.4651926797033601,0.0],\"z\":[-0.7961016532634445,-0.7961016532634445],\"type\":\"scatter3d\"},{\"line\":{\"color\":\"red\"},\"mode\":\"lines\",\"showlegend\":false,\"text\":\"\",\"x\":[0.3917944618826113,0.5160315152063095],\"y\":[0.0,0.0],\"z\":[-0.7961016532634445,-0.7349594746822238],\"type\":\"scatter3d\"},{\"line\":{\"color\":\"red\"},\"mode\":\"lines\",\"showlegend\":false,\"text\":\"\",\"x\":[0.5160315152063095,0.3917944618826113],\"y\":[0.0,0.0],\"z\":[-0.7349594746822238,0.061142178580945505],\"type\":\"scatter3d\"},{\"line\":{\"color\":\"red\"},\"mode\":\"lines\",\"showlegend\":false,\"text\":\"\",\"x\":[0.19589723094130565,0.4539129885444604],\"y\":[-0.7335167357085965,-0.6977890195550401],\"z\":[-0.39805082663172225,-0.336908648050639],\"type\":\"scatter3d\"},{\"marker\":{\"color\":\"red\",\"size\":4},\"mode\":\"markers+text\",\"showlegend\":false,\"text\":[\"Γ\",\"B\",\"B_1\",\"F\",\"L\",\"L_1\",\"P\",\"P_1\",\"P_2\",\"Q\",\"X\",\"Z\"],\"textfont\":{\"color\":\"red\"},\"x\":[0.0,0.5160315152063095,0.2675574085589131,0.3917944618826113,0.19589723094130565,0.0,0.4539129885444604,0.5160315152063095,0.2675574085589131,0.3917944618826113,0.13377870427945654,0.3917944618826113],\"y\":[0.0,-0.4651926797033601,-0.4651926797033601,0.0,-0.7335167357085965,0.0,-0.6977890195550401,0.0,0.0,-0.4651926797033601,-0.5009203958569165,0.0],\"z\":[0.0,-0.7349594746822237,-0.8572438318446653,-0.7961016532634445,-0.39805082663172225,-0.85724383184439,-0.336908648050639,-0.7349594746822238,-0.8572438318446652,-0.7961016532634445,-0.8572438318445277,0.061142178580945505],\"type\":\"scatter3d\"}],                        {\"template\":{\"data\":{\"histogram2dcontour\":[{\"type\":\"histogram2dcontour\",\"colorbar\":{\"outlinewidth\":0,\"ticks\":\"\"},\"colorscale\":[[0.0,\"#0d0887\"],[0.1111111111111111,\"#46039f\"],[0.2222222222222222,\"#7201a8\"],[0.3333333333333333,\"#9c179e\"],[0.4444444444444444,\"#bd3786\"],[0.5555555555555556,\"#d8576b\"],[0.6666666666666666,\"#ed7953\"],[0.7777777777777778,\"#fb9f3a\"],[0.8888888888888888,\"#fdca26\"],[1.0,\"#f0f921\"]]}],\"choropleth\":[{\"type\":\"choropleth\",\"colorbar\":{\"outlinewidth\":0,\"ticks\":\"\"}}],\"histogram2d\":[{\"type\":\"histogram2d\",\"colorbar\":{\"outlinewidth\":0,\"ticks\":\"\"},\"colorscale\":[[0.0,\"#0d0887\"],[0.1111111111111111,\"#46039f\"],[0.2222222222222222,\"#7201a8\"],[0.3333333333333333,\"#9c179e\"],[0.4444444444444444,\"#bd3786\"],[0.5555555555555556,\"#d8576b\"],[0.6666666666666666,\"#ed7953\"],[0.7777777777777778,\"#fb9f3a\"],[0.8888888888888888,\"#fdca26\"],[1.0,\"#f0f921\"]]}],\"heatmap\":[{\"type\":\"heatmap\",\"colorbar\":{\"outlinewidth\":0,\"ticks\":\"\"},\"colorscale\":[[0.0,\"#0d0887\"],[0.1111111111111111,\"#46039f\"],[0.2222222222222222,\"#7201a8\"],[0.3333333333333333,\"#9c179e\"],[0.4444444444444444,\"#bd3786\"],[0.5555555555555556,\"#d8576b\"],[0.6666666666666666,\"#ed7953\"],[0.7777777777777778,\"#fb9f3a\"],[0.8888888888888888,\"#fdca26\"],[1.0,\"#f0f921\"]]}],\"heatmapgl\":[{\"type\":\"heatmapgl\",\"colorbar\":{\"outlinewidth\":0,\"ticks\":\"\"},\"colorscale\":[[0.0,\"#0d0887\"],[0.1111111111111111,\"#46039f\"],[0.2222222222222222,\"#7201a8\"],[0.3333333333333333,\"#9c179e\"],[0.4444444444444444,\"#bd3786\"],[0.5555555555555556,\"#d8576b\"],[0.6666666666666666,\"#ed7953\"],[0.7777777777777778,\"#fb9f3a\"],[0.8888888888888888,\"#fdca26\"],[1.0,\"#f0f921\"]]}],\"contourcarpet\":[{\"type\":\"contourcarpet\",\"colorbar\":{\"outlinewidth\":0,\"ticks\":\"\"}}],\"contour\":[{\"type\":\"contour\",\"colorbar\":{\"outlinewidth\":0,\"ticks\":\"\"},\"colorscale\":[[0.0,\"#0d0887\"],[0.1111111111111111,\"#46039f\"],[0.2222222222222222,\"#7201a8\"],[0.3333333333333333,\"#9c179e\"],[0.4444444444444444,\"#bd3786\"],[0.5555555555555556,\"#d8576b\"],[0.6666666666666666,\"#ed7953\"],[0.7777777777777778,\"#fb9f3a\"],[0.8888888888888888,\"#fdca26\"],[1.0,\"#f0f921\"]]}],\"surface\":[{\"type\":\"surface\",\"colorbar\":{\"outlinewidth\":0,\"ticks\":\"\"},\"colorscale\":[[0.0,\"#0d0887\"],[0.1111111111111111,\"#46039f\"],[0.2222222222222222,\"#7201a8\"],[0.3333333333333333,\"#9c179e\"],[0.4444444444444444,\"#bd3786\"],[0.5555555555555556,\"#d8576b\"],[0.6666666666666666,\"#ed7953\"],[0.7777777777777778,\"#fb9f3a\"],[0.8888888888888888,\"#fdca26\"],[1.0,\"#f0f921\"]]}],\"mesh3d\":[{\"type\":\"mesh3d\",\"colorbar\":{\"outlinewidth\":0,\"ticks\":\"\"}}],\"scatter\":[{\"fillpattern\":{\"fillmode\":\"overlay\",\"size\":10,\"solidity\":0.2},\"type\":\"scatter\"}],\"parcoords\":[{\"type\":\"parcoords\",\"line\":{\"colorbar\":{\"outlinewidth\":0,\"ticks\":\"\"}}}],\"scatterpolargl\":[{\"type\":\"scatterpolargl\",\"marker\":{\"colorbar\":{\"outlinewidth\":0,\"ticks\":\"\"}}}],\"bar\":[{\"error_x\":{\"color\":\"#2a3f5f\"},\"error_y\":{\"color\":\"#2a3f5f\"},\"marker\":{\"line\":{\"color\":\"#E5ECF6\",\"width\":0.5},\"pattern\":{\"fillmode\":\"overlay\",\"size\":10,\"solidity\":0.2}},\"type\":\"bar\"}],\"scattergeo\":[{\"type\":\"scattergeo\",\"marker\":{\"colorbar\":{\"outlinewidth\":0,\"ticks\":\"\"}}}],\"scatterpolar\":[{\"type\":\"scatterpolar\",\"marker\":{\"colorbar\":{\"outlinewidth\":0,\"ticks\":\"\"}}}],\"histogram\":[{\"marker\":{\"pattern\":{\"fillmode\":\"overlay\",\"size\":10,\"solidity\":0.2}},\"type\":\"histogram\"}],\"scattergl\":[{\"type\":\"scattergl\",\"marker\":{\"colorbar\":{\"outlinewidth\":0,\"ticks\":\"\"}}}],\"scatter3d\":[{\"type\":\"scatter3d\",\"line\":{\"colorbar\":{\"outlinewidth\":0,\"ticks\":\"\"}},\"marker\":{\"colorbar\":{\"outlinewidth\":0,\"ticks\":\"\"}}}],\"scattermapbox\":[{\"type\":\"scattermapbox\",\"marker\":{\"colorbar\":{\"outlinewidth\":0,\"ticks\":\"\"}}}],\"scatterternary\":[{\"type\":\"scatterternary\",\"marker\":{\"colorbar\":{\"outlinewidth\":0,\"ticks\":\"\"}}}],\"scattercarpet\":[{\"type\":\"scattercarpet\",\"marker\":{\"colorbar\":{\"outlinewidth\":0,\"ticks\":\"\"}}}],\"carpet\":[{\"aaxis\":{\"endlinecolor\":\"#2a3f5f\",\"gridcolor\":\"white\",\"linecolor\":\"white\",\"minorgridcolor\":\"white\",\"startlinecolor\":\"#2a3f5f\"},\"baxis\":{\"endlinecolor\":\"#2a3f5f\",\"gridcolor\":\"white\",\"linecolor\":\"white\",\"minorgridcolor\":\"white\",\"startlinecolor\":\"#2a3f5f\"},\"type\":\"carpet\"}],\"table\":[{\"cells\":{\"fill\":{\"color\":\"#EBF0F8\"},\"line\":{\"color\":\"white\"}},\"header\":{\"fill\":{\"color\":\"#C8D4E3\"},\"line\":{\"color\":\"white\"}},\"type\":\"table\"}],\"barpolar\":[{\"marker\":{\"line\":{\"color\":\"#E5ECF6\",\"width\":0.5},\"pattern\":{\"fillmode\":\"overlay\",\"size\":10,\"solidity\":0.2}},\"type\":\"barpolar\"}],\"pie\":[{\"automargin\":true,\"type\":\"pie\"}]},\"layout\":{\"autotypenumbers\":\"strict\",\"colorway\":[\"#636efa\",\"#EF553B\",\"#00cc96\",\"#ab63fa\",\"#FFA15A\",\"#19d3f3\",\"#FF6692\",\"#B6E880\",\"#FF97FF\",\"#FECB52\"],\"font\":{\"color\":\"#2a3f5f\"},\"hovermode\":\"closest\",\"hoverlabel\":{\"align\":\"left\"},\"paper_bgcolor\":\"white\",\"plot_bgcolor\":\"#E5ECF6\",\"polar\":{\"bgcolor\":\"#E5ECF6\",\"angularaxis\":{\"gridcolor\":\"white\",\"linecolor\":\"white\",\"ticks\":\"\"},\"radialaxis\":{\"gridcolor\":\"white\",\"linecolor\":\"white\",\"ticks\":\"\"}},\"ternary\":{\"bgcolor\":\"#E5ECF6\",\"aaxis\":{\"gridcolor\":\"white\",\"linecolor\":\"white\",\"ticks\":\"\"},\"baxis\":{\"gridcolor\":\"white\",\"linecolor\":\"white\",\"ticks\":\"\"},\"caxis\":{\"gridcolor\":\"white\",\"linecolor\":\"white\",\"ticks\":\"\"}},\"coloraxis\":{\"colorbar\":{\"outlinewidth\":0,\"ticks\":\"\"}},\"colorscale\":{\"sequential\":[[0.0,\"#0d0887\"],[0.1111111111111111,\"#46039f\"],[0.2222222222222222,\"#7201a8\"],[0.3333333333333333,\"#9c179e\"],[0.4444444444444444,\"#bd3786\"],[0.5555555555555556,\"#d8576b\"],[0.6666666666666666,\"#ed7953\"],[0.7777777777777778,\"#fb9f3a\"],[0.8888888888888888,\"#fdca26\"],[1.0,\"#f0f921\"]],\"sequentialminus\":[[0.0,\"#0d0887\"],[0.1111111111111111,\"#46039f\"],[0.2222222222222222,\"#7201a8\"],[0.3333333333333333,\"#9c179e\"],[0.4444444444444444,\"#bd3786\"],[0.5555555555555556,\"#d8576b\"],[0.6666666666666666,\"#ed7953\"],[0.7777777777777778,\"#fb9f3a\"],[0.8888888888888888,\"#fdca26\"],[1.0,\"#f0f921\"]],\"diverging\":[[0,\"#8e0152\"],[0.1,\"#c51b7d\"],[0.2,\"#de77ae\"],[0.3,\"#f1b6da\"],[0.4,\"#fde0ef\"],[0.5,\"#f7f7f7\"],[0.6,\"#e6f5d0\"],[0.7,\"#b8e186\"],[0.8,\"#7fbc41\"],[0.9,\"#4d9221\"],[1,\"#276419\"]]},\"xaxis\":{\"gridcolor\":\"white\",\"linecolor\":\"white\",\"ticks\":\"\",\"title\":{\"standoff\":15},\"zerolinecolor\":\"white\",\"automargin\":true,\"zerolinewidth\":2},\"yaxis\":{\"gridcolor\":\"white\",\"linecolor\":\"white\",\"ticks\":\"\",\"title\":{\"standoff\":15},\"zerolinecolor\":\"white\",\"automargin\":true,\"zerolinewidth\":2},\"scene\":{\"xaxis\":{\"backgroundcolor\":\"#E5ECF6\",\"gridcolor\":\"white\",\"linecolor\":\"white\",\"showbackground\":true,\"ticks\":\"\",\"zerolinecolor\":\"white\",\"gridwidth\":2},\"yaxis\":{\"backgroundcolor\":\"#E5ECF6\",\"gridcolor\":\"white\",\"linecolor\":\"white\",\"showbackground\":true,\"ticks\":\"\",\"zerolinecolor\":\"white\",\"gridwidth\":2},\"zaxis\":{\"backgroundcolor\":\"#E5ECF6\",\"gridcolor\":\"white\",\"linecolor\":\"white\",\"showbackground\":true,\"ticks\":\"\",\"zerolinecolor\":\"white\",\"gridwidth\":2}},\"shapedefaults\":{\"line\":{\"color\":\"#2a3f5f\"}},\"annotationdefaults\":{\"arrowcolor\":\"#2a3f5f\",\"arrowhead\":0,\"arrowwidth\":1},\"geo\":{\"bgcolor\":\"white\",\"landcolor\":\"#E5ECF6\",\"subunitcolor\":\"white\",\"showland\":true,\"showlakes\":true,\"lakecolor\":\"white\"},\"title\":{\"x\":0.05},\"mapbox\":{\"style\":\"light\"}}},\"scene\":{\"xaxis\":{\"visible\":false,\"range\":[-1.15,1.15]},\"yaxis\":{\"visible\":false,\"range\":[-1.15,1.15]},\"zaxis\":{\"visible\":false,\"range\":[-1.15,1.15]}}},                        {\"responsive\": true}                    ).then(function(){\n",
       "                            \n",
       "var gd = document.getElementById('ebb1fcb3-3d41-4ba8-bc6c-98f68d59e683');\n",
       "var x = new MutationObserver(function (mutations, observer) {{\n",
       "        var display = window.getComputedStyle(gd).display;\n",
       "        if (!display || display === 'none') {{\n",
       "            console.log([gd, 'removed!']);\n",
       "            Plotly.purge(gd);\n",
       "            observer.disconnect();\n",
       "        }}\n",
       "}});\n",
       "\n",
       "// Listen for the removal of the full notebook cells\n",
       "var notebookContainer = gd.closest('#notebook-container');\n",
       "if (notebookContainer) {{\n",
       "    x.observe(notebookContainer, {childList: true});\n",
       "}}\n",
       "\n",
       "// Listen for the clearing of the current output cell\n",
       "var outputEl = gd.closest('.output');\n",
       "if (outputEl) {{\n",
       "    x.observe(outputEl, {childList: true});\n",
       "}}\n",
       "\n",
       "                        })                };                });            </script>        </div>"
      ]
     },
     "metadata": {},
     "output_type": "display_data"
    }
   ],
   "source": [
    "plot_brillouin_zone(ph_bs.structure)\n"
   ]
  },
  {
   "cell_type": "markdown",
   "id": "9ae033dd",
   "metadata": {},
   "source": [
    "on remarque bien que le centre de la zone de brillouin correspond à  Γ"
   ]
  },
  {
   "cell_type": "markdown",
   "id": "6924f401",
   "metadata": {},
   "source": [
    "STRUCTURE BANDE DE PHONONS"
   ]
  },
  {
   "cell_type": "code",
   "execution_count": 24,
   "id": "cb4728b0",
   "metadata": {},
   "outputs": [
    {
     "data": {
      "application/vnd.plotly.v1+json": {
       "config": {
        "plotlyServerURL": "https://plot.ly"
       },
       "data": [
        {
         "mode": "lines",
         "name": "band 1",
         "type": "scatter",
         "x": [
          0,
          0.05357773949034768,
          0.10715547898069536,
          0.16073321847104305,
          0.2143109579613907,
          0.2678886974517384,
          0.32146643694208604,
          0.37504417643243376,
          0.4286219159227814,
          0.4821996554131291,
          0.5357773949034768,
          0.5893551343938245,
          0.6429328738841721,
          0.6965106133745198,
          0.7500883528648675,
          0.8036660923552152,
          0.8572438318455629,
          0.8572438318455629,
          0.9109086430452726,
          0.9645734542479164,
          1.018238265447626,
          1.07190307665027,
          1.1255678878499795,
          1.1792326990555573,
          1.2328975102670032,
          1.2865623214491084,
          1.3402271326605544,
          1.3938919438426598,
          1.3938919438426598,
          1.4486204944225785,
          1.5033490449731566,
          1.5580775955237347,
          1.6128061460743128,
          1.667534696624891,
          1.722263247175469,
          1.7769917977260472,
          1.8317203482766256,
          1.8864488988272035,
          1.9411774493777814,
          1.9959059999283597,
          2.050634550508278,
          2.1053631010588565,
          2.160091651609435,
          2.2148202021600127,
          2.2695487527105906,
          2.3242773032611685,
          2.3242773032611685,
          2.373844376877934,
          2.423411450494699,
          2.4729785241114643,
          2.5225455977282296,
          2.572112671344995,
          2.62167974496176,
          2.6712468185785254,
          2.7208138921952907,
          2.7208138921952907,
          2.7735423549166778,
          2.826270817638065,
          2.878999280359452,
          2.931727743080839,
          2.9844562058051602,
          3.0371846685236132,
          3.0899131312450003,
          3.1426415939663874,
          3.1953700566877745,
          3.2480985194091616,
          3.3008269821305487,
          3.353555444851936,
          3.406283907573323,
          3.45901237029471,
          3.511740833016097,
          3.564469295737484,
          3.6171977584588713,
          3.6699262211802584,
          3.7226546839016454,
          3.7226546839016454,
          3.7743427594347323,
          3.8260308349678187,
          3.8777189104715646,
          3.9294069860046514,
          3.9810950615083973,
          4.032783137041484,
          4.084471212574571,
          4.136159288078317,
          4.187847363611404,
          4.187847363611404,
          4.234003152245764,
          4.280158940883153,
          4.326314729511457,
          4.326314729511457,
          4.380030553292637,
          4.433746377073818,
          4.487462200838059,
          4.5411780246023,
          4.594893848366541,
          4.648609672147722,
          4.702325495911963,
          4.756041319693144,
          4.809757143457385,
          4.863472967221626,
          4.917188791002807,
          4.970904614767048,
          5.024620438531289,
          5.07833626229553,
          5.132052086076711,
          5.132052086076711,
          5.185563567788137,
          5.239075049497995,
          5.292586531212555,
          5.346098012927115,
          5.399609494633839
         ],
         "y": [
          0,
          0.17274888372668074,
          0.3429254335680597,
          0.5080484570559985,
          0.6658707737185853,
          0.8147618902822725,
          0.9542394415214855,
          1.0851400597031222,
          1.1854635922768653,
          1.2502800325747931,
          1.3002107787624084,
          1.3384441827051912,
          1.3673837194116567,
          1.388685328798369,
          1.4033864132034193,
          1.4120488139389715,
          1.414915561965391,
          1.414915561965391,
          1.4204877505881788,
          1.4366789431823723,
          1.4621846839279942,
          1.495473367465948,
          1.5350440054918297,
          1.5790042048100557,
          1.6241759417293968,
          1.6654847937152648,
          1.696490018466286,
          1.6973095635158517,
          1.697309563516012,
          1.6634623820848995,
          1.6290457409287555,
          1.5942489116960612,
          1.559251008151608,
          1.5242133571111511,
          1.4628592377376013,
          1.3987495994183832,
          1.3406730599859222,
          1.2930594335447005,
          1.2581993710635442,
          1.2347925052257702,
          1.2180107472276198,
          1.2016486238708475,
          1.1815809979188685,
          1.158874365186098,
          1.1399991461305787,
          1.1326026639275468,
          1.1326026639275468,
          1.06670205392782,
          0.9479357401783888,
          0.8109332748357667,
          0.661735739608029,
          0.5041099558060159,
          0.34044555762207684,
          0.17184388288257543,
          0,
          0,
          0.1531203479943023,
          0.30495514080404884,
          0.45399397237439215,
          0.5983765001145801,
          0.7359232882224815,
          0.8643298860415151,
          0.9815231918892383,
          1.0861780647151114,
          1.178252643621792,
          1.2591535980151072,
          1.3312484361057544,
          1.3969934880047123,
          1.4581935810178996,
          1.5156172342142278,
          1.5689066685672146,
          1.6166818700142975,
          1.6568100684600864,
          1.686892426022901,
          1.7050173362793795,
          1.7050020909747532,
          1.6821262322024284,
          1.6447149294287682,
          1.6022745945278192,
          1.5557961912118516,
          1.5070896255181467,
          1.4592779169024104,
          1.4173481971891062,
          1.387923530414934,
          1.377238659651416,
          1.377238659651416,
          1.3775620828722053,
          1.37852476239924,
          1.380099114097936,
          1.380099114097936,
          1.369557131798529,
          1.3565456238096505,
          1.341259803021326,
          1.32411602859891,
          1.3056164291357135,
          1.2862130706850528,
          1.266283389796408,
          1.2462145342893243,
          1.2264835954175173,
          1.2075873619140718,
          1.189751875563578,
          1.1725571614560206,
          1.1552247432716154,
          1.139507263992638,
          1.1326026639275468,
          1.414915561965391,
          1.4126551541190806,
          1.4063757198076088,
          1.3974888962162428,
          1.3880113845393776,
          1.3800762817659586
         ]
        },
        {
         "mode": "lines",
         "name": "band 2",
         "type": "scatter",
         "x": [
          0,
          0.05357773949034768,
          0.10715547898069536,
          0.16073321847104305,
          0.2143109579613907,
          0.2678886974517384,
          0.32146643694208604,
          0.37504417643243376,
          0.4286219159227814,
          0.4821996554131291,
          0.5357773949034768,
          0.5893551343938245,
          0.6429328738841721,
          0.6965106133745198,
          0.7500883528648675,
          0.8036660923552152,
          0.8572438318455629,
          0.8572438318455629,
          0.9109086430452726,
          0.9645734542479164,
          1.018238265447626,
          1.07190307665027,
          1.1255678878499795,
          1.1792326990555573,
          1.2328975102670032,
          1.2865623214491084,
          1.3402271326605544,
          1.3938919438426598,
          1.3938919438426598,
          1.4486204944225785,
          1.5033490449731566,
          1.5580775955237347,
          1.6128061460743128,
          1.667534696624891,
          1.722263247175469,
          1.7769917977260472,
          1.8317203482766256,
          1.8864488988272035,
          1.9411774493777814,
          1.9959059999283597,
          2.050634550508278,
          2.1053631010588565,
          2.160091651609435,
          2.2148202021600127,
          2.2695487527105906,
          2.3242773032611685,
          2.3242773032611685,
          2.373844376877934,
          2.423411450494699,
          2.4729785241114643,
          2.5225455977282296,
          2.572112671344995,
          2.62167974496176,
          2.6712468185785254,
          2.7208138921952907,
          2.7208138921952907,
          2.7735423549166778,
          2.826270817638065,
          2.878999280359452,
          2.931727743080839,
          2.9844562058051602,
          3.0371846685236132,
          3.0899131312450003,
          3.1426415939663874,
          3.1953700566877745,
          3.2480985194091616,
          3.3008269821305487,
          3.353555444851936,
          3.406283907573323,
          3.45901237029471,
          3.511740833016097,
          3.564469295737484,
          3.6171977584588713,
          3.6699262211802584,
          3.7226546839016454,
          3.7226546839016454,
          3.7743427594347323,
          3.8260308349678187,
          3.8777189104715646,
          3.9294069860046514,
          3.9810950615083973,
          4.032783137041484,
          4.084471212574571,
          4.136159288078317,
          4.187847363611404,
          4.187847363611404,
          4.234003152245764,
          4.280158940883153,
          4.326314729511457,
          4.326314729511457,
          4.380030553292637,
          4.433746377073818,
          4.487462200838059,
          4.5411780246023,
          4.594893848366541,
          4.648609672147722,
          4.702325495911963,
          4.756041319693144,
          4.809757143457385,
          4.863472967221626,
          4.917188791002807,
          4.970904614767048,
          5.024620438531289,
          5.07833626229553,
          5.132052086076711,
          5.132052086076711,
          5.185563567788137,
          5.239075049497995,
          5.292586531212555,
          5.346098012927115,
          5.399609494633839
         ],
         "y": [
          0,
          0.19032244050408856,
          0.3767496657648447,
          0.5551391097636222,
          0.7209619217726343,
          0.8695775179293246,
          0.9971858056325019,
          1.1021223171669692,
          1.2091550090715706,
          1.328102745638326,
          1.4433813675209164,
          1.55560178496783,
          1.664235119258472,
          1.7670805739962234,
          1.8589713697601655,
          1.9285097736694325,
          1.9508908550990318,
          1.9508908550990318,
          1.9443014316001206,
          1.924807710159473,
          1.9001316239364443,
          1.8743028532083221,
          1.847858654275544,
          1.8203607236752626,
          1.7914856978038052,
          1.761220427505783,
          1.7297483124093502,
          1.7113445122952355,
          1.711344512295179,
          1.7067734360907667,
          1.6828049119865909,
          1.642351475139253,
          1.589323167660173,
          1.5279892205827683,
          1.4892789804874458,
          1.4545980913320593,
          1.4203783990874668,
          1.386935512933734,
          1.3547121025331101,
          1.324242161791065,
          1.2960180949823177,
          1.2701140945327738,
          1.2449671758263106,
          1.2127668079336356,
          1.1617672297383557,
          1.1326026639291895,
          1.1326026639291895,
          1.066702053929357,
          0.9479357401797585,
          0.8109332748369364,
          0.6617357396089725,
          0.5041099558067347,
          0.3404455576225839,
          0.17184388288282984,
          0,
          0,
          0.22103492320830867,
          0.4385765124762645,
          0.6487869626545493,
          0.8472289405763114,
          1.0288893056326003,
          1.1889956656922918,
          1.3251526854798186,
          1.4393446742945322,
          1.5365972487476105,
          1.6213193230599798,
          1.6955376621405602,
          1.759572740442625,
          1.8050366410899976,
          1.8013671137460519,
          1.7927950815425706,
          1.7799696925859099,
          1.7628884681766326,
          1.7411220419523452,
          1.7141177611514173,
          1.714086419145127,
          1.7105807772558745,
          1.705101217056534,
          1.6907769342238843,
          1.670415188223531,
          1.6470503698334644,
          1.6238487026089177,
          1.6040424275907292,
          1.590648985743235,
          1.585905481881093,
          1.585905481881093,
          1.5907140666935344,
          1.6046710025479367,
          1.6264790967646126,
          1.6264790967646126,
          1.5682014439619845,
          1.5111269691668323,
          1.457865387136041,
          1.4101568907645765,
          1.369326791154072,
          1.3364522114988433,
          1.31214626107335,
          1.2959261382039875,
          1.285572069476652,
          1.2771882510677424,
          1.2661488007466193,
          1.2477773869265134,
          1.2143301300691154,
          1.1611015970819967,
          1.1326026639291895,
          1.9508908550990318,
          1.9269794670491778,
          1.8615683624803656,
          1.7781169514913404,
          1.694868643977726,
          1.626467450012628
         ]
        },
        {
         "mode": "lines",
         "name": "band 3",
         "type": "scatter",
         "x": [
          0,
          0.05357773949034768,
          0.10715547898069536,
          0.16073321847104305,
          0.2143109579613907,
          0.2678886974517384,
          0.32146643694208604,
          0.37504417643243376,
          0.4286219159227814,
          0.4821996554131291,
          0.5357773949034768,
          0.5893551343938245,
          0.6429328738841721,
          0.6965106133745198,
          0.7500883528648675,
          0.8036660923552152,
          0.8572438318455629,
          0.8572438318455629,
          0.9109086430452726,
          0.9645734542479164,
          1.018238265447626,
          1.07190307665027,
          1.1255678878499795,
          1.1792326990555573,
          1.2328975102670032,
          1.2865623214491084,
          1.3402271326605544,
          1.3938919438426598,
          1.3938919438426598,
          1.4486204944225785,
          1.5033490449731566,
          1.5580775955237347,
          1.6128061460743128,
          1.667534696624891,
          1.722263247175469,
          1.7769917977260472,
          1.8317203482766256,
          1.8864488988272035,
          1.9411774493777814,
          1.9959059999283597,
          2.050634550508278,
          2.1053631010588565,
          2.160091651609435,
          2.2148202021600127,
          2.2695487527105906,
          2.3242773032611685,
          2.3242773032611685,
          2.373844376877934,
          2.423411450494699,
          2.4729785241114643,
          2.5225455977282296,
          2.572112671344995,
          2.62167974496176,
          2.6712468185785254,
          2.7208138921952907,
          2.7208138921952907,
          2.7735423549166778,
          2.826270817638065,
          2.878999280359452,
          2.931727743080839,
          2.9844562058051602,
          3.0371846685236132,
          3.0899131312450003,
          3.1426415939663874,
          3.1953700566877745,
          3.2480985194091616,
          3.3008269821305487,
          3.353555444851936,
          3.406283907573323,
          3.45901237029471,
          3.511740833016097,
          3.564469295737484,
          3.6171977584588713,
          3.6699262211802584,
          3.7226546839016454,
          3.7226546839016454,
          3.7743427594347323,
          3.8260308349678187,
          3.8777189104715646,
          3.9294069860046514,
          3.9810950615083973,
          4.032783137041484,
          4.084471212574571,
          4.136159288078317,
          4.187847363611404,
          4.187847363611404,
          4.234003152245764,
          4.280158940883153,
          4.326314729511457,
          4.326314729511457,
          4.380030553292637,
          4.433746377073818,
          4.487462200838059,
          4.5411780246023,
          4.594893848366541,
          4.648609672147722,
          4.702325495911963,
          4.756041319693144,
          4.809757143457385,
          4.863472967221626,
          4.917188791002807,
          4.970904614767048,
          5.024620438531289,
          5.07833626229553,
          5.132052086076711,
          5.132052086076711,
          5.185563567788137,
          5.239075049497995,
          5.292586531212555,
          5.346098012927115,
          5.399609494633839
         ],
         "y": [
          0,
          0.35749973368140875,
          0.7033255626494903,
          1.020303389611391,
          1.2827370280578603,
          1.471928727581063,
          1.6005362925527489,
          1.692861321010659,
          1.7628812260714268,
          1.816666964750101,
          1.857726273773366,
          1.888977023320434,
          1.9127244322893995,
          1.9303964874532473,
          1.9427219115786702,
          1.9502423041295602,
          1.9580263365186175,
          1.9580263365186175,
          1.9551832735454837,
          1.9512215333586762,
          1.946251719397884,
          1.9404479091615134,
          1.9345493656592136,
          1.9293665264854396,
          1.9254177533764425,
          1.9226142113839335,
          1.9202665113735482,
          1.9175217095036199,
          1.9175217095035864,
          1.9138856031832148,
          1.9097632861571732,
          1.90603922736982,
          1.903378972205214,
          1.9015537224108487,
          1.8993646195325198,
          1.8951725633272658,
          1.887428320950617,
          1.8744708059896218,
          1.8530904498682454,
          1.7629693865239628,
          1.6246327943346839,
          1.50570956426035,
          1.4090208452467559,
          1.337236672079768,
          1.2927725918432553,
          1.277652641858613,
          1.277652641858613,
          1.3313883857708075,
          1.4128125636297342,
          1.486489610982441,
          1.21359423941566,
          0.9177477114249634,
          0.6155711725523252,
          0.3090002037726435,
          0,
          0,
          0.34039750146770104,
          0.6690043440446966,
          0.9697417906821841,
          1.2206868689487362,
          1.4060952979897692,
          1.5339807560744838,
          1.6240082289156619,
          1.68968515694874,
          1.737535956916862,
          1.77081269682258,
          1.7917509371294262,
          1.8024568034723678,
          1.813180991444609,
          1.8560585744166411,
          1.887862457009754,
          1.9084286552355525,
          1.9185706138541048,
          1.9207215811624632,
          1.9182527118523225,
          1.9183523134648908,
          1.9142058748990587,
          1.9098112247304784,
          1.9058523335192616,
          1.9026847426413231,
          1.9004934400363531,
          1.8992581125625432,
          1.8987533165570036,
          1.8986463298795282,
          1.8986484497001308,
          1.8986484497001308,
          1.9006195938630621,
          1.9062211777765459,
          1.914584192034972,
          1.914584192034972,
          1.9157841386997263,
          1.9158305563162088,
          1.9142069726925075,
          1.9103010912168006,
          1.9034953546805915,
          1.8931497107030506,
          1.87802465793285,
          1.8483553906276569,
          1.727931416364762,
          1.6103890404885512,
          1.5011058287355137,
          1.4064619597248809,
          1.3343608394930786,
          1.2913501748308733,
          1.277652641858613,
          1.9580263365186175,
          1.9535633707598388,
          1.946728940326811,
          1.9370176744048129,
          1.9257358012037338,
          1.9145927866036043
         ]
        },
        {
         "mode": "lines",
         "name": "band 4",
         "type": "scatter",
         "x": [
          0,
          0.05357773949034768,
          0.10715547898069536,
          0.16073321847104305,
          0.2143109579613907,
          0.2678886974517384,
          0.32146643694208604,
          0.37504417643243376,
          0.4286219159227814,
          0.4821996554131291,
          0.5357773949034768,
          0.5893551343938245,
          0.6429328738841721,
          0.6965106133745198,
          0.7500883528648675,
          0.8036660923552152,
          0.8572438318455629,
          0.8572438318455629,
          0.9109086430452726,
          0.9645734542479164,
          1.018238265447626,
          1.07190307665027,
          1.1255678878499795,
          1.1792326990555573,
          1.2328975102670032,
          1.2865623214491084,
          1.3402271326605544,
          1.3938919438426598,
          1.3938919438426598,
          1.4486204944225785,
          1.5033490449731566,
          1.5580775955237347,
          1.6128061460743128,
          1.667534696624891,
          1.722263247175469,
          1.7769917977260472,
          1.8317203482766256,
          1.8864488988272035,
          1.9411774493777814,
          1.9959059999283597,
          2.050634550508278,
          2.1053631010588565,
          2.160091651609435,
          2.2148202021600127,
          2.2695487527105906,
          2.3242773032611685,
          2.3242773032611685,
          2.373844376877934,
          2.423411450494699,
          2.4729785241114643,
          2.5225455977282296,
          2.572112671344995,
          2.62167974496176,
          2.6712468185785254,
          2.7208138921952907,
          2.7208138921952907,
          2.7735423549166778,
          2.826270817638065,
          2.878999280359452,
          2.931727743080839,
          2.9844562058051602,
          3.0371846685236132,
          3.0899131312450003,
          3.1426415939663874,
          3.1953700566877745,
          3.2480985194091616,
          3.3008269821305487,
          3.353555444851936,
          3.406283907573323,
          3.45901237029471,
          3.511740833016097,
          3.564469295737484,
          3.6171977584588713,
          3.6699262211802584,
          3.7226546839016454,
          3.7226546839016454,
          3.7743427594347323,
          3.8260308349678187,
          3.8777189104715646,
          3.9294069860046514,
          3.9810950615083973,
          4.032783137041484,
          4.084471212574571,
          4.136159288078317,
          4.187847363611404,
          4.187847363611404,
          4.234003152245764,
          4.280158940883153,
          4.326314729511457,
          4.326314729511457,
          4.380030553292637,
          4.433746377073818,
          4.487462200838059,
          4.5411780246023,
          4.594893848366541,
          4.648609672147722,
          4.702325495911963,
          4.756041319693144,
          4.809757143457385,
          4.863472967221626,
          4.917188791002807,
          4.970904614767048,
          5.024620438531289,
          5.07833626229553,
          5.132052086076711,
          5.132052086076711,
          5.185563567788137,
          5.239075049497995,
          5.292586531212555,
          5.346098012927115,
          5.399609494633839
         ],
         "y": [
          1.6590762471443856,
          1.6638304044255947,
          1.6782836730710422,
          1.7030561022678108,
          1.7392279519876408,
          1.788067782260491,
          1.8502252147500526,
          1.924644288489858,
          2.0080827410804134,
          2.095809507810849,
          2.1828059871860703,
          2.2644851141512117,
          2.336839721575366,
          2.3964825318590823,
          2.4393760628760672,
          2.389085812688567,
          2.3677103105478485,
          2.3677103105478485,
          2.3649388091967825,
          2.357114528242007,
          2.34550118151883,
          2.33169155640913,
          2.317318607002794,
          2.3041925888951664,
          2.2947306986115863,
          2.2921715738439574,
          2.2999548625751167,
          2.3200423604148273,
          2.3200423604148535,
          2.351950586351949,
          2.3909351952405324,
          2.431142647616066,
          2.466697479695554,
          2.491884526362552,
          2.5011709340308883,
          2.4430144982965967,
          2.261860566030582,
          2.085212011903986,
          1.9176561216435855,
          1.81564240835411,
          1.7478305908743266,
          1.637272602541183,
          1.4955638203026775,
          1.3639624886345898,
          1.293658647129835,
          1.2776526418604566,
          1.2776526418604566,
          1.3313883857727293,
          1.4128125636317737,
          1.4864896109845829,
          1.547924519837103,
          1.596346283396267,
          1.6312350323591076,
          1.6521456892449016,
          1.6590762471326899,
          1.6590762471639704,
          1.6631859807627942,
          1.6760195876195907,
          1.699177537639277,
          1.7355510350992691,
          1.7893432659829056,
          1.8652225167075667,
          1.9658622800502212,
          2.0891188230381825,
          2.2277305636611926,
          2.367642003287174,
          2.4583019351572455,
          2.44719253105943,
          2.40510178342847,
          2.3619597497431304,
          2.3260906695458847,
          2.302003431835994,
          2.2918634709761094,
          2.295178084395766,
          2.309425419986874,
          2.3094042548911946,
          2.330839578497077,
          2.3567164119712722,
          2.384363124273351,
          2.411451972816103,
          2.436052861227642,
          2.45665277139122,
          2.4721314741094687,
          2.4817195296094496,
          2.4809720430059627,
          2.4809720430059627,
          2.4803702024165553,
          2.4785082776478853,
          2.4752806370937703,
          2.4752806370937703,
          2.449652791771582,
          2.4050849253444118,
          2.3440246880510185,
          2.2683797467837143,
          2.1793449468662707,
          2.078067476109142,
          1.9665913389746863,
          1.8546932419074673,
          1.8147203383433073,
          1.7431425672899894,
          1.6289899269251866,
          1.48723402628134,
          1.360357005599088,
          1.2938411155267504,
          1.2776526418604566,
          2.3677103105478485,
          2.3822958431310757,
          2.4152875009774086,
          2.4500591479289144,
          2.4769444205321993,
          2.4750943961053293
         ]
        },
        {
         "mode": "lines",
         "name": "band 5",
         "type": "scatter",
         "x": [
          0,
          0.05357773949034768,
          0.10715547898069536,
          0.16073321847104305,
          0.2143109579613907,
          0.2678886974517384,
          0.32146643694208604,
          0.37504417643243376,
          0.4286219159227814,
          0.4821996554131291,
          0.5357773949034768,
          0.5893551343938245,
          0.6429328738841721,
          0.6965106133745198,
          0.7500883528648675,
          0.8036660923552152,
          0.8572438318455629,
          0.8572438318455629,
          0.9109086430452726,
          0.9645734542479164,
          1.018238265447626,
          1.07190307665027,
          1.1255678878499795,
          1.1792326990555573,
          1.2328975102670032,
          1.2865623214491084,
          1.3402271326605544,
          1.3938919438426598,
          1.3938919438426598,
          1.4486204944225785,
          1.5033490449731566,
          1.5580775955237347,
          1.6128061460743128,
          1.667534696624891,
          1.722263247175469,
          1.7769917977260472,
          1.8317203482766256,
          1.8864488988272035,
          1.9411774493777814,
          1.9959059999283597,
          2.050634550508278,
          2.1053631010588565,
          2.160091651609435,
          2.2148202021600127,
          2.2695487527105906,
          2.3242773032611685,
          2.3242773032611685,
          2.373844376877934,
          2.423411450494699,
          2.4729785241114643,
          2.5225455977282296,
          2.572112671344995,
          2.62167974496176,
          2.6712468185785254,
          2.7208138921952907,
          2.7208138921952907,
          2.7735423549166778,
          2.826270817638065,
          2.878999280359452,
          2.931727743080839,
          2.9844562058051602,
          3.0371846685236132,
          3.0899131312450003,
          3.1426415939663874,
          3.1953700566877745,
          3.2480985194091616,
          3.3008269821305487,
          3.353555444851936,
          3.406283907573323,
          3.45901237029471,
          3.511740833016097,
          3.564469295737484,
          3.6171977584588713,
          3.6699262211802584,
          3.7226546839016454,
          3.7226546839016454,
          3.7743427594347323,
          3.8260308349678187,
          3.8777189104715646,
          3.9294069860046514,
          3.9810950615083973,
          4.032783137041484,
          4.084471212574571,
          4.136159288078317,
          4.187847363611404,
          4.187847363611404,
          4.234003152245764,
          4.280158940883153,
          4.326314729511457,
          4.326314729511457,
          4.380030553292637,
          4.433746377073818,
          4.487462200838059,
          4.5411780246023,
          4.594893848366541,
          4.648609672147722,
          4.702325495911963,
          4.756041319693144,
          4.809757143457385,
          4.863472967221626,
          4.917188791002807,
          4.970904614767048,
          5.024620438531289,
          5.07833626229553,
          5.132052086076711,
          5.132052086076711,
          5.185563567788137,
          5.239075049497995,
          5.292586531212555,
          5.346098012927115,
          5.399609494633839
         ],
         "y": [
          1.673516918040099,
          1.6879648986390485,
          1.7337386853707932,
          1.8198544894855904,
          1.9634943647479655,
          2.174146879709494,
          2.42731699395136,
          2.651345537589446,
          2.6873254410186096,
          2.665021074336607,
          2.6349921860510204,
          2.598187376228823,
          2.5523816119537086,
          2.4978074644734027,
          2.440789128620939,
          2.468002364052015,
          2.4771710164494363,
          2.4771710164494363,
          2.509913851299719,
          2.6016431746508886,
          2.7390534457868756,
          2.908160063642408,
          3.094668934702137,
          3.2845229082894036,
          3.465677026476117,
          3.629208137341568,
          3.7686235961472585,
          3.678482660610904,
          3.6784826606113303,
          3.5274827102668387,
          3.3613967796101765,
          3.1851297707950565,
          3.002751560311943,
          2.8173164436283495,
          2.6312626102222216,
          2.494291486263013,
          2.4636618694313563,
          2.4182494495461078,
          2.3634295513704235,
          2.30654993222263,
          2.2544186366001435,
          2.2125910705816274,
          2.1846295687781443,
          2.1706066743563173,
          2.166332972384785,
          2.1658543271492734,
          2.1658543271492734,
          2.0204568889023817,
          1.772976953244489,
          1.5002451270662418,
          1.5479245198393363,
          1.596346283398566,
          1.6312350323614604,
          1.6521456892472839,
          1.6590762471720901,
          1.673769439140681,
          1.689051336135888,
          1.7369437071254694,
          1.8248307296625128,
          1.9658959466228199,
          2.1670663321177304,
          2.4118579626333116,
          2.672970769871144,
          2.7086436622031043,
          2.663959757342795,
          2.626720605066934,
          2.6445265498536954,
          2.7687428121146396,
          2.9285834803220103,
          3.094815316149468,
          3.260121794339863,
          3.4205477793368244,
          3.572706726053558,
          3.7130569261302555,
          3.7344964920093435,
          3.7347830361662933,
          3.585055184868088,
          3.4116716754757337,
          3.224525532446169,
          3.035254641318122,
          2.8566248192466785,
          2.701605421688625,
          2.581951814933589,
          2.506639931242872,
          2.484965319973507,
          2.484965319973507,
          2.4862055449039024,
          2.4894473851791155,
          2.493458291644256,
          2.493458291644256,
          2.524211635434548,
          2.5474400277771996,
          2.5573377722569304,
          2.5497919991546407,
          2.5234419136983655,
          2.480232443468939,
          2.425006692056115,
          2.3642438804088615,
          2.3046012847546877,
          2.2519053904713333,
          2.210698226867165,
          2.183687666384589,
          2.1703489828650318,
          2.1663126906950616,
          2.1658543271492734,
          2.4771710164494363,
          2.47738678020732,
          2.4777603567126714,
          2.4777517167706815,
          2.477255291287569,
          2.4933790016202555
         ]
        },
        {
         "mode": "lines",
         "name": "band 6",
         "type": "scatter",
         "x": [
          0,
          0.05357773949034768,
          0.10715547898069536,
          0.16073321847104305,
          0.2143109579613907,
          0.2678886974517384,
          0.32146643694208604,
          0.37504417643243376,
          0.4286219159227814,
          0.4821996554131291,
          0.5357773949034768,
          0.5893551343938245,
          0.6429328738841721,
          0.6965106133745198,
          0.7500883528648675,
          0.8036660923552152,
          0.8572438318455629,
          0.8572438318455629,
          0.9109086430452726,
          0.9645734542479164,
          1.018238265447626,
          1.07190307665027,
          1.1255678878499795,
          1.1792326990555573,
          1.2328975102670032,
          1.2865623214491084,
          1.3402271326605544,
          1.3938919438426598,
          1.3938919438426598,
          1.4486204944225785,
          1.5033490449731566,
          1.5580775955237347,
          1.6128061460743128,
          1.667534696624891,
          1.722263247175469,
          1.7769917977260472,
          1.8317203482766256,
          1.8864488988272035,
          1.9411774493777814,
          1.9959059999283597,
          2.050634550508278,
          2.1053631010588565,
          2.160091651609435,
          2.2148202021600127,
          2.2695487527105906,
          2.3242773032611685,
          2.3242773032611685,
          2.373844376877934,
          2.423411450494699,
          2.4729785241114643,
          2.5225455977282296,
          2.572112671344995,
          2.62167974496176,
          2.6712468185785254,
          2.7208138921952907,
          2.7208138921952907,
          2.7735423549166778,
          2.826270817638065,
          2.878999280359452,
          2.931727743080839,
          2.9844562058051602,
          3.0371846685236132,
          3.0899131312450003,
          3.1426415939663874,
          3.1953700566877745,
          3.2480985194091616,
          3.3008269821305487,
          3.353555444851936,
          3.406283907573323,
          3.45901237029471,
          3.511740833016097,
          3.564469295737484,
          3.6171977584588713,
          3.6699262211802584,
          3.7226546839016454,
          3.7226546839016454,
          3.7743427594347323,
          3.8260308349678187,
          3.8777189104715646,
          3.9294069860046514,
          3.9810950615083973,
          4.032783137041484,
          4.084471212574571,
          4.136159288078317,
          4.187847363611404,
          4.187847363611404,
          4.234003152245764,
          4.280158940883153,
          4.326314729511457,
          4.326314729511457,
          4.380030553292637,
          4.433746377073818,
          4.487462200838059,
          4.5411780246023,
          4.594893848366541,
          4.648609672147722,
          4.702325495911963,
          4.756041319693144,
          4.809757143457385,
          4.863472967221626,
          4.917188791002807,
          4.970904614767048,
          5.024620438531289,
          5.07833626229553,
          5.132052086076711,
          5.132052086076711,
          5.185563567788137,
          5.239075049497995,
          5.292586531212555,
          5.346098012927115,
          5.399609494633839
         ],
         "y": [
          2.9068037249363012,
          2.902878253122389,
          2.8913864862160925,
          2.873108106582559,
          2.8492560123775412,
          2.8219470484683313,
          2.797001713126211,
          2.8170706846289835,
          3.022571258230513,
          3.271687314561575,
          3.5023682818994324,
          3.7024749152203524,
          3.866675950665028,
          3.993649265192155,
          4.084128263571835,
          4.138676034750513,
          4.1569687761267495,
          4.1569687761267495,
          4.154715492701325,
          4.147908254231874,
          4.136179762167163,
          4.118282669179776,
          4.091514518347674,
          4.0515820598654875,
          3.9933380087936436,
          3.9124234452808047,
          3.807017570932276,
          3.878049977944251,
          3.878049977944011,
          3.9523555747294483,
          3.9835483454556107,
          3.969542727178541,
          3.9122554330837382,
          3.8159175661147495,
          3.68501784483933,
          3.523614620518776,
          3.3363256951237057,
          3.1302685205414402,
          2.917191441154495,
          2.7156671605211984,
          2.5518856975250626,
          2.4503804635082576,
          2.4135796209904306,
          2.421508238492367,
          2.446654763326463,
          2.459968767295173,
          2.459968767295173,
          2.5875367585906752,
          2.7808572545331054,
          2.961876216326522,
          3.11856558454617,
          3.2457697077746412,
          3.3396440156249416,
          3.397165533093675,
          3.416525447991128,
          2.9014408064088903,
          2.8981300234953022,
          2.8883292459848264,
          2.87235436171262,
          2.850525175859085,
          2.8230240780071356,
          2.789934396141054,
          2.7515064510489657,
          2.930416915481309,
          3.1724132210636835,
          3.391532679611001,
          3.5822459664700097,
          3.7399199618746715,
          3.8607201323410107,
          3.941902669888416,
          3.981979959378033,
          3.9804992005796276,
          3.9377239403722326,
          3.8547976998624875,
          3.837770840268082,
          3.837043408118245,
          3.940573692606913,
          4.023480505771391,
          4.085529350781923,
          4.128690027244479,
          4.1564309072089545,
          4.172720059140004,
          4.181273699515116,
          4.185093291163747,
          4.186138730418288,
          4.186138730418288,
          4.184073908011314,
          4.177941530273703,
          4.1679381553383035,
          4.1679381553383035,
          4.122154514385188,
          4.04329094026925,
          3.9297615015107143,
          3.7811023276022837,
          3.5994471675183335,
          3.390347715114915,
          3.163321606957583,
          2.932696639640498,
          2.719198787355704,
          2.550224893582615,
          2.448910700255889,
          2.4137906908729914,
          2.4224175170158073,
          2.4471096272060304,
          2.459968767295173,
          4.1569687761267495,
          4.15811808011936,
          4.160974634353323,
          4.164213037298425,
          4.166666174216736,
          4.167855868250887
         ]
        },
        {
         "mode": "lines",
         "name": "band 7",
         "type": "scatter",
         "x": [
          0,
          0.05357773949034768,
          0.10715547898069536,
          0.16073321847104305,
          0.2143109579613907,
          0.2678886974517384,
          0.32146643694208604,
          0.37504417643243376,
          0.4286219159227814,
          0.4821996554131291,
          0.5357773949034768,
          0.5893551343938245,
          0.6429328738841721,
          0.6965106133745198,
          0.7500883528648675,
          0.8036660923552152,
          0.8572438318455629,
          0.8572438318455629,
          0.9109086430452726,
          0.9645734542479164,
          1.018238265447626,
          1.07190307665027,
          1.1255678878499795,
          1.1792326990555573,
          1.2328975102670032,
          1.2865623214491084,
          1.3402271326605544,
          1.3938919438426598,
          1.3938919438426598,
          1.4486204944225785,
          1.5033490449731566,
          1.5580775955237347,
          1.6128061460743128,
          1.667534696624891,
          1.722263247175469,
          1.7769917977260472,
          1.8317203482766256,
          1.8864488988272035,
          1.9411774493777814,
          1.9959059999283597,
          2.050634550508278,
          2.1053631010588565,
          2.160091651609435,
          2.2148202021600127,
          2.2695487527105906,
          2.3242773032611685,
          2.3242773032611685,
          2.373844376877934,
          2.423411450494699,
          2.4729785241114643,
          2.5225455977282296,
          2.572112671344995,
          2.62167974496176,
          2.6712468185785254,
          2.7208138921952907,
          2.7208138921952907,
          2.7735423549166778,
          2.826270817638065,
          2.878999280359452,
          2.931727743080839,
          2.9844562058051602,
          3.0371846685236132,
          3.0899131312450003,
          3.1426415939663874,
          3.1953700566877745,
          3.2480985194091616,
          3.3008269821305487,
          3.353555444851936,
          3.406283907573323,
          3.45901237029471,
          3.511740833016097,
          3.564469295737484,
          3.6171977584588713,
          3.6699262211802584,
          3.7226546839016454,
          3.7226546839016454,
          3.7743427594347323,
          3.8260308349678187,
          3.8777189104715646,
          3.9294069860046514,
          3.9810950615083973,
          4.032783137041484,
          4.084471212574571,
          4.136159288078317,
          4.187847363611404,
          4.187847363611404,
          4.234003152245764,
          4.280158940883153,
          4.326314729511457,
          4.326314729511457,
          4.380030553292637,
          4.433746377073818,
          4.487462200838059,
          4.5411780246023,
          4.594893848366541,
          4.648609672147722,
          4.702325495911963,
          4.756041319693144,
          4.809757143457385,
          4.863472967221626,
          4.917188791002807,
          4.970904614767048,
          5.024620438531289,
          5.07833626229553,
          5.132052086076711,
          5.132052086076711,
          5.185563567788137,
          5.239075049497995,
          5.292586531212555,
          5.346098012927115,
          5.399609494633839
         ],
         "y": [
          4.881305283022744,
          4.885826393293948,
          4.8995489905907625,
          4.921047960393409,
          4.9458218639485745,
          4.969841325136631,
          4.993580934934891,
          5.019875179677688,
          5.048951530877833,
          5.07728845271266,
          5.10007994768836,
          5.11431299793659,
          5.12102540092711,
          5.124543758830598,
          5.128395122349024,
          5.132478444091079,
          5.134315686742016,
          5.134315686742016,
          5.146029457602396,
          5.17674240268319,
          5.214910142594454,
          5.248367325973595,
          5.272475684229784,
          5.29046617535473,
          5.307839432272801,
          5.315115030892743,
          5.3112555854889845,
          5.316040599881891,
          5.316040599881709,
          5.326884242279234,
          5.3077658645632635,
          5.2721853652079735,
          5.241572363358376,
          5.213859373901656,
          5.18874081969852,
          5.16583071836525,
          5.14285359306619,
          5.117146839850686,
          5.088025104174406,
          5.056597940695786,
          5.024572724371235,
          4.993781730027618,
          4.966256583148715,
          4.944253349939133,
          4.929961796810589,
          4.9249991286604855,
          4.9249991286604855,
          4.923747845962811,
          4.919410044755245,
          4.9117896288201015,
          4.902656584789316,
          4.894278350067253,
          4.88762042558265,
          4.883022775252129,
          4.881305283012639,
          4.881305283024132,
          4.8856734039402605,
          4.898872896986713,
          4.920851052182227,
          4.950778840292494,
          4.986868047865178,
          5.026941137825827,
          5.069256713704789,
          5.112692241475344,
          5.155982657949858,
          5.196769134116154,
          5.231376189210795,
          5.255629791503451,
          5.268080733190096,
          5.273955024381779,
          5.279694208485426,
          5.287698285845062,
          5.29716570362835,
          5.3056351914872275,
          5.312895178514795,
          5.312666962157132,
          5.3231842764321184,
          5.340457887575957,
          5.331475183306562,
          5.300587533297565,
          5.260103916346573,
          5.207462788505074,
          5.150494457558356,
          5.1057859376924775,
          5.088853391947456,
          5.088853391947456,
          5.089705708482294,
          5.092260348876858,
          5.096439519892632,
          5.096439519892632,
          5.098275479998846,
          5.100664501854444,
          5.101767063843831,
          5.099382216865537,
          5.091319271399162,
          5.0768079636202765,
          5.0575652778681865,
          5.0368628813781315,
          5.017174232450089,
          4.998694947634414,
          4.980107004914153,
          4.960882865612462,
          4.942897363687622,
          4.929808218781684,
          4.9249991286604855,
          5.134315686742016,
          5.131112286615659,
          5.122917295419412,
          5.112822647709534,
          5.1035671618543414,
          5.096633047622102
         ]
        },
        {
         "mode": "lines",
         "name": "band 8",
         "type": "scatter",
         "x": [
          0,
          0.05357773949034768,
          0.10715547898069536,
          0.16073321847104305,
          0.2143109579613907,
          0.2678886974517384,
          0.32146643694208604,
          0.37504417643243376,
          0.4286219159227814,
          0.4821996554131291,
          0.5357773949034768,
          0.5893551343938245,
          0.6429328738841721,
          0.6965106133745198,
          0.7500883528648675,
          0.8036660923552152,
          0.8572438318455629,
          0.8572438318455629,
          0.9109086430452726,
          0.9645734542479164,
          1.018238265447626,
          1.07190307665027,
          1.1255678878499795,
          1.1792326990555573,
          1.2328975102670032,
          1.2865623214491084,
          1.3402271326605544,
          1.3938919438426598,
          1.3938919438426598,
          1.4486204944225785,
          1.5033490449731566,
          1.5580775955237347,
          1.6128061460743128,
          1.667534696624891,
          1.722263247175469,
          1.7769917977260472,
          1.8317203482766256,
          1.8864488988272035,
          1.9411774493777814,
          1.9959059999283597,
          2.050634550508278,
          2.1053631010588565,
          2.160091651609435,
          2.2148202021600127,
          2.2695487527105906,
          2.3242773032611685,
          2.3242773032611685,
          2.373844376877934,
          2.423411450494699,
          2.4729785241114643,
          2.5225455977282296,
          2.572112671344995,
          2.62167974496176,
          2.6712468185785254,
          2.7208138921952907,
          2.7208138921952907,
          2.7735423549166778,
          2.826270817638065,
          2.878999280359452,
          2.931727743080839,
          2.9844562058051602,
          3.0371846685236132,
          3.0899131312450003,
          3.1426415939663874,
          3.1953700566877745,
          3.2480985194091616,
          3.3008269821305487,
          3.353555444851936,
          3.406283907573323,
          3.45901237029471,
          3.511740833016097,
          3.564469295737484,
          3.6171977584588713,
          3.6699262211802584,
          3.7226546839016454,
          3.7226546839016454,
          3.7743427594347323,
          3.8260308349678187,
          3.8777189104715646,
          3.9294069860046514,
          3.9810950615083973,
          4.032783137041484,
          4.084471212574571,
          4.136159288078317,
          4.187847363611404,
          4.187847363611404,
          4.234003152245764,
          4.280158940883153,
          4.326314729511457,
          4.326314729511457,
          4.380030553292637,
          4.433746377073818,
          4.487462200838059,
          4.5411780246023,
          4.594893848366541,
          4.648609672147722,
          4.702325495911963,
          4.756041319693144,
          4.809757143457385,
          4.863472967221626,
          4.917188791002807,
          4.970904614767048,
          5.024620438531289,
          5.07833626229553,
          5.132052086076711,
          5.132052086076711,
          5.185563567788137,
          5.239075049497995,
          5.292586531212555,
          5.346098012927115,
          5.399609494633839
         ],
         "y": [
          5.609157959054322,
          5.606493423654411,
          5.598203667519264,
          5.585085822015385,
          5.570452914417644,
          5.54727813594742,
          5.516434194414014,
          5.484435571706871,
          5.452591945771179,
          5.422443826111029,
          5.399141975145324,
          5.389456628317213,
          5.396542148281837,
          5.417385766122982,
          5.442409963088587,
          5.439860645320558,
          5.4386593742111335,
          5.4386593742111335,
          5.435501352156715,
          5.4262751874131645,
          5.411642304276215,
          5.392569397256454,
          5.370489073106328,
          5.347791812035986,
          5.328053181294412,
          5.328542898988846,
          5.353928316952411,
          5.383059589181092,
          5.38305958918156,
          5.352548177335591,
          5.340986201797396,
          5.35317096849334,
          5.362053062539069,
          5.367592140672252,
          5.372647283541633,
          5.38227064043359,
          5.400939408603991,
          5.428514380581689,
          5.460041506487868,
          5.490361895769321,
          5.517137287169115,
          5.5397122098881395,
          5.421026013892464,
          5.203686352969257,
          5.006630621595014,
          4.924999128667587,
          4.924999128667587,
          4.923747845969909,
          4.919410044762338,
          4.911789628827183,
          4.902656584796385,
          4.894278350074312,
          4.887620425589697,
          4.883022775259166,
          4.881305283025174,
          5.609157959054321,
          5.606199553452195,
          5.597817568028044,
          5.5852759717184295,
          5.57015586655008,
          5.550310628537385,
          5.520849174249153,
          5.48730692681205,
          5.451502074187175,
          5.41600128824876,
          5.384165540323886,
          5.359717702207845,
          5.346182789595862,
          5.3443693547489595,
          5.348715104890392,
          5.352622432304122,
          5.353826680316446,
          5.354157275430127,
          5.358605237775946,
          5.371296495175893,
          5.371308399198099,
          5.391114927382642,
          5.359775115785052,
          5.363880808704469,
          5.39020245394012,
          5.416261508283334,
          5.439904086709659,
          5.459241881989653,
          5.472168117806353,
          5.4767508955025175,
          5.4767508955025175,
          5.4760102397875645,
          5.4738603833934265,
          5.470480297561904,
          5.470480297561904,
          5.472280127498857,
          5.435385034025637,
          5.402961514452532,
          5.387696156882248,
          5.390854381284471,
          5.408721724027159,
          5.434846142485725,
          5.463447014601694,
          5.491311701447863,
          5.517125897329451,
          5.539715102077813,
          5.412020825717282,
          5.195822728087889,
          5.0036947116294135,
          4.924999128667587,
          5.4386593742111335,
          5.441194885222431,
          5.447750954092937,
          5.456016871949274,
          5.463907858299077,
          5.470230308526979
         ]
        },
        {
         "mode": "lines",
         "name": "band 9",
         "type": "scatter",
         "x": [
          0,
          0.05357773949034768,
          0.10715547898069536,
          0.16073321847104305,
          0.2143109579613907,
          0.2678886974517384,
          0.32146643694208604,
          0.37504417643243376,
          0.4286219159227814,
          0.4821996554131291,
          0.5357773949034768,
          0.5893551343938245,
          0.6429328738841721,
          0.6965106133745198,
          0.7500883528648675,
          0.8036660923552152,
          0.8572438318455629,
          0.8572438318455629,
          0.9109086430452726,
          0.9645734542479164,
          1.018238265447626,
          1.07190307665027,
          1.1255678878499795,
          1.1792326990555573,
          1.2328975102670032,
          1.2865623214491084,
          1.3402271326605544,
          1.3938919438426598,
          1.3938919438426598,
          1.4486204944225785,
          1.5033490449731566,
          1.5580775955237347,
          1.6128061460743128,
          1.667534696624891,
          1.722263247175469,
          1.7769917977260472,
          1.8317203482766256,
          1.8864488988272035,
          1.9411774493777814,
          1.9959059999283597,
          2.050634550508278,
          2.1053631010588565,
          2.160091651609435,
          2.2148202021600127,
          2.2695487527105906,
          2.3242773032611685,
          2.3242773032611685,
          2.373844376877934,
          2.423411450494699,
          2.4729785241114643,
          2.5225455977282296,
          2.572112671344995,
          2.62167974496176,
          2.6712468185785254,
          2.7208138921952907,
          2.7208138921952907,
          2.7735423549166778,
          2.826270817638065,
          2.878999280359452,
          2.931727743080839,
          2.9844562058051602,
          3.0371846685236132,
          3.0899131312450003,
          3.1426415939663874,
          3.1953700566877745,
          3.2480985194091616,
          3.3008269821305487,
          3.353555444851936,
          3.406283907573323,
          3.45901237029471,
          3.511740833016097,
          3.564469295737484,
          3.6171977584588713,
          3.6699262211802584,
          3.7226546839016454,
          3.7226546839016454,
          3.7743427594347323,
          3.8260308349678187,
          3.8777189104715646,
          3.9294069860046514,
          3.9810950615083973,
          4.032783137041484,
          4.084471212574571,
          4.136159288078317,
          4.187847363611404,
          4.187847363611404,
          4.234003152245764,
          4.280158940883153,
          4.326314729511457,
          4.326314729511457,
          4.380030553292637,
          4.433746377073818,
          4.487462200838059,
          4.5411780246023,
          4.594893848366541,
          4.648609672147722,
          4.702325495911963,
          4.756041319693144,
          4.809757143457385,
          4.863472967221626,
          4.917188791002807,
          4.970904614767048,
          5.024620438531289,
          5.07833626229553,
          5.132052086076711,
          5.132052086076711,
          5.185563567788137,
          5.239075049497995,
          5.292586531212555,
          5.346098012927115,
          5.399609494633839
         ],
         "y": [
          5.60915795906835,
          5.6073372101463015,
          5.601827949145258,
          5.591349032312723,
          5.573327542300099,
          5.557145593413491,
          5.54394335240183,
          5.52743364258184,
          5.50662012626812,
          5.4842996144583775,
          5.465112554928943,
          5.4526584423359,
          5.446959662451354,
          5.444633492973382,
          5.444291124544929,
          5.467381130968964,
          5.476699374204756,
          5.476699374204756,
          5.483433237906263,
          5.504815848649365,
          5.543526445465383,
          5.599643408721724,
          5.665758205383935,
          5.686240594994869,
          5.615683767047826,
          5.541873606417206,
          5.4709705842961265,
          5.407201035985029,
          5.4072010359847145,
          5.413750092594642,
          5.44097240110636,
          5.46021396691419,
          5.469721472018081,
          5.471937279894635,
          5.471844758157285,
          5.474015346723303,
          5.4806884194247205,
          5.491461771984847,
          5.504293102982646,
          5.51717496643605,
          5.529394147127842,
          5.541018915273254,
          5.5543998398101,
          5.565539872046901,
          5.573688617686413,
          5.576682277979672,
          5.576682277979672,
          5.577446994448674,
          5.580494885513238,
          5.586327205568813,
          5.5933747036277985,
          5.599590312359949,
          5.604400056628298,
          5.607825908228882,
          5.609157959054323,
          5.60915795906835,
          5.607624051044378,
          5.602288410132989,
          5.5915545542534275,
          5.574224832558741,
          5.554038621530382,
          5.538503231471761,
          5.525300994796689,
          5.516462971693826,
          5.514204698793146,
          5.520641097610459,
          5.537381719168976,
          5.564999348876905,
          5.602095140368563,
          5.64237796242947,
          5.661260268255427,
          5.62081066553781,
          5.553531428978756,
          5.488550365218546,
          5.434195085590527,
          5.434098983126751,
          5.392315395908775,
          5.416868925311391,
          5.447911350040723,
          5.482718588665656,
          5.517488628201932,
          5.547297655509547,
          5.56866477862559,
          5.580791714453162,
          5.584614661995598,
          5.584614661995598,
          5.574493886370591,
          5.552815916251688,
          5.526962738791,
          5.526962738791,
          5.479262923152815,
          5.474293751415025,
          5.475851655508197,
          5.477405539546983,
          5.480899170176932,
          5.4881835150414355,
          5.499115077670935,
          5.511590070876676,
          5.523451734313716,
          5.534155086866592,
          5.544621966947051,
          5.555556322991484,
          5.566037237182094,
          5.573804379560509,
          5.576682277979672,
          5.476699374204756,
          5.479828260085913,
          5.488591885352759,
          5.50120387175874,
          5.514950945653759,
          5.526883063227959
         ]
        },
        {
         "mode": "lines",
         "name": "band 10",
         "type": "scatter",
         "x": [
          0,
          0.05357773949034768,
          0.10715547898069536,
          0.16073321847104305,
          0.2143109579613907,
          0.2678886974517384,
          0.32146643694208604,
          0.37504417643243376,
          0.4286219159227814,
          0.4821996554131291,
          0.5357773949034768,
          0.5893551343938245,
          0.6429328738841721,
          0.6965106133745198,
          0.7500883528648675,
          0.8036660923552152,
          0.8572438318455629,
          0.8572438318455629,
          0.9109086430452726,
          0.9645734542479164,
          1.018238265447626,
          1.07190307665027,
          1.1255678878499795,
          1.1792326990555573,
          1.2328975102670032,
          1.2865623214491084,
          1.3402271326605544,
          1.3938919438426598,
          1.3938919438426598,
          1.4486204944225785,
          1.5033490449731566,
          1.5580775955237347,
          1.6128061460743128,
          1.667534696624891,
          1.722263247175469,
          1.7769917977260472,
          1.8317203482766256,
          1.8864488988272035,
          1.9411774493777814,
          1.9959059999283597,
          2.050634550508278,
          2.1053631010588565,
          2.160091651609435,
          2.2148202021600127,
          2.2695487527105906,
          2.3242773032611685,
          2.3242773032611685,
          2.373844376877934,
          2.423411450494699,
          2.4729785241114643,
          2.5225455977282296,
          2.572112671344995,
          2.62167974496176,
          2.6712468185785254,
          2.7208138921952907,
          2.7208138921952907,
          2.7735423549166778,
          2.826270817638065,
          2.878999280359452,
          2.931727743080839,
          2.9844562058051602,
          3.0371846685236132,
          3.0899131312450003,
          3.1426415939663874,
          3.1953700566877745,
          3.2480985194091616,
          3.3008269821305487,
          3.353555444851936,
          3.406283907573323,
          3.45901237029471,
          3.511740833016097,
          3.564469295737484,
          3.6171977584588713,
          3.6699262211802584,
          3.7226546839016454,
          3.7226546839016454,
          3.7743427594347323,
          3.8260308349678187,
          3.8777189104715646,
          3.9294069860046514,
          3.9810950615083973,
          4.032783137041484,
          4.084471212574571,
          4.136159288078317,
          4.187847363611404,
          4.187847363611404,
          4.234003152245764,
          4.280158940883153,
          4.326314729511457,
          4.326314729511457,
          4.380030553292637,
          4.433746377073818,
          4.487462200838059,
          4.5411780246023,
          4.594893848366541,
          4.648609672147722,
          4.702325495911963,
          4.756041319693144,
          4.809757143457385,
          4.863472967221626,
          4.917188791002807,
          4.970904614767048,
          5.024620438531289,
          5.07833626229553,
          5.132052086076711,
          5.132052086076711,
          5.185563567788137,
          5.239075049497995,
          5.292586531212555,
          5.346098012927115,
          5.399609494633839
         ],
         "y": [
          6.204194815730117,
          6.198386764949231,
          6.181146378463748,
          6.153100354924022,
          6.115777800784722,
          6.072595844771343,
          6.029335890990872,
          5.992537307349819,
          5.96628111578361,
          5.949762324187604,
          5.93768088951125,
          5.92305960597753,
          5.899804936255192,
          5.8652661459757995,
          5.824719156817582,
          5.7909663020685,
          5.777625390873489,
          5.777625390873489,
          5.778941330359461,
          5.781831515490619,
          5.782714029409153,
          5.77381249668779,
          5.742828270081856,
          5.729799568943238,
          5.78251177665331,
          5.820815170786579,
          5.846211343338407,
          5.861507316755093,
          5.8615073167546115,
          5.869088202957838,
          5.870966135868639,
          5.870566624570346,
          5.8716804255322845,
          5.87634265140365,
          5.883285633411917,
          5.88801389566814,
          5.8844618772114154,
          5.8675803565093485,
          5.83486129972547,
          5.784406962560133,
          5.709441909469223,
          5.594509628394223,
          5.557248477741202,
          5.568886353079791,
          5.574923453082951,
          5.576682277987719,
          5.576682277987719,
          5.577446994456715,
          5.580494885521286,
          5.586327205576868,
          5.593374703635864,
          5.599590312368027,
          5.604400056636379,
          5.607825908236966,
          5.60915795906835,
          6.222305653780966,
          6.215041323762892,
          6.194103961076094,
          6.161856692167952,
          6.1216813307056235,
          6.077453306239868,
          6.033071341515655,
          5.991881617788892,
          5.956024334639118,
          5.9262427310013255,
          5.902441796259988,
          5.884309475611307,
          5.871294771064188,
          5.862315946681476,
          5.85599571223353,
          5.813161144989586,
          5.827394576614691,
          5.847447312959727,
          5.848912946458952,
          5.85245115871191,
          5.852206506608572,
          5.856887311923695,
          5.861682218750849,
          5.86594546097073,
          5.8198705298445566,
          5.753649571118211,
          5.6982956084402,
          5.6612787989277775,
          5.641616335513084,
          5.6356154967584775,
          5.6356154967584775,
          5.647263835559618,
          5.6742678098675405,
          5.710311685282522,
          5.710311685282522,
          5.783600407113952,
          5.850898190588023,
          5.877665724903229,
          5.8815189372855015,
          5.879074447969635,
          5.870399336754258,
          5.852770059457528,
          5.8231514024822575,
          5.776790299829167,
          5.703627844978216,
          5.586675100746993,
          5.5574432402516045,
          5.569059171081834,
          5.57498015817235,
          5.576682277987719,
          5.777625390873489,
          5.773712901519104,
          5.762422338673803,
          5.745579327039653,
          5.726819209950243,
          5.710114774237851
         ]
        },
        {
         "mode": "lines",
         "name": "band 11",
         "type": "scatter",
         "x": [
          0,
          0.05357773949034768,
          0.10715547898069536,
          0.16073321847104305,
          0.2143109579613907,
          0.2678886974517384,
          0.32146643694208604,
          0.37504417643243376,
          0.4286219159227814,
          0.4821996554131291,
          0.5357773949034768,
          0.5893551343938245,
          0.6429328738841721,
          0.6965106133745198,
          0.7500883528648675,
          0.8036660923552152,
          0.8572438318455629,
          0.8572438318455629,
          0.9109086430452726,
          0.9645734542479164,
          1.018238265447626,
          1.07190307665027,
          1.1255678878499795,
          1.1792326990555573,
          1.2328975102670032,
          1.2865623214491084,
          1.3402271326605544,
          1.3938919438426598,
          1.3938919438426598,
          1.4486204944225785,
          1.5033490449731566,
          1.5580775955237347,
          1.6128061460743128,
          1.667534696624891,
          1.722263247175469,
          1.7769917977260472,
          1.8317203482766256,
          1.8864488988272035,
          1.9411774493777814,
          1.9959059999283597,
          2.050634550508278,
          2.1053631010588565,
          2.160091651609435,
          2.2148202021600127,
          2.2695487527105906,
          2.3242773032611685,
          2.3242773032611685,
          2.373844376877934,
          2.423411450494699,
          2.4729785241114643,
          2.5225455977282296,
          2.572112671344995,
          2.62167974496176,
          2.6712468185785254,
          2.7208138921952907,
          2.7208138921952907,
          2.7735423549166778,
          2.826270817638065,
          2.878999280359452,
          2.931727743080839,
          2.9844562058051602,
          3.0371846685236132,
          3.0899131312450003,
          3.1426415939663874,
          3.1953700566877745,
          3.2480985194091616,
          3.3008269821305487,
          3.353555444851936,
          3.406283907573323,
          3.45901237029471,
          3.511740833016097,
          3.564469295737484,
          3.6171977584588713,
          3.6699262211802584,
          3.7226546839016454,
          3.7226546839016454,
          3.7743427594347323,
          3.8260308349678187,
          3.8777189104715646,
          3.9294069860046514,
          3.9810950615083973,
          4.032783137041484,
          4.084471212574571,
          4.136159288078317,
          4.187847363611404,
          4.187847363611404,
          4.234003152245764,
          4.280158940883153,
          4.326314729511457,
          4.326314729511457,
          4.380030553292637,
          4.433746377073818,
          4.487462200838059,
          4.5411780246023,
          4.594893848366541,
          4.648609672147722,
          4.702325495911963,
          4.756041319693144,
          4.809757143457385,
          4.863472967221626,
          4.917188791002807,
          4.970904614767048,
          5.024620438531289,
          5.07833626229553,
          5.132052086076711,
          5.132052086076711,
          5.185563567788137,
          5.239075049497995,
          5.292586531212555,
          5.346098012927115,
          5.399609494633839
         ],
         "y": [
          7.148350344810028,
          7.1368468742489855,
          7.102832718830697,
          7.047574972224883,
          6.97258795782653,
          6.8794814624414435,
          6.771005880339309,
          6.652588356527902,
          6.532250277081753,
          6.418268900418928,
          6.316799037962148,
          6.231980392214344,
          6.167916017093267,
          6.12813585523949,
          6.110309109855088,
          6.10558321646642,
          6.10516851567037,
          6.10516851567037,
          6.093782708090508,
          6.061539114191578,
          6.014513135234771,
          5.964343764543258,
          5.928011300197818,
          5.913738566283921,
          5.913954118805036,
          5.9214124970084345,
          5.933521521022943,
          5.950117108577567,
          5.950117108577907,
          5.972890934633918,
          6.0040691304867835,
          6.047165932978937,
          6.1057521489361015,
          6.182321205990143,
          6.278106661878094,
          6.394034408655818,
          6.531568453985793,
          6.691837140772553,
          6.872810100888149,
          7.067013282342752,
          7.262597901460977,
          7.420254846496582,
          7.341643164369633,
          7.285948287680757,
          7.258880880785664,
          7.251726974073473,
          7.251726974073473,
          7.2472416048497115,
          7.235306621340564,
          7.218751484542775,
          7.199643280458706,
          7.180057213481742,
          7.163183592559387,
          7.152121433705509,
          7.148350344810028,
          7.148350344810026,
          7.136487081667657,
          7.101377644805658,
          7.04440209917587,
          6.967683991663005,
          6.8739271617384095,
          6.766338734451626,
          6.648623613028629,
          6.524927488066326,
          6.399606859269281,
          6.276797128053603,
          6.159877439045982,
          6.0510848041967895,
          5.9518485847949565,
          5.865794828355112,
          5.851382016162269,
          5.848377874463788,
          5.872309909979785,
          5.915307110069894,
          5.943315664777416,
          5.943789587352901,
          5.949040525096088,
          5.928221608471235,
          5.882583127693821,
          5.8697563848136545,
          5.873763743057444,
          5.878544440953132,
          5.883796735465793,
          5.888113354028806,
          5.889802134910759,
          5.889802134910759,
          5.896266844885435,
          5.914017309930031,
          5.93953031718167,
          5.93953031718167,
          5.933933109847655,
          5.950309142975997,
          6.025490576893259,
          6.143172192328464,
          6.286317856505732,
          6.452698724476396,
          6.640320391058575,
          6.843288229966387,
          7.051309680547974,
          7.2502009017443845,
          7.38620173968839,
          7.336652871947719,
          7.284302791906594,
          7.258566403427614,
          7.251726974073473,
          6.10516851567037,
          6.095222079593245,
          6.067438656144269,
          6.027275072070318,
          5.982009819172275,
          5.939581122547603
         ]
        },
        {
         "mode": "lines",
         "name": "band 12",
         "type": "scatter",
         "x": [
          0,
          0.05357773949034768,
          0.10715547898069536,
          0.16073321847104305,
          0.2143109579613907,
          0.2678886974517384,
          0.32146643694208604,
          0.37504417643243376,
          0.4286219159227814,
          0.4821996554131291,
          0.5357773949034768,
          0.5893551343938245,
          0.6429328738841721,
          0.6965106133745198,
          0.7500883528648675,
          0.8036660923552152,
          0.8572438318455629,
          0.8572438318455629,
          0.9109086430452726,
          0.9645734542479164,
          1.018238265447626,
          1.07190307665027,
          1.1255678878499795,
          1.1792326990555573,
          1.2328975102670032,
          1.2865623214491084,
          1.3402271326605544,
          1.3938919438426598,
          1.3938919438426598,
          1.4486204944225785,
          1.5033490449731566,
          1.5580775955237347,
          1.6128061460743128,
          1.667534696624891,
          1.722263247175469,
          1.7769917977260472,
          1.8317203482766256,
          1.8864488988272035,
          1.9411774493777814,
          1.9959059999283597,
          2.050634550508278,
          2.1053631010588565,
          2.160091651609435,
          2.2148202021600127,
          2.2695487527105906,
          2.3242773032611685,
          2.3242773032611685,
          2.373844376877934,
          2.423411450494699,
          2.4729785241114643,
          2.5225455977282296,
          2.572112671344995,
          2.62167974496176,
          2.6712468185785254,
          2.7208138921952907,
          2.7208138921952907,
          2.7735423549166778,
          2.826270817638065,
          2.878999280359452,
          2.931727743080839,
          2.9844562058051602,
          3.0371846685236132,
          3.0899131312450003,
          3.1426415939663874,
          3.1953700566877745,
          3.2480985194091616,
          3.3008269821305487,
          3.353555444851936,
          3.406283907573323,
          3.45901237029471,
          3.511740833016097,
          3.564469295737484,
          3.6171977584588713,
          3.6699262211802584,
          3.7226546839016454,
          3.7226546839016454,
          3.7743427594347323,
          3.8260308349678187,
          3.8777189104715646,
          3.9294069860046514,
          3.9810950615083973,
          4.032783137041484,
          4.084471212574571,
          4.136159288078317,
          4.187847363611404,
          4.187847363611404,
          4.234003152245764,
          4.280158940883153,
          4.326314729511457,
          4.326314729511457,
          4.380030553292637,
          4.433746377073818,
          4.487462200838059,
          4.5411780246023,
          4.594893848366541,
          4.648609672147722,
          4.702325495911963,
          4.756041319693144,
          4.809757143457385,
          4.863472967221626,
          4.917188791002807,
          4.970904614767048,
          5.024620438531289,
          5.07833626229553,
          5.132052086076711,
          5.132052086076711,
          5.185563567788137,
          5.239075049497995,
          5.292586531212555,
          5.346098012927115,
          5.399609494633839
         ],
         "y": [
          8.151305356809369,
          8.14504191544118,
          8.126479166300818,
          8.097162540181596,
          8.060127456869164,
          8.01719900921076,
          7.9667746219733715,
          7.905774924914071,
          7.8333997367400805,
          7.752403359276914,
          7.6676931472097305,
          7.584561401760766,
          7.5076740274317695,
          7.440849229061809,
          7.387768849035459,
          7.352865476962077,
          7.340575781646839,
          7.340575781646839,
          7.3363263278389965,
          7.323766082521342,
          7.3037731519451095,
          7.278508626714111,
          7.2515133646433,
          7.226787384671375,
          7.207308191997082,
          7.194389672622474,
          7.188760381662206,
          7.192268672824771,
          7.192268672824793,
          7.208551127876639,
          7.240136110492919,
          7.285561312485063,
          7.338779661927761,
          7.392235348675716,
          7.44095606872235,
          7.483915076189136,
          7.521461106446552,
          7.550823195811496,
          7.563491939480664,
          7.547801627943098,
          7.497223154356048,
          7.446737770466255,
          7.6077823778781,
          7.734864661679719,
          7.81721631946205,
          7.845872062392818,
          7.845872062392818,
          7.847781119769527,
          7.852514264897535,
          7.858452883897368,
          7.864924136212988,
          7.871507178484002,
          7.8770822116259005,
          7.88054633009684,
          7.8816608927895695,
          8.159164901166202,
          8.154140451952998,
          8.139912446206468,
          8.118081001369765,
          8.089209515855822,
          8.052057650175614,
          8.004542579539697,
          7.945420454188236,
          7.875239360697022,
          7.796070361231231,
          7.710634333083724,
          7.62171436023878,
          7.53223190291664,
          7.445689513311852,
          7.366337240236475,
          7.298609793580016,
          7.246037157131646,
          7.210432036784266,
          7.191980180822764,
          7.189975097024561,
          7.189736962278418,
          7.202407016130847,
          7.228569697738861,
          7.265457923635948,
          7.30885913705835,
          7.35369276613738,
          7.3948231513620755,
          7.427726626300426,
          7.448924086440345,
          7.456236865250539,
          7.456236865250539,
          7.452417103233992,
          7.441526774328025,
          7.4251482084380145,
          7.4251482084380145,
          7.433942782767174,
          7.457358107883244,
          7.49026099729891,
          7.528153872314566,
          7.567054674312922,
          7.6017587147218295,
          7.6241504701346035,
          7.623622162924162,
          7.591138298563677,
          7.527949774625684,
          7.490394805305875,
          7.617527364164963,
          7.738921458700112,
          7.818272137165164,
          7.845872062392818,
          7.340575781646839,
          7.345418232507004,
          7.359081777807646,
          7.379118421222375,
          7.402187809668165,
          7.425193904511774
         ]
        }
       ],
       "layout": {
        "shapes": [
         {
          "line": {
           "color": "black",
           "width": 1
          },
          "type": "line",
          "x0": 0.8572438318455629,
          "x1": 0.8572438318455629,
          "xref": "x",
          "y0": 0,
          "y1": 1,
          "yref": "y domain"
         },
         {
          "line": {
           "color": "black",
           "width": 1
          },
          "type": "line",
          "x0": 1.3938919438426598,
          "x1": 1.3938919438426598,
          "xref": "x",
          "y0": 0,
          "y1": 1,
          "yref": "y domain"
         },
         {
          "line": {
           "color": "black",
           "width": 1
          },
          "type": "line",
          "x0": 2.3242773032611685,
          "x1": 2.3242773032611685,
          "xref": "x",
          "y0": 0,
          "y1": 1,
          "yref": "y domain"
         },
         {
          "line": {
           "color": "black",
           "width": 1
          },
          "type": "line",
          "x0": 2.7208138921952907,
          "x1": 2.7208138921952907,
          "xref": "x",
          "y0": 0,
          "y1": 1,
          "yref": "y domain"
         },
         {
          "line": {
           "color": "black",
           "width": 1
          },
          "type": "line",
          "x0": 3.7226546839016454,
          "x1": 3.7226546839016454,
          "xref": "x",
          "y0": 0,
          "y1": 1,
          "yref": "y domain"
         },
         {
          "line": {
           "color": "black",
           "width": 1
          },
          "type": "line",
          "x0": 4.187847363611404,
          "x1": 4.187847363611404,
          "xref": "x",
          "y0": 0,
          "y1": 1,
          "yref": "y domain"
         },
         {
          "line": {
           "color": "black",
           "width": 1
          },
          "type": "line",
          "x0": 4.326314729511457,
          "x1": 4.326314729511457,
          "xref": "x",
          "y0": 0,
          "y1": 1,
          "yref": "y domain"
         },
         {
          "line": {
           "color": "black",
           "width": 1
          },
          "type": "line",
          "x0": 5.132052086076711,
          "x1": 5.132052086076711,
          "xref": "x",
          "y0": 0,
          "y1": 1,
          "yref": "y domain"
         }
        ],
        "template": {
         "data": {
          "bar": [
           {
            "error_x": {
             "color": "#2a3f5f"
            },
            "error_y": {
             "color": "#2a3f5f"
            },
            "marker": {
             "line": {
              "color": "#E5ECF6",
              "width": 0.5
             },
             "pattern": {
              "fillmode": "overlay",
              "size": 10,
              "solidity": 0.2
             }
            },
            "type": "bar"
           }
          ],
          "barpolar": [
           {
            "marker": {
             "line": {
              "color": "#E5ECF6",
              "width": 0.5
             },
             "pattern": {
              "fillmode": "overlay",
              "size": 10,
              "solidity": 0.2
             }
            },
            "type": "barpolar"
           }
          ],
          "carpet": [
           {
            "aaxis": {
             "endlinecolor": "#2a3f5f",
             "gridcolor": "white",
             "linecolor": "white",
             "minorgridcolor": "white",
             "startlinecolor": "#2a3f5f"
            },
            "baxis": {
             "endlinecolor": "#2a3f5f",
             "gridcolor": "white",
             "linecolor": "white",
             "minorgridcolor": "white",
             "startlinecolor": "#2a3f5f"
            },
            "type": "carpet"
           }
          ],
          "choropleth": [
           {
            "colorbar": {
             "outlinewidth": 0,
             "ticks": ""
            },
            "type": "choropleth"
           }
          ],
          "contour": [
           {
            "colorbar": {
             "outlinewidth": 0,
             "ticks": ""
            },
            "colorscale": [
             [
              0,
              "#0d0887"
             ],
             [
              0.1111111111111111,
              "#46039f"
             ],
             [
              0.2222222222222222,
              "#7201a8"
             ],
             [
              0.3333333333333333,
              "#9c179e"
             ],
             [
              0.4444444444444444,
              "#bd3786"
             ],
             [
              0.5555555555555556,
              "#d8576b"
             ],
             [
              0.6666666666666666,
              "#ed7953"
             ],
             [
              0.7777777777777778,
              "#fb9f3a"
             ],
             [
              0.8888888888888888,
              "#fdca26"
             ],
             [
              1,
              "#f0f921"
             ]
            ],
            "type": "contour"
           }
          ],
          "contourcarpet": [
           {
            "colorbar": {
             "outlinewidth": 0,
             "ticks": ""
            },
            "type": "contourcarpet"
           }
          ],
          "heatmap": [
           {
            "colorbar": {
             "outlinewidth": 0,
             "ticks": ""
            },
            "colorscale": [
             [
              0,
              "#0d0887"
             ],
             [
              0.1111111111111111,
              "#46039f"
             ],
             [
              0.2222222222222222,
              "#7201a8"
             ],
             [
              0.3333333333333333,
              "#9c179e"
             ],
             [
              0.4444444444444444,
              "#bd3786"
             ],
             [
              0.5555555555555556,
              "#d8576b"
             ],
             [
              0.6666666666666666,
              "#ed7953"
             ],
             [
              0.7777777777777778,
              "#fb9f3a"
             ],
             [
              0.8888888888888888,
              "#fdca26"
             ],
             [
              1,
              "#f0f921"
             ]
            ],
            "type": "heatmap"
           }
          ],
          "heatmapgl": [
           {
            "colorbar": {
             "outlinewidth": 0,
             "ticks": ""
            },
            "colorscale": [
             [
              0,
              "#0d0887"
             ],
             [
              0.1111111111111111,
              "#46039f"
             ],
             [
              0.2222222222222222,
              "#7201a8"
             ],
             [
              0.3333333333333333,
              "#9c179e"
             ],
             [
              0.4444444444444444,
              "#bd3786"
             ],
             [
              0.5555555555555556,
              "#d8576b"
             ],
             [
              0.6666666666666666,
              "#ed7953"
             ],
             [
              0.7777777777777778,
              "#fb9f3a"
             ],
             [
              0.8888888888888888,
              "#fdca26"
             ],
             [
              1,
              "#f0f921"
             ]
            ],
            "type": "heatmapgl"
           }
          ],
          "histogram": [
           {
            "marker": {
             "pattern": {
              "fillmode": "overlay",
              "size": 10,
              "solidity": 0.2
             }
            },
            "type": "histogram"
           }
          ],
          "histogram2d": [
           {
            "colorbar": {
             "outlinewidth": 0,
             "ticks": ""
            },
            "colorscale": [
             [
              0,
              "#0d0887"
             ],
             [
              0.1111111111111111,
              "#46039f"
             ],
             [
              0.2222222222222222,
              "#7201a8"
             ],
             [
              0.3333333333333333,
              "#9c179e"
             ],
             [
              0.4444444444444444,
              "#bd3786"
             ],
             [
              0.5555555555555556,
              "#d8576b"
             ],
             [
              0.6666666666666666,
              "#ed7953"
             ],
             [
              0.7777777777777778,
              "#fb9f3a"
             ],
             [
              0.8888888888888888,
              "#fdca26"
             ],
             [
              1,
              "#f0f921"
             ]
            ],
            "type": "histogram2d"
           }
          ],
          "histogram2dcontour": [
           {
            "colorbar": {
             "outlinewidth": 0,
             "ticks": ""
            },
            "colorscale": [
             [
              0,
              "#0d0887"
             ],
             [
              0.1111111111111111,
              "#46039f"
             ],
             [
              0.2222222222222222,
              "#7201a8"
             ],
             [
              0.3333333333333333,
              "#9c179e"
             ],
             [
              0.4444444444444444,
              "#bd3786"
             ],
             [
              0.5555555555555556,
              "#d8576b"
             ],
             [
              0.6666666666666666,
              "#ed7953"
             ],
             [
              0.7777777777777778,
              "#fb9f3a"
             ],
             [
              0.8888888888888888,
              "#fdca26"
             ],
             [
              1,
              "#f0f921"
             ]
            ],
            "type": "histogram2dcontour"
           }
          ],
          "mesh3d": [
           {
            "colorbar": {
             "outlinewidth": 0,
             "ticks": ""
            },
            "type": "mesh3d"
           }
          ],
          "parcoords": [
           {
            "line": {
             "colorbar": {
              "outlinewidth": 0,
              "ticks": ""
             }
            },
            "type": "parcoords"
           }
          ],
          "pie": [
           {
            "automargin": true,
            "type": "pie"
           }
          ],
          "scatter": [
           {
            "fillpattern": {
             "fillmode": "overlay",
             "size": 10,
             "solidity": 0.2
            },
            "type": "scatter"
           }
          ],
          "scatter3d": [
           {
            "line": {
             "colorbar": {
              "outlinewidth": 0,
              "ticks": ""
             }
            },
            "marker": {
             "colorbar": {
              "outlinewidth": 0,
              "ticks": ""
             }
            },
            "type": "scatter3d"
           }
          ],
          "scattercarpet": [
           {
            "marker": {
             "colorbar": {
              "outlinewidth": 0,
              "ticks": ""
             }
            },
            "type": "scattercarpet"
           }
          ],
          "scattergeo": [
           {
            "marker": {
             "colorbar": {
              "outlinewidth": 0,
              "ticks": ""
             }
            },
            "type": "scattergeo"
           }
          ],
          "scattergl": [
           {
            "marker": {
             "colorbar": {
              "outlinewidth": 0,
              "ticks": ""
             }
            },
            "type": "scattergl"
           }
          ],
          "scattermapbox": [
           {
            "marker": {
             "colorbar": {
              "outlinewidth": 0,
              "ticks": ""
             }
            },
            "type": "scattermapbox"
           }
          ],
          "scatterpolar": [
           {
            "marker": {
             "colorbar": {
              "outlinewidth": 0,
              "ticks": ""
             }
            },
            "type": "scatterpolar"
           }
          ],
          "scatterpolargl": [
           {
            "marker": {
             "colorbar": {
              "outlinewidth": 0,
              "ticks": ""
             }
            },
            "type": "scatterpolargl"
           }
          ],
          "scatterternary": [
           {
            "marker": {
             "colorbar": {
              "outlinewidth": 0,
              "ticks": ""
             }
            },
            "type": "scatterternary"
           }
          ],
          "surface": [
           {
            "colorbar": {
             "outlinewidth": 0,
             "ticks": ""
            },
            "colorscale": [
             [
              0,
              "#0d0887"
             ],
             [
              0.1111111111111111,
              "#46039f"
             ],
             [
              0.2222222222222222,
              "#7201a8"
             ],
             [
              0.3333333333333333,
              "#9c179e"
             ],
             [
              0.4444444444444444,
              "#bd3786"
             ],
             [
              0.5555555555555556,
              "#d8576b"
             ],
             [
              0.6666666666666666,
              "#ed7953"
             ],
             [
              0.7777777777777778,
              "#fb9f3a"
             ],
             [
              0.8888888888888888,
              "#fdca26"
             ],
             [
              1,
              "#f0f921"
             ]
            ],
            "type": "surface"
           }
          ],
          "table": [
           {
            "cells": {
             "fill": {
              "color": "#EBF0F8"
             },
             "line": {
              "color": "white"
             }
            },
            "header": {
             "fill": {
              "color": "#C8D4E3"
             },
             "line": {
              "color": "white"
             }
            },
            "type": "table"
           }
          ]
         },
         "layout": {
          "annotationdefaults": {
           "arrowcolor": "#2a3f5f",
           "arrowhead": 0,
           "arrowwidth": 1
          },
          "autotypenumbers": "strict",
          "coloraxis": {
           "colorbar": {
            "outlinewidth": 0,
            "ticks": ""
           }
          },
          "colorscale": {
           "diverging": [
            [
             0,
             "#8e0152"
            ],
            [
             0.1,
             "#c51b7d"
            ],
            [
             0.2,
             "#de77ae"
            ],
            [
             0.3,
             "#f1b6da"
            ],
            [
             0.4,
             "#fde0ef"
            ],
            [
             0.5,
             "#f7f7f7"
            ],
            [
             0.6,
             "#e6f5d0"
            ],
            [
             0.7,
             "#b8e186"
            ],
            [
             0.8,
             "#7fbc41"
            ],
            [
             0.9,
             "#4d9221"
            ],
            [
             1,
             "#276419"
            ]
           ],
           "sequential": [
            [
             0,
             "#0d0887"
            ],
            [
             0.1111111111111111,
             "#46039f"
            ],
            [
             0.2222222222222222,
             "#7201a8"
            ],
            [
             0.3333333333333333,
             "#9c179e"
            ],
            [
             0.4444444444444444,
             "#bd3786"
            ],
            [
             0.5555555555555556,
             "#d8576b"
            ],
            [
             0.6666666666666666,
             "#ed7953"
            ],
            [
             0.7777777777777778,
             "#fb9f3a"
            ],
            [
             0.8888888888888888,
             "#fdca26"
            ],
            [
             1,
             "#f0f921"
            ]
           ],
           "sequentialminus": [
            [
             0,
             "#0d0887"
            ],
            [
             0.1111111111111111,
             "#46039f"
            ],
            [
             0.2222222222222222,
             "#7201a8"
            ],
            [
             0.3333333333333333,
             "#9c179e"
            ],
            [
             0.4444444444444444,
             "#bd3786"
            ],
            [
             0.5555555555555556,
             "#d8576b"
            ],
            [
             0.6666666666666666,
             "#ed7953"
            ],
            [
             0.7777777777777778,
             "#fb9f3a"
            ],
            [
             0.8888888888888888,
             "#fdca26"
            ],
            [
             1,
             "#f0f921"
            ]
           ]
          },
          "colorway": [
           "#636efa",
           "#EF553B",
           "#00cc96",
           "#ab63fa",
           "#FFA15A",
           "#19d3f3",
           "#FF6692",
           "#B6E880",
           "#FF97FF",
           "#FECB52"
          ],
          "font": {
           "color": "#2a3f5f"
          },
          "geo": {
           "bgcolor": "white",
           "lakecolor": "white",
           "landcolor": "#E5ECF6",
           "showlakes": true,
           "showland": true,
           "subunitcolor": "white"
          },
          "hoverlabel": {
           "align": "left"
          },
          "hovermode": "closest",
          "mapbox": {
           "style": "light"
          },
          "paper_bgcolor": "white",
          "plot_bgcolor": "#E5ECF6",
          "polar": {
           "angularaxis": {
            "gridcolor": "white",
            "linecolor": "white",
            "ticks": ""
           },
           "bgcolor": "#E5ECF6",
           "radialaxis": {
            "gridcolor": "white",
            "linecolor": "white",
            "ticks": ""
           }
          },
          "scene": {
           "xaxis": {
            "backgroundcolor": "#E5ECF6",
            "gridcolor": "white",
            "gridwidth": 2,
            "linecolor": "white",
            "showbackground": true,
            "ticks": "",
            "zerolinecolor": "white"
           },
           "yaxis": {
            "backgroundcolor": "#E5ECF6",
            "gridcolor": "white",
            "gridwidth": 2,
            "linecolor": "white",
            "showbackground": true,
            "ticks": "",
            "zerolinecolor": "white"
           },
           "zaxis": {
            "backgroundcolor": "#E5ECF6",
            "gridcolor": "white",
            "gridwidth": 2,
            "linecolor": "white",
            "showbackground": true,
            "ticks": "",
            "zerolinecolor": "white"
           }
          },
          "shapedefaults": {
           "line": {
            "color": "#2a3f5f"
           }
          },
          "ternary": {
           "aaxis": {
            "gridcolor": "white",
            "linecolor": "white",
            "ticks": ""
           },
           "baxis": {
            "gridcolor": "white",
            "linecolor": "white",
            "ticks": ""
           },
           "bgcolor": "#E5ECF6",
           "caxis": {
            "gridcolor": "white",
            "linecolor": "white",
            "ticks": ""
           }
          },
          "title": {
           "x": 0.05
          },
          "xaxis": {
           "automargin": true,
           "gridcolor": "white",
           "linecolor": "white",
           "ticks": "",
           "title": {
            "standoff": 15
           },
           "zerolinecolor": "white",
           "zerolinewidth": 2
          },
          "yaxis": {
           "automargin": true,
           "gridcolor": "white",
           "linecolor": "white",
           "ticks": "",
           "title": {
            "standoff": 15
           },
           "zerolinecolor": "white",
           "zerolinewidth": 2
          }
         }
        },
        "xaxis": {
         "mirror": true,
         "showgrid": false,
         "ticklen": 0,
         "ticks": "inside",
         "ticktext": [
          "Γ",
          "L",
          "B_1|B",
          "Z",
          "Γ",
          "X|Q",
          "F",
          "P_1",
          "Z|L",
          "P"
         ],
         "tickvals": [
          0,
          0.8572438318455629,
          1.3938919438426598,
          2.3242773032611685,
          2.7208138921952907,
          3.7226546839016454,
          4.187847363611404,
          4.326314729511457,
          5.132052086076711,
          5.399609494633839
         ],
         "title": {
          "text": "Wave Vector"
         }
        },
        "yaxis": {
         "mirror": true,
         "range": [
          0,
          8.322348199189525
         ],
         "showgrid": false,
         "ticklen": 10,
         "ticks": "inside",
         "title": {
          "text": "Frequencies (THz)"
         }
        }
       }
      },
      "text/html": [
       "<div>                            <div id=\"dca3a5ae-c7e4-4e66-a258-b076a3a52de1\" class=\"plotly-graph-div\" style=\"height:525px; width:100%;\"></div>            <script type=\"text/javascript\">                require([\"plotly\"], function(Plotly) {                    window.PLOTLYENV=window.PLOTLYENV || {};                                    if (document.getElementById(\"dca3a5ae-c7e4-4e66-a258-b076a3a52de1\")) {                    Plotly.newPlot(                        \"dca3a5ae-c7e4-4e66-a258-b076a3a52de1\",                        [{\"mode\":\"lines\",\"name\":\"band 1\",\"x\":[0.0,0.05357773949034768,0.10715547898069536,0.16073321847104305,0.2143109579613907,0.2678886974517384,0.32146643694208604,0.37504417643243376,0.4286219159227814,0.4821996554131291,0.5357773949034768,0.5893551343938245,0.6429328738841721,0.6965106133745198,0.7500883528648675,0.8036660923552152,0.8572438318455629,0.8572438318455629,0.9109086430452726,0.9645734542479164,1.018238265447626,1.07190307665027,1.1255678878499795,1.1792326990555573,1.2328975102670032,1.2865623214491084,1.3402271326605544,1.3938919438426598,1.3938919438426598,1.4486204944225785,1.5033490449731566,1.5580775955237347,1.6128061460743128,1.667534696624891,1.722263247175469,1.7769917977260472,1.8317203482766256,1.8864488988272035,1.9411774493777814,1.9959059999283597,2.050634550508278,2.1053631010588565,2.160091651609435,2.2148202021600127,2.2695487527105906,2.3242773032611685,2.3242773032611685,2.373844376877934,2.423411450494699,2.4729785241114643,2.5225455977282296,2.572112671344995,2.62167974496176,2.6712468185785254,2.7208138921952907,2.7208138921952907,2.7735423549166778,2.826270817638065,2.878999280359452,2.931727743080839,2.9844562058051602,3.0371846685236132,3.0899131312450003,3.1426415939663874,3.1953700566877745,3.2480985194091616,3.3008269821305487,3.353555444851936,3.406283907573323,3.45901237029471,3.511740833016097,3.564469295737484,3.6171977584588713,3.6699262211802584,3.7226546839016454,3.7226546839016454,3.7743427594347323,3.8260308349678187,3.8777189104715646,3.9294069860046514,3.9810950615083973,4.032783137041484,4.084471212574571,4.136159288078317,4.187847363611404,4.187847363611404,4.234003152245764,4.280158940883153,4.326314729511457,4.326314729511457,4.380030553292637,4.433746377073818,4.487462200838059,4.5411780246023,4.594893848366541,4.648609672147722,4.702325495911963,4.756041319693144,4.809757143457385,4.863472967221626,4.917188791002807,4.970904614767048,5.024620438531289,5.07833626229553,5.132052086076711,5.132052086076711,5.185563567788137,5.239075049497995,5.292586531212555,5.346098012927115,5.399609494633839],\"y\":[0.0,0.17274888372668074,0.3429254335680597,0.5080484570559985,0.6658707737185853,0.8147618902822725,0.9542394415214855,1.0851400597031222,1.1854635922768653,1.2502800325747931,1.3002107787624084,1.3384441827051912,1.3673837194116567,1.388685328798369,1.4033864132034193,1.4120488139389715,1.414915561965391,1.414915561965391,1.4204877505881788,1.4366789431823723,1.4621846839279942,1.495473367465948,1.5350440054918297,1.5790042048100557,1.6241759417293968,1.6654847937152648,1.696490018466286,1.6973095635158517,1.697309563516012,1.6634623820848995,1.6290457409287555,1.5942489116960612,1.559251008151608,1.5242133571111511,1.4628592377376013,1.3987495994183832,1.3406730599859222,1.2930594335447005,1.2581993710635442,1.2347925052257702,1.2180107472276198,1.2016486238708475,1.1815809979188685,1.158874365186098,1.1399991461305787,1.1326026639275468,1.1326026639275468,1.06670205392782,0.9479357401783888,0.8109332748357667,0.661735739608029,0.5041099558060159,0.34044555762207684,0.17184388288257543,0.0,0.0,0.1531203479943023,0.30495514080404884,0.45399397237439215,0.5983765001145801,0.7359232882224815,0.8643298860415151,0.9815231918892383,1.0861780647151114,1.178252643621792,1.2591535980151072,1.3312484361057544,1.3969934880047123,1.4581935810178996,1.5156172342142278,1.5689066685672146,1.6166818700142975,1.6568100684600864,1.686892426022901,1.7050173362793795,1.7050020909747532,1.6821262322024284,1.6447149294287682,1.6022745945278192,1.5557961912118516,1.5070896255181467,1.4592779169024104,1.4173481971891062,1.387923530414934,1.377238659651416,1.377238659651416,1.3775620828722053,1.37852476239924,1.380099114097936,1.380099114097936,1.369557131798529,1.3565456238096505,1.341259803021326,1.32411602859891,1.3056164291357135,1.2862130706850528,1.266283389796408,1.2462145342893243,1.2264835954175173,1.2075873619140718,1.189751875563578,1.1725571614560206,1.1552247432716154,1.139507263992638,1.1326026639275468,1.414915561965391,1.4126551541190806,1.4063757198076088,1.3974888962162428,1.3880113845393776,1.3800762817659586],\"type\":\"scatter\"},{\"mode\":\"lines\",\"name\":\"band 2\",\"x\":[0.0,0.05357773949034768,0.10715547898069536,0.16073321847104305,0.2143109579613907,0.2678886974517384,0.32146643694208604,0.37504417643243376,0.4286219159227814,0.4821996554131291,0.5357773949034768,0.5893551343938245,0.6429328738841721,0.6965106133745198,0.7500883528648675,0.8036660923552152,0.8572438318455629,0.8572438318455629,0.9109086430452726,0.9645734542479164,1.018238265447626,1.07190307665027,1.1255678878499795,1.1792326990555573,1.2328975102670032,1.2865623214491084,1.3402271326605544,1.3938919438426598,1.3938919438426598,1.4486204944225785,1.5033490449731566,1.5580775955237347,1.6128061460743128,1.667534696624891,1.722263247175469,1.7769917977260472,1.8317203482766256,1.8864488988272035,1.9411774493777814,1.9959059999283597,2.050634550508278,2.1053631010588565,2.160091651609435,2.2148202021600127,2.2695487527105906,2.3242773032611685,2.3242773032611685,2.373844376877934,2.423411450494699,2.4729785241114643,2.5225455977282296,2.572112671344995,2.62167974496176,2.6712468185785254,2.7208138921952907,2.7208138921952907,2.7735423549166778,2.826270817638065,2.878999280359452,2.931727743080839,2.9844562058051602,3.0371846685236132,3.0899131312450003,3.1426415939663874,3.1953700566877745,3.2480985194091616,3.3008269821305487,3.353555444851936,3.406283907573323,3.45901237029471,3.511740833016097,3.564469295737484,3.6171977584588713,3.6699262211802584,3.7226546839016454,3.7226546839016454,3.7743427594347323,3.8260308349678187,3.8777189104715646,3.9294069860046514,3.9810950615083973,4.032783137041484,4.084471212574571,4.136159288078317,4.187847363611404,4.187847363611404,4.234003152245764,4.280158940883153,4.326314729511457,4.326314729511457,4.380030553292637,4.433746377073818,4.487462200838059,4.5411780246023,4.594893848366541,4.648609672147722,4.702325495911963,4.756041319693144,4.809757143457385,4.863472967221626,4.917188791002807,4.970904614767048,5.024620438531289,5.07833626229553,5.132052086076711,5.132052086076711,5.185563567788137,5.239075049497995,5.292586531212555,5.346098012927115,5.399609494633839],\"y\":[0.0,0.19032244050408856,0.3767496657648447,0.5551391097636222,0.7209619217726343,0.8695775179293246,0.9971858056325019,1.1021223171669692,1.2091550090715706,1.328102745638326,1.4433813675209164,1.55560178496783,1.664235119258472,1.7670805739962234,1.8589713697601655,1.9285097736694325,1.9508908550990318,1.9508908550990318,1.9443014316001206,1.924807710159473,1.9001316239364443,1.8743028532083221,1.847858654275544,1.8203607236752626,1.7914856978038052,1.761220427505783,1.7297483124093502,1.7113445122952355,1.711344512295179,1.7067734360907667,1.6828049119865909,1.642351475139253,1.589323167660173,1.5279892205827683,1.4892789804874458,1.4545980913320593,1.4203783990874668,1.386935512933734,1.3547121025331101,1.324242161791065,1.2960180949823177,1.2701140945327738,1.2449671758263106,1.2127668079336356,1.1617672297383557,1.1326026639291895,1.1326026639291895,1.066702053929357,0.9479357401797585,0.8109332748369364,0.6617357396089725,0.5041099558067347,0.3404455576225839,0.17184388288282984,0.0,0.0,0.22103492320830867,0.4385765124762645,0.6487869626545493,0.8472289405763114,1.0288893056326003,1.1889956656922918,1.3251526854798186,1.4393446742945322,1.5365972487476105,1.6213193230599798,1.6955376621405602,1.759572740442625,1.8050366410899976,1.8013671137460519,1.7927950815425706,1.7799696925859099,1.7628884681766326,1.7411220419523452,1.7141177611514173,1.714086419145127,1.7105807772558745,1.705101217056534,1.6907769342238843,1.670415188223531,1.6470503698334644,1.6238487026089177,1.6040424275907292,1.590648985743235,1.585905481881093,1.585905481881093,1.5907140666935344,1.6046710025479367,1.6264790967646126,1.6264790967646126,1.5682014439619845,1.5111269691668323,1.457865387136041,1.4101568907645765,1.369326791154072,1.3364522114988433,1.31214626107335,1.2959261382039875,1.285572069476652,1.2771882510677424,1.2661488007466193,1.2477773869265134,1.2143301300691154,1.1611015970819967,1.1326026639291895,1.9508908550990318,1.9269794670491778,1.8615683624803656,1.7781169514913404,1.694868643977726,1.626467450012628],\"type\":\"scatter\"},{\"mode\":\"lines\",\"name\":\"band 3\",\"x\":[0.0,0.05357773949034768,0.10715547898069536,0.16073321847104305,0.2143109579613907,0.2678886974517384,0.32146643694208604,0.37504417643243376,0.4286219159227814,0.4821996554131291,0.5357773949034768,0.5893551343938245,0.6429328738841721,0.6965106133745198,0.7500883528648675,0.8036660923552152,0.8572438318455629,0.8572438318455629,0.9109086430452726,0.9645734542479164,1.018238265447626,1.07190307665027,1.1255678878499795,1.1792326990555573,1.2328975102670032,1.2865623214491084,1.3402271326605544,1.3938919438426598,1.3938919438426598,1.4486204944225785,1.5033490449731566,1.5580775955237347,1.6128061460743128,1.667534696624891,1.722263247175469,1.7769917977260472,1.8317203482766256,1.8864488988272035,1.9411774493777814,1.9959059999283597,2.050634550508278,2.1053631010588565,2.160091651609435,2.2148202021600127,2.2695487527105906,2.3242773032611685,2.3242773032611685,2.373844376877934,2.423411450494699,2.4729785241114643,2.5225455977282296,2.572112671344995,2.62167974496176,2.6712468185785254,2.7208138921952907,2.7208138921952907,2.7735423549166778,2.826270817638065,2.878999280359452,2.931727743080839,2.9844562058051602,3.0371846685236132,3.0899131312450003,3.1426415939663874,3.1953700566877745,3.2480985194091616,3.3008269821305487,3.353555444851936,3.406283907573323,3.45901237029471,3.511740833016097,3.564469295737484,3.6171977584588713,3.6699262211802584,3.7226546839016454,3.7226546839016454,3.7743427594347323,3.8260308349678187,3.8777189104715646,3.9294069860046514,3.9810950615083973,4.032783137041484,4.084471212574571,4.136159288078317,4.187847363611404,4.187847363611404,4.234003152245764,4.280158940883153,4.326314729511457,4.326314729511457,4.380030553292637,4.433746377073818,4.487462200838059,4.5411780246023,4.594893848366541,4.648609672147722,4.702325495911963,4.756041319693144,4.809757143457385,4.863472967221626,4.917188791002807,4.970904614767048,5.024620438531289,5.07833626229553,5.132052086076711,5.132052086076711,5.185563567788137,5.239075049497995,5.292586531212555,5.346098012927115,5.399609494633839],\"y\":[0.0,0.35749973368140875,0.7033255626494903,1.020303389611391,1.2827370280578603,1.471928727581063,1.6005362925527489,1.692861321010659,1.7628812260714268,1.816666964750101,1.857726273773366,1.888977023320434,1.9127244322893995,1.9303964874532473,1.9427219115786702,1.9502423041295602,1.9580263365186175,1.9580263365186175,1.9551832735454837,1.9512215333586762,1.946251719397884,1.9404479091615134,1.9345493656592136,1.9293665264854396,1.9254177533764425,1.9226142113839335,1.9202665113735482,1.9175217095036199,1.9175217095035864,1.9138856031832148,1.9097632861571732,1.90603922736982,1.903378972205214,1.9015537224108487,1.8993646195325198,1.8951725633272658,1.887428320950617,1.8744708059896218,1.8530904498682454,1.7629693865239628,1.6246327943346839,1.50570956426035,1.4090208452467559,1.337236672079768,1.2927725918432553,1.277652641858613,1.277652641858613,1.3313883857708075,1.4128125636297342,1.486489610982441,1.21359423941566,0.9177477114249634,0.6155711725523252,0.3090002037726435,0.0,0.0,0.34039750146770104,0.6690043440446966,0.9697417906821841,1.2206868689487362,1.4060952979897692,1.5339807560744838,1.6240082289156619,1.68968515694874,1.737535956916862,1.77081269682258,1.7917509371294262,1.8024568034723678,1.813180991444609,1.8560585744166411,1.887862457009754,1.9084286552355525,1.9185706138541048,1.9207215811624632,1.9182527118523225,1.9183523134648908,1.9142058748990587,1.9098112247304784,1.9058523335192616,1.9026847426413231,1.9004934400363531,1.8992581125625432,1.8987533165570036,1.8986463298795282,1.8986484497001308,1.8986484497001308,1.9006195938630621,1.9062211777765459,1.914584192034972,1.914584192034972,1.9157841386997263,1.9158305563162088,1.9142069726925075,1.9103010912168006,1.9034953546805915,1.8931497107030506,1.87802465793285,1.8483553906276569,1.727931416364762,1.6103890404885512,1.5011058287355137,1.4064619597248809,1.3343608394930786,1.2913501748308733,1.277652641858613,1.9580263365186175,1.9535633707598388,1.946728940326811,1.9370176744048129,1.9257358012037338,1.9145927866036043],\"type\":\"scatter\"},{\"mode\":\"lines\",\"name\":\"band 4\",\"x\":[0.0,0.05357773949034768,0.10715547898069536,0.16073321847104305,0.2143109579613907,0.2678886974517384,0.32146643694208604,0.37504417643243376,0.4286219159227814,0.4821996554131291,0.5357773949034768,0.5893551343938245,0.6429328738841721,0.6965106133745198,0.7500883528648675,0.8036660923552152,0.8572438318455629,0.8572438318455629,0.9109086430452726,0.9645734542479164,1.018238265447626,1.07190307665027,1.1255678878499795,1.1792326990555573,1.2328975102670032,1.2865623214491084,1.3402271326605544,1.3938919438426598,1.3938919438426598,1.4486204944225785,1.5033490449731566,1.5580775955237347,1.6128061460743128,1.667534696624891,1.722263247175469,1.7769917977260472,1.8317203482766256,1.8864488988272035,1.9411774493777814,1.9959059999283597,2.050634550508278,2.1053631010588565,2.160091651609435,2.2148202021600127,2.2695487527105906,2.3242773032611685,2.3242773032611685,2.373844376877934,2.423411450494699,2.4729785241114643,2.5225455977282296,2.572112671344995,2.62167974496176,2.6712468185785254,2.7208138921952907,2.7208138921952907,2.7735423549166778,2.826270817638065,2.878999280359452,2.931727743080839,2.9844562058051602,3.0371846685236132,3.0899131312450003,3.1426415939663874,3.1953700566877745,3.2480985194091616,3.3008269821305487,3.353555444851936,3.406283907573323,3.45901237029471,3.511740833016097,3.564469295737484,3.6171977584588713,3.6699262211802584,3.7226546839016454,3.7226546839016454,3.7743427594347323,3.8260308349678187,3.8777189104715646,3.9294069860046514,3.9810950615083973,4.032783137041484,4.084471212574571,4.136159288078317,4.187847363611404,4.187847363611404,4.234003152245764,4.280158940883153,4.326314729511457,4.326314729511457,4.380030553292637,4.433746377073818,4.487462200838059,4.5411780246023,4.594893848366541,4.648609672147722,4.702325495911963,4.756041319693144,4.809757143457385,4.863472967221626,4.917188791002807,4.970904614767048,5.024620438531289,5.07833626229553,5.132052086076711,5.132052086076711,5.185563567788137,5.239075049497995,5.292586531212555,5.346098012927115,5.399609494633839],\"y\":[1.6590762471443856,1.6638304044255947,1.6782836730710422,1.7030561022678108,1.7392279519876408,1.788067782260491,1.8502252147500526,1.924644288489858,2.0080827410804134,2.095809507810849,2.1828059871860703,2.2644851141512117,2.336839721575366,2.3964825318590823,2.4393760628760672,2.389085812688567,2.3677103105478485,2.3677103105478485,2.3649388091967825,2.357114528242007,2.34550118151883,2.33169155640913,2.317318607002794,2.3041925888951664,2.2947306986115863,2.2921715738439574,2.2999548625751167,2.3200423604148273,2.3200423604148535,2.351950586351949,2.3909351952405324,2.431142647616066,2.466697479695554,2.491884526362552,2.5011709340308883,2.4430144982965967,2.261860566030582,2.085212011903986,1.9176561216435855,1.81564240835411,1.7478305908743266,1.637272602541183,1.4955638203026775,1.3639624886345898,1.293658647129835,1.2776526418604566,1.2776526418604566,1.3313883857727293,1.4128125636317737,1.4864896109845829,1.547924519837103,1.596346283396267,1.6312350323591076,1.6521456892449016,1.6590762471326899,1.6590762471639704,1.6631859807627942,1.6760195876195907,1.699177537639277,1.7355510350992691,1.7893432659829056,1.8652225167075667,1.9658622800502212,2.0891188230381825,2.2277305636611926,2.367642003287174,2.4583019351572455,2.44719253105943,2.40510178342847,2.3619597497431304,2.3260906695458847,2.302003431835994,2.2918634709761094,2.295178084395766,2.309425419986874,2.3094042548911946,2.330839578497077,2.3567164119712722,2.384363124273351,2.411451972816103,2.436052861227642,2.45665277139122,2.4721314741094687,2.4817195296094496,2.4809720430059627,2.4809720430059627,2.4803702024165553,2.4785082776478853,2.4752806370937703,2.4752806370937703,2.449652791771582,2.4050849253444118,2.3440246880510185,2.2683797467837143,2.1793449468662707,2.078067476109142,1.9665913389746863,1.8546932419074673,1.8147203383433073,1.7431425672899894,1.6289899269251866,1.48723402628134,1.360357005599088,1.2938411155267504,1.2776526418604566,2.3677103105478485,2.3822958431310757,2.4152875009774086,2.4500591479289144,2.4769444205321993,2.4750943961053293],\"type\":\"scatter\"},{\"mode\":\"lines\",\"name\":\"band 5\",\"x\":[0.0,0.05357773949034768,0.10715547898069536,0.16073321847104305,0.2143109579613907,0.2678886974517384,0.32146643694208604,0.37504417643243376,0.4286219159227814,0.4821996554131291,0.5357773949034768,0.5893551343938245,0.6429328738841721,0.6965106133745198,0.7500883528648675,0.8036660923552152,0.8572438318455629,0.8572438318455629,0.9109086430452726,0.9645734542479164,1.018238265447626,1.07190307665027,1.1255678878499795,1.1792326990555573,1.2328975102670032,1.2865623214491084,1.3402271326605544,1.3938919438426598,1.3938919438426598,1.4486204944225785,1.5033490449731566,1.5580775955237347,1.6128061460743128,1.667534696624891,1.722263247175469,1.7769917977260472,1.8317203482766256,1.8864488988272035,1.9411774493777814,1.9959059999283597,2.050634550508278,2.1053631010588565,2.160091651609435,2.2148202021600127,2.2695487527105906,2.3242773032611685,2.3242773032611685,2.373844376877934,2.423411450494699,2.4729785241114643,2.5225455977282296,2.572112671344995,2.62167974496176,2.6712468185785254,2.7208138921952907,2.7208138921952907,2.7735423549166778,2.826270817638065,2.878999280359452,2.931727743080839,2.9844562058051602,3.0371846685236132,3.0899131312450003,3.1426415939663874,3.1953700566877745,3.2480985194091616,3.3008269821305487,3.353555444851936,3.406283907573323,3.45901237029471,3.511740833016097,3.564469295737484,3.6171977584588713,3.6699262211802584,3.7226546839016454,3.7226546839016454,3.7743427594347323,3.8260308349678187,3.8777189104715646,3.9294069860046514,3.9810950615083973,4.032783137041484,4.084471212574571,4.136159288078317,4.187847363611404,4.187847363611404,4.234003152245764,4.280158940883153,4.326314729511457,4.326314729511457,4.380030553292637,4.433746377073818,4.487462200838059,4.5411780246023,4.594893848366541,4.648609672147722,4.702325495911963,4.756041319693144,4.809757143457385,4.863472967221626,4.917188791002807,4.970904614767048,5.024620438531289,5.07833626229553,5.132052086076711,5.132052086076711,5.185563567788137,5.239075049497995,5.292586531212555,5.346098012927115,5.399609494633839],\"y\":[1.673516918040099,1.6879648986390485,1.7337386853707932,1.8198544894855904,1.9634943647479655,2.174146879709494,2.42731699395136,2.651345537589446,2.6873254410186096,2.665021074336607,2.6349921860510204,2.598187376228823,2.5523816119537086,2.4978074644734027,2.440789128620939,2.468002364052015,2.4771710164494363,2.4771710164494363,2.509913851299719,2.6016431746508886,2.7390534457868756,2.908160063642408,3.094668934702137,3.2845229082894036,3.465677026476117,3.629208137341568,3.7686235961472585,3.678482660610904,3.6784826606113303,3.5274827102668387,3.3613967796101765,3.1851297707950565,3.002751560311943,2.8173164436283495,2.6312626102222216,2.494291486263013,2.4636618694313563,2.4182494495461078,2.3634295513704235,2.30654993222263,2.2544186366001435,2.2125910705816274,2.1846295687781443,2.1706066743563173,2.166332972384785,2.1658543271492734,2.1658543271492734,2.0204568889023817,1.772976953244489,1.5002451270662418,1.5479245198393363,1.596346283398566,1.6312350323614604,1.6521456892472839,1.6590762471720901,1.673769439140681,1.689051336135888,1.7369437071254694,1.8248307296625128,1.9658959466228199,2.1670663321177304,2.4118579626333116,2.672970769871144,2.7086436622031043,2.663959757342795,2.626720605066934,2.6445265498536954,2.7687428121146396,2.9285834803220103,3.094815316149468,3.260121794339863,3.4205477793368244,3.572706726053558,3.7130569261302555,3.7344964920093435,3.7347830361662933,3.585055184868088,3.4116716754757337,3.224525532446169,3.035254641318122,2.8566248192466785,2.701605421688625,2.581951814933589,2.506639931242872,2.484965319973507,2.484965319973507,2.4862055449039024,2.4894473851791155,2.493458291644256,2.493458291644256,2.524211635434548,2.5474400277771996,2.5573377722569304,2.5497919991546407,2.5234419136983655,2.480232443468939,2.425006692056115,2.3642438804088615,2.3046012847546877,2.2519053904713333,2.210698226867165,2.183687666384589,2.1703489828650318,2.1663126906950616,2.1658543271492734,2.4771710164494363,2.47738678020732,2.4777603567126714,2.4777517167706815,2.477255291287569,2.4933790016202555],\"type\":\"scatter\"},{\"mode\":\"lines\",\"name\":\"band 6\",\"x\":[0.0,0.05357773949034768,0.10715547898069536,0.16073321847104305,0.2143109579613907,0.2678886974517384,0.32146643694208604,0.37504417643243376,0.4286219159227814,0.4821996554131291,0.5357773949034768,0.5893551343938245,0.6429328738841721,0.6965106133745198,0.7500883528648675,0.8036660923552152,0.8572438318455629,0.8572438318455629,0.9109086430452726,0.9645734542479164,1.018238265447626,1.07190307665027,1.1255678878499795,1.1792326990555573,1.2328975102670032,1.2865623214491084,1.3402271326605544,1.3938919438426598,1.3938919438426598,1.4486204944225785,1.5033490449731566,1.5580775955237347,1.6128061460743128,1.667534696624891,1.722263247175469,1.7769917977260472,1.8317203482766256,1.8864488988272035,1.9411774493777814,1.9959059999283597,2.050634550508278,2.1053631010588565,2.160091651609435,2.2148202021600127,2.2695487527105906,2.3242773032611685,2.3242773032611685,2.373844376877934,2.423411450494699,2.4729785241114643,2.5225455977282296,2.572112671344995,2.62167974496176,2.6712468185785254,2.7208138921952907,2.7208138921952907,2.7735423549166778,2.826270817638065,2.878999280359452,2.931727743080839,2.9844562058051602,3.0371846685236132,3.0899131312450003,3.1426415939663874,3.1953700566877745,3.2480985194091616,3.3008269821305487,3.353555444851936,3.406283907573323,3.45901237029471,3.511740833016097,3.564469295737484,3.6171977584588713,3.6699262211802584,3.7226546839016454,3.7226546839016454,3.7743427594347323,3.8260308349678187,3.8777189104715646,3.9294069860046514,3.9810950615083973,4.032783137041484,4.084471212574571,4.136159288078317,4.187847363611404,4.187847363611404,4.234003152245764,4.280158940883153,4.326314729511457,4.326314729511457,4.380030553292637,4.433746377073818,4.487462200838059,4.5411780246023,4.594893848366541,4.648609672147722,4.702325495911963,4.756041319693144,4.809757143457385,4.863472967221626,4.917188791002807,4.970904614767048,5.024620438531289,5.07833626229553,5.132052086076711,5.132052086076711,5.185563567788137,5.239075049497995,5.292586531212555,5.346098012927115,5.399609494633839],\"y\":[2.9068037249363012,2.902878253122389,2.8913864862160925,2.873108106582559,2.8492560123775412,2.8219470484683313,2.797001713126211,2.8170706846289835,3.022571258230513,3.271687314561575,3.5023682818994324,3.7024749152203524,3.866675950665028,3.993649265192155,4.084128263571835,4.138676034750513,4.1569687761267495,4.1569687761267495,4.154715492701325,4.147908254231874,4.136179762167163,4.118282669179776,4.091514518347674,4.0515820598654875,3.9933380087936436,3.9124234452808047,3.807017570932276,3.878049977944251,3.878049977944011,3.9523555747294483,3.9835483454556107,3.969542727178541,3.9122554330837382,3.8159175661147495,3.68501784483933,3.523614620518776,3.3363256951237057,3.1302685205414402,2.917191441154495,2.7156671605211984,2.5518856975250626,2.4503804635082576,2.4135796209904306,2.421508238492367,2.446654763326463,2.459968767295173,2.459968767295173,2.5875367585906752,2.7808572545331054,2.961876216326522,3.11856558454617,3.2457697077746412,3.3396440156249416,3.397165533093675,3.416525447991128,2.9014408064088903,2.8981300234953022,2.8883292459848264,2.87235436171262,2.850525175859085,2.8230240780071356,2.789934396141054,2.7515064510489657,2.930416915481309,3.1724132210636835,3.391532679611001,3.5822459664700097,3.7399199618746715,3.8607201323410107,3.941902669888416,3.981979959378033,3.9804992005796276,3.9377239403722326,3.8547976998624875,3.837770840268082,3.837043408118245,3.940573692606913,4.023480505771391,4.085529350781923,4.128690027244479,4.1564309072089545,4.172720059140004,4.181273699515116,4.185093291163747,4.186138730418288,4.186138730418288,4.184073908011314,4.177941530273703,4.1679381553383035,4.1679381553383035,4.122154514385188,4.04329094026925,3.9297615015107143,3.7811023276022837,3.5994471675183335,3.390347715114915,3.163321606957583,2.932696639640498,2.719198787355704,2.550224893582615,2.448910700255889,2.4137906908729914,2.4224175170158073,2.4471096272060304,2.459968767295173,4.1569687761267495,4.15811808011936,4.160974634353323,4.164213037298425,4.166666174216736,4.167855868250887],\"type\":\"scatter\"},{\"mode\":\"lines\",\"name\":\"band 7\",\"x\":[0.0,0.05357773949034768,0.10715547898069536,0.16073321847104305,0.2143109579613907,0.2678886974517384,0.32146643694208604,0.37504417643243376,0.4286219159227814,0.4821996554131291,0.5357773949034768,0.5893551343938245,0.6429328738841721,0.6965106133745198,0.7500883528648675,0.8036660923552152,0.8572438318455629,0.8572438318455629,0.9109086430452726,0.9645734542479164,1.018238265447626,1.07190307665027,1.1255678878499795,1.1792326990555573,1.2328975102670032,1.2865623214491084,1.3402271326605544,1.3938919438426598,1.3938919438426598,1.4486204944225785,1.5033490449731566,1.5580775955237347,1.6128061460743128,1.667534696624891,1.722263247175469,1.7769917977260472,1.8317203482766256,1.8864488988272035,1.9411774493777814,1.9959059999283597,2.050634550508278,2.1053631010588565,2.160091651609435,2.2148202021600127,2.2695487527105906,2.3242773032611685,2.3242773032611685,2.373844376877934,2.423411450494699,2.4729785241114643,2.5225455977282296,2.572112671344995,2.62167974496176,2.6712468185785254,2.7208138921952907,2.7208138921952907,2.7735423549166778,2.826270817638065,2.878999280359452,2.931727743080839,2.9844562058051602,3.0371846685236132,3.0899131312450003,3.1426415939663874,3.1953700566877745,3.2480985194091616,3.3008269821305487,3.353555444851936,3.406283907573323,3.45901237029471,3.511740833016097,3.564469295737484,3.6171977584588713,3.6699262211802584,3.7226546839016454,3.7226546839016454,3.7743427594347323,3.8260308349678187,3.8777189104715646,3.9294069860046514,3.9810950615083973,4.032783137041484,4.084471212574571,4.136159288078317,4.187847363611404,4.187847363611404,4.234003152245764,4.280158940883153,4.326314729511457,4.326314729511457,4.380030553292637,4.433746377073818,4.487462200838059,4.5411780246023,4.594893848366541,4.648609672147722,4.702325495911963,4.756041319693144,4.809757143457385,4.863472967221626,4.917188791002807,4.970904614767048,5.024620438531289,5.07833626229553,5.132052086076711,5.132052086076711,5.185563567788137,5.239075049497995,5.292586531212555,5.346098012927115,5.399609494633839],\"y\":[4.881305283022744,4.885826393293948,4.8995489905907625,4.921047960393409,4.9458218639485745,4.969841325136631,4.993580934934891,5.019875179677688,5.048951530877833,5.07728845271266,5.10007994768836,5.11431299793659,5.12102540092711,5.124543758830598,5.128395122349024,5.132478444091079,5.134315686742016,5.134315686742016,5.146029457602396,5.17674240268319,5.214910142594454,5.248367325973595,5.272475684229784,5.29046617535473,5.307839432272801,5.315115030892743,5.3112555854889845,5.316040599881891,5.316040599881709,5.326884242279234,5.3077658645632635,5.2721853652079735,5.241572363358376,5.213859373901656,5.18874081969852,5.16583071836525,5.14285359306619,5.117146839850686,5.088025104174406,5.056597940695786,5.024572724371235,4.993781730027618,4.966256583148715,4.944253349939133,4.929961796810589,4.9249991286604855,4.9249991286604855,4.923747845962811,4.919410044755245,4.9117896288201015,4.902656584789316,4.894278350067253,4.88762042558265,4.883022775252129,4.881305283012639,4.881305283024132,4.8856734039402605,4.898872896986713,4.920851052182227,4.950778840292494,4.986868047865178,5.026941137825827,5.069256713704789,5.112692241475344,5.155982657949858,5.196769134116154,5.231376189210795,5.255629791503451,5.268080733190096,5.273955024381779,5.279694208485426,5.287698285845062,5.29716570362835,5.3056351914872275,5.312895178514795,5.312666962157132,5.3231842764321184,5.340457887575957,5.331475183306562,5.300587533297565,5.260103916346573,5.207462788505074,5.150494457558356,5.1057859376924775,5.088853391947456,5.088853391947456,5.089705708482294,5.092260348876858,5.096439519892632,5.096439519892632,5.098275479998846,5.100664501854444,5.101767063843831,5.099382216865537,5.091319271399162,5.0768079636202765,5.0575652778681865,5.0368628813781315,5.017174232450089,4.998694947634414,4.980107004914153,4.960882865612462,4.942897363687622,4.929808218781684,4.9249991286604855,5.134315686742016,5.131112286615659,5.122917295419412,5.112822647709534,5.1035671618543414,5.096633047622102],\"type\":\"scatter\"},{\"mode\":\"lines\",\"name\":\"band 8\",\"x\":[0.0,0.05357773949034768,0.10715547898069536,0.16073321847104305,0.2143109579613907,0.2678886974517384,0.32146643694208604,0.37504417643243376,0.4286219159227814,0.4821996554131291,0.5357773949034768,0.5893551343938245,0.6429328738841721,0.6965106133745198,0.7500883528648675,0.8036660923552152,0.8572438318455629,0.8572438318455629,0.9109086430452726,0.9645734542479164,1.018238265447626,1.07190307665027,1.1255678878499795,1.1792326990555573,1.2328975102670032,1.2865623214491084,1.3402271326605544,1.3938919438426598,1.3938919438426598,1.4486204944225785,1.5033490449731566,1.5580775955237347,1.6128061460743128,1.667534696624891,1.722263247175469,1.7769917977260472,1.8317203482766256,1.8864488988272035,1.9411774493777814,1.9959059999283597,2.050634550508278,2.1053631010588565,2.160091651609435,2.2148202021600127,2.2695487527105906,2.3242773032611685,2.3242773032611685,2.373844376877934,2.423411450494699,2.4729785241114643,2.5225455977282296,2.572112671344995,2.62167974496176,2.6712468185785254,2.7208138921952907,2.7208138921952907,2.7735423549166778,2.826270817638065,2.878999280359452,2.931727743080839,2.9844562058051602,3.0371846685236132,3.0899131312450003,3.1426415939663874,3.1953700566877745,3.2480985194091616,3.3008269821305487,3.353555444851936,3.406283907573323,3.45901237029471,3.511740833016097,3.564469295737484,3.6171977584588713,3.6699262211802584,3.7226546839016454,3.7226546839016454,3.7743427594347323,3.8260308349678187,3.8777189104715646,3.9294069860046514,3.9810950615083973,4.032783137041484,4.084471212574571,4.136159288078317,4.187847363611404,4.187847363611404,4.234003152245764,4.280158940883153,4.326314729511457,4.326314729511457,4.380030553292637,4.433746377073818,4.487462200838059,4.5411780246023,4.594893848366541,4.648609672147722,4.702325495911963,4.756041319693144,4.809757143457385,4.863472967221626,4.917188791002807,4.970904614767048,5.024620438531289,5.07833626229553,5.132052086076711,5.132052086076711,5.185563567788137,5.239075049497995,5.292586531212555,5.346098012927115,5.399609494633839],\"y\":[5.609157959054322,5.606493423654411,5.598203667519264,5.585085822015385,5.570452914417644,5.54727813594742,5.516434194414014,5.484435571706871,5.452591945771179,5.422443826111029,5.399141975145324,5.389456628317213,5.396542148281837,5.417385766122982,5.442409963088587,5.439860645320558,5.4386593742111335,5.4386593742111335,5.435501352156715,5.4262751874131645,5.411642304276215,5.392569397256454,5.370489073106328,5.347791812035986,5.328053181294412,5.328542898988846,5.353928316952411,5.383059589181092,5.38305958918156,5.352548177335591,5.340986201797396,5.35317096849334,5.362053062539069,5.367592140672252,5.372647283541633,5.38227064043359,5.400939408603991,5.428514380581689,5.460041506487868,5.490361895769321,5.517137287169115,5.5397122098881395,5.421026013892464,5.203686352969257,5.006630621595014,4.924999128667587,4.924999128667587,4.923747845969909,4.919410044762338,4.911789628827183,4.902656584796385,4.894278350074312,4.887620425589697,4.883022775259166,4.881305283025174,5.609157959054321,5.606199553452195,5.597817568028044,5.5852759717184295,5.57015586655008,5.550310628537385,5.520849174249153,5.48730692681205,5.451502074187175,5.41600128824876,5.384165540323886,5.359717702207845,5.346182789595862,5.3443693547489595,5.348715104890392,5.352622432304122,5.353826680316446,5.354157275430127,5.358605237775946,5.371296495175893,5.371308399198099,5.391114927382642,5.359775115785052,5.363880808704469,5.39020245394012,5.416261508283334,5.439904086709659,5.459241881989653,5.472168117806353,5.4767508955025175,5.4767508955025175,5.4760102397875645,5.4738603833934265,5.470480297561904,5.470480297561904,5.472280127498857,5.435385034025637,5.402961514452532,5.387696156882248,5.390854381284471,5.408721724027159,5.434846142485725,5.463447014601694,5.491311701447863,5.517125897329451,5.539715102077813,5.412020825717282,5.195822728087889,5.0036947116294135,4.924999128667587,5.4386593742111335,5.441194885222431,5.447750954092937,5.456016871949274,5.463907858299077,5.470230308526979],\"type\":\"scatter\"},{\"mode\":\"lines\",\"name\":\"band 9\",\"x\":[0.0,0.05357773949034768,0.10715547898069536,0.16073321847104305,0.2143109579613907,0.2678886974517384,0.32146643694208604,0.37504417643243376,0.4286219159227814,0.4821996554131291,0.5357773949034768,0.5893551343938245,0.6429328738841721,0.6965106133745198,0.7500883528648675,0.8036660923552152,0.8572438318455629,0.8572438318455629,0.9109086430452726,0.9645734542479164,1.018238265447626,1.07190307665027,1.1255678878499795,1.1792326990555573,1.2328975102670032,1.2865623214491084,1.3402271326605544,1.3938919438426598,1.3938919438426598,1.4486204944225785,1.5033490449731566,1.5580775955237347,1.6128061460743128,1.667534696624891,1.722263247175469,1.7769917977260472,1.8317203482766256,1.8864488988272035,1.9411774493777814,1.9959059999283597,2.050634550508278,2.1053631010588565,2.160091651609435,2.2148202021600127,2.2695487527105906,2.3242773032611685,2.3242773032611685,2.373844376877934,2.423411450494699,2.4729785241114643,2.5225455977282296,2.572112671344995,2.62167974496176,2.6712468185785254,2.7208138921952907,2.7208138921952907,2.7735423549166778,2.826270817638065,2.878999280359452,2.931727743080839,2.9844562058051602,3.0371846685236132,3.0899131312450003,3.1426415939663874,3.1953700566877745,3.2480985194091616,3.3008269821305487,3.353555444851936,3.406283907573323,3.45901237029471,3.511740833016097,3.564469295737484,3.6171977584588713,3.6699262211802584,3.7226546839016454,3.7226546839016454,3.7743427594347323,3.8260308349678187,3.8777189104715646,3.9294069860046514,3.9810950615083973,4.032783137041484,4.084471212574571,4.136159288078317,4.187847363611404,4.187847363611404,4.234003152245764,4.280158940883153,4.326314729511457,4.326314729511457,4.380030553292637,4.433746377073818,4.487462200838059,4.5411780246023,4.594893848366541,4.648609672147722,4.702325495911963,4.756041319693144,4.809757143457385,4.863472967221626,4.917188791002807,4.970904614767048,5.024620438531289,5.07833626229553,5.132052086076711,5.132052086076711,5.185563567788137,5.239075049497995,5.292586531212555,5.346098012927115,5.399609494633839],\"y\":[5.60915795906835,5.6073372101463015,5.601827949145258,5.591349032312723,5.573327542300099,5.557145593413491,5.54394335240183,5.52743364258184,5.50662012626812,5.4842996144583775,5.465112554928943,5.4526584423359,5.446959662451354,5.444633492973382,5.444291124544929,5.467381130968964,5.476699374204756,5.476699374204756,5.483433237906263,5.504815848649365,5.543526445465383,5.599643408721724,5.665758205383935,5.686240594994869,5.615683767047826,5.541873606417206,5.4709705842961265,5.407201035985029,5.4072010359847145,5.413750092594642,5.44097240110636,5.46021396691419,5.469721472018081,5.471937279894635,5.471844758157285,5.474015346723303,5.4806884194247205,5.491461771984847,5.504293102982646,5.51717496643605,5.529394147127842,5.541018915273254,5.5543998398101,5.565539872046901,5.573688617686413,5.576682277979672,5.576682277979672,5.577446994448674,5.580494885513238,5.586327205568813,5.5933747036277985,5.599590312359949,5.604400056628298,5.607825908228882,5.609157959054323,5.60915795906835,5.607624051044378,5.602288410132989,5.5915545542534275,5.574224832558741,5.554038621530382,5.538503231471761,5.525300994796689,5.516462971693826,5.514204698793146,5.520641097610459,5.537381719168976,5.564999348876905,5.602095140368563,5.64237796242947,5.661260268255427,5.62081066553781,5.553531428978756,5.488550365218546,5.434195085590527,5.434098983126751,5.392315395908775,5.416868925311391,5.447911350040723,5.482718588665656,5.517488628201932,5.547297655509547,5.56866477862559,5.580791714453162,5.584614661995598,5.584614661995598,5.574493886370591,5.552815916251688,5.526962738791,5.526962738791,5.479262923152815,5.474293751415025,5.475851655508197,5.477405539546983,5.480899170176932,5.4881835150414355,5.499115077670935,5.511590070876676,5.523451734313716,5.534155086866592,5.544621966947051,5.555556322991484,5.566037237182094,5.573804379560509,5.576682277979672,5.476699374204756,5.479828260085913,5.488591885352759,5.50120387175874,5.514950945653759,5.526883063227959],\"type\":\"scatter\"},{\"mode\":\"lines\",\"name\":\"band 10\",\"x\":[0.0,0.05357773949034768,0.10715547898069536,0.16073321847104305,0.2143109579613907,0.2678886974517384,0.32146643694208604,0.37504417643243376,0.4286219159227814,0.4821996554131291,0.5357773949034768,0.5893551343938245,0.6429328738841721,0.6965106133745198,0.7500883528648675,0.8036660923552152,0.8572438318455629,0.8572438318455629,0.9109086430452726,0.9645734542479164,1.018238265447626,1.07190307665027,1.1255678878499795,1.1792326990555573,1.2328975102670032,1.2865623214491084,1.3402271326605544,1.3938919438426598,1.3938919438426598,1.4486204944225785,1.5033490449731566,1.5580775955237347,1.6128061460743128,1.667534696624891,1.722263247175469,1.7769917977260472,1.8317203482766256,1.8864488988272035,1.9411774493777814,1.9959059999283597,2.050634550508278,2.1053631010588565,2.160091651609435,2.2148202021600127,2.2695487527105906,2.3242773032611685,2.3242773032611685,2.373844376877934,2.423411450494699,2.4729785241114643,2.5225455977282296,2.572112671344995,2.62167974496176,2.6712468185785254,2.7208138921952907,2.7208138921952907,2.7735423549166778,2.826270817638065,2.878999280359452,2.931727743080839,2.9844562058051602,3.0371846685236132,3.0899131312450003,3.1426415939663874,3.1953700566877745,3.2480985194091616,3.3008269821305487,3.353555444851936,3.406283907573323,3.45901237029471,3.511740833016097,3.564469295737484,3.6171977584588713,3.6699262211802584,3.7226546839016454,3.7226546839016454,3.7743427594347323,3.8260308349678187,3.8777189104715646,3.9294069860046514,3.9810950615083973,4.032783137041484,4.084471212574571,4.136159288078317,4.187847363611404,4.187847363611404,4.234003152245764,4.280158940883153,4.326314729511457,4.326314729511457,4.380030553292637,4.433746377073818,4.487462200838059,4.5411780246023,4.594893848366541,4.648609672147722,4.702325495911963,4.756041319693144,4.809757143457385,4.863472967221626,4.917188791002807,4.970904614767048,5.024620438531289,5.07833626229553,5.132052086076711,5.132052086076711,5.185563567788137,5.239075049497995,5.292586531212555,5.346098012927115,5.399609494633839],\"y\":[6.204194815730117,6.198386764949231,6.181146378463748,6.153100354924022,6.115777800784722,6.072595844771343,6.029335890990872,5.992537307349819,5.96628111578361,5.949762324187604,5.93768088951125,5.92305960597753,5.899804936255192,5.8652661459757995,5.824719156817582,5.7909663020685,5.777625390873489,5.777625390873489,5.778941330359461,5.781831515490619,5.782714029409153,5.77381249668779,5.742828270081856,5.729799568943238,5.78251177665331,5.820815170786579,5.846211343338407,5.861507316755093,5.8615073167546115,5.869088202957838,5.870966135868639,5.870566624570346,5.8716804255322845,5.87634265140365,5.883285633411917,5.88801389566814,5.8844618772114154,5.8675803565093485,5.83486129972547,5.784406962560133,5.709441909469223,5.594509628394223,5.557248477741202,5.568886353079791,5.574923453082951,5.576682277987719,5.576682277987719,5.577446994456715,5.580494885521286,5.586327205576868,5.593374703635864,5.599590312368027,5.604400056636379,5.607825908236966,5.60915795906835,6.222305653780966,6.215041323762892,6.194103961076094,6.161856692167952,6.1216813307056235,6.077453306239868,6.033071341515655,5.991881617788892,5.956024334639118,5.9262427310013255,5.902441796259988,5.884309475611307,5.871294771064188,5.862315946681476,5.85599571223353,5.813161144989586,5.827394576614691,5.847447312959727,5.848912946458952,5.85245115871191,5.852206506608572,5.856887311923695,5.861682218750849,5.86594546097073,5.8198705298445566,5.753649571118211,5.6982956084402,5.6612787989277775,5.641616335513084,5.6356154967584775,5.6356154967584775,5.647263835559618,5.6742678098675405,5.710311685282522,5.710311685282522,5.783600407113952,5.850898190588023,5.877665724903229,5.8815189372855015,5.879074447969635,5.870399336754258,5.852770059457528,5.8231514024822575,5.776790299829167,5.703627844978216,5.586675100746993,5.5574432402516045,5.569059171081834,5.57498015817235,5.576682277987719,5.777625390873489,5.773712901519104,5.762422338673803,5.745579327039653,5.726819209950243,5.710114774237851],\"type\":\"scatter\"},{\"mode\":\"lines\",\"name\":\"band 11\",\"x\":[0.0,0.05357773949034768,0.10715547898069536,0.16073321847104305,0.2143109579613907,0.2678886974517384,0.32146643694208604,0.37504417643243376,0.4286219159227814,0.4821996554131291,0.5357773949034768,0.5893551343938245,0.6429328738841721,0.6965106133745198,0.7500883528648675,0.8036660923552152,0.8572438318455629,0.8572438318455629,0.9109086430452726,0.9645734542479164,1.018238265447626,1.07190307665027,1.1255678878499795,1.1792326990555573,1.2328975102670032,1.2865623214491084,1.3402271326605544,1.3938919438426598,1.3938919438426598,1.4486204944225785,1.5033490449731566,1.5580775955237347,1.6128061460743128,1.667534696624891,1.722263247175469,1.7769917977260472,1.8317203482766256,1.8864488988272035,1.9411774493777814,1.9959059999283597,2.050634550508278,2.1053631010588565,2.160091651609435,2.2148202021600127,2.2695487527105906,2.3242773032611685,2.3242773032611685,2.373844376877934,2.423411450494699,2.4729785241114643,2.5225455977282296,2.572112671344995,2.62167974496176,2.6712468185785254,2.7208138921952907,2.7208138921952907,2.7735423549166778,2.826270817638065,2.878999280359452,2.931727743080839,2.9844562058051602,3.0371846685236132,3.0899131312450003,3.1426415939663874,3.1953700566877745,3.2480985194091616,3.3008269821305487,3.353555444851936,3.406283907573323,3.45901237029471,3.511740833016097,3.564469295737484,3.6171977584588713,3.6699262211802584,3.7226546839016454,3.7226546839016454,3.7743427594347323,3.8260308349678187,3.8777189104715646,3.9294069860046514,3.9810950615083973,4.032783137041484,4.084471212574571,4.136159288078317,4.187847363611404,4.187847363611404,4.234003152245764,4.280158940883153,4.326314729511457,4.326314729511457,4.380030553292637,4.433746377073818,4.487462200838059,4.5411780246023,4.594893848366541,4.648609672147722,4.702325495911963,4.756041319693144,4.809757143457385,4.863472967221626,4.917188791002807,4.970904614767048,5.024620438531289,5.07833626229553,5.132052086076711,5.132052086076711,5.185563567788137,5.239075049497995,5.292586531212555,5.346098012927115,5.399609494633839],\"y\":[7.148350344810028,7.1368468742489855,7.102832718830697,7.047574972224883,6.97258795782653,6.8794814624414435,6.771005880339309,6.652588356527902,6.532250277081753,6.418268900418928,6.316799037962148,6.231980392214344,6.167916017093267,6.12813585523949,6.110309109855088,6.10558321646642,6.10516851567037,6.10516851567037,6.093782708090508,6.061539114191578,6.014513135234771,5.964343764543258,5.928011300197818,5.913738566283921,5.913954118805036,5.9214124970084345,5.933521521022943,5.950117108577567,5.950117108577907,5.972890934633918,6.0040691304867835,6.047165932978937,6.1057521489361015,6.182321205990143,6.278106661878094,6.394034408655818,6.531568453985793,6.691837140772553,6.872810100888149,7.067013282342752,7.262597901460977,7.420254846496582,7.341643164369633,7.285948287680757,7.258880880785664,7.251726974073473,7.251726974073473,7.2472416048497115,7.235306621340564,7.218751484542775,7.199643280458706,7.180057213481742,7.163183592559387,7.152121433705509,7.148350344810028,7.148350344810026,7.136487081667657,7.101377644805658,7.04440209917587,6.967683991663005,6.8739271617384095,6.766338734451626,6.648623613028629,6.524927488066326,6.399606859269281,6.276797128053603,6.159877439045982,6.0510848041967895,5.9518485847949565,5.865794828355112,5.851382016162269,5.848377874463788,5.872309909979785,5.915307110069894,5.943315664777416,5.943789587352901,5.949040525096088,5.928221608471235,5.882583127693821,5.8697563848136545,5.873763743057444,5.878544440953132,5.883796735465793,5.888113354028806,5.889802134910759,5.889802134910759,5.896266844885435,5.914017309930031,5.93953031718167,5.93953031718167,5.933933109847655,5.950309142975997,6.025490576893259,6.143172192328464,6.286317856505732,6.452698724476396,6.640320391058575,6.843288229966387,7.051309680547974,7.2502009017443845,7.38620173968839,7.336652871947719,7.284302791906594,7.258566403427614,7.251726974073473,6.10516851567037,6.095222079593245,6.067438656144269,6.027275072070318,5.982009819172275,5.939581122547603],\"type\":\"scatter\"},{\"mode\":\"lines\",\"name\":\"band 12\",\"x\":[0.0,0.05357773949034768,0.10715547898069536,0.16073321847104305,0.2143109579613907,0.2678886974517384,0.32146643694208604,0.37504417643243376,0.4286219159227814,0.4821996554131291,0.5357773949034768,0.5893551343938245,0.6429328738841721,0.6965106133745198,0.7500883528648675,0.8036660923552152,0.8572438318455629,0.8572438318455629,0.9109086430452726,0.9645734542479164,1.018238265447626,1.07190307665027,1.1255678878499795,1.1792326990555573,1.2328975102670032,1.2865623214491084,1.3402271326605544,1.3938919438426598,1.3938919438426598,1.4486204944225785,1.5033490449731566,1.5580775955237347,1.6128061460743128,1.667534696624891,1.722263247175469,1.7769917977260472,1.8317203482766256,1.8864488988272035,1.9411774493777814,1.9959059999283597,2.050634550508278,2.1053631010588565,2.160091651609435,2.2148202021600127,2.2695487527105906,2.3242773032611685,2.3242773032611685,2.373844376877934,2.423411450494699,2.4729785241114643,2.5225455977282296,2.572112671344995,2.62167974496176,2.6712468185785254,2.7208138921952907,2.7208138921952907,2.7735423549166778,2.826270817638065,2.878999280359452,2.931727743080839,2.9844562058051602,3.0371846685236132,3.0899131312450003,3.1426415939663874,3.1953700566877745,3.2480985194091616,3.3008269821305487,3.353555444851936,3.406283907573323,3.45901237029471,3.511740833016097,3.564469295737484,3.6171977584588713,3.6699262211802584,3.7226546839016454,3.7226546839016454,3.7743427594347323,3.8260308349678187,3.8777189104715646,3.9294069860046514,3.9810950615083973,4.032783137041484,4.084471212574571,4.136159288078317,4.187847363611404,4.187847363611404,4.234003152245764,4.280158940883153,4.326314729511457,4.326314729511457,4.380030553292637,4.433746377073818,4.487462200838059,4.5411780246023,4.594893848366541,4.648609672147722,4.702325495911963,4.756041319693144,4.809757143457385,4.863472967221626,4.917188791002807,4.970904614767048,5.024620438531289,5.07833626229553,5.132052086076711,5.132052086076711,5.185563567788137,5.239075049497995,5.292586531212555,5.346098012927115,5.399609494633839],\"y\":[8.151305356809369,8.14504191544118,8.126479166300818,8.097162540181596,8.060127456869164,8.01719900921076,7.9667746219733715,7.905774924914071,7.8333997367400805,7.752403359276914,7.6676931472097305,7.584561401760766,7.5076740274317695,7.440849229061809,7.387768849035459,7.352865476962077,7.340575781646839,7.340575781646839,7.3363263278389965,7.323766082521342,7.3037731519451095,7.278508626714111,7.2515133646433,7.226787384671375,7.207308191997082,7.194389672622474,7.188760381662206,7.192268672824771,7.192268672824793,7.208551127876639,7.240136110492919,7.285561312485063,7.338779661927761,7.392235348675716,7.44095606872235,7.483915076189136,7.521461106446552,7.550823195811496,7.563491939480664,7.547801627943098,7.497223154356048,7.446737770466255,7.6077823778781,7.734864661679719,7.81721631946205,7.845872062392818,7.845872062392818,7.847781119769527,7.852514264897535,7.858452883897368,7.864924136212988,7.871507178484002,7.8770822116259005,7.88054633009684,7.8816608927895695,8.159164901166202,8.154140451952998,8.139912446206468,8.118081001369765,8.089209515855822,8.052057650175614,8.004542579539697,7.945420454188236,7.875239360697022,7.796070361231231,7.710634333083724,7.62171436023878,7.53223190291664,7.445689513311852,7.366337240236475,7.298609793580016,7.246037157131646,7.210432036784266,7.191980180822764,7.189975097024561,7.189736962278418,7.202407016130847,7.228569697738861,7.265457923635948,7.30885913705835,7.35369276613738,7.3948231513620755,7.427726626300426,7.448924086440345,7.456236865250539,7.456236865250539,7.452417103233992,7.441526774328025,7.4251482084380145,7.4251482084380145,7.433942782767174,7.457358107883244,7.49026099729891,7.528153872314566,7.567054674312922,7.6017587147218295,7.6241504701346035,7.623622162924162,7.591138298563677,7.527949774625684,7.490394805305875,7.617527364164963,7.738921458700112,7.818272137165164,7.845872062392818,7.340575781646839,7.345418232507004,7.359081777807646,7.379118421222375,7.402187809668165,7.425193904511774],\"type\":\"scatter\"}],                        {\"template\":{\"data\":{\"histogram2dcontour\":[{\"type\":\"histogram2dcontour\",\"colorbar\":{\"outlinewidth\":0,\"ticks\":\"\"},\"colorscale\":[[0.0,\"#0d0887\"],[0.1111111111111111,\"#46039f\"],[0.2222222222222222,\"#7201a8\"],[0.3333333333333333,\"#9c179e\"],[0.4444444444444444,\"#bd3786\"],[0.5555555555555556,\"#d8576b\"],[0.6666666666666666,\"#ed7953\"],[0.7777777777777778,\"#fb9f3a\"],[0.8888888888888888,\"#fdca26\"],[1.0,\"#f0f921\"]]}],\"choropleth\":[{\"type\":\"choropleth\",\"colorbar\":{\"outlinewidth\":0,\"ticks\":\"\"}}],\"histogram2d\":[{\"type\":\"histogram2d\",\"colorbar\":{\"outlinewidth\":0,\"ticks\":\"\"},\"colorscale\":[[0.0,\"#0d0887\"],[0.1111111111111111,\"#46039f\"],[0.2222222222222222,\"#7201a8\"],[0.3333333333333333,\"#9c179e\"],[0.4444444444444444,\"#bd3786\"],[0.5555555555555556,\"#d8576b\"],[0.6666666666666666,\"#ed7953\"],[0.7777777777777778,\"#fb9f3a\"],[0.8888888888888888,\"#fdca26\"],[1.0,\"#f0f921\"]]}],\"heatmap\":[{\"type\":\"heatmap\",\"colorbar\":{\"outlinewidth\":0,\"ticks\":\"\"},\"colorscale\":[[0.0,\"#0d0887\"],[0.1111111111111111,\"#46039f\"],[0.2222222222222222,\"#7201a8\"],[0.3333333333333333,\"#9c179e\"],[0.4444444444444444,\"#bd3786\"],[0.5555555555555556,\"#d8576b\"],[0.6666666666666666,\"#ed7953\"],[0.7777777777777778,\"#fb9f3a\"],[0.8888888888888888,\"#fdca26\"],[1.0,\"#f0f921\"]]}],\"heatmapgl\":[{\"type\":\"heatmapgl\",\"colorbar\":{\"outlinewidth\":0,\"ticks\":\"\"},\"colorscale\":[[0.0,\"#0d0887\"],[0.1111111111111111,\"#46039f\"],[0.2222222222222222,\"#7201a8\"],[0.3333333333333333,\"#9c179e\"],[0.4444444444444444,\"#bd3786\"],[0.5555555555555556,\"#d8576b\"],[0.6666666666666666,\"#ed7953\"],[0.7777777777777778,\"#fb9f3a\"],[0.8888888888888888,\"#fdca26\"],[1.0,\"#f0f921\"]]}],\"contourcarpet\":[{\"type\":\"contourcarpet\",\"colorbar\":{\"outlinewidth\":0,\"ticks\":\"\"}}],\"contour\":[{\"type\":\"contour\",\"colorbar\":{\"outlinewidth\":0,\"ticks\":\"\"},\"colorscale\":[[0.0,\"#0d0887\"],[0.1111111111111111,\"#46039f\"],[0.2222222222222222,\"#7201a8\"],[0.3333333333333333,\"#9c179e\"],[0.4444444444444444,\"#bd3786\"],[0.5555555555555556,\"#d8576b\"],[0.6666666666666666,\"#ed7953\"],[0.7777777777777778,\"#fb9f3a\"],[0.8888888888888888,\"#fdca26\"],[1.0,\"#f0f921\"]]}],\"surface\":[{\"type\":\"surface\",\"colorbar\":{\"outlinewidth\":0,\"ticks\":\"\"},\"colorscale\":[[0.0,\"#0d0887\"],[0.1111111111111111,\"#46039f\"],[0.2222222222222222,\"#7201a8\"],[0.3333333333333333,\"#9c179e\"],[0.4444444444444444,\"#bd3786\"],[0.5555555555555556,\"#d8576b\"],[0.6666666666666666,\"#ed7953\"],[0.7777777777777778,\"#fb9f3a\"],[0.8888888888888888,\"#fdca26\"],[1.0,\"#f0f921\"]]}],\"mesh3d\":[{\"type\":\"mesh3d\",\"colorbar\":{\"outlinewidth\":0,\"ticks\":\"\"}}],\"scatter\":[{\"fillpattern\":{\"fillmode\":\"overlay\",\"size\":10,\"solidity\":0.2},\"type\":\"scatter\"}],\"parcoords\":[{\"type\":\"parcoords\",\"line\":{\"colorbar\":{\"outlinewidth\":0,\"ticks\":\"\"}}}],\"scatterpolargl\":[{\"type\":\"scatterpolargl\",\"marker\":{\"colorbar\":{\"outlinewidth\":0,\"ticks\":\"\"}}}],\"bar\":[{\"error_x\":{\"color\":\"#2a3f5f\"},\"error_y\":{\"color\":\"#2a3f5f\"},\"marker\":{\"line\":{\"color\":\"#E5ECF6\",\"width\":0.5},\"pattern\":{\"fillmode\":\"overlay\",\"size\":10,\"solidity\":0.2}},\"type\":\"bar\"}],\"scattergeo\":[{\"type\":\"scattergeo\",\"marker\":{\"colorbar\":{\"outlinewidth\":0,\"ticks\":\"\"}}}],\"scatterpolar\":[{\"type\":\"scatterpolar\",\"marker\":{\"colorbar\":{\"outlinewidth\":0,\"ticks\":\"\"}}}],\"histogram\":[{\"marker\":{\"pattern\":{\"fillmode\":\"overlay\",\"size\":10,\"solidity\":0.2}},\"type\":\"histogram\"}],\"scattergl\":[{\"type\":\"scattergl\",\"marker\":{\"colorbar\":{\"outlinewidth\":0,\"ticks\":\"\"}}}],\"scatter3d\":[{\"type\":\"scatter3d\",\"line\":{\"colorbar\":{\"outlinewidth\":0,\"ticks\":\"\"}},\"marker\":{\"colorbar\":{\"outlinewidth\":0,\"ticks\":\"\"}}}],\"scattermapbox\":[{\"type\":\"scattermapbox\",\"marker\":{\"colorbar\":{\"outlinewidth\":0,\"ticks\":\"\"}}}],\"scatterternary\":[{\"type\":\"scatterternary\",\"marker\":{\"colorbar\":{\"outlinewidth\":0,\"ticks\":\"\"}}}],\"scattercarpet\":[{\"type\":\"scattercarpet\",\"marker\":{\"colorbar\":{\"outlinewidth\":0,\"ticks\":\"\"}}}],\"carpet\":[{\"aaxis\":{\"endlinecolor\":\"#2a3f5f\",\"gridcolor\":\"white\",\"linecolor\":\"white\",\"minorgridcolor\":\"white\",\"startlinecolor\":\"#2a3f5f\"},\"baxis\":{\"endlinecolor\":\"#2a3f5f\",\"gridcolor\":\"white\",\"linecolor\":\"white\",\"minorgridcolor\":\"white\",\"startlinecolor\":\"#2a3f5f\"},\"type\":\"carpet\"}],\"table\":[{\"cells\":{\"fill\":{\"color\":\"#EBF0F8\"},\"line\":{\"color\":\"white\"}},\"header\":{\"fill\":{\"color\":\"#C8D4E3\"},\"line\":{\"color\":\"white\"}},\"type\":\"table\"}],\"barpolar\":[{\"marker\":{\"line\":{\"color\":\"#E5ECF6\",\"width\":0.5},\"pattern\":{\"fillmode\":\"overlay\",\"size\":10,\"solidity\":0.2}},\"type\":\"barpolar\"}],\"pie\":[{\"automargin\":true,\"type\":\"pie\"}]},\"layout\":{\"autotypenumbers\":\"strict\",\"colorway\":[\"#636efa\",\"#EF553B\",\"#00cc96\",\"#ab63fa\",\"#FFA15A\",\"#19d3f3\",\"#FF6692\",\"#B6E880\",\"#FF97FF\",\"#FECB52\"],\"font\":{\"color\":\"#2a3f5f\"},\"hovermode\":\"closest\",\"hoverlabel\":{\"align\":\"left\"},\"paper_bgcolor\":\"white\",\"plot_bgcolor\":\"#E5ECF6\",\"polar\":{\"bgcolor\":\"#E5ECF6\",\"angularaxis\":{\"gridcolor\":\"white\",\"linecolor\":\"white\",\"ticks\":\"\"},\"radialaxis\":{\"gridcolor\":\"white\",\"linecolor\":\"white\",\"ticks\":\"\"}},\"ternary\":{\"bgcolor\":\"#E5ECF6\",\"aaxis\":{\"gridcolor\":\"white\",\"linecolor\":\"white\",\"ticks\":\"\"},\"baxis\":{\"gridcolor\":\"white\",\"linecolor\":\"white\",\"ticks\":\"\"},\"caxis\":{\"gridcolor\":\"white\",\"linecolor\":\"white\",\"ticks\":\"\"}},\"coloraxis\":{\"colorbar\":{\"outlinewidth\":0,\"ticks\":\"\"}},\"colorscale\":{\"sequential\":[[0.0,\"#0d0887\"],[0.1111111111111111,\"#46039f\"],[0.2222222222222222,\"#7201a8\"],[0.3333333333333333,\"#9c179e\"],[0.4444444444444444,\"#bd3786\"],[0.5555555555555556,\"#d8576b\"],[0.6666666666666666,\"#ed7953\"],[0.7777777777777778,\"#fb9f3a\"],[0.8888888888888888,\"#fdca26\"],[1.0,\"#f0f921\"]],\"sequentialminus\":[[0.0,\"#0d0887\"],[0.1111111111111111,\"#46039f\"],[0.2222222222222222,\"#7201a8\"],[0.3333333333333333,\"#9c179e\"],[0.4444444444444444,\"#bd3786\"],[0.5555555555555556,\"#d8576b\"],[0.6666666666666666,\"#ed7953\"],[0.7777777777777778,\"#fb9f3a\"],[0.8888888888888888,\"#fdca26\"],[1.0,\"#f0f921\"]],\"diverging\":[[0,\"#8e0152\"],[0.1,\"#c51b7d\"],[0.2,\"#de77ae\"],[0.3,\"#f1b6da\"],[0.4,\"#fde0ef\"],[0.5,\"#f7f7f7\"],[0.6,\"#e6f5d0\"],[0.7,\"#b8e186\"],[0.8,\"#7fbc41\"],[0.9,\"#4d9221\"],[1,\"#276419\"]]},\"xaxis\":{\"gridcolor\":\"white\",\"linecolor\":\"white\",\"ticks\":\"\",\"title\":{\"standoff\":15},\"zerolinecolor\":\"white\",\"automargin\":true,\"zerolinewidth\":2},\"yaxis\":{\"gridcolor\":\"white\",\"linecolor\":\"white\",\"ticks\":\"\",\"title\":{\"standoff\":15},\"zerolinecolor\":\"white\",\"automargin\":true,\"zerolinewidth\":2},\"scene\":{\"xaxis\":{\"backgroundcolor\":\"#E5ECF6\",\"gridcolor\":\"white\",\"linecolor\":\"white\",\"showbackground\":true,\"ticks\":\"\",\"zerolinecolor\":\"white\",\"gridwidth\":2},\"yaxis\":{\"backgroundcolor\":\"#E5ECF6\",\"gridcolor\":\"white\",\"linecolor\":\"white\",\"showbackground\":true,\"ticks\":\"\",\"zerolinecolor\":\"white\",\"gridwidth\":2},\"zaxis\":{\"backgroundcolor\":\"#E5ECF6\",\"gridcolor\":\"white\",\"linecolor\":\"white\",\"showbackground\":true,\"ticks\":\"\",\"zerolinecolor\":\"white\",\"gridwidth\":2}},\"shapedefaults\":{\"line\":{\"color\":\"#2a3f5f\"}},\"annotationdefaults\":{\"arrowcolor\":\"#2a3f5f\",\"arrowhead\":0,\"arrowwidth\":1},\"geo\":{\"bgcolor\":\"white\",\"landcolor\":\"#E5ECF6\",\"subunitcolor\":\"white\",\"showland\":true,\"showlakes\":true,\"lakecolor\":\"white\"},\"title\":{\"x\":0.05},\"mapbox\":{\"style\":\"light\"}}},\"shapes\":[{\"line\":{\"color\":\"black\",\"width\":1},\"type\":\"line\",\"x0\":0.8572438318455629,\"x1\":0.8572438318455629,\"xref\":\"x\",\"y0\":0,\"y1\":1,\"yref\":\"y domain\"},{\"line\":{\"color\":\"black\",\"width\":1},\"type\":\"line\",\"x0\":1.3938919438426598,\"x1\":1.3938919438426598,\"xref\":\"x\",\"y0\":0,\"y1\":1,\"yref\":\"y domain\"},{\"line\":{\"color\":\"black\",\"width\":1},\"type\":\"line\",\"x0\":2.3242773032611685,\"x1\":2.3242773032611685,\"xref\":\"x\",\"y0\":0,\"y1\":1,\"yref\":\"y domain\"},{\"line\":{\"color\":\"black\",\"width\":1},\"type\":\"line\",\"x0\":2.7208138921952907,\"x1\":2.7208138921952907,\"xref\":\"x\",\"y0\":0,\"y1\":1,\"yref\":\"y domain\"},{\"line\":{\"color\":\"black\",\"width\":1},\"type\":\"line\",\"x0\":3.7226546839016454,\"x1\":3.7226546839016454,\"xref\":\"x\",\"y0\":0,\"y1\":1,\"yref\":\"y domain\"},{\"line\":{\"color\":\"black\",\"width\":1},\"type\":\"line\",\"x0\":4.187847363611404,\"x1\":4.187847363611404,\"xref\":\"x\",\"y0\":0,\"y1\":1,\"yref\":\"y domain\"},{\"line\":{\"color\":\"black\",\"width\":1},\"type\":\"line\",\"x0\":4.326314729511457,\"x1\":4.326314729511457,\"xref\":\"x\",\"y0\":0,\"y1\":1,\"yref\":\"y domain\"},{\"line\":{\"color\":\"black\",\"width\":1},\"type\":\"line\",\"x0\":5.132052086076711,\"x1\":5.132052086076711,\"xref\":\"x\",\"y0\":0,\"y1\":1,\"yref\":\"y domain\"}],\"xaxis\":{\"mirror\":true,\"showgrid\":false,\"ticks\":\"inside\",\"tickvals\":[0.0,0.8572438318455629,1.3938919438426598,2.3242773032611685,2.7208138921952907,3.7226546839016454,4.187847363611404,4.326314729511457,5.132052086076711,5.399609494633839],\"ticktext\":[\"Γ\",\"L\",\"B_1|B\",\"Z\",\"Γ\",\"X|Q\",\"F\",\"P_1\",\"Z|L\",\"P\"],\"ticklen\":0,\"title\":{\"text\":\"Wave Vector\"}},\"yaxis\":{\"mirror\":true,\"showgrid\":false,\"ticks\":\"inside\",\"ticklen\":10,\"range\":[0.0,8.322348199189525],\"title\":{\"text\":\"Frequencies (THz)\"}}},                        {\"responsive\": true}                    ).then(function(){\n",
       "                            \n",
       "var gd = document.getElementById('dca3a5ae-c7e4-4e66-a258-b076a3a52de1');\n",
       "var x = new MutationObserver(function (mutations, observer) {{\n",
       "        var display = window.getComputedStyle(gd).display;\n",
       "        if (!display || display === 'none') {{\n",
       "            console.log([gd, 'removed!']);\n",
       "            Plotly.purge(gd);\n",
       "            observer.disconnect();\n",
       "        }}\n",
       "}});\n",
       "\n",
       "// Listen for the removal of the full notebook cells\n",
       "var notebookContainer = gd.closest('#notebook-container');\n",
       "if (notebookContainer) {{\n",
       "    x.observe(notebookContainer, {childList: true});\n",
       "}}\n",
       "\n",
       "// Listen for the clearing of the current output cell\n",
       "var outputEl = gd.closest('.output');\n",
       "if (outputEl) {{\n",
       "    x.observe(outputEl, {childList: true});\n",
       "}}\n",
       "\n",
       "                        })                };                });            </script>        </div>"
      ]
     },
     "metadata": {},
     "output_type": "display_data"
    }
   ],
   "source": [
    "fig_ph_bs = get_plot_bs(ph_bs)\n",
    "fig_ph_bs.show()"
   ]
  },
  {
   "cell_type": "code",
   "execution_count": 64,
   "id": "c0f0b637",
   "metadata": {},
   "outputs": [
    {
     "name": "stdout",
     "output_type": "stream",
     "text": [
      "On calculera la vitesse du son dans la direction Γ - X : bande 2\n",
      "On calculera la vitesse du son dans la direction K - Γ :  bande 1  \n",
      "On calculera la vitesse du son dans la direction Γ - L :bande 0\n"
     ]
    }
   ],
   "source": [
    "print(f\"On calculera la vitesse du son dans la direction \\u0393 - X : bande 2\")\n",
    "print(f\"On calculera la vitesse du son dans la direction K - \\u0393 :  bande 1  \")\n",
    "print(f\"On calculera la vitesse du son dans la direction \\u0393 - L :bande 0\")"
   ]
  },
  {
   "cell_type": "markdown",
   "id": "f6e5050d",
   "metadata": {},
   "source": [
    "CALCUL DES VITESSES DU SON"
   ]
  },
  {
   "cell_type": "markdown",
   "id": "bae8e1be",
   "metadata": {},
   "source": [
    "Calculer la vitesse du son pour trois branches acoustiques différentes dans trois directions différentes de la zone de Brillouin."
   ]
  },
  {
   "cell_type": "markdown",
   "id": "71b61098",
   "metadata": {},
   "source": [
    "La vitesse du son dans un cristal est déterminée à partir de la dispersion phononique en calculant la pente des branches acoustiques près du point Gamma, selon la relation v = dω/dq. Ce calcul repose sur l’hypothèse que, pour de faibles vecteurs d’onde (q → 0), la relation de dispersion est linéaire. On distingue trois branches acoustiques : une longitudinale (LA) et deux transversales (TA1, TA2), dont la vitesse dépend des propriétés élastiques du matériau et de sa direction cristallographique. L’approximation numérique se fait en prenant le rapport des variations Δω / Δq sur les premiers points de la courbe de dispersion. Ce modèle suppose un milieu homogène et anisotrope, avec des interactions harmoniques dominantes entre les atomes."
   ]
  },
  {
   "cell_type": "code",
   "execution_count": 48,
   "id": "003de918",
   "metadata": {},
   "outputs": [],
   "source": [
    "def compute_speed_of_sound(q_values, f_values):\n",
    "    q_values = np.array(q_values) * 1e10  # Conversion Å^-1 en m^-1\n",
    "    f_values = np.array(f_values) * 1e12  # Conversion THz en Hz\n",
    "    \n",
    "    dq = q_values[1] - q_values[0]\n",
    "    dw = 2 * np.pi * (f_values[1] - f_values[0])\n",
    "    result = np.abs(dw / dq)\n",
    "    return result\n"
   ]
  },
  {
   "cell_type": "code",
   "execution_count": 49,
   "id": "1b156bfc",
   "metadata": {},
   "outputs": [
    {
     "name": "stdout",
     "output_type": "stream",
     "text": [
      "Vitesse du son dans la direction Γ - X : 1884.96 m/s\n",
      "Vitesse du son dans la direction K - Γ : 1256.64 m/s\n",
      "Vitesse du son dans la direction Γ - L : 628.32 m/s\n"
     ]
    }
   ],
   "source": [
    "\n",
    "v_s1 = compute_speed_of_sound(distances[4], frequences[4][2])\n",
    "v_s2 = compute_speed_of_sound(distances[1], frequences[1][1])\n",
    "v_s3 = compute_speed_of_sound(distances[0], frequences[0][0])\n",
    "\n",
    "print(f\"Vitesse du son dans la direction \\u0393 - X : {v_s1:.2f} m/s\")\n",
    "print(f\"Vitesse du son dans la direction K - \\u0393 : {v_s2:.2f} m/s\")\n",
    "print(f\"Vitesse du son dans la direction \\u0393 - L : {v_s3:.2f} m/s\")"
   ]
  },
  {
   "cell_type": "code",
   "execution_count": null,
   "id": "cc657d7b",
   "metadata": {},
   "outputs": [],
   "source": []
  }
 ],
 "metadata": {
  "kernelspec": {
   "display_name": "Python 3 (ipykernel)",
   "language": "python",
   "name": "python3"
  },
  "language_info": {
   "codemirror_mode": {
    "name": "ipython",
    "version": 3
   },
   "file_extension": ".py",
   "mimetype": "text/x-python",
   "name": "python",
   "nbconvert_exporter": "python",
   "pygments_lexer": "ipython3",
   "version": "3.9.13"
  }
 },
 "nbformat": 4,
 "nbformat_minor": 5
}
