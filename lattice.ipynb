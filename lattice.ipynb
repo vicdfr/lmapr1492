{
 "cells": [
  {
   "cell_type": "code",
   "execution_count": 50,
   "id": "7da53334",
   "metadata": {},
   "outputs": [],
   "source": [
    "import numpy as np\n",
    "from mp_api.client import MPRester\n",
    "from pymatgen.core.operations import SymmOp\n",
    "from pymatgen.symmetry.analyzer import SpacegroupAnalyzer\n",
    "from pymatgen.electronic_structure.plotter import BSPlotter\n",
    "from pymatgen.phonon.plotter import PhononBSPlotter\n",
    "from jupyter_jsmol.pymatgen import quick_view\n",
    "from lmapr1492 import plot_brillouin_zone, get_plot_bs, get_plot_dos, get_plot_bs_and_dos, get_branch_wavevectors\n",
    "from plotly.subplots import make_subplots\n",
    "import plotly.graph_objects as go\n",
    "\n"
   ]
  },
  {
   "cell_type": "code",
   "execution_count": 51,
   "id": "4e335551",
   "metadata": {},
   "outputs": [],
   "source": [
    "mp_key = \"saKvn4nYOR6knw5q6WoAxtMKCsoAG1gq\"\n",
    "mp_id = \"mp-561586\""
   ]
  },
  {
   "cell_type": "code",
   "execution_count": 52,
   "id": "51d3eb31",
   "metadata": {},
   "outputs": [
    {
     "data": {
      "application/vnd.jupyter.widget-view+json": {
       "model_id": "2d802edb6d39431bb48e2b6c36f5946d",
       "version_major": 2,
       "version_minor": 0
      },
      "text/plain": [
       "Retrieving MaterialsDoc documents:   0%|          | 0/1 [00:00<?, ?it/s]"
      ]
     },
     "metadata": {},
     "output_type": "display_data"
    }
   ],
   "source": [
    "with MPRester(mp_key) as m:\n",
    "    prim_struc = m.get_structure_by_material_id(mp_id)\n",
    "\n",
    "conv_struc = SpacegroupAnalyzer(prim_struc).get_conventional_standard_structure()\n",
    "symmops = SpacegroupAnalyzer(conv_struc).get_space_group_operations()"
   ]
  },
  {
   "cell_type": "markdown",
   "id": "7b347506",
   "metadata": {},
   "source": [
    "structure convontionnelle"
   ]
  },
  {
   "cell_type": "code",
   "execution_count": 53,
   "id": "8118e31e",
   "metadata": {},
   "outputs": [],
   "source": [
    "conv_struc = SpacegroupAnalyzer(prim_struc).get_conventional_standard_structure()\n",
    "symmops = SpacegroupAnalyzer(conv_struc).get_space_group_operations()\n"
   ]
  },
  {
   "cell_type": "markdown",
   "id": "1bdc0b82",
   "metadata": {},
   "source": [
    "réseau direct et réciproque "
   ]
  },
  {
   "cell_type": "code",
   "execution_count": 54,
   "id": "2cea09df",
   "metadata": {},
   "outputs": [],
   "source": [
    "direct_vectors = conv_struc.lattice.matrix\n",
    "reciprocal_vectors = conv_struc.lattice.reciprocal_lattice.matrix"
   ]
  },
  {
   "cell_type": "markdown",
   "id": "920b200e",
   "metadata": {},
   "source": [
    "analyse du groupe spatial"
   ]
  },
  {
   "cell_type": "code",
   "execution_count": 55,
   "id": "dc3616d3",
   "metadata": {},
   "outputs": [],
   "source": [
    "spa = SpacegroupAnalyzer(conv_struc)\n",
    "lattice_type = spa.get_lattice_type()\n",
    "crystal_system = spa.get_crystal_system()\n",
    "point_group = spa.get_point_group_symbol()\n"
   ]
  },
  {
   "cell_type": "markdown",
   "id": "992929fb",
   "metadata": {},
   "source": [
    "extraction des paramètres du réseau "
   ]
  },
  {
   "cell_type": "code",
   "execution_count": 56,
   "id": "889264d0",
   "metadata": {},
   "outputs": [],
   "source": [
    "a, b, c = conv_struc.lattice.abc\n",
    "alpha, beta, gamma = conv_struc.lattice.angles\n",
    "volume = conv_struc.lattice.volume\n"
   ]
  },
  {
   "cell_type": "markdown",
   "id": "b587788d",
   "metadata": {},
   "source": [
    "caractéristique géométriques"
   ]
  },
  {
   "cell_type": "code",
   "execution_count": 57,
   "id": "d6ce7882",
   "metadata": {},
   "outputs": [
    {
     "name": "stdout",
     "output_type": "stream",
     "text": [
      "Lattice (Conventional)\n",
      "a: 4.33 Å\n",
      "b: 4.33 Å\n",
      "c: 24.30 Å\n",
      "α: 90.00 º\n",
      "β: 90.00 º\n",
      "ɣ: 120.00 º\n",
      "Volume: 394.95 Å³\n"
     ]
    }
   ],
   "source": [
    "print(\"Lattice (Conventional)\")\n",
    "print(\"a:\", f\"{a:.2f} Å\")\n",
    "print(\"b:\", f\"{b:.2f} Å\")\n",
    "print(\"c:\", f\"{c:.2f} Å\")\n",
    "print(\"α:\", f\"{alpha:.2f} º\")\n",
    "print(\"β:\", f\"{beta:.2f} º\")\n",
    "print(\"ɣ:\", f\"{gamma:.2f} º\")\n",
    "print(\"Volume:\", f\"{volume:.2f} Å³\")"
   ]
  },
  {
   "cell_type": "markdown",
   "id": "c617a707",
   "metadata": {},
   "source": [
    "vecteurs de base du réseau direct et réciproque"
   ]
  },
  {
   "cell_type": "code",
   "execution_count": 58,
   "id": "a15c5e9d",
   "metadata": {},
   "outputs": [
    {
     "name": "stdout",
     "output_type": "stream",
     "text": [
      "Vecteurs de base du réseau direct :\n",
      " [[ 2.16598061 -3.75158846  0.        ]\n",
      " [ 2.16598061  3.75158846  0.        ]\n",
      " [ 0.          0.         24.30194021]]\n",
      "Vecteurs de base du réseau réciproque :\n",
      " [[ 1.45042511 -0.83740333  0.        ]\n",
      " [ 1.45042511  0.83740333  0.        ]\n",
      " [ 0.          0.          0.25854665]]\n"
     ]
    }
   ],
   "source": [
    "print(\"Vecteurs de base du réseau direct :\\n\", direct_vectors)\n",
    "print(\"Vecteurs de base du réseau réciproque :\\n\", reciprocal_vectors)\n"
   ]
  },
  {
   "cell_type": "markdown",
   "id": "9e9ac6ff",
   "metadata": {},
   "source": [
    "résultats"
   ]
  },
  {
   "cell_type": "code",
   "execution_count": 59,
   "id": "3417e9f2",
   "metadata": {},
   "outputs": [
    {
     "name": "stdout",
     "output_type": "stream",
     "text": [
      "------------------  ------------\n",
      "Type de maille      rhombohedral\n",
      "Système cristallin  trigonal\n",
      "Groupe ponctuel     -3m\n",
      "------------------  ------------\n"
     ]
    }
   ],
   "source": [
    "print(tabulate([\n",
    "    [\"Type de maille\", str(lattice_type)],\n",
    "    [\"Système cristallin\", str(crystal_system)],\n",
    "    [\"Groupe ponctuel\", str(point_group)]\n",
    "]))\n"
   ]
  }
 ],
 "metadata": {
  "kernelspec": {
   "display_name": "Python 3 (ipykernel)",
   "language": "python",
   "name": "python3"
  },
  "language_info": {
   "codemirror_mode": {
    "name": "ipython",
    "version": 3
   },
   "file_extension": ".py",
   "mimetype": "text/x-python",
   "name": "python",
   "nbconvert_exporter": "python",
   "pygments_lexer": "ipython3",
   "version": "3.9.13"
  }
 },
 "nbformat": 4,
 "nbformat_minor": 5
}
